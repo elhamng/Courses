{
 "cells": [
  {
   "cell_type": "markdown",
   "metadata": {},
   "source": [
    "___\n",
    "\n",
    "<a href='http://www.pieriandata.com'> <img src='../Pierian_Data_Logo.png' /></a>\n",
    "___\n",
    "# Plotly and Cufflinks"
   ]
  },
  {
   "cell_type": "markdown",
   "metadata": {},
   "source": [
    "Plotly is a library that allows you to create interactive plots that you can use in dashboards or websites (you can save them as html files or static images).\n",
    "\n",
    "## Installation\n",
    "\n",
    "In order for this all to work, you'll need to install plotly and cufflinks to call plots directly off of a pandas dataframe. These libraries are not currently available through **conda** but are available through **pip**. Install the libraries at your command line/terminal using:\n",
    "\n",
    "    pip install plotly\n",
    "    pip install cufflinks\n",
    "\n",
    "** NOTE: Make sure you only have one installation of Python on your computer when you do this, otherwise the installation may not work. **\n",
    "\n",
    "## Imports and Set-up"
   ]
  },
  {
   "cell_type": "code",
   "execution_count": 1,
   "metadata": {},
   "outputs": [],
   "source": [
    "import pandas as pd\n",
    "import numpy as np\n",
    "%matplotlib inline"
   ]
  },
  {
   "cell_type": "code",
   "execution_count": 2,
   "metadata": {},
   "outputs": [
    {
     "name": "stdout",
     "output_type": "stream",
     "text": [
      "4.5.2\n"
     ]
    }
   ],
   "source": [
    "from plotly import __version__\n",
    "from plotly.offline import download_plotlyjs, init_notebook_mode, plot, iplot\n",
    "\n",
    "print(__version__) # requires version >= 1.9.0"
   ]
  },
  {
   "cell_type": "code",
   "execution_count": 3,
   "metadata": {},
   "outputs": [],
   "source": [
    "import cufflinks as cf"
   ]
  },
  {
   "cell_type": "code",
   "execution_count": 4,
   "metadata": {},
   "outputs": [
    {
     "data": {
      "text/html": [
       "        <script type=\"text/javascript\">\n",
       "        window.PlotlyConfig = {MathJaxConfig: 'local'};\n",
       "        if (window.MathJax) {MathJax.Hub.Config({SVG: {font: \"STIX-Web\"}});}\n",
       "        if (typeof require !== 'undefined') {\n",
       "        require.undef(\"plotly\");\n",
       "        requirejs.config({\n",
       "            paths: {\n",
       "                'plotly': ['https://cdn.plot.ly/plotly-latest.min']\n",
       "            }\n",
       "        });\n",
       "        require(['plotly'], function(Plotly) {\n",
       "            window._Plotly = Plotly;\n",
       "        });\n",
       "        }\n",
       "        </script>\n",
       "        "
      ]
     },
     "metadata": {},
     "output_type": "display_data"
    }
   ],
   "source": [
    "# For Notebooks\n",
    "init_notebook_mode(connected=True)"
   ]
  },
  {
   "cell_type": "code",
   "execution_count": 5,
   "metadata": {},
   "outputs": [
    {
     "data": {
      "text/html": [
       "        <script type=\"text/javascript\">\n",
       "        window.PlotlyConfig = {MathJaxConfig: 'local'};\n",
       "        if (window.MathJax) {MathJax.Hub.Config({SVG: {font: \"STIX-Web\"}});}\n",
       "        if (typeof require !== 'undefined') {\n",
       "        require.undef(\"plotly\");\n",
       "        requirejs.config({\n",
       "            paths: {\n",
       "                'plotly': ['https://cdn.plot.ly/plotly-latest.min']\n",
       "            }\n",
       "        });\n",
       "        require(['plotly'], function(Plotly) {\n",
       "            window._Plotly = Plotly;\n",
       "        });\n",
       "        }\n",
       "        </script>\n",
       "        "
      ]
     },
     "metadata": {},
     "output_type": "display_data"
    }
   ],
   "source": [
    "# For offline use\n",
    "cf.go_offline()"
   ]
  },
  {
   "cell_type": "markdown",
   "metadata": {},
   "source": [
    "### Fake Data"
   ]
  },
  {
   "cell_type": "code",
   "execution_count": 6,
   "metadata": {},
   "outputs": [],
   "source": [
    "df = pd.DataFrame(np.random.randn(100,4),columns='A B C D'.split())"
   ]
  },
  {
   "cell_type": "code",
   "execution_count": 7,
   "metadata": {},
   "outputs": [
    {
     "data": {
      "text/html": [
       "<div>\n",
       "<style scoped>\n",
       "    .dataframe tbody tr th:only-of-type {\n",
       "        vertical-align: middle;\n",
       "    }\n",
       "\n",
       "    .dataframe tbody tr th {\n",
       "        vertical-align: top;\n",
       "    }\n",
       "\n",
       "    .dataframe thead th {\n",
       "        text-align: right;\n",
       "    }\n",
       "</style>\n",
       "<table border=\"1\" class=\"dataframe\">\n",
       "  <thead>\n",
       "    <tr style=\"text-align: right;\">\n",
       "      <th></th>\n",
       "      <th>A</th>\n",
       "      <th>B</th>\n",
       "      <th>C</th>\n",
       "      <th>D</th>\n",
       "    </tr>\n",
       "  </thead>\n",
       "  <tbody>\n",
       "    <tr>\n",
       "      <th>0</th>\n",
       "      <td>1.029969</td>\n",
       "      <td>-0.529213</td>\n",
       "      <td>-0.732450</td>\n",
       "      <td>-0.034051</td>\n",
       "    </tr>\n",
       "    <tr>\n",
       "      <th>1</th>\n",
       "      <td>0.453402</td>\n",
       "      <td>-1.038035</td>\n",
       "      <td>-0.130389</td>\n",
       "      <td>1.760125</td>\n",
       "    </tr>\n",
       "    <tr>\n",
       "      <th>2</th>\n",
       "      <td>-1.156758</td>\n",
       "      <td>0.515029</td>\n",
       "      <td>-1.151100</td>\n",
       "      <td>0.710216</td>\n",
       "    </tr>\n",
       "    <tr>\n",
       "      <th>3</th>\n",
       "      <td>-0.729971</td>\n",
       "      <td>-2.048922</td>\n",
       "      <td>-0.642262</td>\n",
       "      <td>-0.200153</td>\n",
       "    </tr>\n",
       "    <tr>\n",
       "      <th>4</th>\n",
       "      <td>1.440906</td>\n",
       "      <td>-1.161675</td>\n",
       "      <td>-0.447545</td>\n",
       "      <td>-2.091195</td>\n",
       "    </tr>\n",
       "  </tbody>\n",
       "</table>\n",
       "</div>"
      ],
      "text/plain": [
       "          A         B         C         D\n",
       "0  1.029969 -0.529213 -0.732450 -0.034051\n",
       "1  0.453402 -1.038035 -0.130389  1.760125\n",
       "2 -1.156758  0.515029 -1.151100  0.710216\n",
       "3 -0.729971 -2.048922 -0.642262 -0.200153\n",
       "4  1.440906 -1.161675 -0.447545 -2.091195"
      ]
     },
     "execution_count": 7,
     "metadata": {},
     "output_type": "execute_result"
    }
   ],
   "source": [
    "df.head()"
   ]
  },
  {
   "cell_type": "code",
   "execution_count": 8,
   "metadata": {},
   "outputs": [],
   "source": [
    "df2 = pd.DataFrame({'Category':['A','B','C'],'Values':[32,43,50]})"
   ]
  },
  {
   "cell_type": "code",
   "execution_count": 9,
   "metadata": {},
   "outputs": [
    {
     "data": {
      "text/html": [
       "<div>\n",
       "<style scoped>\n",
       "    .dataframe tbody tr th:only-of-type {\n",
       "        vertical-align: middle;\n",
       "    }\n",
       "\n",
       "    .dataframe tbody tr th {\n",
       "        vertical-align: top;\n",
       "    }\n",
       "\n",
       "    .dataframe thead th {\n",
       "        text-align: right;\n",
       "    }\n",
       "</style>\n",
       "<table border=\"1\" class=\"dataframe\">\n",
       "  <thead>\n",
       "    <tr style=\"text-align: right;\">\n",
       "      <th></th>\n",
       "      <th>Category</th>\n",
       "      <th>Values</th>\n",
       "    </tr>\n",
       "  </thead>\n",
       "  <tbody>\n",
       "    <tr>\n",
       "      <th>0</th>\n",
       "      <td>A</td>\n",
       "      <td>32</td>\n",
       "    </tr>\n",
       "    <tr>\n",
       "      <th>1</th>\n",
       "      <td>B</td>\n",
       "      <td>43</td>\n",
       "    </tr>\n",
       "    <tr>\n",
       "      <th>2</th>\n",
       "      <td>C</td>\n",
       "      <td>50</td>\n",
       "    </tr>\n",
       "  </tbody>\n",
       "</table>\n",
       "</div>"
      ],
      "text/plain": [
       "  Category  Values\n",
       "0        A      32\n",
       "1        B      43\n",
       "2        C      50"
      ]
     },
     "execution_count": 9,
     "metadata": {},
     "output_type": "execute_result"
    }
   ],
   "source": [
    "df2.head()"
   ]
  },
  {
   "cell_type": "markdown",
   "metadata": {},
   "source": [
    "## Using Cufflinks and iplot()\n",
    "\n",
    "* scatter\n",
    "* bar\n",
    "* box\n",
    "* spread\n",
    "* ratio\n",
    "* heatmap\n",
    "* surface\n",
    "* histogram\n",
    "* bubble"
   ]
  },
  {
   "cell_type": "markdown",
   "metadata": {},
   "source": [
    "## Scatter"
   ]
  },
  {
   "cell_type": "code",
   "execution_count": 10,
   "metadata": {},
   "outputs": [
    {
     "data": {
      "application/vnd.plotly.v1+json": {
       "config": {
        "linkText": "Export to plot.ly",
        "plotlyServerURL": "https://plot.ly",
        "showLink": true
       },
       "data": [
        {
         "line": {
          "color": "rgba(255, 153, 51, 1.0)",
          "dash": "solid",
          "shape": "linear",
          "width": 1.3
         },
         "marker": {
          "size": 10,
          "symbol": "circle"
         },
         "mode": "markers",
         "name": "B",
         "text": "",
         "type": "scatter",
         "x": [
          1.0299692281207755,
          0.4534019734022077,
          -1.156757825181421,
          -0.7299709942828432,
          1.4409059505261956,
          -0.09674859261974017,
          -0.31310025124263396,
          -0.615562589771781,
          1.3377488960017276,
          -1.238193381643003,
          1.4473866003039055,
          -0.24578986864768815,
          -1.3932058840044743,
          -0.983629216765057,
          1.1592625360059976,
          -0.5747697575840409,
          -2.164848056491318,
          -0.5521112208010445,
          0.6596277084563169,
          -1.6610543716234045,
          -0.20127771451028606,
          1.1401415826487609,
          0.09581359549845013,
          0.41353007338316194,
          -0.8418997837834926,
          0.44398379100801055,
          -0.4763568195789701,
          0.1622909197676177,
          -0.21577326523983892,
          -1.149924445072829,
          0.8747976740565843,
          -0.6277466746502788,
          -0.4111046817448839,
          -0.1396106207813502,
          -0.3245889850514159,
          0.47953606265711457,
          0.10826429640054529,
          -1.33207714457925,
          -0.24755916405588405,
          -1.8647696040457458,
          1.222906419466841,
          -1.4606120183754274,
          -0.5334167468495689,
          0.9391682065309265,
          -0.5451809983351346,
          -0.02004448042626695,
          1.9293086101896395,
          -0.4337940434540837,
          -1.3343809530709445,
          0.29511550748888954,
          -0.06558515741836947,
          0.5294550388808351,
          -0.9166582808037367,
          0.2319000324614197,
          -1.5281168095973396,
          -0.42954701959141756,
          2.0865890889512637,
          -0.5949872127370982,
          -1.4743702902513047,
          0.19093383641853026,
          0.3081129908388611,
          -2.0470356036501256,
          1.1095352336807842,
          -1.368442764338196,
          -0.4275366607821204,
          0.9250293952647808,
          -0.5777652608572624,
          1.6608177632775625,
          0.5316301885035559,
          -1.820881124822415,
          0.5009456277225153,
          -0.4740403752566626,
          0.1246658233655019,
          -0.869721085306933,
          0.8570321501144111,
          1.5911369302460645,
          -0.12107611962269951,
          -0.3401337751027574,
          0.5930826615465543,
          -0.4564408347145368,
          -0.24216836595027982,
          -0.08433722488491868,
          0.6992801443206138,
          -1.3479230918201661,
          0.12385260456613993,
          -0.2558399630323414,
          -3.403472824761215,
          -0.045574523361199985,
          -0.0035774583155329586,
          -0.11088118405751529,
          0.8604034726710508,
          -1.0374664218756517,
          -0.1855592050009561,
          -0.5341872200032267,
          0.49876930778198564,
          -1.3949285590172393,
          -0.28398579730008716,
          0.06999325605449133,
          0.8462434658818054,
          0.9747558345318641
         ],
         "y": [
          -0.5292130527085185,
          -1.0380352192512008,
          0.515028895406664,
          -2.0489223232459652,
          -1.1616751322392724,
          0.31823522688089406,
          0.18919871745206318,
          -0.3813010657547128,
          1.8396674127521875,
          -1.0993476336561583,
          1.1927977033888462,
          0.15829398678681464,
          -2.1109880813706603,
          -2.0385818530526314,
          -1.2361305929799478,
          0.42290555133059576,
          0.334215214533492,
          -0.20054377299147397,
          -0.8833505114126339,
          -1.1084383976938577,
          -1.851908547017362,
          -1.0630283408896297,
          0.5926098904319725,
          0.7513579534642801,
          0.4637901368493004,
          -0.33709959840844683,
          0.21027272795232996,
          0.8983184683403516,
          -0.4901405914309119,
          -0.20120314218583968,
          1.5011997035092146,
          -1.2095873020523167,
          -1.0700199021981835,
          -0.561313763405721,
          -0.28675070338425557,
          -0.6600015870215331,
          2.937508711840935,
          0.6477235827190407,
          0.7318236869344612,
          2.521495744543777,
          -0.022979158314660908,
          0.2591095214280645,
          0.06302427412203036,
          -0.5361261075311612,
          -0.37160107954747856,
          -0.626653987445001,
          1.1429500158289485,
          0.5096385749787216,
          -0.04873226669639589,
          0.9850149505462312,
          -0.7852691213273342,
          -0.34270170975593817,
          -0.9623179316518778,
          0.5539939911774647,
          -0.2577336972974899,
          0.8976399206056497,
          -0.8051615534241037,
          -0.3443681028873965,
          0.5734273403582758,
          0.5019099807939298,
          2.7681162645095507,
          1.122021252487704,
          -0.7216893204909437,
          -0.13414541303752042,
          -1.1840734124359265,
          2.11238290368288,
          0.926063528945275,
          -0.48344166812176287,
          0.7464086455230814,
          1.8437767291806353,
          0.4979201807729261,
          0.2937901422164776,
          0.057658364909912586,
          0.19838391413673306,
          0.9346106944872706,
          -0.34037271913893585,
          -1.0638231219610457,
          0.05025142693732289,
          -0.6289189004932967,
          -0.9800787023295485,
          0.0933863937368245,
          -0.07306728474361188,
          -1.0369062410116046,
          0.7331677844235539,
          0.5175133296662681,
          -0.29837523305297237,
          1.009587285483537,
          -0.9170029650799433,
          0.8441742768430965,
          0.7854003158011569,
          1.4732317340251777,
          -0.08212285584046843,
          -0.6773271354002086,
          1.2832787579287601,
          0.7311234814090207,
          -0.43089962618951966,
          0.23807414436880844,
          -0.7455583649577328,
          1.8898349439930222,
          -0.48940410252311906
         ]
        }
       ],
       "layout": {
        "legend": {
         "bgcolor": "#F5F6F9",
         "font": {
          "color": "#4D5663"
         }
        },
        "paper_bgcolor": "#F5F6F9",
        "plot_bgcolor": "#F5F6F9",
        "template": {
         "data": {
          "bar": [
           {
            "error_x": {
             "color": "#2a3f5f"
            },
            "error_y": {
             "color": "#2a3f5f"
            },
            "marker": {
             "line": {
              "color": "#E5ECF6",
              "width": 0.5
             }
            },
            "type": "bar"
           }
          ],
          "barpolar": [
           {
            "marker": {
             "line": {
              "color": "#E5ECF6",
              "width": 0.5
             }
            },
            "type": "barpolar"
           }
          ],
          "carpet": [
           {
            "aaxis": {
             "endlinecolor": "#2a3f5f",
             "gridcolor": "white",
             "linecolor": "white",
             "minorgridcolor": "white",
             "startlinecolor": "#2a3f5f"
            },
            "baxis": {
             "endlinecolor": "#2a3f5f",
             "gridcolor": "white",
             "linecolor": "white",
             "minorgridcolor": "white",
             "startlinecolor": "#2a3f5f"
            },
            "type": "carpet"
           }
          ],
          "choropleth": [
           {
            "colorbar": {
             "outlinewidth": 0,
             "ticks": ""
            },
            "type": "choropleth"
           }
          ],
          "contour": [
           {
            "colorbar": {
             "outlinewidth": 0,
             "ticks": ""
            },
            "colorscale": [
             [
              0,
              "#0d0887"
             ],
             [
              0.1111111111111111,
              "#46039f"
             ],
             [
              0.2222222222222222,
              "#7201a8"
             ],
             [
              0.3333333333333333,
              "#9c179e"
             ],
             [
              0.4444444444444444,
              "#bd3786"
             ],
             [
              0.5555555555555556,
              "#d8576b"
             ],
             [
              0.6666666666666666,
              "#ed7953"
             ],
             [
              0.7777777777777778,
              "#fb9f3a"
             ],
             [
              0.8888888888888888,
              "#fdca26"
             ],
             [
              1,
              "#f0f921"
             ]
            ],
            "type": "contour"
           }
          ],
          "contourcarpet": [
           {
            "colorbar": {
             "outlinewidth": 0,
             "ticks": ""
            },
            "type": "contourcarpet"
           }
          ],
          "heatmap": [
           {
            "colorbar": {
             "outlinewidth": 0,
             "ticks": ""
            },
            "colorscale": [
             [
              0,
              "#0d0887"
             ],
             [
              0.1111111111111111,
              "#46039f"
             ],
             [
              0.2222222222222222,
              "#7201a8"
             ],
             [
              0.3333333333333333,
              "#9c179e"
             ],
             [
              0.4444444444444444,
              "#bd3786"
             ],
             [
              0.5555555555555556,
              "#d8576b"
             ],
             [
              0.6666666666666666,
              "#ed7953"
             ],
             [
              0.7777777777777778,
              "#fb9f3a"
             ],
             [
              0.8888888888888888,
              "#fdca26"
             ],
             [
              1,
              "#f0f921"
             ]
            ],
            "type": "heatmap"
           }
          ],
          "heatmapgl": [
           {
            "colorbar": {
             "outlinewidth": 0,
             "ticks": ""
            },
            "colorscale": [
             [
              0,
              "#0d0887"
             ],
             [
              0.1111111111111111,
              "#46039f"
             ],
             [
              0.2222222222222222,
              "#7201a8"
             ],
             [
              0.3333333333333333,
              "#9c179e"
             ],
             [
              0.4444444444444444,
              "#bd3786"
             ],
             [
              0.5555555555555556,
              "#d8576b"
             ],
             [
              0.6666666666666666,
              "#ed7953"
             ],
             [
              0.7777777777777778,
              "#fb9f3a"
             ],
             [
              0.8888888888888888,
              "#fdca26"
             ],
             [
              1,
              "#f0f921"
             ]
            ],
            "type": "heatmapgl"
           }
          ],
          "histogram": [
           {
            "marker": {
             "colorbar": {
              "outlinewidth": 0,
              "ticks": ""
             }
            },
            "type": "histogram"
           }
          ],
          "histogram2d": [
           {
            "colorbar": {
             "outlinewidth": 0,
             "ticks": ""
            },
            "colorscale": [
             [
              0,
              "#0d0887"
             ],
             [
              0.1111111111111111,
              "#46039f"
             ],
             [
              0.2222222222222222,
              "#7201a8"
             ],
             [
              0.3333333333333333,
              "#9c179e"
             ],
             [
              0.4444444444444444,
              "#bd3786"
             ],
             [
              0.5555555555555556,
              "#d8576b"
             ],
             [
              0.6666666666666666,
              "#ed7953"
             ],
             [
              0.7777777777777778,
              "#fb9f3a"
             ],
             [
              0.8888888888888888,
              "#fdca26"
             ],
             [
              1,
              "#f0f921"
             ]
            ],
            "type": "histogram2d"
           }
          ],
          "histogram2dcontour": [
           {
            "colorbar": {
             "outlinewidth": 0,
             "ticks": ""
            },
            "colorscale": [
             [
              0,
              "#0d0887"
             ],
             [
              0.1111111111111111,
              "#46039f"
             ],
             [
              0.2222222222222222,
              "#7201a8"
             ],
             [
              0.3333333333333333,
              "#9c179e"
             ],
             [
              0.4444444444444444,
              "#bd3786"
             ],
             [
              0.5555555555555556,
              "#d8576b"
             ],
             [
              0.6666666666666666,
              "#ed7953"
             ],
             [
              0.7777777777777778,
              "#fb9f3a"
             ],
             [
              0.8888888888888888,
              "#fdca26"
             ],
             [
              1,
              "#f0f921"
             ]
            ],
            "type": "histogram2dcontour"
           }
          ],
          "mesh3d": [
           {
            "colorbar": {
             "outlinewidth": 0,
             "ticks": ""
            },
            "type": "mesh3d"
           }
          ],
          "parcoords": [
           {
            "line": {
             "colorbar": {
              "outlinewidth": 0,
              "ticks": ""
             }
            },
            "type": "parcoords"
           }
          ],
          "pie": [
           {
            "automargin": true,
            "type": "pie"
           }
          ],
          "scatter": [
           {
            "marker": {
             "colorbar": {
              "outlinewidth": 0,
              "ticks": ""
             }
            },
            "type": "scatter"
           }
          ],
          "scatter3d": [
           {
            "line": {
             "colorbar": {
              "outlinewidth": 0,
              "ticks": ""
             }
            },
            "marker": {
             "colorbar": {
              "outlinewidth": 0,
              "ticks": ""
             }
            },
            "type": "scatter3d"
           }
          ],
          "scattercarpet": [
           {
            "marker": {
             "colorbar": {
              "outlinewidth": 0,
              "ticks": ""
             }
            },
            "type": "scattercarpet"
           }
          ],
          "scattergeo": [
           {
            "marker": {
             "colorbar": {
              "outlinewidth": 0,
              "ticks": ""
             }
            },
            "type": "scattergeo"
           }
          ],
          "scattergl": [
           {
            "marker": {
             "colorbar": {
              "outlinewidth": 0,
              "ticks": ""
             }
            },
            "type": "scattergl"
           }
          ],
          "scattermapbox": [
           {
            "marker": {
             "colorbar": {
              "outlinewidth": 0,
              "ticks": ""
             }
            },
            "type": "scattermapbox"
           }
          ],
          "scatterpolar": [
           {
            "marker": {
             "colorbar": {
              "outlinewidth": 0,
              "ticks": ""
             }
            },
            "type": "scatterpolar"
           }
          ],
          "scatterpolargl": [
           {
            "marker": {
             "colorbar": {
              "outlinewidth": 0,
              "ticks": ""
             }
            },
            "type": "scatterpolargl"
           }
          ],
          "scatterternary": [
           {
            "marker": {
             "colorbar": {
              "outlinewidth": 0,
              "ticks": ""
             }
            },
            "type": "scatterternary"
           }
          ],
          "surface": [
           {
            "colorbar": {
             "outlinewidth": 0,
             "ticks": ""
            },
            "colorscale": [
             [
              0,
              "#0d0887"
             ],
             [
              0.1111111111111111,
              "#46039f"
             ],
             [
              0.2222222222222222,
              "#7201a8"
             ],
             [
              0.3333333333333333,
              "#9c179e"
             ],
             [
              0.4444444444444444,
              "#bd3786"
             ],
             [
              0.5555555555555556,
              "#d8576b"
             ],
             [
              0.6666666666666666,
              "#ed7953"
             ],
             [
              0.7777777777777778,
              "#fb9f3a"
             ],
             [
              0.8888888888888888,
              "#fdca26"
             ],
             [
              1,
              "#f0f921"
             ]
            ],
            "type": "surface"
           }
          ],
          "table": [
           {
            "cells": {
             "fill": {
              "color": "#EBF0F8"
             },
             "line": {
              "color": "white"
             }
            },
            "header": {
             "fill": {
              "color": "#C8D4E3"
             },
             "line": {
              "color": "white"
             }
            },
            "type": "table"
           }
          ]
         },
         "layout": {
          "annotationdefaults": {
           "arrowcolor": "#2a3f5f",
           "arrowhead": 0,
           "arrowwidth": 1
          },
          "coloraxis": {
           "colorbar": {
            "outlinewidth": 0,
            "ticks": ""
           }
          },
          "colorscale": {
           "diverging": [
            [
             0,
             "#8e0152"
            ],
            [
             0.1,
             "#c51b7d"
            ],
            [
             0.2,
             "#de77ae"
            ],
            [
             0.3,
             "#f1b6da"
            ],
            [
             0.4,
             "#fde0ef"
            ],
            [
             0.5,
             "#f7f7f7"
            ],
            [
             0.6,
             "#e6f5d0"
            ],
            [
             0.7,
             "#b8e186"
            ],
            [
             0.8,
             "#7fbc41"
            ],
            [
             0.9,
             "#4d9221"
            ],
            [
             1,
             "#276419"
            ]
           ],
           "sequential": [
            [
             0,
             "#0d0887"
            ],
            [
             0.1111111111111111,
             "#46039f"
            ],
            [
             0.2222222222222222,
             "#7201a8"
            ],
            [
             0.3333333333333333,
             "#9c179e"
            ],
            [
             0.4444444444444444,
             "#bd3786"
            ],
            [
             0.5555555555555556,
             "#d8576b"
            ],
            [
             0.6666666666666666,
             "#ed7953"
            ],
            [
             0.7777777777777778,
             "#fb9f3a"
            ],
            [
             0.8888888888888888,
             "#fdca26"
            ],
            [
             1,
             "#f0f921"
            ]
           ],
           "sequentialminus": [
            [
             0,
             "#0d0887"
            ],
            [
             0.1111111111111111,
             "#46039f"
            ],
            [
             0.2222222222222222,
             "#7201a8"
            ],
            [
             0.3333333333333333,
             "#9c179e"
            ],
            [
             0.4444444444444444,
             "#bd3786"
            ],
            [
             0.5555555555555556,
             "#d8576b"
            ],
            [
             0.6666666666666666,
             "#ed7953"
            ],
            [
             0.7777777777777778,
             "#fb9f3a"
            ],
            [
             0.8888888888888888,
             "#fdca26"
            ],
            [
             1,
             "#f0f921"
            ]
           ]
          },
          "colorway": [
           "#636efa",
           "#EF553B",
           "#00cc96",
           "#ab63fa",
           "#FFA15A",
           "#19d3f3",
           "#FF6692",
           "#B6E880",
           "#FF97FF",
           "#FECB52"
          ],
          "font": {
           "color": "#2a3f5f"
          },
          "geo": {
           "bgcolor": "white",
           "lakecolor": "white",
           "landcolor": "#E5ECF6",
           "showlakes": true,
           "showland": true,
           "subunitcolor": "white"
          },
          "hoverlabel": {
           "align": "left"
          },
          "hovermode": "closest",
          "mapbox": {
           "style": "light"
          },
          "paper_bgcolor": "white",
          "plot_bgcolor": "#E5ECF6",
          "polar": {
           "angularaxis": {
            "gridcolor": "white",
            "linecolor": "white",
            "ticks": ""
           },
           "bgcolor": "#E5ECF6",
           "radialaxis": {
            "gridcolor": "white",
            "linecolor": "white",
            "ticks": ""
           }
          },
          "scene": {
           "xaxis": {
            "backgroundcolor": "#E5ECF6",
            "gridcolor": "white",
            "gridwidth": 2,
            "linecolor": "white",
            "showbackground": true,
            "ticks": "",
            "zerolinecolor": "white"
           },
           "yaxis": {
            "backgroundcolor": "#E5ECF6",
            "gridcolor": "white",
            "gridwidth": 2,
            "linecolor": "white",
            "showbackground": true,
            "ticks": "",
            "zerolinecolor": "white"
           },
           "zaxis": {
            "backgroundcolor": "#E5ECF6",
            "gridcolor": "white",
            "gridwidth": 2,
            "linecolor": "white",
            "showbackground": true,
            "ticks": "",
            "zerolinecolor": "white"
           }
          },
          "shapedefaults": {
           "line": {
            "color": "#2a3f5f"
           }
          },
          "ternary": {
           "aaxis": {
            "gridcolor": "white",
            "linecolor": "white",
            "ticks": ""
           },
           "baxis": {
            "gridcolor": "white",
            "linecolor": "white",
            "ticks": ""
           },
           "bgcolor": "#E5ECF6",
           "caxis": {
            "gridcolor": "white",
            "linecolor": "white",
            "ticks": ""
           }
          },
          "title": {
           "x": 0.05
          },
          "xaxis": {
           "automargin": true,
           "gridcolor": "white",
           "linecolor": "white",
           "ticks": "",
           "title": {
            "standoff": 15
           },
           "zerolinecolor": "white",
           "zerolinewidth": 2
          },
          "yaxis": {
           "automargin": true,
           "gridcolor": "white",
           "linecolor": "white",
           "ticks": "",
           "title": {
            "standoff": 15
           },
           "zerolinecolor": "white",
           "zerolinewidth": 2
          }
         }
        },
        "title": {
         "font": {
          "color": "#4D5663"
         }
        },
        "xaxis": {
         "gridcolor": "#E1E5ED",
         "showgrid": true,
         "tickfont": {
          "color": "#4D5663"
         },
         "title": {
          "font": {
           "color": "#4D5663"
          },
          "text": ""
         },
         "zerolinecolor": "#E1E5ED"
        },
        "yaxis": {
         "gridcolor": "#E1E5ED",
         "showgrid": true,
         "tickfont": {
          "color": "#4D5663"
         },
         "title": {
          "font": {
           "color": "#4D5663"
          },
          "text": ""
         },
         "zerolinecolor": "#E1E5ED"
        }
       }
      },
      "text/html": [
       "<div>\n",
       "        \n",
       "        \n",
       "            <div id=\"cd8d699d-02c3-48b8-933f-75bb7b97606e\" class=\"plotly-graph-div\" style=\"height:525px; width:100%;\"></div>\n",
       "            <script type=\"text/javascript\">\n",
       "                require([\"plotly\"], function(Plotly) {\n",
       "                    window.PLOTLYENV=window.PLOTLYENV || {};\n",
       "                    window.PLOTLYENV.BASE_URL='https://plot.ly';\n",
       "                    \n",
       "                if (document.getElementById(\"cd8d699d-02c3-48b8-933f-75bb7b97606e\")) {\n",
       "                    Plotly.newPlot(\n",
       "                        'cd8d699d-02c3-48b8-933f-75bb7b97606e',\n",
       "                        [{\"line\": {\"color\": \"rgba(255, 153, 51, 1.0)\", \"dash\": \"solid\", \"shape\": \"linear\", \"width\": 1.3}, \"marker\": {\"size\": 10, \"symbol\": \"circle\"}, \"mode\": \"markers\", \"name\": \"B\", \"text\": \"\", \"type\": \"scatter\", \"x\": [1.0299692281207755, 0.4534019734022077, -1.156757825181421, -0.7299709942828432, 1.4409059505261956, -0.09674859261974017, -0.31310025124263396, -0.615562589771781, 1.3377488960017276, -1.238193381643003, 1.4473866003039055, -0.24578986864768815, -1.3932058840044743, -0.983629216765057, 1.1592625360059976, -0.5747697575840409, -2.164848056491318, -0.5521112208010445, 0.6596277084563169, -1.6610543716234045, -0.20127771451028606, 1.1401415826487609, 0.09581359549845013, 0.41353007338316194, -0.8418997837834926, 0.44398379100801055, -0.4763568195789701, 0.1622909197676177, -0.21577326523983892, -1.149924445072829, 0.8747976740565843, -0.6277466746502788, -0.4111046817448839, -0.1396106207813502, -0.3245889850514159, 0.47953606265711457, 0.10826429640054529, -1.33207714457925, -0.24755916405588405, -1.8647696040457458, 1.222906419466841, -1.4606120183754274, -0.5334167468495689, 0.9391682065309265, -0.5451809983351346, -0.02004448042626695, 1.9293086101896395, -0.4337940434540837, -1.3343809530709445, 0.29511550748888954, -0.06558515741836947, 0.5294550388808351, -0.9166582808037367, 0.2319000324614197, -1.5281168095973396, -0.42954701959141756, 2.0865890889512637, -0.5949872127370982, -1.4743702902513047, 0.19093383641853026, 0.3081129908388611, -2.0470356036501256, 1.1095352336807842, -1.368442764338196, -0.4275366607821204, 0.9250293952647808, -0.5777652608572624, 1.6608177632775625, 0.5316301885035559, -1.820881124822415, 0.5009456277225153, -0.4740403752566626, 0.1246658233655019, -0.869721085306933, 0.8570321501144111, 1.5911369302460645, -0.12107611962269951, -0.3401337751027574, 0.5930826615465543, -0.4564408347145368, -0.24216836595027982, -0.08433722488491868, 0.6992801443206138, -1.3479230918201661, 0.12385260456613993, -0.2558399630323414, -3.403472824761215, -0.045574523361199985, -0.0035774583155329586, -0.11088118405751529, 0.8604034726710508, -1.0374664218756517, -0.1855592050009561, -0.5341872200032267, 0.49876930778198564, -1.3949285590172393, -0.28398579730008716, 0.06999325605449133, 0.8462434658818054, 0.9747558345318641], \"y\": [-0.5292130527085185, -1.0380352192512008, 0.515028895406664, -2.0489223232459652, -1.1616751322392724, 0.31823522688089406, 0.18919871745206318, -0.3813010657547128, 1.8396674127521875, -1.0993476336561583, 1.1927977033888462, 0.15829398678681464, -2.1109880813706603, -2.0385818530526314, -1.2361305929799478, 0.42290555133059576, 0.334215214533492, -0.20054377299147397, -0.8833505114126339, -1.1084383976938577, -1.851908547017362, -1.0630283408896297, 0.5926098904319725, 0.7513579534642801, 0.4637901368493004, -0.33709959840844683, 0.21027272795232996, 0.8983184683403516, -0.4901405914309119, -0.20120314218583968, 1.5011997035092146, -1.2095873020523167, -1.0700199021981835, -0.561313763405721, -0.28675070338425557, -0.6600015870215331, 2.937508711840935, 0.6477235827190407, 0.7318236869344612, 2.521495744543777, -0.022979158314660908, 0.2591095214280645, 0.06302427412203036, -0.5361261075311612, -0.37160107954747856, -0.626653987445001, 1.1429500158289485, 0.5096385749787216, -0.04873226669639589, 0.9850149505462312, -0.7852691213273342, -0.34270170975593817, -0.9623179316518778, 0.5539939911774647, -0.2577336972974899, 0.8976399206056497, -0.8051615534241037, -0.3443681028873965, 0.5734273403582758, 0.5019099807939298, 2.7681162645095507, 1.122021252487704, -0.7216893204909437, -0.13414541303752042, -1.1840734124359265, 2.11238290368288, 0.926063528945275, -0.48344166812176287, 0.7464086455230814, 1.8437767291806353, 0.4979201807729261, 0.2937901422164776, 0.057658364909912586, 0.19838391413673306, 0.9346106944872706, -0.34037271913893585, -1.0638231219610457, 0.05025142693732289, -0.6289189004932967, -0.9800787023295485, 0.0933863937368245, -0.07306728474361188, -1.0369062410116046, 0.7331677844235539, 0.5175133296662681, -0.29837523305297237, 1.009587285483537, -0.9170029650799433, 0.8441742768430965, 0.7854003158011569, 1.4732317340251777, -0.08212285584046843, -0.6773271354002086, 1.2832787579287601, 0.7311234814090207, -0.43089962618951966, 0.23807414436880844, -0.7455583649577328, 1.8898349439930222, -0.48940410252311906]}],\n",
       "                        {\"legend\": {\"bgcolor\": \"#F5F6F9\", \"font\": {\"color\": \"#4D5663\"}}, \"paper_bgcolor\": \"#F5F6F9\", \"plot_bgcolor\": \"#F5F6F9\", \"template\": {\"data\": {\"bar\": [{\"error_x\": {\"color\": \"#2a3f5f\"}, \"error_y\": {\"color\": \"#2a3f5f\"}, \"marker\": {\"line\": {\"color\": \"#E5ECF6\", \"width\": 0.5}}, \"type\": \"bar\"}], \"barpolar\": [{\"marker\": {\"line\": {\"color\": \"#E5ECF6\", \"width\": 0.5}}, \"type\": \"barpolar\"}], \"carpet\": [{\"aaxis\": {\"endlinecolor\": \"#2a3f5f\", \"gridcolor\": \"white\", \"linecolor\": \"white\", \"minorgridcolor\": \"white\", \"startlinecolor\": \"#2a3f5f\"}, \"baxis\": {\"endlinecolor\": \"#2a3f5f\", \"gridcolor\": \"white\", \"linecolor\": \"white\", \"minorgridcolor\": \"white\", \"startlinecolor\": \"#2a3f5f\"}, \"type\": \"carpet\"}], \"choropleth\": [{\"colorbar\": {\"outlinewidth\": 0, \"ticks\": \"\"}, \"type\": \"choropleth\"}], \"contour\": [{\"colorbar\": {\"outlinewidth\": 0, \"ticks\": \"\"}, \"colorscale\": [[0.0, \"#0d0887\"], [0.1111111111111111, \"#46039f\"], [0.2222222222222222, \"#7201a8\"], [0.3333333333333333, \"#9c179e\"], [0.4444444444444444, \"#bd3786\"], [0.5555555555555556, \"#d8576b\"], [0.6666666666666666, \"#ed7953\"], [0.7777777777777778, \"#fb9f3a\"], [0.8888888888888888, \"#fdca26\"], [1.0, \"#f0f921\"]], \"type\": \"contour\"}], \"contourcarpet\": [{\"colorbar\": {\"outlinewidth\": 0, \"ticks\": \"\"}, \"type\": \"contourcarpet\"}], \"heatmap\": [{\"colorbar\": {\"outlinewidth\": 0, \"ticks\": \"\"}, \"colorscale\": [[0.0, \"#0d0887\"], [0.1111111111111111, \"#46039f\"], [0.2222222222222222, \"#7201a8\"], [0.3333333333333333, \"#9c179e\"], [0.4444444444444444, \"#bd3786\"], [0.5555555555555556, \"#d8576b\"], [0.6666666666666666, \"#ed7953\"], [0.7777777777777778, \"#fb9f3a\"], [0.8888888888888888, \"#fdca26\"], [1.0, \"#f0f921\"]], \"type\": \"heatmap\"}], \"heatmapgl\": [{\"colorbar\": {\"outlinewidth\": 0, \"ticks\": \"\"}, \"colorscale\": [[0.0, \"#0d0887\"], [0.1111111111111111, \"#46039f\"], [0.2222222222222222, \"#7201a8\"], [0.3333333333333333, \"#9c179e\"], [0.4444444444444444, \"#bd3786\"], [0.5555555555555556, \"#d8576b\"], [0.6666666666666666, \"#ed7953\"], [0.7777777777777778, \"#fb9f3a\"], [0.8888888888888888, \"#fdca26\"], [1.0, \"#f0f921\"]], \"type\": \"heatmapgl\"}], \"histogram\": [{\"marker\": {\"colorbar\": {\"outlinewidth\": 0, \"ticks\": \"\"}}, \"type\": \"histogram\"}], \"histogram2d\": [{\"colorbar\": {\"outlinewidth\": 0, \"ticks\": \"\"}, \"colorscale\": [[0.0, \"#0d0887\"], [0.1111111111111111, \"#46039f\"], [0.2222222222222222, \"#7201a8\"], [0.3333333333333333, \"#9c179e\"], [0.4444444444444444, \"#bd3786\"], [0.5555555555555556, \"#d8576b\"], [0.6666666666666666, \"#ed7953\"], [0.7777777777777778, \"#fb9f3a\"], [0.8888888888888888, \"#fdca26\"], [1.0, \"#f0f921\"]], \"type\": \"histogram2d\"}], \"histogram2dcontour\": [{\"colorbar\": {\"outlinewidth\": 0, \"ticks\": \"\"}, \"colorscale\": [[0.0, \"#0d0887\"], [0.1111111111111111, \"#46039f\"], [0.2222222222222222, \"#7201a8\"], [0.3333333333333333, \"#9c179e\"], [0.4444444444444444, \"#bd3786\"], [0.5555555555555556, \"#d8576b\"], [0.6666666666666666, \"#ed7953\"], [0.7777777777777778, \"#fb9f3a\"], [0.8888888888888888, \"#fdca26\"], [1.0, \"#f0f921\"]], \"type\": \"histogram2dcontour\"}], \"mesh3d\": [{\"colorbar\": {\"outlinewidth\": 0, \"ticks\": \"\"}, \"type\": \"mesh3d\"}], \"parcoords\": [{\"line\": {\"colorbar\": {\"outlinewidth\": 0, \"ticks\": \"\"}}, \"type\": \"parcoords\"}], \"pie\": [{\"automargin\": true, \"type\": \"pie\"}], \"scatter\": [{\"marker\": {\"colorbar\": {\"outlinewidth\": 0, \"ticks\": \"\"}}, \"type\": \"scatter\"}], \"scatter3d\": [{\"line\": {\"colorbar\": {\"outlinewidth\": 0, \"ticks\": \"\"}}, \"marker\": {\"colorbar\": {\"outlinewidth\": 0, \"ticks\": \"\"}}, \"type\": \"scatter3d\"}], \"scattercarpet\": [{\"marker\": {\"colorbar\": {\"outlinewidth\": 0, \"ticks\": \"\"}}, \"type\": \"scattercarpet\"}], \"scattergeo\": [{\"marker\": {\"colorbar\": {\"outlinewidth\": 0, \"ticks\": \"\"}}, \"type\": \"scattergeo\"}], \"scattergl\": [{\"marker\": {\"colorbar\": {\"outlinewidth\": 0, \"ticks\": \"\"}}, \"type\": \"scattergl\"}], \"scattermapbox\": [{\"marker\": {\"colorbar\": {\"outlinewidth\": 0, \"ticks\": \"\"}}, \"type\": \"scattermapbox\"}], \"scatterpolar\": [{\"marker\": {\"colorbar\": {\"outlinewidth\": 0, \"ticks\": \"\"}}, \"type\": \"scatterpolar\"}], \"scatterpolargl\": [{\"marker\": {\"colorbar\": {\"outlinewidth\": 0, \"ticks\": \"\"}}, \"type\": \"scatterpolargl\"}], \"scatterternary\": [{\"marker\": {\"colorbar\": {\"outlinewidth\": 0, \"ticks\": \"\"}}, \"type\": \"scatterternary\"}], \"surface\": [{\"colorbar\": {\"outlinewidth\": 0, \"ticks\": \"\"}, \"colorscale\": [[0.0, \"#0d0887\"], [0.1111111111111111, \"#46039f\"], [0.2222222222222222, \"#7201a8\"], [0.3333333333333333, \"#9c179e\"], [0.4444444444444444, \"#bd3786\"], [0.5555555555555556, \"#d8576b\"], [0.6666666666666666, \"#ed7953\"], [0.7777777777777778, \"#fb9f3a\"], [0.8888888888888888, \"#fdca26\"], [1.0, \"#f0f921\"]], \"type\": \"surface\"}], \"table\": [{\"cells\": {\"fill\": {\"color\": \"#EBF0F8\"}, \"line\": {\"color\": \"white\"}}, \"header\": {\"fill\": {\"color\": \"#C8D4E3\"}, \"line\": {\"color\": \"white\"}}, \"type\": \"table\"}]}, \"layout\": {\"annotationdefaults\": {\"arrowcolor\": \"#2a3f5f\", \"arrowhead\": 0, \"arrowwidth\": 1}, \"coloraxis\": {\"colorbar\": {\"outlinewidth\": 0, \"ticks\": \"\"}}, \"colorscale\": {\"diverging\": [[0, \"#8e0152\"], [0.1, \"#c51b7d\"], [0.2, \"#de77ae\"], [0.3, \"#f1b6da\"], [0.4, \"#fde0ef\"], [0.5, \"#f7f7f7\"], [0.6, \"#e6f5d0\"], [0.7, \"#b8e186\"], [0.8, \"#7fbc41\"], [0.9, \"#4d9221\"], [1, \"#276419\"]], \"sequential\": [[0.0, \"#0d0887\"], [0.1111111111111111, \"#46039f\"], [0.2222222222222222, \"#7201a8\"], [0.3333333333333333, \"#9c179e\"], [0.4444444444444444, \"#bd3786\"], [0.5555555555555556, \"#d8576b\"], [0.6666666666666666, \"#ed7953\"], [0.7777777777777778, \"#fb9f3a\"], [0.8888888888888888, \"#fdca26\"], [1.0, \"#f0f921\"]], \"sequentialminus\": [[0.0, \"#0d0887\"], [0.1111111111111111, \"#46039f\"], [0.2222222222222222, \"#7201a8\"], [0.3333333333333333, \"#9c179e\"], [0.4444444444444444, \"#bd3786\"], [0.5555555555555556, \"#d8576b\"], [0.6666666666666666, \"#ed7953\"], [0.7777777777777778, \"#fb9f3a\"], [0.8888888888888888, \"#fdca26\"], [1.0, \"#f0f921\"]]}, \"colorway\": [\"#636efa\", \"#EF553B\", \"#00cc96\", \"#ab63fa\", \"#FFA15A\", \"#19d3f3\", \"#FF6692\", \"#B6E880\", \"#FF97FF\", \"#FECB52\"], \"font\": {\"color\": \"#2a3f5f\"}, \"geo\": {\"bgcolor\": \"white\", \"lakecolor\": \"white\", \"landcolor\": \"#E5ECF6\", \"showlakes\": true, \"showland\": true, \"subunitcolor\": \"white\"}, \"hoverlabel\": {\"align\": \"left\"}, \"hovermode\": \"closest\", \"mapbox\": {\"style\": \"light\"}, \"paper_bgcolor\": \"white\", \"plot_bgcolor\": \"#E5ECF6\", \"polar\": {\"angularaxis\": {\"gridcolor\": \"white\", \"linecolor\": \"white\", \"ticks\": \"\"}, \"bgcolor\": \"#E5ECF6\", \"radialaxis\": {\"gridcolor\": \"white\", \"linecolor\": \"white\", \"ticks\": \"\"}}, \"scene\": {\"xaxis\": {\"backgroundcolor\": \"#E5ECF6\", \"gridcolor\": \"white\", \"gridwidth\": 2, \"linecolor\": \"white\", \"showbackground\": true, \"ticks\": \"\", \"zerolinecolor\": \"white\"}, \"yaxis\": {\"backgroundcolor\": \"#E5ECF6\", \"gridcolor\": \"white\", \"gridwidth\": 2, \"linecolor\": \"white\", \"showbackground\": true, \"ticks\": \"\", \"zerolinecolor\": \"white\"}, \"zaxis\": {\"backgroundcolor\": \"#E5ECF6\", \"gridcolor\": \"white\", \"gridwidth\": 2, \"linecolor\": \"white\", \"showbackground\": true, \"ticks\": \"\", \"zerolinecolor\": \"white\"}}, \"shapedefaults\": {\"line\": {\"color\": \"#2a3f5f\"}}, \"ternary\": {\"aaxis\": {\"gridcolor\": \"white\", \"linecolor\": \"white\", \"ticks\": \"\"}, \"baxis\": {\"gridcolor\": \"white\", \"linecolor\": \"white\", \"ticks\": \"\"}, \"bgcolor\": \"#E5ECF6\", \"caxis\": {\"gridcolor\": \"white\", \"linecolor\": \"white\", \"ticks\": \"\"}}, \"title\": {\"x\": 0.05}, \"xaxis\": {\"automargin\": true, \"gridcolor\": \"white\", \"linecolor\": \"white\", \"ticks\": \"\", \"title\": {\"standoff\": 15}, \"zerolinecolor\": \"white\", \"zerolinewidth\": 2}, \"yaxis\": {\"automargin\": true, \"gridcolor\": \"white\", \"linecolor\": \"white\", \"ticks\": \"\", \"title\": {\"standoff\": 15}, \"zerolinecolor\": \"white\", \"zerolinewidth\": 2}}}, \"title\": {\"font\": {\"color\": \"#4D5663\"}}, \"xaxis\": {\"gridcolor\": \"#E1E5ED\", \"showgrid\": true, \"tickfont\": {\"color\": \"#4D5663\"}, \"title\": {\"font\": {\"color\": \"#4D5663\"}, \"text\": \"\"}, \"zerolinecolor\": \"#E1E5ED\"}, \"yaxis\": {\"gridcolor\": \"#E1E5ED\", \"showgrid\": true, \"tickfont\": {\"color\": \"#4D5663\"}, \"title\": {\"font\": {\"color\": \"#4D5663\"}, \"text\": \"\"}, \"zerolinecolor\": \"#E1E5ED\"}},\n",
       "                        {\"showLink\": true, \"linkText\": \"Export to plot.ly\", \"plotlyServerURL\": \"https://plot.ly\", \"responsive\": true}\n",
       "                    ).then(function(){\n",
       "                            \n",
       "var gd = document.getElementById('cd8d699d-02c3-48b8-933f-75bb7b97606e');\n",
       "var x = new MutationObserver(function (mutations, observer) {{\n",
       "        var display = window.getComputedStyle(gd).display;\n",
       "        if (!display || display === 'none') {{\n",
       "            console.log([gd, 'removed!']);\n",
       "            Plotly.purge(gd);\n",
       "            observer.disconnect();\n",
       "        }}\n",
       "}});\n",
       "\n",
       "// Listen for the removal of the full notebook cells\n",
       "var notebookContainer = gd.closest('#notebook-container');\n",
       "if (notebookContainer) {{\n",
       "    x.observe(notebookContainer, {childList: true});\n",
       "}}\n",
       "\n",
       "// Listen for the clearing of the current output cell\n",
       "var outputEl = gd.closest('.output');\n",
       "if (outputEl) {{\n",
       "    x.observe(outputEl, {childList: true});\n",
       "}}\n",
       "\n",
       "                        })\n",
       "                };\n",
       "                });\n",
       "            </script>\n",
       "        </div>"
      ]
     },
     "metadata": {},
     "output_type": "display_data"
    }
   ],
   "source": [
    "df.iplot(kind='scatter',x='A',y='B',mode='markers',size=10)"
   ]
  },
  {
   "cell_type": "markdown",
   "metadata": {},
   "source": [
    "## Bar Plots"
   ]
  },
  {
   "cell_type": "code",
   "execution_count": 11,
   "metadata": {},
   "outputs": [
    {
     "data": {
      "application/vnd.plotly.v1+json": {
       "config": {
        "linkText": "Export to plot.ly",
        "plotlyServerURL": "https://plot.ly",
        "showLink": true
       },
       "data": [
        {
         "marker": {
          "color": "rgba(255, 153, 51, 0.6)",
          "line": {
           "color": "rgba(255, 153, 51, 1.0)",
           "width": 1
          }
         },
         "name": "Values",
         "orientation": "v",
         "text": "",
         "type": "bar",
         "x": [
          "A",
          "B",
          "C"
         ],
         "y": [
          32,
          43,
          50
         ]
        }
       ],
       "layout": {
        "legend": {
         "bgcolor": "#F5F6F9",
         "font": {
          "color": "#4D5663"
         }
        },
        "paper_bgcolor": "#F5F6F9",
        "plot_bgcolor": "#F5F6F9",
        "template": {
         "data": {
          "bar": [
           {
            "error_x": {
             "color": "#2a3f5f"
            },
            "error_y": {
             "color": "#2a3f5f"
            },
            "marker": {
             "line": {
              "color": "#E5ECF6",
              "width": 0.5
             }
            },
            "type": "bar"
           }
          ],
          "barpolar": [
           {
            "marker": {
             "line": {
              "color": "#E5ECF6",
              "width": 0.5
             }
            },
            "type": "barpolar"
           }
          ],
          "carpet": [
           {
            "aaxis": {
             "endlinecolor": "#2a3f5f",
             "gridcolor": "white",
             "linecolor": "white",
             "minorgridcolor": "white",
             "startlinecolor": "#2a3f5f"
            },
            "baxis": {
             "endlinecolor": "#2a3f5f",
             "gridcolor": "white",
             "linecolor": "white",
             "minorgridcolor": "white",
             "startlinecolor": "#2a3f5f"
            },
            "type": "carpet"
           }
          ],
          "choropleth": [
           {
            "colorbar": {
             "outlinewidth": 0,
             "ticks": ""
            },
            "type": "choropleth"
           }
          ],
          "contour": [
           {
            "colorbar": {
             "outlinewidth": 0,
             "ticks": ""
            },
            "colorscale": [
             [
              0,
              "#0d0887"
             ],
             [
              0.1111111111111111,
              "#46039f"
             ],
             [
              0.2222222222222222,
              "#7201a8"
             ],
             [
              0.3333333333333333,
              "#9c179e"
             ],
             [
              0.4444444444444444,
              "#bd3786"
             ],
             [
              0.5555555555555556,
              "#d8576b"
             ],
             [
              0.6666666666666666,
              "#ed7953"
             ],
             [
              0.7777777777777778,
              "#fb9f3a"
             ],
             [
              0.8888888888888888,
              "#fdca26"
             ],
             [
              1,
              "#f0f921"
             ]
            ],
            "type": "contour"
           }
          ],
          "contourcarpet": [
           {
            "colorbar": {
             "outlinewidth": 0,
             "ticks": ""
            },
            "type": "contourcarpet"
           }
          ],
          "heatmap": [
           {
            "colorbar": {
             "outlinewidth": 0,
             "ticks": ""
            },
            "colorscale": [
             [
              0,
              "#0d0887"
             ],
             [
              0.1111111111111111,
              "#46039f"
             ],
             [
              0.2222222222222222,
              "#7201a8"
             ],
             [
              0.3333333333333333,
              "#9c179e"
             ],
             [
              0.4444444444444444,
              "#bd3786"
             ],
             [
              0.5555555555555556,
              "#d8576b"
             ],
             [
              0.6666666666666666,
              "#ed7953"
             ],
             [
              0.7777777777777778,
              "#fb9f3a"
             ],
             [
              0.8888888888888888,
              "#fdca26"
             ],
             [
              1,
              "#f0f921"
             ]
            ],
            "type": "heatmap"
           }
          ],
          "heatmapgl": [
           {
            "colorbar": {
             "outlinewidth": 0,
             "ticks": ""
            },
            "colorscale": [
             [
              0,
              "#0d0887"
             ],
             [
              0.1111111111111111,
              "#46039f"
             ],
             [
              0.2222222222222222,
              "#7201a8"
             ],
             [
              0.3333333333333333,
              "#9c179e"
             ],
             [
              0.4444444444444444,
              "#bd3786"
             ],
             [
              0.5555555555555556,
              "#d8576b"
             ],
             [
              0.6666666666666666,
              "#ed7953"
             ],
             [
              0.7777777777777778,
              "#fb9f3a"
             ],
             [
              0.8888888888888888,
              "#fdca26"
             ],
             [
              1,
              "#f0f921"
             ]
            ],
            "type": "heatmapgl"
           }
          ],
          "histogram": [
           {
            "marker": {
             "colorbar": {
              "outlinewidth": 0,
              "ticks": ""
             }
            },
            "type": "histogram"
           }
          ],
          "histogram2d": [
           {
            "colorbar": {
             "outlinewidth": 0,
             "ticks": ""
            },
            "colorscale": [
             [
              0,
              "#0d0887"
             ],
             [
              0.1111111111111111,
              "#46039f"
             ],
             [
              0.2222222222222222,
              "#7201a8"
             ],
             [
              0.3333333333333333,
              "#9c179e"
             ],
             [
              0.4444444444444444,
              "#bd3786"
             ],
             [
              0.5555555555555556,
              "#d8576b"
             ],
             [
              0.6666666666666666,
              "#ed7953"
             ],
             [
              0.7777777777777778,
              "#fb9f3a"
             ],
             [
              0.8888888888888888,
              "#fdca26"
             ],
             [
              1,
              "#f0f921"
             ]
            ],
            "type": "histogram2d"
           }
          ],
          "histogram2dcontour": [
           {
            "colorbar": {
             "outlinewidth": 0,
             "ticks": ""
            },
            "colorscale": [
             [
              0,
              "#0d0887"
             ],
             [
              0.1111111111111111,
              "#46039f"
             ],
             [
              0.2222222222222222,
              "#7201a8"
             ],
             [
              0.3333333333333333,
              "#9c179e"
             ],
             [
              0.4444444444444444,
              "#bd3786"
             ],
             [
              0.5555555555555556,
              "#d8576b"
             ],
             [
              0.6666666666666666,
              "#ed7953"
             ],
             [
              0.7777777777777778,
              "#fb9f3a"
             ],
             [
              0.8888888888888888,
              "#fdca26"
             ],
             [
              1,
              "#f0f921"
             ]
            ],
            "type": "histogram2dcontour"
           }
          ],
          "mesh3d": [
           {
            "colorbar": {
             "outlinewidth": 0,
             "ticks": ""
            },
            "type": "mesh3d"
           }
          ],
          "parcoords": [
           {
            "line": {
             "colorbar": {
              "outlinewidth": 0,
              "ticks": ""
             }
            },
            "type": "parcoords"
           }
          ],
          "pie": [
           {
            "automargin": true,
            "type": "pie"
           }
          ],
          "scatter": [
           {
            "marker": {
             "colorbar": {
              "outlinewidth": 0,
              "ticks": ""
             }
            },
            "type": "scatter"
           }
          ],
          "scatter3d": [
           {
            "line": {
             "colorbar": {
              "outlinewidth": 0,
              "ticks": ""
             }
            },
            "marker": {
             "colorbar": {
              "outlinewidth": 0,
              "ticks": ""
             }
            },
            "type": "scatter3d"
           }
          ],
          "scattercarpet": [
           {
            "marker": {
             "colorbar": {
              "outlinewidth": 0,
              "ticks": ""
             }
            },
            "type": "scattercarpet"
           }
          ],
          "scattergeo": [
           {
            "marker": {
             "colorbar": {
              "outlinewidth": 0,
              "ticks": ""
             }
            },
            "type": "scattergeo"
           }
          ],
          "scattergl": [
           {
            "marker": {
             "colorbar": {
              "outlinewidth": 0,
              "ticks": ""
             }
            },
            "type": "scattergl"
           }
          ],
          "scattermapbox": [
           {
            "marker": {
             "colorbar": {
              "outlinewidth": 0,
              "ticks": ""
             }
            },
            "type": "scattermapbox"
           }
          ],
          "scatterpolar": [
           {
            "marker": {
             "colorbar": {
              "outlinewidth": 0,
              "ticks": ""
             }
            },
            "type": "scatterpolar"
           }
          ],
          "scatterpolargl": [
           {
            "marker": {
             "colorbar": {
              "outlinewidth": 0,
              "ticks": ""
             }
            },
            "type": "scatterpolargl"
           }
          ],
          "scatterternary": [
           {
            "marker": {
             "colorbar": {
              "outlinewidth": 0,
              "ticks": ""
             }
            },
            "type": "scatterternary"
           }
          ],
          "surface": [
           {
            "colorbar": {
             "outlinewidth": 0,
             "ticks": ""
            },
            "colorscale": [
             [
              0,
              "#0d0887"
             ],
             [
              0.1111111111111111,
              "#46039f"
             ],
             [
              0.2222222222222222,
              "#7201a8"
             ],
             [
              0.3333333333333333,
              "#9c179e"
             ],
             [
              0.4444444444444444,
              "#bd3786"
             ],
             [
              0.5555555555555556,
              "#d8576b"
             ],
             [
              0.6666666666666666,
              "#ed7953"
             ],
             [
              0.7777777777777778,
              "#fb9f3a"
             ],
             [
              0.8888888888888888,
              "#fdca26"
             ],
             [
              1,
              "#f0f921"
             ]
            ],
            "type": "surface"
           }
          ],
          "table": [
           {
            "cells": {
             "fill": {
              "color": "#EBF0F8"
             },
             "line": {
              "color": "white"
             }
            },
            "header": {
             "fill": {
              "color": "#C8D4E3"
             },
             "line": {
              "color": "white"
             }
            },
            "type": "table"
           }
          ]
         },
         "layout": {
          "annotationdefaults": {
           "arrowcolor": "#2a3f5f",
           "arrowhead": 0,
           "arrowwidth": 1
          },
          "coloraxis": {
           "colorbar": {
            "outlinewidth": 0,
            "ticks": ""
           }
          },
          "colorscale": {
           "diverging": [
            [
             0,
             "#8e0152"
            ],
            [
             0.1,
             "#c51b7d"
            ],
            [
             0.2,
             "#de77ae"
            ],
            [
             0.3,
             "#f1b6da"
            ],
            [
             0.4,
             "#fde0ef"
            ],
            [
             0.5,
             "#f7f7f7"
            ],
            [
             0.6,
             "#e6f5d0"
            ],
            [
             0.7,
             "#b8e186"
            ],
            [
             0.8,
             "#7fbc41"
            ],
            [
             0.9,
             "#4d9221"
            ],
            [
             1,
             "#276419"
            ]
           ],
           "sequential": [
            [
             0,
             "#0d0887"
            ],
            [
             0.1111111111111111,
             "#46039f"
            ],
            [
             0.2222222222222222,
             "#7201a8"
            ],
            [
             0.3333333333333333,
             "#9c179e"
            ],
            [
             0.4444444444444444,
             "#bd3786"
            ],
            [
             0.5555555555555556,
             "#d8576b"
            ],
            [
             0.6666666666666666,
             "#ed7953"
            ],
            [
             0.7777777777777778,
             "#fb9f3a"
            ],
            [
             0.8888888888888888,
             "#fdca26"
            ],
            [
             1,
             "#f0f921"
            ]
           ],
           "sequentialminus": [
            [
             0,
             "#0d0887"
            ],
            [
             0.1111111111111111,
             "#46039f"
            ],
            [
             0.2222222222222222,
             "#7201a8"
            ],
            [
             0.3333333333333333,
             "#9c179e"
            ],
            [
             0.4444444444444444,
             "#bd3786"
            ],
            [
             0.5555555555555556,
             "#d8576b"
            ],
            [
             0.6666666666666666,
             "#ed7953"
            ],
            [
             0.7777777777777778,
             "#fb9f3a"
            ],
            [
             0.8888888888888888,
             "#fdca26"
            ],
            [
             1,
             "#f0f921"
            ]
           ]
          },
          "colorway": [
           "#636efa",
           "#EF553B",
           "#00cc96",
           "#ab63fa",
           "#FFA15A",
           "#19d3f3",
           "#FF6692",
           "#B6E880",
           "#FF97FF",
           "#FECB52"
          ],
          "font": {
           "color": "#2a3f5f"
          },
          "geo": {
           "bgcolor": "white",
           "lakecolor": "white",
           "landcolor": "#E5ECF6",
           "showlakes": true,
           "showland": true,
           "subunitcolor": "white"
          },
          "hoverlabel": {
           "align": "left"
          },
          "hovermode": "closest",
          "mapbox": {
           "style": "light"
          },
          "paper_bgcolor": "white",
          "plot_bgcolor": "#E5ECF6",
          "polar": {
           "angularaxis": {
            "gridcolor": "white",
            "linecolor": "white",
            "ticks": ""
           },
           "bgcolor": "#E5ECF6",
           "radialaxis": {
            "gridcolor": "white",
            "linecolor": "white",
            "ticks": ""
           }
          },
          "scene": {
           "xaxis": {
            "backgroundcolor": "#E5ECF6",
            "gridcolor": "white",
            "gridwidth": 2,
            "linecolor": "white",
            "showbackground": true,
            "ticks": "",
            "zerolinecolor": "white"
           },
           "yaxis": {
            "backgroundcolor": "#E5ECF6",
            "gridcolor": "white",
            "gridwidth": 2,
            "linecolor": "white",
            "showbackground": true,
            "ticks": "",
            "zerolinecolor": "white"
           },
           "zaxis": {
            "backgroundcolor": "#E5ECF6",
            "gridcolor": "white",
            "gridwidth": 2,
            "linecolor": "white",
            "showbackground": true,
            "ticks": "",
            "zerolinecolor": "white"
           }
          },
          "shapedefaults": {
           "line": {
            "color": "#2a3f5f"
           }
          },
          "ternary": {
           "aaxis": {
            "gridcolor": "white",
            "linecolor": "white",
            "ticks": ""
           },
           "baxis": {
            "gridcolor": "white",
            "linecolor": "white",
            "ticks": ""
           },
           "bgcolor": "#E5ECF6",
           "caxis": {
            "gridcolor": "white",
            "linecolor": "white",
            "ticks": ""
           }
          },
          "title": {
           "x": 0.05
          },
          "xaxis": {
           "automargin": true,
           "gridcolor": "white",
           "linecolor": "white",
           "ticks": "",
           "title": {
            "standoff": 15
           },
           "zerolinecolor": "white",
           "zerolinewidth": 2
          },
          "yaxis": {
           "automargin": true,
           "gridcolor": "white",
           "linecolor": "white",
           "ticks": "",
           "title": {
            "standoff": 15
           },
           "zerolinecolor": "white",
           "zerolinewidth": 2
          }
         }
        },
        "title": {
         "font": {
          "color": "#4D5663"
         }
        },
        "xaxis": {
         "gridcolor": "#E1E5ED",
         "showgrid": true,
         "tickfont": {
          "color": "#4D5663"
         },
         "title": {
          "font": {
           "color": "#4D5663"
          },
          "text": ""
         },
         "zerolinecolor": "#E1E5ED"
        },
        "yaxis": {
         "gridcolor": "#E1E5ED",
         "showgrid": true,
         "tickfont": {
          "color": "#4D5663"
         },
         "title": {
          "font": {
           "color": "#4D5663"
          },
          "text": ""
         },
         "zerolinecolor": "#E1E5ED"
        }
       }
      },
      "text/html": [
       "<div>\n",
       "        \n",
       "        \n",
       "            <div id=\"d8656474-f798-4ed0-bd11-8116a335054a\" class=\"plotly-graph-div\" style=\"height:525px; width:100%;\"></div>\n",
       "            <script type=\"text/javascript\">\n",
       "                require([\"plotly\"], function(Plotly) {\n",
       "                    window.PLOTLYENV=window.PLOTLYENV || {};\n",
       "                    window.PLOTLYENV.BASE_URL='https://plot.ly';\n",
       "                    \n",
       "                if (document.getElementById(\"d8656474-f798-4ed0-bd11-8116a335054a\")) {\n",
       "                    Plotly.newPlot(\n",
       "                        'd8656474-f798-4ed0-bd11-8116a335054a',\n",
       "                        [{\"marker\": {\"color\": \"rgba(255, 153, 51, 0.6)\", \"line\": {\"color\": \"rgba(255, 153, 51, 1.0)\", \"width\": 1}}, \"name\": \"Values\", \"orientation\": \"v\", \"text\": \"\", \"type\": \"bar\", \"x\": [\"A\", \"B\", \"C\"], \"y\": [32, 43, 50]}],\n",
       "                        {\"legend\": {\"bgcolor\": \"#F5F6F9\", \"font\": {\"color\": \"#4D5663\"}}, \"paper_bgcolor\": \"#F5F6F9\", \"plot_bgcolor\": \"#F5F6F9\", \"template\": {\"data\": {\"bar\": [{\"error_x\": {\"color\": \"#2a3f5f\"}, \"error_y\": {\"color\": \"#2a3f5f\"}, \"marker\": {\"line\": {\"color\": \"#E5ECF6\", \"width\": 0.5}}, \"type\": \"bar\"}], \"barpolar\": [{\"marker\": {\"line\": {\"color\": \"#E5ECF6\", \"width\": 0.5}}, \"type\": \"barpolar\"}], \"carpet\": [{\"aaxis\": {\"endlinecolor\": \"#2a3f5f\", \"gridcolor\": \"white\", \"linecolor\": \"white\", \"minorgridcolor\": \"white\", \"startlinecolor\": \"#2a3f5f\"}, \"baxis\": {\"endlinecolor\": \"#2a3f5f\", \"gridcolor\": \"white\", \"linecolor\": \"white\", \"minorgridcolor\": \"white\", \"startlinecolor\": \"#2a3f5f\"}, \"type\": \"carpet\"}], \"choropleth\": [{\"colorbar\": {\"outlinewidth\": 0, \"ticks\": \"\"}, \"type\": \"choropleth\"}], \"contour\": [{\"colorbar\": {\"outlinewidth\": 0, \"ticks\": \"\"}, \"colorscale\": [[0.0, \"#0d0887\"], [0.1111111111111111, \"#46039f\"], [0.2222222222222222, \"#7201a8\"], [0.3333333333333333, \"#9c179e\"], [0.4444444444444444, \"#bd3786\"], [0.5555555555555556, \"#d8576b\"], [0.6666666666666666, \"#ed7953\"], [0.7777777777777778, \"#fb9f3a\"], [0.8888888888888888, \"#fdca26\"], [1.0, \"#f0f921\"]], \"type\": \"contour\"}], \"contourcarpet\": [{\"colorbar\": {\"outlinewidth\": 0, \"ticks\": \"\"}, \"type\": \"contourcarpet\"}], \"heatmap\": [{\"colorbar\": {\"outlinewidth\": 0, \"ticks\": \"\"}, \"colorscale\": [[0.0, \"#0d0887\"], [0.1111111111111111, \"#46039f\"], [0.2222222222222222, \"#7201a8\"], [0.3333333333333333, \"#9c179e\"], [0.4444444444444444, \"#bd3786\"], [0.5555555555555556, \"#d8576b\"], [0.6666666666666666, \"#ed7953\"], [0.7777777777777778, \"#fb9f3a\"], [0.8888888888888888, \"#fdca26\"], [1.0, \"#f0f921\"]], \"type\": \"heatmap\"}], \"heatmapgl\": [{\"colorbar\": {\"outlinewidth\": 0, \"ticks\": \"\"}, \"colorscale\": [[0.0, \"#0d0887\"], [0.1111111111111111, \"#46039f\"], [0.2222222222222222, \"#7201a8\"], [0.3333333333333333, \"#9c179e\"], [0.4444444444444444, \"#bd3786\"], [0.5555555555555556, \"#d8576b\"], [0.6666666666666666, \"#ed7953\"], [0.7777777777777778, \"#fb9f3a\"], [0.8888888888888888, \"#fdca26\"], [1.0, \"#f0f921\"]], \"type\": \"heatmapgl\"}], \"histogram\": [{\"marker\": {\"colorbar\": {\"outlinewidth\": 0, \"ticks\": \"\"}}, \"type\": \"histogram\"}], \"histogram2d\": [{\"colorbar\": {\"outlinewidth\": 0, \"ticks\": \"\"}, \"colorscale\": [[0.0, \"#0d0887\"], [0.1111111111111111, \"#46039f\"], [0.2222222222222222, \"#7201a8\"], [0.3333333333333333, \"#9c179e\"], [0.4444444444444444, \"#bd3786\"], [0.5555555555555556, \"#d8576b\"], [0.6666666666666666, \"#ed7953\"], [0.7777777777777778, \"#fb9f3a\"], [0.8888888888888888, \"#fdca26\"], [1.0, \"#f0f921\"]], \"type\": \"histogram2d\"}], \"histogram2dcontour\": [{\"colorbar\": {\"outlinewidth\": 0, \"ticks\": \"\"}, \"colorscale\": [[0.0, \"#0d0887\"], [0.1111111111111111, \"#46039f\"], [0.2222222222222222, \"#7201a8\"], [0.3333333333333333, \"#9c179e\"], [0.4444444444444444, \"#bd3786\"], [0.5555555555555556, \"#d8576b\"], [0.6666666666666666, \"#ed7953\"], [0.7777777777777778, \"#fb9f3a\"], [0.8888888888888888, \"#fdca26\"], [1.0, \"#f0f921\"]], \"type\": \"histogram2dcontour\"}], \"mesh3d\": [{\"colorbar\": {\"outlinewidth\": 0, \"ticks\": \"\"}, \"type\": \"mesh3d\"}], \"parcoords\": [{\"line\": {\"colorbar\": {\"outlinewidth\": 0, \"ticks\": \"\"}}, \"type\": \"parcoords\"}], \"pie\": [{\"automargin\": true, \"type\": \"pie\"}], \"scatter\": [{\"marker\": {\"colorbar\": {\"outlinewidth\": 0, \"ticks\": \"\"}}, \"type\": \"scatter\"}], \"scatter3d\": [{\"line\": {\"colorbar\": {\"outlinewidth\": 0, \"ticks\": \"\"}}, \"marker\": {\"colorbar\": {\"outlinewidth\": 0, \"ticks\": \"\"}}, \"type\": \"scatter3d\"}], \"scattercarpet\": [{\"marker\": {\"colorbar\": {\"outlinewidth\": 0, \"ticks\": \"\"}}, \"type\": \"scattercarpet\"}], \"scattergeo\": [{\"marker\": {\"colorbar\": {\"outlinewidth\": 0, \"ticks\": \"\"}}, \"type\": \"scattergeo\"}], \"scattergl\": [{\"marker\": {\"colorbar\": {\"outlinewidth\": 0, \"ticks\": \"\"}}, \"type\": \"scattergl\"}], \"scattermapbox\": [{\"marker\": {\"colorbar\": {\"outlinewidth\": 0, \"ticks\": \"\"}}, \"type\": \"scattermapbox\"}], \"scatterpolar\": [{\"marker\": {\"colorbar\": {\"outlinewidth\": 0, \"ticks\": \"\"}}, \"type\": \"scatterpolar\"}], \"scatterpolargl\": [{\"marker\": {\"colorbar\": {\"outlinewidth\": 0, \"ticks\": \"\"}}, \"type\": \"scatterpolargl\"}], \"scatterternary\": [{\"marker\": {\"colorbar\": {\"outlinewidth\": 0, \"ticks\": \"\"}}, \"type\": \"scatterternary\"}], \"surface\": [{\"colorbar\": {\"outlinewidth\": 0, \"ticks\": \"\"}, \"colorscale\": [[0.0, \"#0d0887\"], [0.1111111111111111, \"#46039f\"], [0.2222222222222222, \"#7201a8\"], [0.3333333333333333, \"#9c179e\"], [0.4444444444444444, \"#bd3786\"], [0.5555555555555556, \"#d8576b\"], [0.6666666666666666, \"#ed7953\"], [0.7777777777777778, \"#fb9f3a\"], [0.8888888888888888, \"#fdca26\"], [1.0, \"#f0f921\"]], \"type\": \"surface\"}], \"table\": [{\"cells\": {\"fill\": {\"color\": \"#EBF0F8\"}, \"line\": {\"color\": \"white\"}}, \"header\": {\"fill\": {\"color\": \"#C8D4E3\"}, \"line\": {\"color\": \"white\"}}, \"type\": \"table\"}]}, \"layout\": {\"annotationdefaults\": {\"arrowcolor\": \"#2a3f5f\", \"arrowhead\": 0, \"arrowwidth\": 1}, \"coloraxis\": {\"colorbar\": {\"outlinewidth\": 0, \"ticks\": \"\"}}, \"colorscale\": {\"diverging\": [[0, \"#8e0152\"], [0.1, \"#c51b7d\"], [0.2, \"#de77ae\"], [0.3, \"#f1b6da\"], [0.4, \"#fde0ef\"], [0.5, \"#f7f7f7\"], [0.6, \"#e6f5d0\"], [0.7, \"#b8e186\"], [0.8, \"#7fbc41\"], [0.9, \"#4d9221\"], [1, \"#276419\"]], \"sequential\": [[0.0, \"#0d0887\"], [0.1111111111111111, \"#46039f\"], [0.2222222222222222, \"#7201a8\"], [0.3333333333333333, \"#9c179e\"], [0.4444444444444444, \"#bd3786\"], [0.5555555555555556, \"#d8576b\"], [0.6666666666666666, \"#ed7953\"], [0.7777777777777778, \"#fb9f3a\"], [0.8888888888888888, \"#fdca26\"], [1.0, \"#f0f921\"]], \"sequentialminus\": [[0.0, \"#0d0887\"], [0.1111111111111111, \"#46039f\"], [0.2222222222222222, \"#7201a8\"], [0.3333333333333333, \"#9c179e\"], [0.4444444444444444, \"#bd3786\"], [0.5555555555555556, \"#d8576b\"], [0.6666666666666666, \"#ed7953\"], [0.7777777777777778, \"#fb9f3a\"], [0.8888888888888888, \"#fdca26\"], [1.0, \"#f0f921\"]]}, \"colorway\": [\"#636efa\", \"#EF553B\", \"#00cc96\", \"#ab63fa\", \"#FFA15A\", \"#19d3f3\", \"#FF6692\", \"#B6E880\", \"#FF97FF\", \"#FECB52\"], \"font\": {\"color\": \"#2a3f5f\"}, \"geo\": {\"bgcolor\": \"white\", \"lakecolor\": \"white\", \"landcolor\": \"#E5ECF6\", \"showlakes\": true, \"showland\": true, \"subunitcolor\": \"white\"}, \"hoverlabel\": {\"align\": \"left\"}, \"hovermode\": \"closest\", \"mapbox\": {\"style\": \"light\"}, \"paper_bgcolor\": \"white\", \"plot_bgcolor\": \"#E5ECF6\", \"polar\": {\"angularaxis\": {\"gridcolor\": \"white\", \"linecolor\": \"white\", \"ticks\": \"\"}, \"bgcolor\": \"#E5ECF6\", \"radialaxis\": {\"gridcolor\": \"white\", \"linecolor\": \"white\", \"ticks\": \"\"}}, \"scene\": {\"xaxis\": {\"backgroundcolor\": \"#E5ECF6\", \"gridcolor\": \"white\", \"gridwidth\": 2, \"linecolor\": \"white\", \"showbackground\": true, \"ticks\": \"\", \"zerolinecolor\": \"white\"}, \"yaxis\": {\"backgroundcolor\": \"#E5ECF6\", \"gridcolor\": \"white\", \"gridwidth\": 2, \"linecolor\": \"white\", \"showbackground\": true, \"ticks\": \"\", \"zerolinecolor\": \"white\"}, \"zaxis\": {\"backgroundcolor\": \"#E5ECF6\", \"gridcolor\": \"white\", \"gridwidth\": 2, \"linecolor\": \"white\", \"showbackground\": true, \"ticks\": \"\", \"zerolinecolor\": \"white\"}}, \"shapedefaults\": {\"line\": {\"color\": \"#2a3f5f\"}}, \"ternary\": {\"aaxis\": {\"gridcolor\": \"white\", \"linecolor\": \"white\", \"ticks\": \"\"}, \"baxis\": {\"gridcolor\": \"white\", \"linecolor\": \"white\", \"ticks\": \"\"}, \"bgcolor\": \"#E5ECF6\", \"caxis\": {\"gridcolor\": \"white\", \"linecolor\": \"white\", \"ticks\": \"\"}}, \"title\": {\"x\": 0.05}, \"xaxis\": {\"automargin\": true, \"gridcolor\": \"white\", \"linecolor\": \"white\", \"ticks\": \"\", \"title\": {\"standoff\": 15}, \"zerolinecolor\": \"white\", \"zerolinewidth\": 2}, \"yaxis\": {\"automargin\": true, \"gridcolor\": \"white\", \"linecolor\": \"white\", \"ticks\": \"\", \"title\": {\"standoff\": 15}, \"zerolinecolor\": \"white\", \"zerolinewidth\": 2}}}, \"title\": {\"font\": {\"color\": \"#4D5663\"}}, \"xaxis\": {\"gridcolor\": \"#E1E5ED\", \"showgrid\": true, \"tickfont\": {\"color\": \"#4D5663\"}, \"title\": {\"font\": {\"color\": \"#4D5663\"}, \"text\": \"\"}, \"zerolinecolor\": \"#E1E5ED\"}, \"yaxis\": {\"gridcolor\": \"#E1E5ED\", \"showgrid\": true, \"tickfont\": {\"color\": \"#4D5663\"}, \"title\": {\"font\": {\"color\": \"#4D5663\"}, \"text\": \"\"}, \"zerolinecolor\": \"#E1E5ED\"}},\n",
       "                        {\"showLink\": true, \"linkText\": \"Export to plot.ly\", \"plotlyServerURL\": \"https://plot.ly\", \"responsive\": true}\n",
       "                    ).then(function(){\n",
       "                            \n",
       "var gd = document.getElementById('d8656474-f798-4ed0-bd11-8116a335054a');\n",
       "var x = new MutationObserver(function (mutations, observer) {{\n",
       "        var display = window.getComputedStyle(gd).display;\n",
       "        if (!display || display === 'none') {{\n",
       "            console.log([gd, 'removed!']);\n",
       "            Plotly.purge(gd);\n",
       "            observer.disconnect();\n",
       "        }}\n",
       "}});\n",
       "\n",
       "// Listen for the removal of the full notebook cells\n",
       "var notebookContainer = gd.closest('#notebook-container');\n",
       "if (notebookContainer) {{\n",
       "    x.observe(notebookContainer, {childList: true});\n",
       "}}\n",
       "\n",
       "// Listen for the clearing of the current output cell\n",
       "var outputEl = gd.closest('.output');\n",
       "if (outputEl) {{\n",
       "    x.observe(outputEl, {childList: true});\n",
       "}}\n",
       "\n",
       "                        })\n",
       "                };\n",
       "                });\n",
       "            </script>\n",
       "        </div>"
      ]
     },
     "metadata": {},
     "output_type": "display_data"
    }
   ],
   "source": [
    "df2.iplot(kind='bar',x='Category',y='Values')"
   ]
  },
  {
   "cell_type": "code",
   "execution_count": 12,
   "metadata": {},
   "outputs": [
    {
     "data": {
      "application/vnd.plotly.v1+json": {
       "config": {
        "linkText": "Export to plot.ly",
        "plotlyServerURL": "https://plot.ly",
        "showLink": true
       },
       "data": [
        {
         "marker": {
          "color": "rgba(255, 153, 51, 0.6)",
          "line": {
           "color": "rgba(255, 153, 51, 1.0)",
           "width": 1
          }
         },
         "name": "None",
         "orientation": "v",
         "text": "",
         "type": "bar",
         "x": [
          "A",
          "B",
          "C",
          "D"
         ],
         "y": [
          100,
          100,
          100,
          100
         ]
        }
       ],
       "layout": {
        "legend": {
         "bgcolor": "#F5F6F9",
         "font": {
          "color": "#4D5663"
         }
        },
        "paper_bgcolor": "#F5F6F9",
        "plot_bgcolor": "#F5F6F9",
        "template": {
         "data": {
          "bar": [
           {
            "error_x": {
             "color": "#2a3f5f"
            },
            "error_y": {
             "color": "#2a3f5f"
            },
            "marker": {
             "line": {
              "color": "#E5ECF6",
              "width": 0.5
             }
            },
            "type": "bar"
           }
          ],
          "barpolar": [
           {
            "marker": {
             "line": {
              "color": "#E5ECF6",
              "width": 0.5
             }
            },
            "type": "barpolar"
           }
          ],
          "carpet": [
           {
            "aaxis": {
             "endlinecolor": "#2a3f5f",
             "gridcolor": "white",
             "linecolor": "white",
             "minorgridcolor": "white",
             "startlinecolor": "#2a3f5f"
            },
            "baxis": {
             "endlinecolor": "#2a3f5f",
             "gridcolor": "white",
             "linecolor": "white",
             "minorgridcolor": "white",
             "startlinecolor": "#2a3f5f"
            },
            "type": "carpet"
           }
          ],
          "choropleth": [
           {
            "colorbar": {
             "outlinewidth": 0,
             "ticks": ""
            },
            "type": "choropleth"
           }
          ],
          "contour": [
           {
            "colorbar": {
             "outlinewidth": 0,
             "ticks": ""
            },
            "colorscale": [
             [
              0,
              "#0d0887"
             ],
             [
              0.1111111111111111,
              "#46039f"
             ],
             [
              0.2222222222222222,
              "#7201a8"
             ],
             [
              0.3333333333333333,
              "#9c179e"
             ],
             [
              0.4444444444444444,
              "#bd3786"
             ],
             [
              0.5555555555555556,
              "#d8576b"
             ],
             [
              0.6666666666666666,
              "#ed7953"
             ],
             [
              0.7777777777777778,
              "#fb9f3a"
             ],
             [
              0.8888888888888888,
              "#fdca26"
             ],
             [
              1,
              "#f0f921"
             ]
            ],
            "type": "contour"
           }
          ],
          "contourcarpet": [
           {
            "colorbar": {
             "outlinewidth": 0,
             "ticks": ""
            },
            "type": "contourcarpet"
           }
          ],
          "heatmap": [
           {
            "colorbar": {
             "outlinewidth": 0,
             "ticks": ""
            },
            "colorscale": [
             [
              0,
              "#0d0887"
             ],
             [
              0.1111111111111111,
              "#46039f"
             ],
             [
              0.2222222222222222,
              "#7201a8"
             ],
             [
              0.3333333333333333,
              "#9c179e"
             ],
             [
              0.4444444444444444,
              "#bd3786"
             ],
             [
              0.5555555555555556,
              "#d8576b"
             ],
             [
              0.6666666666666666,
              "#ed7953"
             ],
             [
              0.7777777777777778,
              "#fb9f3a"
             ],
             [
              0.8888888888888888,
              "#fdca26"
             ],
             [
              1,
              "#f0f921"
             ]
            ],
            "type": "heatmap"
           }
          ],
          "heatmapgl": [
           {
            "colorbar": {
             "outlinewidth": 0,
             "ticks": ""
            },
            "colorscale": [
             [
              0,
              "#0d0887"
             ],
             [
              0.1111111111111111,
              "#46039f"
             ],
             [
              0.2222222222222222,
              "#7201a8"
             ],
             [
              0.3333333333333333,
              "#9c179e"
             ],
             [
              0.4444444444444444,
              "#bd3786"
             ],
             [
              0.5555555555555556,
              "#d8576b"
             ],
             [
              0.6666666666666666,
              "#ed7953"
             ],
             [
              0.7777777777777778,
              "#fb9f3a"
             ],
             [
              0.8888888888888888,
              "#fdca26"
             ],
             [
              1,
              "#f0f921"
             ]
            ],
            "type": "heatmapgl"
           }
          ],
          "histogram": [
           {
            "marker": {
             "colorbar": {
              "outlinewidth": 0,
              "ticks": ""
             }
            },
            "type": "histogram"
           }
          ],
          "histogram2d": [
           {
            "colorbar": {
             "outlinewidth": 0,
             "ticks": ""
            },
            "colorscale": [
             [
              0,
              "#0d0887"
             ],
             [
              0.1111111111111111,
              "#46039f"
             ],
             [
              0.2222222222222222,
              "#7201a8"
             ],
             [
              0.3333333333333333,
              "#9c179e"
             ],
             [
              0.4444444444444444,
              "#bd3786"
             ],
             [
              0.5555555555555556,
              "#d8576b"
             ],
             [
              0.6666666666666666,
              "#ed7953"
             ],
             [
              0.7777777777777778,
              "#fb9f3a"
             ],
             [
              0.8888888888888888,
              "#fdca26"
             ],
             [
              1,
              "#f0f921"
             ]
            ],
            "type": "histogram2d"
           }
          ],
          "histogram2dcontour": [
           {
            "colorbar": {
             "outlinewidth": 0,
             "ticks": ""
            },
            "colorscale": [
             [
              0,
              "#0d0887"
             ],
             [
              0.1111111111111111,
              "#46039f"
             ],
             [
              0.2222222222222222,
              "#7201a8"
             ],
             [
              0.3333333333333333,
              "#9c179e"
             ],
             [
              0.4444444444444444,
              "#bd3786"
             ],
             [
              0.5555555555555556,
              "#d8576b"
             ],
             [
              0.6666666666666666,
              "#ed7953"
             ],
             [
              0.7777777777777778,
              "#fb9f3a"
             ],
             [
              0.8888888888888888,
              "#fdca26"
             ],
             [
              1,
              "#f0f921"
             ]
            ],
            "type": "histogram2dcontour"
           }
          ],
          "mesh3d": [
           {
            "colorbar": {
             "outlinewidth": 0,
             "ticks": ""
            },
            "type": "mesh3d"
           }
          ],
          "parcoords": [
           {
            "line": {
             "colorbar": {
              "outlinewidth": 0,
              "ticks": ""
             }
            },
            "type": "parcoords"
           }
          ],
          "pie": [
           {
            "automargin": true,
            "type": "pie"
           }
          ],
          "scatter": [
           {
            "marker": {
             "colorbar": {
              "outlinewidth": 0,
              "ticks": ""
             }
            },
            "type": "scatter"
           }
          ],
          "scatter3d": [
           {
            "line": {
             "colorbar": {
              "outlinewidth": 0,
              "ticks": ""
             }
            },
            "marker": {
             "colorbar": {
              "outlinewidth": 0,
              "ticks": ""
             }
            },
            "type": "scatter3d"
           }
          ],
          "scattercarpet": [
           {
            "marker": {
             "colorbar": {
              "outlinewidth": 0,
              "ticks": ""
             }
            },
            "type": "scattercarpet"
           }
          ],
          "scattergeo": [
           {
            "marker": {
             "colorbar": {
              "outlinewidth": 0,
              "ticks": ""
             }
            },
            "type": "scattergeo"
           }
          ],
          "scattergl": [
           {
            "marker": {
             "colorbar": {
              "outlinewidth": 0,
              "ticks": ""
             }
            },
            "type": "scattergl"
           }
          ],
          "scattermapbox": [
           {
            "marker": {
             "colorbar": {
              "outlinewidth": 0,
              "ticks": ""
             }
            },
            "type": "scattermapbox"
           }
          ],
          "scatterpolar": [
           {
            "marker": {
             "colorbar": {
              "outlinewidth": 0,
              "ticks": ""
             }
            },
            "type": "scatterpolar"
           }
          ],
          "scatterpolargl": [
           {
            "marker": {
             "colorbar": {
              "outlinewidth": 0,
              "ticks": ""
             }
            },
            "type": "scatterpolargl"
           }
          ],
          "scatterternary": [
           {
            "marker": {
             "colorbar": {
              "outlinewidth": 0,
              "ticks": ""
             }
            },
            "type": "scatterternary"
           }
          ],
          "surface": [
           {
            "colorbar": {
             "outlinewidth": 0,
             "ticks": ""
            },
            "colorscale": [
             [
              0,
              "#0d0887"
             ],
             [
              0.1111111111111111,
              "#46039f"
             ],
             [
              0.2222222222222222,
              "#7201a8"
             ],
             [
              0.3333333333333333,
              "#9c179e"
             ],
             [
              0.4444444444444444,
              "#bd3786"
             ],
             [
              0.5555555555555556,
              "#d8576b"
             ],
             [
              0.6666666666666666,
              "#ed7953"
             ],
             [
              0.7777777777777778,
              "#fb9f3a"
             ],
             [
              0.8888888888888888,
              "#fdca26"
             ],
             [
              1,
              "#f0f921"
             ]
            ],
            "type": "surface"
           }
          ],
          "table": [
           {
            "cells": {
             "fill": {
              "color": "#EBF0F8"
             },
             "line": {
              "color": "white"
             }
            },
            "header": {
             "fill": {
              "color": "#C8D4E3"
             },
             "line": {
              "color": "white"
             }
            },
            "type": "table"
           }
          ]
         },
         "layout": {
          "annotationdefaults": {
           "arrowcolor": "#2a3f5f",
           "arrowhead": 0,
           "arrowwidth": 1
          },
          "coloraxis": {
           "colorbar": {
            "outlinewidth": 0,
            "ticks": ""
           }
          },
          "colorscale": {
           "diverging": [
            [
             0,
             "#8e0152"
            ],
            [
             0.1,
             "#c51b7d"
            ],
            [
             0.2,
             "#de77ae"
            ],
            [
             0.3,
             "#f1b6da"
            ],
            [
             0.4,
             "#fde0ef"
            ],
            [
             0.5,
             "#f7f7f7"
            ],
            [
             0.6,
             "#e6f5d0"
            ],
            [
             0.7,
             "#b8e186"
            ],
            [
             0.8,
             "#7fbc41"
            ],
            [
             0.9,
             "#4d9221"
            ],
            [
             1,
             "#276419"
            ]
           ],
           "sequential": [
            [
             0,
             "#0d0887"
            ],
            [
             0.1111111111111111,
             "#46039f"
            ],
            [
             0.2222222222222222,
             "#7201a8"
            ],
            [
             0.3333333333333333,
             "#9c179e"
            ],
            [
             0.4444444444444444,
             "#bd3786"
            ],
            [
             0.5555555555555556,
             "#d8576b"
            ],
            [
             0.6666666666666666,
             "#ed7953"
            ],
            [
             0.7777777777777778,
             "#fb9f3a"
            ],
            [
             0.8888888888888888,
             "#fdca26"
            ],
            [
             1,
             "#f0f921"
            ]
           ],
           "sequentialminus": [
            [
             0,
             "#0d0887"
            ],
            [
             0.1111111111111111,
             "#46039f"
            ],
            [
             0.2222222222222222,
             "#7201a8"
            ],
            [
             0.3333333333333333,
             "#9c179e"
            ],
            [
             0.4444444444444444,
             "#bd3786"
            ],
            [
             0.5555555555555556,
             "#d8576b"
            ],
            [
             0.6666666666666666,
             "#ed7953"
            ],
            [
             0.7777777777777778,
             "#fb9f3a"
            ],
            [
             0.8888888888888888,
             "#fdca26"
            ],
            [
             1,
             "#f0f921"
            ]
           ]
          },
          "colorway": [
           "#636efa",
           "#EF553B",
           "#00cc96",
           "#ab63fa",
           "#FFA15A",
           "#19d3f3",
           "#FF6692",
           "#B6E880",
           "#FF97FF",
           "#FECB52"
          ],
          "font": {
           "color": "#2a3f5f"
          },
          "geo": {
           "bgcolor": "white",
           "lakecolor": "white",
           "landcolor": "#E5ECF6",
           "showlakes": true,
           "showland": true,
           "subunitcolor": "white"
          },
          "hoverlabel": {
           "align": "left"
          },
          "hovermode": "closest",
          "mapbox": {
           "style": "light"
          },
          "paper_bgcolor": "white",
          "plot_bgcolor": "#E5ECF6",
          "polar": {
           "angularaxis": {
            "gridcolor": "white",
            "linecolor": "white",
            "ticks": ""
           },
           "bgcolor": "#E5ECF6",
           "radialaxis": {
            "gridcolor": "white",
            "linecolor": "white",
            "ticks": ""
           }
          },
          "scene": {
           "xaxis": {
            "backgroundcolor": "#E5ECF6",
            "gridcolor": "white",
            "gridwidth": 2,
            "linecolor": "white",
            "showbackground": true,
            "ticks": "",
            "zerolinecolor": "white"
           },
           "yaxis": {
            "backgroundcolor": "#E5ECF6",
            "gridcolor": "white",
            "gridwidth": 2,
            "linecolor": "white",
            "showbackground": true,
            "ticks": "",
            "zerolinecolor": "white"
           },
           "zaxis": {
            "backgroundcolor": "#E5ECF6",
            "gridcolor": "white",
            "gridwidth": 2,
            "linecolor": "white",
            "showbackground": true,
            "ticks": "",
            "zerolinecolor": "white"
           }
          },
          "shapedefaults": {
           "line": {
            "color": "#2a3f5f"
           }
          },
          "ternary": {
           "aaxis": {
            "gridcolor": "white",
            "linecolor": "white",
            "ticks": ""
           },
           "baxis": {
            "gridcolor": "white",
            "linecolor": "white",
            "ticks": ""
           },
           "bgcolor": "#E5ECF6",
           "caxis": {
            "gridcolor": "white",
            "linecolor": "white",
            "ticks": ""
           }
          },
          "title": {
           "x": 0.05
          },
          "xaxis": {
           "automargin": true,
           "gridcolor": "white",
           "linecolor": "white",
           "ticks": "",
           "title": {
            "standoff": 15
           },
           "zerolinecolor": "white",
           "zerolinewidth": 2
          },
          "yaxis": {
           "automargin": true,
           "gridcolor": "white",
           "linecolor": "white",
           "ticks": "",
           "title": {
            "standoff": 15
           },
           "zerolinecolor": "white",
           "zerolinewidth": 2
          }
         }
        },
        "title": {
         "font": {
          "color": "#4D5663"
         }
        },
        "xaxis": {
         "gridcolor": "#E1E5ED",
         "showgrid": true,
         "tickfont": {
          "color": "#4D5663"
         },
         "title": {
          "font": {
           "color": "#4D5663"
          },
          "text": ""
         },
         "zerolinecolor": "#E1E5ED"
        },
        "yaxis": {
         "gridcolor": "#E1E5ED",
         "showgrid": true,
         "tickfont": {
          "color": "#4D5663"
         },
         "title": {
          "font": {
           "color": "#4D5663"
          },
          "text": ""
         },
         "zerolinecolor": "#E1E5ED"
        }
       }
      },
      "text/html": [
       "<div>\n",
       "        \n",
       "        \n",
       "            <div id=\"5b28b006-3975-4781-ba99-3b2b8b2a4446\" class=\"plotly-graph-div\" style=\"height:525px; width:100%;\"></div>\n",
       "            <script type=\"text/javascript\">\n",
       "                require([\"plotly\"], function(Plotly) {\n",
       "                    window.PLOTLYENV=window.PLOTLYENV || {};\n",
       "                    window.PLOTLYENV.BASE_URL='https://plot.ly';\n",
       "                    \n",
       "                if (document.getElementById(\"5b28b006-3975-4781-ba99-3b2b8b2a4446\")) {\n",
       "                    Plotly.newPlot(\n",
       "                        '5b28b006-3975-4781-ba99-3b2b8b2a4446',\n",
       "                        [{\"marker\": {\"color\": \"rgba(255, 153, 51, 0.6)\", \"line\": {\"color\": \"rgba(255, 153, 51, 1.0)\", \"width\": 1}}, \"name\": \"None\", \"orientation\": \"v\", \"text\": \"\", \"type\": \"bar\", \"x\": [\"A\", \"B\", \"C\", \"D\"], \"y\": [100, 100, 100, 100]}],\n",
       "                        {\"legend\": {\"bgcolor\": \"#F5F6F9\", \"font\": {\"color\": \"#4D5663\"}}, \"paper_bgcolor\": \"#F5F6F9\", \"plot_bgcolor\": \"#F5F6F9\", \"template\": {\"data\": {\"bar\": [{\"error_x\": {\"color\": \"#2a3f5f\"}, \"error_y\": {\"color\": \"#2a3f5f\"}, \"marker\": {\"line\": {\"color\": \"#E5ECF6\", \"width\": 0.5}}, \"type\": \"bar\"}], \"barpolar\": [{\"marker\": {\"line\": {\"color\": \"#E5ECF6\", \"width\": 0.5}}, \"type\": \"barpolar\"}], \"carpet\": [{\"aaxis\": {\"endlinecolor\": \"#2a3f5f\", \"gridcolor\": \"white\", \"linecolor\": \"white\", \"minorgridcolor\": \"white\", \"startlinecolor\": \"#2a3f5f\"}, \"baxis\": {\"endlinecolor\": \"#2a3f5f\", \"gridcolor\": \"white\", \"linecolor\": \"white\", \"minorgridcolor\": \"white\", \"startlinecolor\": \"#2a3f5f\"}, \"type\": \"carpet\"}], \"choropleth\": [{\"colorbar\": {\"outlinewidth\": 0, \"ticks\": \"\"}, \"type\": \"choropleth\"}], \"contour\": [{\"colorbar\": {\"outlinewidth\": 0, \"ticks\": \"\"}, \"colorscale\": [[0.0, \"#0d0887\"], [0.1111111111111111, \"#46039f\"], [0.2222222222222222, \"#7201a8\"], [0.3333333333333333, \"#9c179e\"], [0.4444444444444444, \"#bd3786\"], [0.5555555555555556, \"#d8576b\"], [0.6666666666666666, \"#ed7953\"], [0.7777777777777778, \"#fb9f3a\"], [0.8888888888888888, \"#fdca26\"], [1.0, \"#f0f921\"]], \"type\": \"contour\"}], \"contourcarpet\": [{\"colorbar\": {\"outlinewidth\": 0, \"ticks\": \"\"}, \"type\": \"contourcarpet\"}], \"heatmap\": [{\"colorbar\": {\"outlinewidth\": 0, \"ticks\": \"\"}, \"colorscale\": [[0.0, \"#0d0887\"], [0.1111111111111111, \"#46039f\"], [0.2222222222222222, \"#7201a8\"], [0.3333333333333333, \"#9c179e\"], [0.4444444444444444, \"#bd3786\"], [0.5555555555555556, \"#d8576b\"], [0.6666666666666666, \"#ed7953\"], [0.7777777777777778, \"#fb9f3a\"], [0.8888888888888888, \"#fdca26\"], [1.0, \"#f0f921\"]], \"type\": \"heatmap\"}], \"heatmapgl\": [{\"colorbar\": {\"outlinewidth\": 0, \"ticks\": \"\"}, \"colorscale\": [[0.0, \"#0d0887\"], [0.1111111111111111, \"#46039f\"], [0.2222222222222222, \"#7201a8\"], [0.3333333333333333, \"#9c179e\"], [0.4444444444444444, \"#bd3786\"], [0.5555555555555556, \"#d8576b\"], [0.6666666666666666, \"#ed7953\"], [0.7777777777777778, \"#fb9f3a\"], [0.8888888888888888, \"#fdca26\"], [1.0, \"#f0f921\"]], \"type\": \"heatmapgl\"}], \"histogram\": [{\"marker\": {\"colorbar\": {\"outlinewidth\": 0, \"ticks\": \"\"}}, \"type\": \"histogram\"}], \"histogram2d\": [{\"colorbar\": {\"outlinewidth\": 0, \"ticks\": \"\"}, \"colorscale\": [[0.0, \"#0d0887\"], [0.1111111111111111, \"#46039f\"], [0.2222222222222222, \"#7201a8\"], [0.3333333333333333, \"#9c179e\"], [0.4444444444444444, \"#bd3786\"], [0.5555555555555556, \"#d8576b\"], [0.6666666666666666, \"#ed7953\"], [0.7777777777777778, \"#fb9f3a\"], [0.8888888888888888, \"#fdca26\"], [1.0, \"#f0f921\"]], \"type\": \"histogram2d\"}], \"histogram2dcontour\": [{\"colorbar\": {\"outlinewidth\": 0, \"ticks\": \"\"}, \"colorscale\": [[0.0, \"#0d0887\"], [0.1111111111111111, \"#46039f\"], [0.2222222222222222, \"#7201a8\"], [0.3333333333333333, \"#9c179e\"], [0.4444444444444444, \"#bd3786\"], [0.5555555555555556, \"#d8576b\"], [0.6666666666666666, \"#ed7953\"], [0.7777777777777778, \"#fb9f3a\"], [0.8888888888888888, \"#fdca26\"], [1.0, \"#f0f921\"]], \"type\": \"histogram2dcontour\"}], \"mesh3d\": [{\"colorbar\": {\"outlinewidth\": 0, \"ticks\": \"\"}, \"type\": \"mesh3d\"}], \"parcoords\": [{\"line\": {\"colorbar\": {\"outlinewidth\": 0, \"ticks\": \"\"}}, \"type\": \"parcoords\"}], \"pie\": [{\"automargin\": true, \"type\": \"pie\"}], \"scatter\": [{\"marker\": {\"colorbar\": {\"outlinewidth\": 0, \"ticks\": \"\"}}, \"type\": \"scatter\"}], \"scatter3d\": [{\"line\": {\"colorbar\": {\"outlinewidth\": 0, \"ticks\": \"\"}}, \"marker\": {\"colorbar\": {\"outlinewidth\": 0, \"ticks\": \"\"}}, \"type\": \"scatter3d\"}], \"scattercarpet\": [{\"marker\": {\"colorbar\": {\"outlinewidth\": 0, \"ticks\": \"\"}}, \"type\": \"scattercarpet\"}], \"scattergeo\": [{\"marker\": {\"colorbar\": {\"outlinewidth\": 0, \"ticks\": \"\"}}, \"type\": \"scattergeo\"}], \"scattergl\": [{\"marker\": {\"colorbar\": {\"outlinewidth\": 0, \"ticks\": \"\"}}, \"type\": \"scattergl\"}], \"scattermapbox\": [{\"marker\": {\"colorbar\": {\"outlinewidth\": 0, \"ticks\": \"\"}}, \"type\": \"scattermapbox\"}], \"scatterpolar\": [{\"marker\": {\"colorbar\": {\"outlinewidth\": 0, \"ticks\": \"\"}}, \"type\": \"scatterpolar\"}], \"scatterpolargl\": [{\"marker\": {\"colorbar\": {\"outlinewidth\": 0, \"ticks\": \"\"}}, \"type\": \"scatterpolargl\"}], \"scatterternary\": [{\"marker\": {\"colorbar\": {\"outlinewidth\": 0, \"ticks\": \"\"}}, \"type\": \"scatterternary\"}], \"surface\": [{\"colorbar\": {\"outlinewidth\": 0, \"ticks\": \"\"}, \"colorscale\": [[0.0, \"#0d0887\"], [0.1111111111111111, \"#46039f\"], [0.2222222222222222, \"#7201a8\"], [0.3333333333333333, \"#9c179e\"], [0.4444444444444444, \"#bd3786\"], [0.5555555555555556, \"#d8576b\"], [0.6666666666666666, \"#ed7953\"], [0.7777777777777778, \"#fb9f3a\"], [0.8888888888888888, \"#fdca26\"], [1.0, \"#f0f921\"]], \"type\": \"surface\"}], \"table\": [{\"cells\": {\"fill\": {\"color\": \"#EBF0F8\"}, \"line\": {\"color\": \"white\"}}, \"header\": {\"fill\": {\"color\": \"#C8D4E3\"}, \"line\": {\"color\": \"white\"}}, \"type\": \"table\"}]}, \"layout\": {\"annotationdefaults\": {\"arrowcolor\": \"#2a3f5f\", \"arrowhead\": 0, \"arrowwidth\": 1}, \"coloraxis\": {\"colorbar\": {\"outlinewidth\": 0, \"ticks\": \"\"}}, \"colorscale\": {\"diverging\": [[0, \"#8e0152\"], [0.1, \"#c51b7d\"], [0.2, \"#de77ae\"], [0.3, \"#f1b6da\"], [0.4, \"#fde0ef\"], [0.5, \"#f7f7f7\"], [0.6, \"#e6f5d0\"], [0.7, \"#b8e186\"], [0.8, \"#7fbc41\"], [0.9, \"#4d9221\"], [1, \"#276419\"]], \"sequential\": [[0.0, \"#0d0887\"], [0.1111111111111111, \"#46039f\"], [0.2222222222222222, \"#7201a8\"], [0.3333333333333333, \"#9c179e\"], [0.4444444444444444, \"#bd3786\"], [0.5555555555555556, \"#d8576b\"], [0.6666666666666666, \"#ed7953\"], [0.7777777777777778, \"#fb9f3a\"], [0.8888888888888888, \"#fdca26\"], [1.0, \"#f0f921\"]], \"sequentialminus\": [[0.0, \"#0d0887\"], [0.1111111111111111, \"#46039f\"], [0.2222222222222222, \"#7201a8\"], [0.3333333333333333, \"#9c179e\"], [0.4444444444444444, \"#bd3786\"], [0.5555555555555556, \"#d8576b\"], [0.6666666666666666, \"#ed7953\"], [0.7777777777777778, \"#fb9f3a\"], [0.8888888888888888, \"#fdca26\"], [1.0, \"#f0f921\"]]}, \"colorway\": [\"#636efa\", \"#EF553B\", \"#00cc96\", \"#ab63fa\", \"#FFA15A\", \"#19d3f3\", \"#FF6692\", \"#B6E880\", \"#FF97FF\", \"#FECB52\"], \"font\": {\"color\": \"#2a3f5f\"}, \"geo\": {\"bgcolor\": \"white\", \"lakecolor\": \"white\", \"landcolor\": \"#E5ECF6\", \"showlakes\": true, \"showland\": true, \"subunitcolor\": \"white\"}, \"hoverlabel\": {\"align\": \"left\"}, \"hovermode\": \"closest\", \"mapbox\": {\"style\": \"light\"}, \"paper_bgcolor\": \"white\", \"plot_bgcolor\": \"#E5ECF6\", \"polar\": {\"angularaxis\": {\"gridcolor\": \"white\", \"linecolor\": \"white\", \"ticks\": \"\"}, \"bgcolor\": \"#E5ECF6\", \"radialaxis\": {\"gridcolor\": \"white\", \"linecolor\": \"white\", \"ticks\": \"\"}}, \"scene\": {\"xaxis\": {\"backgroundcolor\": \"#E5ECF6\", \"gridcolor\": \"white\", \"gridwidth\": 2, \"linecolor\": \"white\", \"showbackground\": true, \"ticks\": \"\", \"zerolinecolor\": \"white\"}, \"yaxis\": {\"backgroundcolor\": \"#E5ECF6\", \"gridcolor\": \"white\", \"gridwidth\": 2, \"linecolor\": \"white\", \"showbackground\": true, \"ticks\": \"\", \"zerolinecolor\": \"white\"}, \"zaxis\": {\"backgroundcolor\": \"#E5ECF6\", \"gridcolor\": \"white\", \"gridwidth\": 2, \"linecolor\": \"white\", \"showbackground\": true, \"ticks\": \"\", \"zerolinecolor\": \"white\"}}, \"shapedefaults\": {\"line\": {\"color\": \"#2a3f5f\"}}, \"ternary\": {\"aaxis\": {\"gridcolor\": \"white\", \"linecolor\": \"white\", \"ticks\": \"\"}, \"baxis\": {\"gridcolor\": \"white\", \"linecolor\": \"white\", \"ticks\": \"\"}, \"bgcolor\": \"#E5ECF6\", \"caxis\": {\"gridcolor\": \"white\", \"linecolor\": \"white\", \"ticks\": \"\"}}, \"title\": {\"x\": 0.05}, \"xaxis\": {\"automargin\": true, \"gridcolor\": \"white\", \"linecolor\": \"white\", \"ticks\": \"\", \"title\": {\"standoff\": 15}, \"zerolinecolor\": \"white\", \"zerolinewidth\": 2}, \"yaxis\": {\"automargin\": true, \"gridcolor\": \"white\", \"linecolor\": \"white\", \"ticks\": \"\", \"title\": {\"standoff\": 15}, \"zerolinecolor\": \"white\", \"zerolinewidth\": 2}}}, \"title\": {\"font\": {\"color\": \"#4D5663\"}}, \"xaxis\": {\"gridcolor\": \"#E1E5ED\", \"showgrid\": true, \"tickfont\": {\"color\": \"#4D5663\"}, \"title\": {\"font\": {\"color\": \"#4D5663\"}, \"text\": \"\"}, \"zerolinecolor\": \"#E1E5ED\"}, \"yaxis\": {\"gridcolor\": \"#E1E5ED\", \"showgrid\": true, \"tickfont\": {\"color\": \"#4D5663\"}, \"title\": {\"font\": {\"color\": \"#4D5663\"}, \"text\": \"\"}, \"zerolinecolor\": \"#E1E5ED\"}},\n",
       "                        {\"showLink\": true, \"linkText\": \"Export to plot.ly\", \"plotlyServerURL\": \"https://plot.ly\", \"responsive\": true}\n",
       "                    ).then(function(){\n",
       "                            \n",
       "var gd = document.getElementById('5b28b006-3975-4781-ba99-3b2b8b2a4446');\n",
       "var x = new MutationObserver(function (mutations, observer) {{\n",
       "        var display = window.getComputedStyle(gd).display;\n",
       "        if (!display || display === 'none') {{\n",
       "            console.log([gd, 'removed!']);\n",
       "            Plotly.purge(gd);\n",
       "            observer.disconnect();\n",
       "        }}\n",
       "}});\n",
       "\n",
       "// Listen for the removal of the full notebook cells\n",
       "var notebookContainer = gd.closest('#notebook-container');\n",
       "if (notebookContainer) {{\n",
       "    x.observe(notebookContainer, {childList: true});\n",
       "}}\n",
       "\n",
       "// Listen for the clearing of the current output cell\n",
       "var outputEl = gd.closest('.output');\n",
       "if (outputEl) {{\n",
       "    x.observe(outputEl, {childList: true});\n",
       "}}\n",
       "\n",
       "                        })\n",
       "                };\n",
       "                });\n",
       "            </script>\n",
       "        </div>"
      ]
     },
     "metadata": {},
     "output_type": "display_data"
    }
   ],
   "source": [
    "df.count().iplot(kind='bar')"
   ]
  },
  {
   "cell_type": "markdown",
   "metadata": {},
   "source": [
    "## Boxplots"
   ]
  },
  {
   "cell_type": "code",
   "execution_count": 13,
   "metadata": {},
   "outputs": [
    {
     "data": {
      "application/vnd.plotly.v1+json": {
       "config": {
        "linkText": "Export to plot.ly",
        "plotlyServerURL": "https://plot.ly",
        "showLink": true
       },
       "data": [
        {
         "boxpoints": false,
         "line": {
          "width": 1.3
         },
         "marker": {
          "color": "rgba(255, 153, 51, 1.0)"
         },
         "name": "A",
         "orientation": "v",
         "type": "box",
         "y": [
          1.0299692281207755,
          0.4534019734022077,
          -1.156757825181421,
          -0.7299709942828432,
          1.4409059505261956,
          -0.09674859261974017,
          -0.31310025124263396,
          -0.615562589771781,
          1.3377488960017276,
          -1.238193381643003,
          1.4473866003039055,
          -0.24578986864768815,
          -1.3932058840044743,
          -0.983629216765057,
          1.1592625360059976,
          -0.5747697575840409,
          -2.164848056491318,
          -0.5521112208010445,
          0.6596277084563169,
          -1.6610543716234045,
          -0.20127771451028606,
          1.1401415826487609,
          0.09581359549845013,
          0.41353007338316194,
          -0.8418997837834926,
          0.44398379100801055,
          -0.4763568195789701,
          0.1622909197676177,
          -0.21577326523983892,
          -1.149924445072829,
          0.8747976740565843,
          -0.6277466746502788,
          -0.4111046817448839,
          -0.1396106207813502,
          -0.3245889850514159,
          0.47953606265711457,
          0.10826429640054529,
          -1.33207714457925,
          -0.24755916405588405,
          -1.8647696040457458,
          1.222906419466841,
          -1.4606120183754274,
          -0.5334167468495689,
          0.9391682065309265,
          -0.5451809983351346,
          -0.02004448042626695,
          1.9293086101896395,
          -0.4337940434540837,
          -1.3343809530709445,
          0.29511550748888954,
          -0.06558515741836947,
          0.5294550388808351,
          -0.9166582808037367,
          0.2319000324614197,
          -1.5281168095973396,
          -0.42954701959141756,
          2.0865890889512637,
          -0.5949872127370982,
          -1.4743702902513047,
          0.19093383641853026,
          0.3081129908388611,
          -2.0470356036501256,
          1.1095352336807842,
          -1.368442764338196,
          -0.4275366607821204,
          0.9250293952647808,
          -0.5777652608572624,
          1.6608177632775625,
          0.5316301885035559,
          -1.820881124822415,
          0.5009456277225153,
          -0.4740403752566626,
          0.1246658233655019,
          -0.869721085306933,
          0.8570321501144111,
          1.5911369302460645,
          -0.12107611962269951,
          -0.3401337751027574,
          0.5930826615465543,
          -0.4564408347145368,
          -0.24216836595027982,
          -0.08433722488491868,
          0.6992801443206138,
          -1.3479230918201661,
          0.12385260456613993,
          -0.2558399630323414,
          -3.403472824761215,
          -0.045574523361199985,
          -0.0035774583155329586,
          -0.11088118405751529,
          0.8604034726710508,
          -1.0374664218756517,
          -0.1855592050009561,
          -0.5341872200032267,
          0.49876930778198564,
          -1.3949285590172393,
          -0.28398579730008716,
          0.06999325605449133,
          0.8462434658818054,
          0.9747558345318641
         ]
        },
        {
         "boxpoints": false,
         "line": {
          "width": 1.3
         },
         "marker": {
          "color": "rgba(55, 128, 191, 1.0)"
         },
         "name": "B",
         "orientation": "v",
         "type": "box",
         "y": [
          -0.5292130527085185,
          -1.0380352192512008,
          0.515028895406664,
          -2.0489223232459652,
          -1.1616751322392724,
          0.31823522688089406,
          0.18919871745206318,
          -0.3813010657547128,
          1.8396674127521875,
          -1.0993476336561583,
          1.1927977033888462,
          0.15829398678681464,
          -2.1109880813706603,
          -2.0385818530526314,
          -1.2361305929799478,
          0.42290555133059576,
          0.334215214533492,
          -0.20054377299147397,
          -0.8833505114126339,
          -1.1084383976938577,
          -1.851908547017362,
          -1.0630283408896297,
          0.5926098904319725,
          0.7513579534642801,
          0.4637901368493004,
          -0.33709959840844683,
          0.21027272795232996,
          0.8983184683403516,
          -0.4901405914309119,
          -0.20120314218583968,
          1.5011997035092146,
          -1.2095873020523167,
          -1.0700199021981835,
          -0.561313763405721,
          -0.28675070338425557,
          -0.6600015870215331,
          2.937508711840935,
          0.6477235827190407,
          0.7318236869344612,
          2.521495744543777,
          -0.022979158314660908,
          0.2591095214280645,
          0.06302427412203036,
          -0.5361261075311612,
          -0.37160107954747856,
          -0.626653987445001,
          1.1429500158289485,
          0.5096385749787216,
          -0.04873226669639589,
          0.9850149505462312,
          -0.7852691213273342,
          -0.34270170975593817,
          -0.9623179316518778,
          0.5539939911774647,
          -0.2577336972974899,
          0.8976399206056497,
          -0.8051615534241037,
          -0.3443681028873965,
          0.5734273403582758,
          0.5019099807939298,
          2.7681162645095507,
          1.122021252487704,
          -0.7216893204909437,
          -0.13414541303752042,
          -1.1840734124359265,
          2.11238290368288,
          0.926063528945275,
          -0.48344166812176287,
          0.7464086455230814,
          1.8437767291806353,
          0.4979201807729261,
          0.2937901422164776,
          0.057658364909912586,
          0.19838391413673306,
          0.9346106944872706,
          -0.34037271913893585,
          -1.0638231219610457,
          0.05025142693732289,
          -0.6289189004932967,
          -0.9800787023295485,
          0.0933863937368245,
          -0.07306728474361188,
          -1.0369062410116046,
          0.7331677844235539,
          0.5175133296662681,
          -0.29837523305297237,
          1.009587285483537,
          -0.9170029650799433,
          0.8441742768430965,
          0.7854003158011569,
          1.4732317340251777,
          -0.08212285584046843,
          -0.6773271354002086,
          1.2832787579287601,
          0.7311234814090207,
          -0.43089962618951966,
          0.23807414436880844,
          -0.7455583649577328,
          1.8898349439930222,
          -0.48940410252311906
         ]
        },
        {
         "boxpoints": false,
         "line": {
          "width": 1.3
         },
         "marker": {
          "color": "rgba(50, 171, 96, 1.0)"
         },
         "name": "C",
         "orientation": "v",
         "type": "box",
         "y": [
          -0.7324498605631861,
          -0.1303894608628459,
          -1.151100409182011,
          -0.6422617241775928,
          -0.44754472937397344,
          -0.3075176554383684,
          -3.1383989680001267,
          0.9764719821691396,
          0.9266940736043047,
          1.4434370922461166,
          0.15364569147515642,
          -0.8600410763556198,
          0.27149082659844936,
          2.652403606812918,
          0.19789334310764972,
          -0.4034990693487221,
          -0.05531385250273491,
          0.6977655605986051,
          -0.13119522974507344,
          0.32007108515669425,
          -1.394911538222159,
          0.4890328438033733,
          0.4279502511685625,
          0.999009471226633,
          -0.3049256779375995,
          1.0554487495688034,
          -0.07025195901839071,
          -0.06158185040287161,
          0.6422129478688288,
          -0.09901727969887121,
          0.5107018454485471,
          1.0402505354817695,
          -0.6508222246538106,
          0.059348190610508944,
          -0.7810493526677275,
          0.8464277906209582,
          -0.2597065853638947,
          0.15705290177027986,
          0.721847761461881,
          -0.6871082860134929,
          -1.7821285555993478,
          -1.1591483514811343,
          0.7652530577940034,
          1.9284784171058644,
          -1.2743976951607354,
          -0.8624389453104636,
          -0.4116205273447163,
          -0.25568683642038775,
          -0.3400649966749066,
          -1.1497243849249152,
          -0.18031729609360275,
          -0.27769638691502063,
          0.5320467971213227,
          -2.109826886255268,
          -0.46713590865489846,
          1.2723497597429383,
          0.6063208534882636,
          1.0778543334618587,
          -0.5475774933853736,
          0.2805901048055045,
          -1.2859662545080643,
          -0.12623347019959708,
          0.9528552836049331,
          2.353897144594742,
          -0.029919428088069962,
          -0.6952287967905131,
          -0.07769555725477738,
          -2.1975619606829366,
          0.19106169107433513,
          0.2842729049504016,
          -0.09525562185007477,
          -0.24799786172426608,
          -0.09576940661676409,
          1.0641532265647242,
          0.7826753718086371,
          -0.011998668395117125,
          -0.4007367902180285,
          -0.11230917965809203,
          0.10830421162028454,
          0.008995541337013661,
          -1.1728670577135618,
          -0.09614470770089809,
          -0.4410033002449212,
          0.6484236081441456,
          0.28309485102980203,
          -1.9585303737505555,
          0.6407223405181663,
          -0.23420900871443726,
          -0.6580015984575852,
          2.247150655645674,
          -0.32304534932041523,
          0.05013026965175229,
          -0.39674403388053014,
          0.96971803688895,
          0.25562500157134666,
          -1.1929340682178564,
          -0.3793143282987808,
          -0.20849049787340979,
          0.4023415317472472,
          1.6568358063297357
         ]
        },
        {
         "boxpoints": false,
         "line": {
          "width": 1.3
         },
         "marker": {
          "color": "rgba(128, 0, 128, 1.0)"
         },
         "name": "D",
         "orientation": "v",
         "type": "box",
         "y": [
          -0.03405134757754162,
          1.7601247138745886,
          0.7102161198087767,
          -0.20015282905238874,
          -2.091195220278861,
          1.1204571784020945,
          0.7106720190853378,
          -0.6336353028181934,
          0.7501138232635651,
          1.7419560818222881,
          -0.3083398513293142,
          0.15955064262988533,
          1.0490556273469869,
          0.28255005612949297,
          0.8743748133540031,
          -0.36818590031915716,
          0.3482186714954275,
          -0.4700906789684043,
          -0.5664638387952888,
          -0.7359182099202148,
          -2.566657954603579,
          -0.500571359282229,
          2.5275974880261707,
          -0.12644390984980539,
          -0.4901267637245524,
          0.1682681391167114,
          1.0937463725943974,
          -0.639426165430679,
          -1.9639560818688637,
          -0.9088344333096241,
          -1.4861475068301657,
          1.0038671754592452,
          0.2851358764228744,
          -0.05976094031039234,
          -1.864592796729352,
          -0.34248666954436857,
          -1.5085546495188544,
          -0.31230847608330536,
          3.3138915393945925,
          1.11482123114005,
          -0.4571426724366232,
          -0.7641689224300509,
          -0.4055984788240558,
          -0.7048011882313757,
          -1.0322008125019613,
          0.12921765130349191,
          0.45631515986879134,
          0.6303858234609643,
          -0.4699500879746037,
          0.16970164067017493,
          0.8745101344956532,
          0.20439625104582343,
          -0.8217709907644891,
          -0.8419600534293578,
          -0.6722858746289054,
          -0.7506503580178014,
          0.7473586143240762,
          0.019515955657227097,
          0.1692105965100989,
          2.0757748626399155,
          0.2678083922467391,
          -0.7783403921194563,
          1.1276814882775195,
          -2.0542988448012927,
          -1.110588941942566,
          0.35171992312005,
          -1.461644889124666,
          0.13811073609220823,
          0.9999749992383878,
          1.1408925929262406,
          -1.1288253533927428,
          -0.38262838805717175,
          -1.3853308736999235,
          -1.5771578115948657,
          -0.4383853798804836,
          0.49243061527514315,
          1.7074205792522625,
          -0.2455721645333344,
          -0.13148762705759243,
          -0.18537710295690857,
          -0.1290397089016061,
          1.566791331909838,
          -1.0644028526512264,
          0.4748821179637237,
          0.7203473787223855,
          0.4466385392714042,
          2.171749315693905,
          0.4123904744334221,
          -1.9855716426751728,
          -0.5118512502422413,
          -0.21477142134116692,
          -2.4018237983542186,
          -0.3266458193432738,
          -0.2145059113336942,
          -0.24174609919601492,
          1.3031027972902298,
          -0.17916473801883537,
          2.1699855178031124,
          -0.5965139378836746,
          1.057565997220973
         ]
        }
       ],
       "layout": {
        "legend": {
         "bgcolor": "#F5F6F9",
         "font": {
          "color": "#4D5663"
         }
        },
        "paper_bgcolor": "#F5F6F9",
        "plot_bgcolor": "#F5F6F9",
        "template": {
         "data": {
          "bar": [
           {
            "error_x": {
             "color": "#2a3f5f"
            },
            "error_y": {
             "color": "#2a3f5f"
            },
            "marker": {
             "line": {
              "color": "#E5ECF6",
              "width": 0.5
             }
            },
            "type": "bar"
           }
          ],
          "barpolar": [
           {
            "marker": {
             "line": {
              "color": "#E5ECF6",
              "width": 0.5
             }
            },
            "type": "barpolar"
           }
          ],
          "carpet": [
           {
            "aaxis": {
             "endlinecolor": "#2a3f5f",
             "gridcolor": "white",
             "linecolor": "white",
             "minorgridcolor": "white",
             "startlinecolor": "#2a3f5f"
            },
            "baxis": {
             "endlinecolor": "#2a3f5f",
             "gridcolor": "white",
             "linecolor": "white",
             "minorgridcolor": "white",
             "startlinecolor": "#2a3f5f"
            },
            "type": "carpet"
           }
          ],
          "choropleth": [
           {
            "colorbar": {
             "outlinewidth": 0,
             "ticks": ""
            },
            "type": "choropleth"
           }
          ],
          "contour": [
           {
            "colorbar": {
             "outlinewidth": 0,
             "ticks": ""
            },
            "colorscale": [
             [
              0,
              "#0d0887"
             ],
             [
              0.1111111111111111,
              "#46039f"
             ],
             [
              0.2222222222222222,
              "#7201a8"
             ],
             [
              0.3333333333333333,
              "#9c179e"
             ],
             [
              0.4444444444444444,
              "#bd3786"
             ],
             [
              0.5555555555555556,
              "#d8576b"
             ],
             [
              0.6666666666666666,
              "#ed7953"
             ],
             [
              0.7777777777777778,
              "#fb9f3a"
             ],
             [
              0.8888888888888888,
              "#fdca26"
             ],
             [
              1,
              "#f0f921"
             ]
            ],
            "type": "contour"
           }
          ],
          "contourcarpet": [
           {
            "colorbar": {
             "outlinewidth": 0,
             "ticks": ""
            },
            "type": "contourcarpet"
           }
          ],
          "heatmap": [
           {
            "colorbar": {
             "outlinewidth": 0,
             "ticks": ""
            },
            "colorscale": [
             [
              0,
              "#0d0887"
             ],
             [
              0.1111111111111111,
              "#46039f"
             ],
             [
              0.2222222222222222,
              "#7201a8"
             ],
             [
              0.3333333333333333,
              "#9c179e"
             ],
             [
              0.4444444444444444,
              "#bd3786"
             ],
             [
              0.5555555555555556,
              "#d8576b"
             ],
             [
              0.6666666666666666,
              "#ed7953"
             ],
             [
              0.7777777777777778,
              "#fb9f3a"
             ],
             [
              0.8888888888888888,
              "#fdca26"
             ],
             [
              1,
              "#f0f921"
             ]
            ],
            "type": "heatmap"
           }
          ],
          "heatmapgl": [
           {
            "colorbar": {
             "outlinewidth": 0,
             "ticks": ""
            },
            "colorscale": [
             [
              0,
              "#0d0887"
             ],
             [
              0.1111111111111111,
              "#46039f"
             ],
             [
              0.2222222222222222,
              "#7201a8"
             ],
             [
              0.3333333333333333,
              "#9c179e"
             ],
             [
              0.4444444444444444,
              "#bd3786"
             ],
             [
              0.5555555555555556,
              "#d8576b"
             ],
             [
              0.6666666666666666,
              "#ed7953"
             ],
             [
              0.7777777777777778,
              "#fb9f3a"
             ],
             [
              0.8888888888888888,
              "#fdca26"
             ],
             [
              1,
              "#f0f921"
             ]
            ],
            "type": "heatmapgl"
           }
          ],
          "histogram": [
           {
            "marker": {
             "colorbar": {
              "outlinewidth": 0,
              "ticks": ""
             }
            },
            "type": "histogram"
           }
          ],
          "histogram2d": [
           {
            "colorbar": {
             "outlinewidth": 0,
             "ticks": ""
            },
            "colorscale": [
             [
              0,
              "#0d0887"
             ],
             [
              0.1111111111111111,
              "#46039f"
             ],
             [
              0.2222222222222222,
              "#7201a8"
             ],
             [
              0.3333333333333333,
              "#9c179e"
             ],
             [
              0.4444444444444444,
              "#bd3786"
             ],
             [
              0.5555555555555556,
              "#d8576b"
             ],
             [
              0.6666666666666666,
              "#ed7953"
             ],
             [
              0.7777777777777778,
              "#fb9f3a"
             ],
             [
              0.8888888888888888,
              "#fdca26"
             ],
             [
              1,
              "#f0f921"
             ]
            ],
            "type": "histogram2d"
           }
          ],
          "histogram2dcontour": [
           {
            "colorbar": {
             "outlinewidth": 0,
             "ticks": ""
            },
            "colorscale": [
             [
              0,
              "#0d0887"
             ],
             [
              0.1111111111111111,
              "#46039f"
             ],
             [
              0.2222222222222222,
              "#7201a8"
             ],
             [
              0.3333333333333333,
              "#9c179e"
             ],
             [
              0.4444444444444444,
              "#bd3786"
             ],
             [
              0.5555555555555556,
              "#d8576b"
             ],
             [
              0.6666666666666666,
              "#ed7953"
             ],
             [
              0.7777777777777778,
              "#fb9f3a"
             ],
             [
              0.8888888888888888,
              "#fdca26"
             ],
             [
              1,
              "#f0f921"
             ]
            ],
            "type": "histogram2dcontour"
           }
          ],
          "mesh3d": [
           {
            "colorbar": {
             "outlinewidth": 0,
             "ticks": ""
            },
            "type": "mesh3d"
           }
          ],
          "parcoords": [
           {
            "line": {
             "colorbar": {
              "outlinewidth": 0,
              "ticks": ""
             }
            },
            "type": "parcoords"
           }
          ],
          "pie": [
           {
            "automargin": true,
            "type": "pie"
           }
          ],
          "scatter": [
           {
            "marker": {
             "colorbar": {
              "outlinewidth": 0,
              "ticks": ""
             }
            },
            "type": "scatter"
           }
          ],
          "scatter3d": [
           {
            "line": {
             "colorbar": {
              "outlinewidth": 0,
              "ticks": ""
             }
            },
            "marker": {
             "colorbar": {
              "outlinewidth": 0,
              "ticks": ""
             }
            },
            "type": "scatter3d"
           }
          ],
          "scattercarpet": [
           {
            "marker": {
             "colorbar": {
              "outlinewidth": 0,
              "ticks": ""
             }
            },
            "type": "scattercarpet"
           }
          ],
          "scattergeo": [
           {
            "marker": {
             "colorbar": {
              "outlinewidth": 0,
              "ticks": ""
             }
            },
            "type": "scattergeo"
           }
          ],
          "scattergl": [
           {
            "marker": {
             "colorbar": {
              "outlinewidth": 0,
              "ticks": ""
             }
            },
            "type": "scattergl"
           }
          ],
          "scattermapbox": [
           {
            "marker": {
             "colorbar": {
              "outlinewidth": 0,
              "ticks": ""
             }
            },
            "type": "scattermapbox"
           }
          ],
          "scatterpolar": [
           {
            "marker": {
             "colorbar": {
              "outlinewidth": 0,
              "ticks": ""
             }
            },
            "type": "scatterpolar"
           }
          ],
          "scatterpolargl": [
           {
            "marker": {
             "colorbar": {
              "outlinewidth": 0,
              "ticks": ""
             }
            },
            "type": "scatterpolargl"
           }
          ],
          "scatterternary": [
           {
            "marker": {
             "colorbar": {
              "outlinewidth": 0,
              "ticks": ""
             }
            },
            "type": "scatterternary"
           }
          ],
          "surface": [
           {
            "colorbar": {
             "outlinewidth": 0,
             "ticks": ""
            },
            "colorscale": [
             [
              0,
              "#0d0887"
             ],
             [
              0.1111111111111111,
              "#46039f"
             ],
             [
              0.2222222222222222,
              "#7201a8"
             ],
             [
              0.3333333333333333,
              "#9c179e"
             ],
             [
              0.4444444444444444,
              "#bd3786"
             ],
             [
              0.5555555555555556,
              "#d8576b"
             ],
             [
              0.6666666666666666,
              "#ed7953"
             ],
             [
              0.7777777777777778,
              "#fb9f3a"
             ],
             [
              0.8888888888888888,
              "#fdca26"
             ],
             [
              1,
              "#f0f921"
             ]
            ],
            "type": "surface"
           }
          ],
          "table": [
           {
            "cells": {
             "fill": {
              "color": "#EBF0F8"
             },
             "line": {
              "color": "white"
             }
            },
            "header": {
             "fill": {
              "color": "#C8D4E3"
             },
             "line": {
              "color": "white"
             }
            },
            "type": "table"
           }
          ]
         },
         "layout": {
          "annotationdefaults": {
           "arrowcolor": "#2a3f5f",
           "arrowhead": 0,
           "arrowwidth": 1
          },
          "coloraxis": {
           "colorbar": {
            "outlinewidth": 0,
            "ticks": ""
           }
          },
          "colorscale": {
           "diverging": [
            [
             0,
             "#8e0152"
            ],
            [
             0.1,
             "#c51b7d"
            ],
            [
             0.2,
             "#de77ae"
            ],
            [
             0.3,
             "#f1b6da"
            ],
            [
             0.4,
             "#fde0ef"
            ],
            [
             0.5,
             "#f7f7f7"
            ],
            [
             0.6,
             "#e6f5d0"
            ],
            [
             0.7,
             "#b8e186"
            ],
            [
             0.8,
             "#7fbc41"
            ],
            [
             0.9,
             "#4d9221"
            ],
            [
             1,
             "#276419"
            ]
           ],
           "sequential": [
            [
             0,
             "#0d0887"
            ],
            [
             0.1111111111111111,
             "#46039f"
            ],
            [
             0.2222222222222222,
             "#7201a8"
            ],
            [
             0.3333333333333333,
             "#9c179e"
            ],
            [
             0.4444444444444444,
             "#bd3786"
            ],
            [
             0.5555555555555556,
             "#d8576b"
            ],
            [
             0.6666666666666666,
             "#ed7953"
            ],
            [
             0.7777777777777778,
             "#fb9f3a"
            ],
            [
             0.8888888888888888,
             "#fdca26"
            ],
            [
             1,
             "#f0f921"
            ]
           ],
           "sequentialminus": [
            [
             0,
             "#0d0887"
            ],
            [
             0.1111111111111111,
             "#46039f"
            ],
            [
             0.2222222222222222,
             "#7201a8"
            ],
            [
             0.3333333333333333,
             "#9c179e"
            ],
            [
             0.4444444444444444,
             "#bd3786"
            ],
            [
             0.5555555555555556,
             "#d8576b"
            ],
            [
             0.6666666666666666,
             "#ed7953"
            ],
            [
             0.7777777777777778,
             "#fb9f3a"
            ],
            [
             0.8888888888888888,
             "#fdca26"
            ],
            [
             1,
             "#f0f921"
            ]
           ]
          },
          "colorway": [
           "#636efa",
           "#EF553B",
           "#00cc96",
           "#ab63fa",
           "#FFA15A",
           "#19d3f3",
           "#FF6692",
           "#B6E880",
           "#FF97FF",
           "#FECB52"
          ],
          "font": {
           "color": "#2a3f5f"
          },
          "geo": {
           "bgcolor": "white",
           "lakecolor": "white",
           "landcolor": "#E5ECF6",
           "showlakes": true,
           "showland": true,
           "subunitcolor": "white"
          },
          "hoverlabel": {
           "align": "left"
          },
          "hovermode": "closest",
          "mapbox": {
           "style": "light"
          },
          "paper_bgcolor": "white",
          "plot_bgcolor": "#E5ECF6",
          "polar": {
           "angularaxis": {
            "gridcolor": "white",
            "linecolor": "white",
            "ticks": ""
           },
           "bgcolor": "#E5ECF6",
           "radialaxis": {
            "gridcolor": "white",
            "linecolor": "white",
            "ticks": ""
           }
          },
          "scene": {
           "xaxis": {
            "backgroundcolor": "#E5ECF6",
            "gridcolor": "white",
            "gridwidth": 2,
            "linecolor": "white",
            "showbackground": true,
            "ticks": "",
            "zerolinecolor": "white"
           },
           "yaxis": {
            "backgroundcolor": "#E5ECF6",
            "gridcolor": "white",
            "gridwidth": 2,
            "linecolor": "white",
            "showbackground": true,
            "ticks": "",
            "zerolinecolor": "white"
           },
           "zaxis": {
            "backgroundcolor": "#E5ECF6",
            "gridcolor": "white",
            "gridwidth": 2,
            "linecolor": "white",
            "showbackground": true,
            "ticks": "",
            "zerolinecolor": "white"
           }
          },
          "shapedefaults": {
           "line": {
            "color": "#2a3f5f"
           }
          },
          "ternary": {
           "aaxis": {
            "gridcolor": "white",
            "linecolor": "white",
            "ticks": ""
           },
           "baxis": {
            "gridcolor": "white",
            "linecolor": "white",
            "ticks": ""
           },
           "bgcolor": "#E5ECF6",
           "caxis": {
            "gridcolor": "white",
            "linecolor": "white",
            "ticks": ""
           }
          },
          "title": {
           "x": 0.05
          },
          "xaxis": {
           "automargin": true,
           "gridcolor": "white",
           "linecolor": "white",
           "ticks": "",
           "title": {
            "standoff": 15
           },
           "zerolinecolor": "white",
           "zerolinewidth": 2
          },
          "yaxis": {
           "automargin": true,
           "gridcolor": "white",
           "linecolor": "white",
           "ticks": "",
           "title": {
            "standoff": 15
           },
           "zerolinecolor": "white",
           "zerolinewidth": 2
          }
         }
        },
        "title": {
         "font": {
          "color": "#4D5663"
         }
        },
        "xaxis": {
         "gridcolor": "#E1E5ED",
         "showgrid": true,
         "tickfont": {
          "color": "#4D5663"
         },
         "title": {
          "font": {
           "color": "#4D5663"
          },
          "text": ""
         },
         "zerolinecolor": "#E1E5ED"
        },
        "yaxis": {
         "gridcolor": "#E1E5ED",
         "showgrid": true,
         "tickfont": {
          "color": "#4D5663"
         },
         "title": {
          "font": {
           "color": "#4D5663"
          },
          "text": ""
         },
         "zerolinecolor": "#E1E5ED"
        }
       }
      },
      "text/html": [
       "<div>\n",
       "        \n",
       "        \n",
       "            <div id=\"b2b01dce-889c-49cb-b264-9a5d2c12e65d\" class=\"plotly-graph-div\" style=\"height:525px; width:100%;\"></div>\n",
       "            <script type=\"text/javascript\">\n",
       "                require([\"plotly\"], function(Plotly) {\n",
       "                    window.PLOTLYENV=window.PLOTLYENV || {};\n",
       "                    window.PLOTLYENV.BASE_URL='https://plot.ly';\n",
       "                    \n",
       "                if (document.getElementById(\"b2b01dce-889c-49cb-b264-9a5d2c12e65d\")) {\n",
       "                    Plotly.newPlot(\n",
       "                        'b2b01dce-889c-49cb-b264-9a5d2c12e65d',\n",
       "                        [{\"boxpoints\": false, \"line\": {\"width\": 1.3}, \"marker\": {\"color\": \"rgba(255, 153, 51, 1.0)\"}, \"name\": \"A\", \"orientation\": \"v\", \"type\": \"box\", \"y\": [1.0299692281207755, 0.4534019734022077, -1.156757825181421, -0.7299709942828432, 1.4409059505261956, -0.09674859261974017, -0.31310025124263396, -0.615562589771781, 1.3377488960017276, -1.238193381643003, 1.4473866003039055, -0.24578986864768815, -1.3932058840044743, -0.983629216765057, 1.1592625360059976, -0.5747697575840409, -2.164848056491318, -0.5521112208010445, 0.6596277084563169, -1.6610543716234045, -0.20127771451028606, 1.1401415826487609, 0.09581359549845013, 0.41353007338316194, -0.8418997837834926, 0.44398379100801055, -0.4763568195789701, 0.1622909197676177, -0.21577326523983892, -1.149924445072829, 0.8747976740565843, -0.6277466746502788, -0.4111046817448839, -0.1396106207813502, -0.3245889850514159, 0.47953606265711457, 0.10826429640054529, -1.33207714457925, -0.24755916405588405, -1.8647696040457458, 1.222906419466841, -1.4606120183754274, -0.5334167468495689, 0.9391682065309265, -0.5451809983351346, -0.02004448042626695, 1.9293086101896395, -0.4337940434540837, -1.3343809530709445, 0.29511550748888954, -0.06558515741836947, 0.5294550388808351, -0.9166582808037367, 0.2319000324614197, -1.5281168095973396, -0.42954701959141756, 2.0865890889512637, -0.5949872127370982, -1.4743702902513047, 0.19093383641853026, 0.3081129908388611, -2.0470356036501256, 1.1095352336807842, -1.368442764338196, -0.4275366607821204, 0.9250293952647808, -0.5777652608572624, 1.6608177632775625, 0.5316301885035559, -1.820881124822415, 0.5009456277225153, -0.4740403752566626, 0.1246658233655019, -0.869721085306933, 0.8570321501144111, 1.5911369302460645, -0.12107611962269951, -0.3401337751027574, 0.5930826615465543, -0.4564408347145368, -0.24216836595027982, -0.08433722488491868, 0.6992801443206138, -1.3479230918201661, 0.12385260456613993, -0.2558399630323414, -3.403472824761215, -0.045574523361199985, -0.0035774583155329586, -0.11088118405751529, 0.8604034726710508, -1.0374664218756517, -0.1855592050009561, -0.5341872200032267, 0.49876930778198564, -1.3949285590172393, -0.28398579730008716, 0.06999325605449133, 0.8462434658818054, 0.9747558345318641]}, {\"boxpoints\": false, \"line\": {\"width\": 1.3}, \"marker\": {\"color\": \"rgba(55, 128, 191, 1.0)\"}, \"name\": \"B\", \"orientation\": \"v\", \"type\": \"box\", \"y\": [-0.5292130527085185, -1.0380352192512008, 0.515028895406664, -2.0489223232459652, -1.1616751322392724, 0.31823522688089406, 0.18919871745206318, -0.3813010657547128, 1.8396674127521875, -1.0993476336561583, 1.1927977033888462, 0.15829398678681464, -2.1109880813706603, -2.0385818530526314, -1.2361305929799478, 0.42290555133059576, 0.334215214533492, -0.20054377299147397, -0.8833505114126339, -1.1084383976938577, -1.851908547017362, -1.0630283408896297, 0.5926098904319725, 0.7513579534642801, 0.4637901368493004, -0.33709959840844683, 0.21027272795232996, 0.8983184683403516, -0.4901405914309119, -0.20120314218583968, 1.5011997035092146, -1.2095873020523167, -1.0700199021981835, -0.561313763405721, -0.28675070338425557, -0.6600015870215331, 2.937508711840935, 0.6477235827190407, 0.7318236869344612, 2.521495744543777, -0.022979158314660908, 0.2591095214280645, 0.06302427412203036, -0.5361261075311612, -0.37160107954747856, -0.626653987445001, 1.1429500158289485, 0.5096385749787216, -0.04873226669639589, 0.9850149505462312, -0.7852691213273342, -0.34270170975593817, -0.9623179316518778, 0.5539939911774647, -0.2577336972974899, 0.8976399206056497, -0.8051615534241037, -0.3443681028873965, 0.5734273403582758, 0.5019099807939298, 2.7681162645095507, 1.122021252487704, -0.7216893204909437, -0.13414541303752042, -1.1840734124359265, 2.11238290368288, 0.926063528945275, -0.48344166812176287, 0.7464086455230814, 1.8437767291806353, 0.4979201807729261, 0.2937901422164776, 0.057658364909912586, 0.19838391413673306, 0.9346106944872706, -0.34037271913893585, -1.0638231219610457, 0.05025142693732289, -0.6289189004932967, -0.9800787023295485, 0.0933863937368245, -0.07306728474361188, -1.0369062410116046, 0.7331677844235539, 0.5175133296662681, -0.29837523305297237, 1.009587285483537, -0.9170029650799433, 0.8441742768430965, 0.7854003158011569, 1.4732317340251777, -0.08212285584046843, -0.6773271354002086, 1.2832787579287601, 0.7311234814090207, -0.43089962618951966, 0.23807414436880844, -0.7455583649577328, 1.8898349439930222, -0.48940410252311906]}, {\"boxpoints\": false, \"line\": {\"width\": 1.3}, \"marker\": {\"color\": \"rgba(50, 171, 96, 1.0)\"}, \"name\": \"C\", \"orientation\": \"v\", \"type\": \"box\", \"y\": [-0.7324498605631861, -0.1303894608628459, -1.151100409182011, -0.6422617241775928, -0.44754472937397344, -0.3075176554383684, -3.1383989680001267, 0.9764719821691396, 0.9266940736043047, 1.4434370922461166, 0.15364569147515642, -0.8600410763556198, 0.27149082659844936, 2.652403606812918, 0.19789334310764972, -0.4034990693487221, -0.05531385250273491, 0.6977655605986051, -0.13119522974507344, 0.32007108515669425, -1.394911538222159, 0.4890328438033733, 0.4279502511685625, 0.999009471226633, -0.3049256779375995, 1.0554487495688034, -0.07025195901839071, -0.06158185040287161, 0.6422129478688288, -0.09901727969887121, 0.5107018454485471, 1.0402505354817695, -0.6508222246538106, 0.059348190610508944, -0.7810493526677275, 0.8464277906209582, -0.2597065853638947, 0.15705290177027986, 0.721847761461881, -0.6871082860134929, -1.7821285555993478, -1.1591483514811343, 0.7652530577940034, 1.9284784171058644, -1.2743976951607354, -0.8624389453104636, -0.4116205273447163, -0.25568683642038775, -0.3400649966749066, -1.1497243849249152, -0.18031729609360275, -0.27769638691502063, 0.5320467971213227, -2.109826886255268, -0.46713590865489846, 1.2723497597429383, 0.6063208534882636, 1.0778543334618587, -0.5475774933853736, 0.2805901048055045, -1.2859662545080643, -0.12623347019959708, 0.9528552836049331, 2.353897144594742, -0.029919428088069962, -0.6952287967905131, -0.07769555725477738, -2.1975619606829366, 0.19106169107433513, 0.2842729049504016, -0.09525562185007477, -0.24799786172426608, -0.09576940661676409, 1.0641532265647242, 0.7826753718086371, -0.011998668395117125, -0.4007367902180285, -0.11230917965809203, 0.10830421162028454, 0.008995541337013661, -1.1728670577135618, -0.09614470770089809, -0.4410033002449212, 0.6484236081441456, 0.28309485102980203, -1.9585303737505555, 0.6407223405181663, -0.23420900871443726, -0.6580015984575852, 2.247150655645674, -0.32304534932041523, 0.05013026965175229, -0.39674403388053014, 0.96971803688895, 0.25562500157134666, -1.1929340682178564, -0.3793143282987808, -0.20849049787340979, 0.4023415317472472, 1.6568358063297357]}, {\"boxpoints\": false, \"line\": {\"width\": 1.3}, \"marker\": {\"color\": \"rgba(128, 0, 128, 1.0)\"}, \"name\": \"D\", \"orientation\": \"v\", \"type\": \"box\", \"y\": [-0.03405134757754162, 1.7601247138745886, 0.7102161198087767, -0.20015282905238874, -2.091195220278861, 1.1204571784020945, 0.7106720190853378, -0.6336353028181934, 0.7501138232635651, 1.7419560818222881, -0.3083398513293142, 0.15955064262988533, 1.0490556273469869, 0.28255005612949297, 0.8743748133540031, -0.36818590031915716, 0.3482186714954275, -0.4700906789684043, -0.5664638387952888, -0.7359182099202148, -2.566657954603579, -0.500571359282229, 2.5275974880261707, -0.12644390984980539, -0.4901267637245524, 0.1682681391167114, 1.0937463725943974, -0.639426165430679, -1.9639560818688637, -0.9088344333096241, -1.4861475068301657, 1.0038671754592452, 0.2851358764228744, -0.05976094031039234, -1.864592796729352, -0.34248666954436857, -1.5085546495188544, -0.31230847608330536, 3.3138915393945925, 1.11482123114005, -0.4571426724366232, -0.7641689224300509, -0.4055984788240558, -0.7048011882313757, -1.0322008125019613, 0.12921765130349191, 0.45631515986879134, 0.6303858234609643, -0.4699500879746037, 0.16970164067017493, 0.8745101344956532, 0.20439625104582343, -0.8217709907644891, -0.8419600534293578, -0.6722858746289054, -0.7506503580178014, 0.7473586143240762, 0.019515955657227097, 0.1692105965100989, 2.0757748626399155, 0.2678083922467391, -0.7783403921194563, 1.1276814882775195, -2.0542988448012927, -1.110588941942566, 0.35171992312005, -1.461644889124666, 0.13811073609220823, 0.9999749992383878, 1.1408925929262406, -1.1288253533927428, -0.38262838805717175, -1.3853308736999235, -1.5771578115948657, -0.4383853798804836, 0.49243061527514315, 1.7074205792522625, -0.2455721645333344, -0.13148762705759243, -0.18537710295690857, -0.1290397089016061, 1.566791331909838, -1.0644028526512264, 0.4748821179637237, 0.7203473787223855, 0.4466385392714042, 2.171749315693905, 0.4123904744334221, -1.9855716426751728, -0.5118512502422413, -0.21477142134116692, -2.4018237983542186, -0.3266458193432738, -0.2145059113336942, -0.24174609919601492, 1.3031027972902298, -0.17916473801883537, 2.1699855178031124, -0.5965139378836746, 1.057565997220973]}],\n",
       "                        {\"legend\": {\"bgcolor\": \"#F5F6F9\", \"font\": {\"color\": \"#4D5663\"}}, \"paper_bgcolor\": \"#F5F6F9\", \"plot_bgcolor\": \"#F5F6F9\", \"template\": {\"data\": {\"bar\": [{\"error_x\": {\"color\": \"#2a3f5f\"}, \"error_y\": {\"color\": \"#2a3f5f\"}, \"marker\": {\"line\": {\"color\": \"#E5ECF6\", \"width\": 0.5}}, \"type\": \"bar\"}], \"barpolar\": [{\"marker\": {\"line\": {\"color\": \"#E5ECF6\", \"width\": 0.5}}, \"type\": \"barpolar\"}], \"carpet\": [{\"aaxis\": {\"endlinecolor\": \"#2a3f5f\", \"gridcolor\": \"white\", \"linecolor\": \"white\", \"minorgridcolor\": \"white\", \"startlinecolor\": \"#2a3f5f\"}, \"baxis\": {\"endlinecolor\": \"#2a3f5f\", \"gridcolor\": \"white\", \"linecolor\": \"white\", \"minorgridcolor\": \"white\", \"startlinecolor\": \"#2a3f5f\"}, \"type\": \"carpet\"}], \"choropleth\": [{\"colorbar\": {\"outlinewidth\": 0, \"ticks\": \"\"}, \"type\": \"choropleth\"}], \"contour\": [{\"colorbar\": {\"outlinewidth\": 0, \"ticks\": \"\"}, \"colorscale\": [[0.0, \"#0d0887\"], [0.1111111111111111, \"#46039f\"], [0.2222222222222222, \"#7201a8\"], [0.3333333333333333, \"#9c179e\"], [0.4444444444444444, \"#bd3786\"], [0.5555555555555556, \"#d8576b\"], [0.6666666666666666, \"#ed7953\"], [0.7777777777777778, \"#fb9f3a\"], [0.8888888888888888, \"#fdca26\"], [1.0, \"#f0f921\"]], \"type\": \"contour\"}], \"contourcarpet\": [{\"colorbar\": {\"outlinewidth\": 0, \"ticks\": \"\"}, \"type\": \"contourcarpet\"}], \"heatmap\": [{\"colorbar\": {\"outlinewidth\": 0, \"ticks\": \"\"}, \"colorscale\": [[0.0, \"#0d0887\"], [0.1111111111111111, \"#46039f\"], [0.2222222222222222, \"#7201a8\"], [0.3333333333333333, \"#9c179e\"], [0.4444444444444444, \"#bd3786\"], [0.5555555555555556, \"#d8576b\"], [0.6666666666666666, \"#ed7953\"], [0.7777777777777778, \"#fb9f3a\"], [0.8888888888888888, \"#fdca26\"], [1.0, \"#f0f921\"]], \"type\": \"heatmap\"}], \"heatmapgl\": [{\"colorbar\": {\"outlinewidth\": 0, \"ticks\": \"\"}, \"colorscale\": [[0.0, \"#0d0887\"], [0.1111111111111111, \"#46039f\"], [0.2222222222222222, \"#7201a8\"], [0.3333333333333333, \"#9c179e\"], [0.4444444444444444, \"#bd3786\"], [0.5555555555555556, \"#d8576b\"], [0.6666666666666666, \"#ed7953\"], [0.7777777777777778, \"#fb9f3a\"], [0.8888888888888888, \"#fdca26\"], [1.0, \"#f0f921\"]], \"type\": \"heatmapgl\"}], \"histogram\": [{\"marker\": {\"colorbar\": {\"outlinewidth\": 0, \"ticks\": \"\"}}, \"type\": \"histogram\"}], \"histogram2d\": [{\"colorbar\": {\"outlinewidth\": 0, \"ticks\": \"\"}, \"colorscale\": [[0.0, \"#0d0887\"], [0.1111111111111111, \"#46039f\"], [0.2222222222222222, \"#7201a8\"], [0.3333333333333333, \"#9c179e\"], [0.4444444444444444, \"#bd3786\"], [0.5555555555555556, \"#d8576b\"], [0.6666666666666666, \"#ed7953\"], [0.7777777777777778, \"#fb9f3a\"], [0.8888888888888888, \"#fdca26\"], [1.0, \"#f0f921\"]], \"type\": \"histogram2d\"}], \"histogram2dcontour\": [{\"colorbar\": {\"outlinewidth\": 0, \"ticks\": \"\"}, \"colorscale\": [[0.0, \"#0d0887\"], [0.1111111111111111, \"#46039f\"], [0.2222222222222222, \"#7201a8\"], [0.3333333333333333, \"#9c179e\"], [0.4444444444444444, \"#bd3786\"], [0.5555555555555556, \"#d8576b\"], [0.6666666666666666, \"#ed7953\"], [0.7777777777777778, \"#fb9f3a\"], [0.8888888888888888, \"#fdca26\"], [1.0, \"#f0f921\"]], \"type\": \"histogram2dcontour\"}], \"mesh3d\": [{\"colorbar\": {\"outlinewidth\": 0, \"ticks\": \"\"}, \"type\": \"mesh3d\"}], \"parcoords\": [{\"line\": {\"colorbar\": {\"outlinewidth\": 0, \"ticks\": \"\"}}, \"type\": \"parcoords\"}], \"pie\": [{\"automargin\": true, \"type\": \"pie\"}], \"scatter\": [{\"marker\": {\"colorbar\": {\"outlinewidth\": 0, \"ticks\": \"\"}}, \"type\": \"scatter\"}], \"scatter3d\": [{\"line\": {\"colorbar\": {\"outlinewidth\": 0, \"ticks\": \"\"}}, \"marker\": {\"colorbar\": {\"outlinewidth\": 0, \"ticks\": \"\"}}, \"type\": \"scatter3d\"}], \"scattercarpet\": [{\"marker\": {\"colorbar\": {\"outlinewidth\": 0, \"ticks\": \"\"}}, \"type\": \"scattercarpet\"}], \"scattergeo\": [{\"marker\": {\"colorbar\": {\"outlinewidth\": 0, \"ticks\": \"\"}}, \"type\": \"scattergeo\"}], \"scattergl\": [{\"marker\": {\"colorbar\": {\"outlinewidth\": 0, \"ticks\": \"\"}}, \"type\": \"scattergl\"}], \"scattermapbox\": [{\"marker\": {\"colorbar\": {\"outlinewidth\": 0, \"ticks\": \"\"}}, \"type\": \"scattermapbox\"}], \"scatterpolar\": [{\"marker\": {\"colorbar\": {\"outlinewidth\": 0, \"ticks\": \"\"}}, \"type\": \"scatterpolar\"}], \"scatterpolargl\": [{\"marker\": {\"colorbar\": {\"outlinewidth\": 0, \"ticks\": \"\"}}, \"type\": \"scatterpolargl\"}], \"scatterternary\": [{\"marker\": {\"colorbar\": {\"outlinewidth\": 0, \"ticks\": \"\"}}, \"type\": \"scatterternary\"}], \"surface\": [{\"colorbar\": {\"outlinewidth\": 0, \"ticks\": \"\"}, \"colorscale\": [[0.0, \"#0d0887\"], [0.1111111111111111, \"#46039f\"], [0.2222222222222222, \"#7201a8\"], [0.3333333333333333, \"#9c179e\"], [0.4444444444444444, \"#bd3786\"], [0.5555555555555556, \"#d8576b\"], [0.6666666666666666, \"#ed7953\"], [0.7777777777777778, \"#fb9f3a\"], [0.8888888888888888, \"#fdca26\"], [1.0, \"#f0f921\"]], \"type\": \"surface\"}], \"table\": [{\"cells\": {\"fill\": {\"color\": \"#EBF0F8\"}, \"line\": {\"color\": \"white\"}}, \"header\": {\"fill\": {\"color\": \"#C8D4E3\"}, \"line\": {\"color\": \"white\"}}, \"type\": \"table\"}]}, \"layout\": {\"annotationdefaults\": {\"arrowcolor\": \"#2a3f5f\", \"arrowhead\": 0, \"arrowwidth\": 1}, \"coloraxis\": {\"colorbar\": {\"outlinewidth\": 0, \"ticks\": \"\"}}, \"colorscale\": {\"diverging\": [[0, \"#8e0152\"], [0.1, \"#c51b7d\"], [0.2, \"#de77ae\"], [0.3, \"#f1b6da\"], [0.4, \"#fde0ef\"], [0.5, \"#f7f7f7\"], [0.6, \"#e6f5d0\"], [0.7, \"#b8e186\"], [0.8, \"#7fbc41\"], [0.9, \"#4d9221\"], [1, \"#276419\"]], \"sequential\": [[0.0, \"#0d0887\"], [0.1111111111111111, \"#46039f\"], [0.2222222222222222, \"#7201a8\"], [0.3333333333333333, \"#9c179e\"], [0.4444444444444444, \"#bd3786\"], [0.5555555555555556, \"#d8576b\"], [0.6666666666666666, \"#ed7953\"], [0.7777777777777778, \"#fb9f3a\"], [0.8888888888888888, \"#fdca26\"], [1.0, \"#f0f921\"]], \"sequentialminus\": [[0.0, \"#0d0887\"], [0.1111111111111111, \"#46039f\"], [0.2222222222222222, \"#7201a8\"], [0.3333333333333333, \"#9c179e\"], [0.4444444444444444, \"#bd3786\"], [0.5555555555555556, \"#d8576b\"], [0.6666666666666666, \"#ed7953\"], [0.7777777777777778, \"#fb9f3a\"], [0.8888888888888888, \"#fdca26\"], [1.0, \"#f0f921\"]]}, \"colorway\": [\"#636efa\", \"#EF553B\", \"#00cc96\", \"#ab63fa\", \"#FFA15A\", \"#19d3f3\", \"#FF6692\", \"#B6E880\", \"#FF97FF\", \"#FECB52\"], \"font\": {\"color\": \"#2a3f5f\"}, \"geo\": {\"bgcolor\": \"white\", \"lakecolor\": \"white\", \"landcolor\": \"#E5ECF6\", \"showlakes\": true, \"showland\": true, \"subunitcolor\": \"white\"}, \"hoverlabel\": {\"align\": \"left\"}, \"hovermode\": \"closest\", \"mapbox\": {\"style\": \"light\"}, \"paper_bgcolor\": \"white\", \"plot_bgcolor\": \"#E5ECF6\", \"polar\": {\"angularaxis\": {\"gridcolor\": \"white\", \"linecolor\": \"white\", \"ticks\": \"\"}, \"bgcolor\": \"#E5ECF6\", \"radialaxis\": {\"gridcolor\": \"white\", \"linecolor\": \"white\", \"ticks\": \"\"}}, \"scene\": {\"xaxis\": {\"backgroundcolor\": \"#E5ECF6\", \"gridcolor\": \"white\", \"gridwidth\": 2, \"linecolor\": \"white\", \"showbackground\": true, \"ticks\": \"\", \"zerolinecolor\": \"white\"}, \"yaxis\": {\"backgroundcolor\": \"#E5ECF6\", \"gridcolor\": \"white\", \"gridwidth\": 2, \"linecolor\": \"white\", \"showbackground\": true, \"ticks\": \"\", \"zerolinecolor\": \"white\"}, \"zaxis\": {\"backgroundcolor\": \"#E5ECF6\", \"gridcolor\": \"white\", \"gridwidth\": 2, \"linecolor\": \"white\", \"showbackground\": true, \"ticks\": \"\", \"zerolinecolor\": \"white\"}}, \"shapedefaults\": {\"line\": {\"color\": \"#2a3f5f\"}}, \"ternary\": {\"aaxis\": {\"gridcolor\": \"white\", \"linecolor\": \"white\", \"ticks\": \"\"}, \"baxis\": {\"gridcolor\": \"white\", \"linecolor\": \"white\", \"ticks\": \"\"}, \"bgcolor\": \"#E5ECF6\", \"caxis\": {\"gridcolor\": \"white\", \"linecolor\": \"white\", \"ticks\": \"\"}}, \"title\": {\"x\": 0.05}, \"xaxis\": {\"automargin\": true, \"gridcolor\": \"white\", \"linecolor\": \"white\", \"ticks\": \"\", \"title\": {\"standoff\": 15}, \"zerolinecolor\": \"white\", \"zerolinewidth\": 2}, \"yaxis\": {\"automargin\": true, \"gridcolor\": \"white\", \"linecolor\": \"white\", \"ticks\": \"\", \"title\": {\"standoff\": 15}, \"zerolinecolor\": \"white\", \"zerolinewidth\": 2}}}, \"title\": {\"font\": {\"color\": \"#4D5663\"}}, \"xaxis\": {\"gridcolor\": \"#E1E5ED\", \"showgrid\": true, \"tickfont\": {\"color\": \"#4D5663\"}, \"title\": {\"font\": {\"color\": \"#4D5663\"}, \"text\": \"\"}, \"zerolinecolor\": \"#E1E5ED\"}, \"yaxis\": {\"gridcolor\": \"#E1E5ED\", \"showgrid\": true, \"tickfont\": {\"color\": \"#4D5663\"}, \"title\": {\"font\": {\"color\": \"#4D5663\"}, \"text\": \"\"}, \"zerolinecolor\": \"#E1E5ED\"}},\n",
       "                        {\"showLink\": true, \"linkText\": \"Export to plot.ly\", \"plotlyServerURL\": \"https://plot.ly\", \"responsive\": true}\n",
       "                    ).then(function(){\n",
       "                            \n",
       "var gd = document.getElementById('b2b01dce-889c-49cb-b264-9a5d2c12e65d');\n",
       "var x = new MutationObserver(function (mutations, observer) {{\n",
       "        var display = window.getComputedStyle(gd).display;\n",
       "        if (!display || display === 'none') {{\n",
       "            console.log([gd, 'removed!']);\n",
       "            Plotly.purge(gd);\n",
       "            observer.disconnect();\n",
       "        }}\n",
       "}});\n",
       "\n",
       "// Listen for the removal of the full notebook cells\n",
       "var notebookContainer = gd.closest('#notebook-container');\n",
       "if (notebookContainer) {{\n",
       "    x.observe(notebookContainer, {childList: true});\n",
       "}}\n",
       "\n",
       "// Listen for the clearing of the current output cell\n",
       "var outputEl = gd.closest('.output');\n",
       "if (outputEl) {{\n",
       "    x.observe(outputEl, {childList: true});\n",
       "}}\n",
       "\n",
       "                        })\n",
       "                };\n",
       "                });\n",
       "            </script>\n",
       "        </div>"
      ]
     },
     "metadata": {},
     "output_type": "display_data"
    }
   ],
   "source": [
    "df.iplot(kind='box')"
   ]
  },
  {
   "cell_type": "markdown",
   "metadata": {},
   "source": [
    "## 3d Surface"
   ]
  },
  {
   "cell_type": "code",
   "execution_count": 14,
   "metadata": {},
   "outputs": [
    {
     "data": {
      "application/vnd.plotly.v1+json": {
       "config": {
        "linkText": "Export to plot.ly",
        "plotlyServerURL": "https://plot.ly",
        "showLink": true
       },
       "data": [
        {
         "colorscale": [
          [
           0,
           "rgb(165,0,38)"
          ],
          [
           0.1,
           "rgb(215,48,39)"
          ],
          [
           0.2,
           "rgb(244,109,67)"
          ],
          [
           0.3,
           "rgb(253,174,97)"
          ],
          [
           0.4,
           "rgb(254,224,144)"
          ],
          [
           0.5,
           "rgb(255,255,191)"
          ],
          [
           0.6,
           "rgb(224,243,248)"
          ],
          [
           0.7,
           "rgb(171,217,233)"
          ],
          [
           0.8,
           "rgb(116,173,209)"
          ],
          [
           0.9,
           "rgb(69,117,180)"
          ],
          [
           1,
           "rgb(49,54,149)"
          ]
         ],
         "type": "surface",
         "x": [
          0,
          1,
          2,
          3,
          4
         ],
         "y": [
          "x",
          "y",
          "z"
         ],
         "z": [
          [
           1,
           2,
           3,
           4,
           5
          ],
          [
           10,
           20,
           30,
           20,
           10
          ],
          [
           5,
           4,
           3,
           2,
           1
          ]
         ]
        }
       ],
       "layout": {
        "legend": {
         "bgcolor": "#F5F6F9",
         "font": {
          "color": "#4D5663"
         }
        },
        "paper_bgcolor": "#F5F6F9",
        "plot_bgcolor": "#F5F6F9",
        "template": {
         "data": {
          "bar": [
           {
            "error_x": {
             "color": "#2a3f5f"
            },
            "error_y": {
             "color": "#2a3f5f"
            },
            "marker": {
             "line": {
              "color": "#E5ECF6",
              "width": 0.5
             }
            },
            "type": "bar"
           }
          ],
          "barpolar": [
           {
            "marker": {
             "line": {
              "color": "#E5ECF6",
              "width": 0.5
             }
            },
            "type": "barpolar"
           }
          ],
          "carpet": [
           {
            "aaxis": {
             "endlinecolor": "#2a3f5f",
             "gridcolor": "white",
             "linecolor": "white",
             "minorgridcolor": "white",
             "startlinecolor": "#2a3f5f"
            },
            "baxis": {
             "endlinecolor": "#2a3f5f",
             "gridcolor": "white",
             "linecolor": "white",
             "minorgridcolor": "white",
             "startlinecolor": "#2a3f5f"
            },
            "type": "carpet"
           }
          ],
          "choropleth": [
           {
            "colorbar": {
             "outlinewidth": 0,
             "ticks": ""
            },
            "type": "choropleth"
           }
          ],
          "contour": [
           {
            "colorbar": {
             "outlinewidth": 0,
             "ticks": ""
            },
            "colorscale": [
             [
              0,
              "#0d0887"
             ],
             [
              0.1111111111111111,
              "#46039f"
             ],
             [
              0.2222222222222222,
              "#7201a8"
             ],
             [
              0.3333333333333333,
              "#9c179e"
             ],
             [
              0.4444444444444444,
              "#bd3786"
             ],
             [
              0.5555555555555556,
              "#d8576b"
             ],
             [
              0.6666666666666666,
              "#ed7953"
             ],
             [
              0.7777777777777778,
              "#fb9f3a"
             ],
             [
              0.8888888888888888,
              "#fdca26"
             ],
             [
              1,
              "#f0f921"
             ]
            ],
            "type": "contour"
           }
          ],
          "contourcarpet": [
           {
            "colorbar": {
             "outlinewidth": 0,
             "ticks": ""
            },
            "type": "contourcarpet"
           }
          ],
          "heatmap": [
           {
            "colorbar": {
             "outlinewidth": 0,
             "ticks": ""
            },
            "colorscale": [
             [
              0,
              "#0d0887"
             ],
             [
              0.1111111111111111,
              "#46039f"
             ],
             [
              0.2222222222222222,
              "#7201a8"
             ],
             [
              0.3333333333333333,
              "#9c179e"
             ],
             [
              0.4444444444444444,
              "#bd3786"
             ],
             [
              0.5555555555555556,
              "#d8576b"
             ],
             [
              0.6666666666666666,
              "#ed7953"
             ],
             [
              0.7777777777777778,
              "#fb9f3a"
             ],
             [
              0.8888888888888888,
              "#fdca26"
             ],
             [
              1,
              "#f0f921"
             ]
            ],
            "type": "heatmap"
           }
          ],
          "heatmapgl": [
           {
            "colorbar": {
             "outlinewidth": 0,
             "ticks": ""
            },
            "colorscale": [
             [
              0,
              "#0d0887"
             ],
             [
              0.1111111111111111,
              "#46039f"
             ],
             [
              0.2222222222222222,
              "#7201a8"
             ],
             [
              0.3333333333333333,
              "#9c179e"
             ],
             [
              0.4444444444444444,
              "#bd3786"
             ],
             [
              0.5555555555555556,
              "#d8576b"
             ],
             [
              0.6666666666666666,
              "#ed7953"
             ],
             [
              0.7777777777777778,
              "#fb9f3a"
             ],
             [
              0.8888888888888888,
              "#fdca26"
             ],
             [
              1,
              "#f0f921"
             ]
            ],
            "type": "heatmapgl"
           }
          ],
          "histogram": [
           {
            "marker": {
             "colorbar": {
              "outlinewidth": 0,
              "ticks": ""
             }
            },
            "type": "histogram"
           }
          ],
          "histogram2d": [
           {
            "colorbar": {
             "outlinewidth": 0,
             "ticks": ""
            },
            "colorscale": [
             [
              0,
              "#0d0887"
             ],
             [
              0.1111111111111111,
              "#46039f"
             ],
             [
              0.2222222222222222,
              "#7201a8"
             ],
             [
              0.3333333333333333,
              "#9c179e"
             ],
             [
              0.4444444444444444,
              "#bd3786"
             ],
             [
              0.5555555555555556,
              "#d8576b"
             ],
             [
              0.6666666666666666,
              "#ed7953"
             ],
             [
              0.7777777777777778,
              "#fb9f3a"
             ],
             [
              0.8888888888888888,
              "#fdca26"
             ],
             [
              1,
              "#f0f921"
             ]
            ],
            "type": "histogram2d"
           }
          ],
          "histogram2dcontour": [
           {
            "colorbar": {
             "outlinewidth": 0,
             "ticks": ""
            },
            "colorscale": [
             [
              0,
              "#0d0887"
             ],
             [
              0.1111111111111111,
              "#46039f"
             ],
             [
              0.2222222222222222,
              "#7201a8"
             ],
             [
              0.3333333333333333,
              "#9c179e"
             ],
             [
              0.4444444444444444,
              "#bd3786"
             ],
             [
              0.5555555555555556,
              "#d8576b"
             ],
             [
              0.6666666666666666,
              "#ed7953"
             ],
             [
              0.7777777777777778,
              "#fb9f3a"
             ],
             [
              0.8888888888888888,
              "#fdca26"
             ],
             [
              1,
              "#f0f921"
             ]
            ],
            "type": "histogram2dcontour"
           }
          ],
          "mesh3d": [
           {
            "colorbar": {
             "outlinewidth": 0,
             "ticks": ""
            },
            "type": "mesh3d"
           }
          ],
          "parcoords": [
           {
            "line": {
             "colorbar": {
              "outlinewidth": 0,
              "ticks": ""
             }
            },
            "type": "parcoords"
           }
          ],
          "pie": [
           {
            "automargin": true,
            "type": "pie"
           }
          ],
          "scatter": [
           {
            "marker": {
             "colorbar": {
              "outlinewidth": 0,
              "ticks": ""
             }
            },
            "type": "scatter"
           }
          ],
          "scatter3d": [
           {
            "line": {
             "colorbar": {
              "outlinewidth": 0,
              "ticks": ""
             }
            },
            "marker": {
             "colorbar": {
              "outlinewidth": 0,
              "ticks": ""
             }
            },
            "type": "scatter3d"
           }
          ],
          "scattercarpet": [
           {
            "marker": {
             "colorbar": {
              "outlinewidth": 0,
              "ticks": ""
             }
            },
            "type": "scattercarpet"
           }
          ],
          "scattergeo": [
           {
            "marker": {
             "colorbar": {
              "outlinewidth": 0,
              "ticks": ""
             }
            },
            "type": "scattergeo"
           }
          ],
          "scattergl": [
           {
            "marker": {
             "colorbar": {
              "outlinewidth": 0,
              "ticks": ""
             }
            },
            "type": "scattergl"
           }
          ],
          "scattermapbox": [
           {
            "marker": {
             "colorbar": {
              "outlinewidth": 0,
              "ticks": ""
             }
            },
            "type": "scattermapbox"
           }
          ],
          "scatterpolar": [
           {
            "marker": {
             "colorbar": {
              "outlinewidth": 0,
              "ticks": ""
             }
            },
            "type": "scatterpolar"
           }
          ],
          "scatterpolargl": [
           {
            "marker": {
             "colorbar": {
              "outlinewidth": 0,
              "ticks": ""
             }
            },
            "type": "scatterpolargl"
           }
          ],
          "scatterternary": [
           {
            "marker": {
             "colorbar": {
              "outlinewidth": 0,
              "ticks": ""
             }
            },
            "type": "scatterternary"
           }
          ],
          "surface": [
           {
            "colorbar": {
             "outlinewidth": 0,
             "ticks": ""
            },
            "colorscale": [
             [
              0,
              "#0d0887"
             ],
             [
              0.1111111111111111,
              "#46039f"
             ],
             [
              0.2222222222222222,
              "#7201a8"
             ],
             [
              0.3333333333333333,
              "#9c179e"
             ],
             [
              0.4444444444444444,
              "#bd3786"
             ],
             [
              0.5555555555555556,
              "#d8576b"
             ],
             [
              0.6666666666666666,
              "#ed7953"
             ],
             [
              0.7777777777777778,
              "#fb9f3a"
             ],
             [
              0.8888888888888888,
              "#fdca26"
             ],
             [
              1,
              "#f0f921"
             ]
            ],
            "type": "surface"
           }
          ],
          "table": [
           {
            "cells": {
             "fill": {
              "color": "#EBF0F8"
             },
             "line": {
              "color": "white"
             }
            },
            "header": {
             "fill": {
              "color": "#C8D4E3"
             },
             "line": {
              "color": "white"
             }
            },
            "type": "table"
           }
          ]
         },
         "layout": {
          "annotationdefaults": {
           "arrowcolor": "#2a3f5f",
           "arrowhead": 0,
           "arrowwidth": 1
          },
          "coloraxis": {
           "colorbar": {
            "outlinewidth": 0,
            "ticks": ""
           }
          },
          "colorscale": {
           "diverging": [
            [
             0,
             "#8e0152"
            ],
            [
             0.1,
             "#c51b7d"
            ],
            [
             0.2,
             "#de77ae"
            ],
            [
             0.3,
             "#f1b6da"
            ],
            [
             0.4,
             "#fde0ef"
            ],
            [
             0.5,
             "#f7f7f7"
            ],
            [
             0.6,
             "#e6f5d0"
            ],
            [
             0.7,
             "#b8e186"
            ],
            [
             0.8,
             "#7fbc41"
            ],
            [
             0.9,
             "#4d9221"
            ],
            [
             1,
             "#276419"
            ]
           ],
           "sequential": [
            [
             0,
             "#0d0887"
            ],
            [
             0.1111111111111111,
             "#46039f"
            ],
            [
             0.2222222222222222,
             "#7201a8"
            ],
            [
             0.3333333333333333,
             "#9c179e"
            ],
            [
             0.4444444444444444,
             "#bd3786"
            ],
            [
             0.5555555555555556,
             "#d8576b"
            ],
            [
             0.6666666666666666,
             "#ed7953"
            ],
            [
             0.7777777777777778,
             "#fb9f3a"
            ],
            [
             0.8888888888888888,
             "#fdca26"
            ],
            [
             1,
             "#f0f921"
            ]
           ],
           "sequentialminus": [
            [
             0,
             "#0d0887"
            ],
            [
             0.1111111111111111,
             "#46039f"
            ],
            [
             0.2222222222222222,
             "#7201a8"
            ],
            [
             0.3333333333333333,
             "#9c179e"
            ],
            [
             0.4444444444444444,
             "#bd3786"
            ],
            [
             0.5555555555555556,
             "#d8576b"
            ],
            [
             0.6666666666666666,
             "#ed7953"
            ],
            [
             0.7777777777777778,
             "#fb9f3a"
            ],
            [
             0.8888888888888888,
             "#fdca26"
            ],
            [
             1,
             "#f0f921"
            ]
           ]
          },
          "colorway": [
           "#636efa",
           "#EF553B",
           "#00cc96",
           "#ab63fa",
           "#FFA15A",
           "#19d3f3",
           "#FF6692",
           "#B6E880",
           "#FF97FF",
           "#FECB52"
          ],
          "font": {
           "color": "#2a3f5f"
          },
          "geo": {
           "bgcolor": "white",
           "lakecolor": "white",
           "landcolor": "#E5ECF6",
           "showlakes": true,
           "showland": true,
           "subunitcolor": "white"
          },
          "hoverlabel": {
           "align": "left"
          },
          "hovermode": "closest",
          "mapbox": {
           "style": "light"
          },
          "paper_bgcolor": "white",
          "plot_bgcolor": "#E5ECF6",
          "polar": {
           "angularaxis": {
            "gridcolor": "white",
            "linecolor": "white",
            "ticks": ""
           },
           "bgcolor": "#E5ECF6",
           "radialaxis": {
            "gridcolor": "white",
            "linecolor": "white",
            "ticks": ""
           }
          },
          "scene": {
           "xaxis": {
            "backgroundcolor": "#E5ECF6",
            "gridcolor": "white",
            "gridwidth": 2,
            "linecolor": "white",
            "showbackground": true,
            "ticks": "",
            "zerolinecolor": "white"
           },
           "yaxis": {
            "backgroundcolor": "#E5ECF6",
            "gridcolor": "white",
            "gridwidth": 2,
            "linecolor": "white",
            "showbackground": true,
            "ticks": "",
            "zerolinecolor": "white"
           },
           "zaxis": {
            "backgroundcolor": "#E5ECF6",
            "gridcolor": "white",
            "gridwidth": 2,
            "linecolor": "white",
            "showbackground": true,
            "ticks": "",
            "zerolinecolor": "white"
           }
          },
          "shapedefaults": {
           "line": {
            "color": "#2a3f5f"
           }
          },
          "ternary": {
           "aaxis": {
            "gridcolor": "white",
            "linecolor": "white",
            "ticks": ""
           },
           "baxis": {
            "gridcolor": "white",
            "linecolor": "white",
            "ticks": ""
           },
           "bgcolor": "#E5ECF6",
           "caxis": {
            "gridcolor": "white",
            "linecolor": "white",
            "ticks": ""
           }
          },
          "title": {
           "x": 0.05
          },
          "xaxis": {
           "automargin": true,
           "gridcolor": "white",
           "linecolor": "white",
           "ticks": "",
           "title": {
            "standoff": 15
           },
           "zerolinecolor": "white",
           "zerolinewidth": 2
          },
          "yaxis": {
           "automargin": true,
           "gridcolor": "white",
           "linecolor": "white",
           "ticks": "",
           "title": {
            "standoff": 15
           },
           "zerolinecolor": "white",
           "zerolinewidth": 2
          }
         }
        },
        "title": {
         "font": {
          "color": "#4D5663"
         }
        },
        "xaxis": {
         "gridcolor": "#E1E5ED",
         "showgrid": true,
         "tickfont": {
          "color": "#4D5663"
         },
         "title": {
          "font": {
           "color": "#4D5663"
          },
          "text": ""
         },
         "zerolinecolor": "#E1E5ED"
        },
        "yaxis": {
         "gridcolor": "#E1E5ED",
         "showgrid": true,
         "tickfont": {
          "color": "#4D5663"
         },
         "title": {
          "font": {
           "color": "#4D5663"
          },
          "text": ""
         },
         "zerolinecolor": "#E1E5ED"
        }
       }
      },
      "text/html": [
       "<div>\n",
       "        \n",
       "        \n",
       "            <div id=\"c7c6abc4-75bd-44ef-ae69-b9866be8fb09\" class=\"plotly-graph-div\" style=\"height:525px; width:100%;\"></div>\n",
       "            <script type=\"text/javascript\">\n",
       "                require([\"plotly\"], function(Plotly) {\n",
       "                    window.PLOTLYENV=window.PLOTLYENV || {};\n",
       "                    window.PLOTLYENV.BASE_URL='https://plot.ly';\n",
       "                    \n",
       "                if (document.getElementById(\"c7c6abc4-75bd-44ef-ae69-b9866be8fb09\")) {\n",
       "                    Plotly.newPlot(\n",
       "                        'c7c6abc4-75bd-44ef-ae69-b9866be8fb09',\n",
       "                        [{\"colorscale\": [[0.0, \"rgb(165,0,38)\"], [0.1, \"rgb(215,48,39)\"], [0.2, \"rgb(244,109,67)\"], [0.3, \"rgb(253,174,97)\"], [0.4, \"rgb(254,224,144)\"], [0.5, \"rgb(255,255,191)\"], [0.6, \"rgb(224,243,248)\"], [0.7, \"rgb(171,217,233)\"], [0.8, \"rgb(116,173,209)\"], [0.9, \"rgb(69,117,180)\"], [1.0, \"rgb(49,54,149)\"]], \"type\": \"surface\", \"x\": [0, 1, 2, 3, 4], \"y\": [\"x\", \"y\", \"z\"], \"z\": [[1, 2, 3, 4, 5], [10, 20, 30, 20, 10], [5, 4, 3, 2, 1]]}],\n",
       "                        {\"legend\": {\"bgcolor\": \"#F5F6F9\", \"font\": {\"color\": \"#4D5663\"}}, \"paper_bgcolor\": \"#F5F6F9\", \"plot_bgcolor\": \"#F5F6F9\", \"template\": {\"data\": {\"bar\": [{\"error_x\": {\"color\": \"#2a3f5f\"}, \"error_y\": {\"color\": \"#2a3f5f\"}, \"marker\": {\"line\": {\"color\": \"#E5ECF6\", \"width\": 0.5}}, \"type\": \"bar\"}], \"barpolar\": [{\"marker\": {\"line\": {\"color\": \"#E5ECF6\", \"width\": 0.5}}, \"type\": \"barpolar\"}], \"carpet\": [{\"aaxis\": {\"endlinecolor\": \"#2a3f5f\", \"gridcolor\": \"white\", \"linecolor\": \"white\", \"minorgridcolor\": \"white\", \"startlinecolor\": \"#2a3f5f\"}, \"baxis\": {\"endlinecolor\": \"#2a3f5f\", \"gridcolor\": \"white\", \"linecolor\": \"white\", \"minorgridcolor\": \"white\", \"startlinecolor\": \"#2a3f5f\"}, \"type\": \"carpet\"}], \"choropleth\": [{\"colorbar\": {\"outlinewidth\": 0, \"ticks\": \"\"}, \"type\": \"choropleth\"}], \"contour\": [{\"colorbar\": {\"outlinewidth\": 0, \"ticks\": \"\"}, \"colorscale\": [[0.0, \"#0d0887\"], [0.1111111111111111, \"#46039f\"], [0.2222222222222222, \"#7201a8\"], [0.3333333333333333, \"#9c179e\"], [0.4444444444444444, \"#bd3786\"], [0.5555555555555556, \"#d8576b\"], [0.6666666666666666, \"#ed7953\"], [0.7777777777777778, \"#fb9f3a\"], [0.8888888888888888, \"#fdca26\"], [1.0, \"#f0f921\"]], \"type\": \"contour\"}], \"contourcarpet\": [{\"colorbar\": {\"outlinewidth\": 0, \"ticks\": \"\"}, \"type\": \"contourcarpet\"}], \"heatmap\": [{\"colorbar\": {\"outlinewidth\": 0, \"ticks\": \"\"}, \"colorscale\": [[0.0, \"#0d0887\"], [0.1111111111111111, \"#46039f\"], [0.2222222222222222, \"#7201a8\"], [0.3333333333333333, \"#9c179e\"], [0.4444444444444444, \"#bd3786\"], [0.5555555555555556, \"#d8576b\"], [0.6666666666666666, \"#ed7953\"], [0.7777777777777778, \"#fb9f3a\"], [0.8888888888888888, \"#fdca26\"], [1.0, \"#f0f921\"]], \"type\": \"heatmap\"}], \"heatmapgl\": [{\"colorbar\": {\"outlinewidth\": 0, \"ticks\": \"\"}, \"colorscale\": [[0.0, \"#0d0887\"], [0.1111111111111111, \"#46039f\"], [0.2222222222222222, \"#7201a8\"], [0.3333333333333333, \"#9c179e\"], [0.4444444444444444, \"#bd3786\"], [0.5555555555555556, \"#d8576b\"], [0.6666666666666666, \"#ed7953\"], [0.7777777777777778, \"#fb9f3a\"], [0.8888888888888888, \"#fdca26\"], [1.0, \"#f0f921\"]], \"type\": \"heatmapgl\"}], \"histogram\": [{\"marker\": {\"colorbar\": {\"outlinewidth\": 0, \"ticks\": \"\"}}, \"type\": \"histogram\"}], \"histogram2d\": [{\"colorbar\": {\"outlinewidth\": 0, \"ticks\": \"\"}, \"colorscale\": [[0.0, \"#0d0887\"], [0.1111111111111111, \"#46039f\"], [0.2222222222222222, \"#7201a8\"], [0.3333333333333333, \"#9c179e\"], [0.4444444444444444, \"#bd3786\"], [0.5555555555555556, \"#d8576b\"], [0.6666666666666666, \"#ed7953\"], [0.7777777777777778, \"#fb9f3a\"], [0.8888888888888888, \"#fdca26\"], [1.0, \"#f0f921\"]], \"type\": \"histogram2d\"}], \"histogram2dcontour\": [{\"colorbar\": {\"outlinewidth\": 0, \"ticks\": \"\"}, \"colorscale\": [[0.0, \"#0d0887\"], [0.1111111111111111, \"#46039f\"], [0.2222222222222222, \"#7201a8\"], [0.3333333333333333, \"#9c179e\"], [0.4444444444444444, \"#bd3786\"], [0.5555555555555556, \"#d8576b\"], [0.6666666666666666, \"#ed7953\"], [0.7777777777777778, \"#fb9f3a\"], [0.8888888888888888, \"#fdca26\"], [1.0, \"#f0f921\"]], \"type\": \"histogram2dcontour\"}], \"mesh3d\": [{\"colorbar\": {\"outlinewidth\": 0, \"ticks\": \"\"}, \"type\": \"mesh3d\"}], \"parcoords\": [{\"line\": {\"colorbar\": {\"outlinewidth\": 0, \"ticks\": \"\"}}, \"type\": \"parcoords\"}], \"pie\": [{\"automargin\": true, \"type\": \"pie\"}], \"scatter\": [{\"marker\": {\"colorbar\": {\"outlinewidth\": 0, \"ticks\": \"\"}}, \"type\": \"scatter\"}], \"scatter3d\": [{\"line\": {\"colorbar\": {\"outlinewidth\": 0, \"ticks\": \"\"}}, \"marker\": {\"colorbar\": {\"outlinewidth\": 0, \"ticks\": \"\"}}, \"type\": \"scatter3d\"}], \"scattercarpet\": [{\"marker\": {\"colorbar\": {\"outlinewidth\": 0, \"ticks\": \"\"}}, \"type\": \"scattercarpet\"}], \"scattergeo\": [{\"marker\": {\"colorbar\": {\"outlinewidth\": 0, \"ticks\": \"\"}}, \"type\": \"scattergeo\"}], \"scattergl\": [{\"marker\": {\"colorbar\": {\"outlinewidth\": 0, \"ticks\": \"\"}}, \"type\": \"scattergl\"}], \"scattermapbox\": [{\"marker\": {\"colorbar\": {\"outlinewidth\": 0, \"ticks\": \"\"}}, \"type\": \"scattermapbox\"}], \"scatterpolar\": [{\"marker\": {\"colorbar\": {\"outlinewidth\": 0, \"ticks\": \"\"}}, \"type\": \"scatterpolar\"}], \"scatterpolargl\": [{\"marker\": {\"colorbar\": {\"outlinewidth\": 0, \"ticks\": \"\"}}, \"type\": \"scatterpolargl\"}], \"scatterternary\": [{\"marker\": {\"colorbar\": {\"outlinewidth\": 0, \"ticks\": \"\"}}, \"type\": \"scatterternary\"}], \"surface\": [{\"colorbar\": {\"outlinewidth\": 0, \"ticks\": \"\"}, \"colorscale\": [[0.0, \"#0d0887\"], [0.1111111111111111, \"#46039f\"], [0.2222222222222222, \"#7201a8\"], [0.3333333333333333, \"#9c179e\"], [0.4444444444444444, \"#bd3786\"], [0.5555555555555556, \"#d8576b\"], [0.6666666666666666, \"#ed7953\"], [0.7777777777777778, \"#fb9f3a\"], [0.8888888888888888, \"#fdca26\"], [1.0, \"#f0f921\"]], \"type\": \"surface\"}], \"table\": [{\"cells\": {\"fill\": {\"color\": \"#EBF0F8\"}, \"line\": {\"color\": \"white\"}}, \"header\": {\"fill\": {\"color\": \"#C8D4E3\"}, \"line\": {\"color\": \"white\"}}, \"type\": \"table\"}]}, \"layout\": {\"annotationdefaults\": {\"arrowcolor\": \"#2a3f5f\", \"arrowhead\": 0, \"arrowwidth\": 1}, \"coloraxis\": {\"colorbar\": {\"outlinewidth\": 0, \"ticks\": \"\"}}, \"colorscale\": {\"diverging\": [[0, \"#8e0152\"], [0.1, \"#c51b7d\"], [0.2, \"#de77ae\"], [0.3, \"#f1b6da\"], [0.4, \"#fde0ef\"], [0.5, \"#f7f7f7\"], [0.6, \"#e6f5d0\"], [0.7, \"#b8e186\"], [0.8, \"#7fbc41\"], [0.9, \"#4d9221\"], [1, \"#276419\"]], \"sequential\": [[0.0, \"#0d0887\"], [0.1111111111111111, \"#46039f\"], [0.2222222222222222, \"#7201a8\"], [0.3333333333333333, \"#9c179e\"], [0.4444444444444444, \"#bd3786\"], [0.5555555555555556, \"#d8576b\"], [0.6666666666666666, \"#ed7953\"], [0.7777777777777778, \"#fb9f3a\"], [0.8888888888888888, \"#fdca26\"], [1.0, \"#f0f921\"]], \"sequentialminus\": [[0.0, \"#0d0887\"], [0.1111111111111111, \"#46039f\"], [0.2222222222222222, \"#7201a8\"], [0.3333333333333333, \"#9c179e\"], [0.4444444444444444, \"#bd3786\"], [0.5555555555555556, \"#d8576b\"], [0.6666666666666666, \"#ed7953\"], [0.7777777777777778, \"#fb9f3a\"], [0.8888888888888888, \"#fdca26\"], [1.0, \"#f0f921\"]]}, \"colorway\": [\"#636efa\", \"#EF553B\", \"#00cc96\", \"#ab63fa\", \"#FFA15A\", \"#19d3f3\", \"#FF6692\", \"#B6E880\", \"#FF97FF\", \"#FECB52\"], \"font\": {\"color\": \"#2a3f5f\"}, \"geo\": {\"bgcolor\": \"white\", \"lakecolor\": \"white\", \"landcolor\": \"#E5ECF6\", \"showlakes\": true, \"showland\": true, \"subunitcolor\": \"white\"}, \"hoverlabel\": {\"align\": \"left\"}, \"hovermode\": \"closest\", \"mapbox\": {\"style\": \"light\"}, \"paper_bgcolor\": \"white\", \"plot_bgcolor\": \"#E5ECF6\", \"polar\": {\"angularaxis\": {\"gridcolor\": \"white\", \"linecolor\": \"white\", \"ticks\": \"\"}, \"bgcolor\": \"#E5ECF6\", \"radialaxis\": {\"gridcolor\": \"white\", \"linecolor\": \"white\", \"ticks\": \"\"}}, \"scene\": {\"xaxis\": {\"backgroundcolor\": \"#E5ECF6\", \"gridcolor\": \"white\", \"gridwidth\": 2, \"linecolor\": \"white\", \"showbackground\": true, \"ticks\": \"\", \"zerolinecolor\": \"white\"}, \"yaxis\": {\"backgroundcolor\": \"#E5ECF6\", \"gridcolor\": \"white\", \"gridwidth\": 2, \"linecolor\": \"white\", \"showbackground\": true, \"ticks\": \"\", \"zerolinecolor\": \"white\"}, \"zaxis\": {\"backgroundcolor\": \"#E5ECF6\", \"gridcolor\": \"white\", \"gridwidth\": 2, \"linecolor\": \"white\", \"showbackground\": true, \"ticks\": \"\", \"zerolinecolor\": \"white\"}}, \"shapedefaults\": {\"line\": {\"color\": \"#2a3f5f\"}}, \"ternary\": {\"aaxis\": {\"gridcolor\": \"white\", \"linecolor\": \"white\", \"ticks\": \"\"}, \"baxis\": {\"gridcolor\": \"white\", \"linecolor\": \"white\", \"ticks\": \"\"}, \"bgcolor\": \"#E5ECF6\", \"caxis\": {\"gridcolor\": \"white\", \"linecolor\": \"white\", \"ticks\": \"\"}}, \"title\": {\"x\": 0.05}, \"xaxis\": {\"automargin\": true, \"gridcolor\": \"white\", \"linecolor\": \"white\", \"ticks\": \"\", \"title\": {\"standoff\": 15}, \"zerolinecolor\": \"white\", \"zerolinewidth\": 2}, \"yaxis\": {\"automargin\": true, \"gridcolor\": \"white\", \"linecolor\": \"white\", \"ticks\": \"\", \"title\": {\"standoff\": 15}, \"zerolinecolor\": \"white\", \"zerolinewidth\": 2}}}, \"title\": {\"font\": {\"color\": \"#4D5663\"}}, \"xaxis\": {\"gridcolor\": \"#E1E5ED\", \"showgrid\": true, \"tickfont\": {\"color\": \"#4D5663\"}, \"title\": {\"font\": {\"color\": \"#4D5663\"}, \"text\": \"\"}, \"zerolinecolor\": \"#E1E5ED\"}, \"yaxis\": {\"gridcolor\": \"#E1E5ED\", \"showgrid\": true, \"tickfont\": {\"color\": \"#4D5663\"}, \"title\": {\"font\": {\"color\": \"#4D5663\"}, \"text\": \"\"}, \"zerolinecolor\": \"#E1E5ED\"}},\n",
       "                        {\"showLink\": true, \"linkText\": \"Export to plot.ly\", \"plotlyServerURL\": \"https://plot.ly\", \"responsive\": true}\n",
       "                    ).then(function(){\n",
       "                            \n",
       "var gd = document.getElementById('c7c6abc4-75bd-44ef-ae69-b9866be8fb09');\n",
       "var x = new MutationObserver(function (mutations, observer) {{\n",
       "        var display = window.getComputedStyle(gd).display;\n",
       "        if (!display || display === 'none') {{\n",
       "            console.log([gd, 'removed!']);\n",
       "            Plotly.purge(gd);\n",
       "            observer.disconnect();\n",
       "        }}\n",
       "}});\n",
       "\n",
       "// Listen for the removal of the full notebook cells\n",
       "var notebookContainer = gd.closest('#notebook-container');\n",
       "if (notebookContainer) {{\n",
       "    x.observe(notebookContainer, {childList: true});\n",
       "}}\n",
       "\n",
       "// Listen for the clearing of the current output cell\n",
       "var outputEl = gd.closest('.output');\n",
       "if (outputEl) {{\n",
       "    x.observe(outputEl, {childList: true});\n",
       "}}\n",
       "\n",
       "                        })\n",
       "                };\n",
       "                });\n",
       "            </script>\n",
       "        </div>"
      ]
     },
     "metadata": {},
     "output_type": "display_data"
    }
   ],
   "source": [
    "df3 = pd.DataFrame({'x':[1,2,3,4,5],'y':[10,20,30,20,10],'z':[5,4,3,2,1]})\n",
    "df3.iplot(kind='surface',colorscale='rdylbu')"
   ]
  },
  {
   "cell_type": "markdown",
   "metadata": {},
   "source": [
    "## Spread"
   ]
  },
  {
   "cell_type": "code",
   "execution_count": 15,
   "metadata": {},
   "outputs": [
    {
     "data": {
      "application/vnd.plotly.v1+json": {
       "config": {
        "linkText": "Export to plot.ly",
        "plotlyServerURL": "https://plot.ly",
        "showLink": true
       },
       "data": [
        {
         "line": {
          "color": "rgba(255, 153, 51, 1.0)",
          "dash": "solid",
          "shape": "linear",
          "width": 1.3
         },
         "mode": "lines",
         "name": "A",
         "text": "",
         "type": "scatter",
         "x": [
          0,
          1,
          2,
          3,
          4,
          5,
          6,
          7,
          8,
          9,
          10,
          11,
          12,
          13,
          14,
          15,
          16,
          17,
          18,
          19,
          20,
          21,
          22,
          23,
          24,
          25,
          26,
          27,
          28,
          29,
          30,
          31,
          32,
          33,
          34,
          35,
          36,
          37,
          38,
          39,
          40,
          41,
          42,
          43,
          44,
          45,
          46,
          47,
          48,
          49,
          50,
          51,
          52,
          53,
          54,
          55,
          56,
          57,
          58,
          59,
          60,
          61,
          62,
          63,
          64,
          65,
          66,
          67,
          68,
          69,
          70,
          71,
          72,
          73,
          74,
          75,
          76,
          77,
          78,
          79,
          80,
          81,
          82,
          83,
          84,
          85,
          86,
          87,
          88,
          89,
          90,
          91,
          92,
          93,
          94,
          95,
          96,
          97,
          98,
          99
         ],
         "y": [
          1.0299692281207755,
          0.4534019734022077,
          -1.156757825181421,
          -0.7299709942828432,
          1.4409059505261956,
          -0.09674859261974017,
          -0.31310025124263396,
          -0.615562589771781,
          1.3377488960017276,
          -1.238193381643003,
          1.4473866003039055,
          -0.24578986864768815,
          -1.3932058840044743,
          -0.983629216765057,
          1.1592625360059976,
          -0.5747697575840409,
          -2.164848056491318,
          -0.5521112208010445,
          0.6596277084563169,
          -1.6610543716234045,
          -0.20127771451028606,
          1.1401415826487609,
          0.09581359549845013,
          0.41353007338316194,
          -0.8418997837834926,
          0.44398379100801055,
          -0.4763568195789701,
          0.1622909197676177,
          -0.21577326523983892,
          -1.149924445072829,
          0.8747976740565843,
          -0.6277466746502788,
          -0.4111046817448839,
          -0.1396106207813502,
          -0.3245889850514159,
          0.47953606265711457,
          0.10826429640054529,
          -1.33207714457925,
          -0.24755916405588405,
          -1.8647696040457458,
          1.222906419466841,
          -1.4606120183754274,
          -0.5334167468495689,
          0.9391682065309265,
          -0.5451809983351346,
          -0.02004448042626695,
          1.9293086101896395,
          -0.4337940434540837,
          -1.3343809530709445,
          0.29511550748888954,
          -0.06558515741836947,
          0.5294550388808351,
          -0.9166582808037367,
          0.2319000324614197,
          -1.5281168095973396,
          -0.42954701959141756,
          2.0865890889512637,
          -0.5949872127370982,
          -1.4743702902513047,
          0.19093383641853026,
          0.3081129908388611,
          -2.0470356036501256,
          1.1095352336807842,
          -1.368442764338196,
          -0.4275366607821204,
          0.9250293952647808,
          -0.5777652608572624,
          1.6608177632775625,
          0.5316301885035559,
          -1.820881124822415,
          0.5009456277225153,
          -0.4740403752566626,
          0.1246658233655019,
          -0.869721085306933,
          0.8570321501144111,
          1.5911369302460645,
          -0.12107611962269951,
          -0.3401337751027574,
          0.5930826615465543,
          -0.4564408347145368,
          -0.24216836595027982,
          -0.08433722488491868,
          0.6992801443206138,
          -1.3479230918201661,
          0.12385260456613993,
          -0.2558399630323414,
          -3.403472824761215,
          -0.045574523361199985,
          -0.0035774583155329586,
          -0.11088118405751529,
          0.8604034726710508,
          -1.0374664218756517,
          -0.1855592050009561,
          -0.5341872200032267,
          0.49876930778198564,
          -1.3949285590172393,
          -0.28398579730008716,
          0.06999325605449133,
          0.8462434658818054,
          0.9747558345318641
         ]
        },
        {
         "line": {
          "color": "rgba(55, 128, 191, 1.0)",
          "dash": "solid",
          "shape": "linear",
          "width": 1.3
         },
         "mode": "lines",
         "name": "B",
         "text": "",
         "type": "scatter",
         "x": [
          0,
          1,
          2,
          3,
          4,
          5,
          6,
          7,
          8,
          9,
          10,
          11,
          12,
          13,
          14,
          15,
          16,
          17,
          18,
          19,
          20,
          21,
          22,
          23,
          24,
          25,
          26,
          27,
          28,
          29,
          30,
          31,
          32,
          33,
          34,
          35,
          36,
          37,
          38,
          39,
          40,
          41,
          42,
          43,
          44,
          45,
          46,
          47,
          48,
          49,
          50,
          51,
          52,
          53,
          54,
          55,
          56,
          57,
          58,
          59,
          60,
          61,
          62,
          63,
          64,
          65,
          66,
          67,
          68,
          69,
          70,
          71,
          72,
          73,
          74,
          75,
          76,
          77,
          78,
          79,
          80,
          81,
          82,
          83,
          84,
          85,
          86,
          87,
          88,
          89,
          90,
          91,
          92,
          93,
          94,
          95,
          96,
          97,
          98,
          99
         ],
         "y": [
          -0.5292130527085185,
          -1.0380352192512008,
          0.515028895406664,
          -2.0489223232459652,
          -1.1616751322392724,
          0.31823522688089406,
          0.18919871745206318,
          -0.3813010657547128,
          1.8396674127521875,
          -1.0993476336561583,
          1.1927977033888462,
          0.15829398678681464,
          -2.1109880813706603,
          -2.0385818530526314,
          -1.2361305929799478,
          0.42290555133059576,
          0.334215214533492,
          -0.20054377299147397,
          -0.8833505114126339,
          -1.1084383976938577,
          -1.851908547017362,
          -1.0630283408896297,
          0.5926098904319725,
          0.7513579534642801,
          0.4637901368493004,
          -0.33709959840844683,
          0.21027272795232996,
          0.8983184683403516,
          -0.4901405914309119,
          -0.20120314218583968,
          1.5011997035092146,
          -1.2095873020523167,
          -1.0700199021981835,
          -0.561313763405721,
          -0.28675070338425557,
          -0.6600015870215331,
          2.937508711840935,
          0.6477235827190407,
          0.7318236869344612,
          2.521495744543777,
          -0.022979158314660908,
          0.2591095214280645,
          0.06302427412203036,
          -0.5361261075311612,
          -0.37160107954747856,
          -0.626653987445001,
          1.1429500158289485,
          0.5096385749787216,
          -0.04873226669639589,
          0.9850149505462312,
          -0.7852691213273342,
          -0.34270170975593817,
          -0.9623179316518778,
          0.5539939911774647,
          -0.2577336972974899,
          0.8976399206056497,
          -0.8051615534241037,
          -0.3443681028873965,
          0.5734273403582758,
          0.5019099807939298,
          2.7681162645095507,
          1.122021252487704,
          -0.7216893204909437,
          -0.13414541303752042,
          -1.1840734124359265,
          2.11238290368288,
          0.926063528945275,
          -0.48344166812176287,
          0.7464086455230814,
          1.8437767291806353,
          0.4979201807729261,
          0.2937901422164776,
          0.057658364909912586,
          0.19838391413673306,
          0.9346106944872706,
          -0.34037271913893585,
          -1.0638231219610457,
          0.05025142693732289,
          -0.6289189004932967,
          -0.9800787023295485,
          0.0933863937368245,
          -0.07306728474361188,
          -1.0369062410116046,
          0.7331677844235539,
          0.5175133296662681,
          -0.29837523305297237,
          1.009587285483537,
          -0.9170029650799433,
          0.8441742768430965,
          0.7854003158011569,
          1.4732317340251777,
          -0.08212285584046843,
          -0.6773271354002086,
          1.2832787579287601,
          0.7311234814090207,
          -0.43089962618951966,
          0.23807414436880844,
          -0.7455583649577328,
          1.8898349439930222,
          -0.48940410252311906
         ]
        },
        {
         "connectgaps": false,
         "fill": "tozeroy",
         "line": {
          "color": "green",
          "dash": "solid",
          "shape": "linear",
          "width": 0.5
         },
         "mode": "lines",
         "name": "Spread",
         "showlegend": false,
         "type": "scatter",
         "x": [
          0,
          1,
          2,
          3,
          4,
          5,
          6,
          7,
          8,
          9,
          10,
          11,
          12,
          13,
          14,
          15,
          16,
          17,
          18,
          19,
          20,
          21,
          22,
          23,
          24,
          25,
          26,
          27,
          28,
          29,
          30,
          31,
          32,
          33,
          34,
          35,
          36,
          37,
          38,
          39,
          40,
          41,
          42,
          43,
          44,
          45,
          46,
          47,
          48,
          49,
          50,
          51,
          52,
          53,
          54,
          55,
          56,
          57,
          58,
          59,
          60,
          61,
          62,
          63,
          64,
          65,
          66,
          67,
          68,
          69,
          70,
          71,
          72,
          73,
          74,
          75,
          76,
          77,
          78,
          79,
          80,
          81,
          82,
          83,
          84,
          85,
          86,
          87,
          88,
          89,
          90,
          91,
          92,
          93,
          94,
          95,
          96,
          97,
          98,
          99
         ],
         "xaxis": "x2",
         "y": [
          1.5591822808292939,
          1.4914371926534085,
          "",
          1.318951328963122,
          2.602581082765468,
          "",
          "",
          "",
          "",
          "",
          0.25458889691505937,
          "",
          0.717782197366186,
          1.0549526362875743,
          2.3953931289859454,
          "",
          "",
          "",
          1.5429782198689508,
          "",
          1.650630832507076,
          2.2031699235383906,
          "",
          "",
          "",
          0.7810833894164574,
          "",
          "",
          0.27436732619107296,
          "",
          "",
          0.5818406274020379,
          0.6589152204532996,
          0.4217031426243708,
          "",
          1.1395376496786476,
          "",
          "",
          "",
          "",
          1.245885577781502,
          "",
          "",
          1.4752943140620878,
          "",
          0.6066095070187341,
          0.786358594360691,
          "",
          "",
          "",
          0.7196839639089647,
          0.8721567486367733,
          0.045659650848141164,
          "",
          "",
          "",
          2.891750642375367,
          "",
          "",
          "",
          "",
          "",
          1.8312245541717278,
          "",
          0.7565367516538061,
          "",
          "",
          2.1442594313993255,
          "",
          "",
          0.0030254469495891723,
          "",
          0.06700745845558931,
          "",
          "",
          1.9315096493850004,
          0.9427470023383462,
          "",
          1.222001562039851,
          0.5236378676150117,
          "",
          "",
          1.7361863853322184,
          "",
          "",
          0.042535270020630955,
          "",
          0.8714284417187433,
          "",
          "",
          "",
          "",
          0.4917679303992525,
          "",
          "",
          "",
          "",
          0.8155516210122241,
          "",
          1.4641599370549832
         ],
         "yaxis": "y2"
        },
        {
         "connectgaps": false,
         "fill": "tozeroy",
         "line": {
          "color": "red",
          "dash": "solid",
          "shape": "linear",
          "width": 0.5
         },
         "mode": "lines",
         "name": "Spread",
         "showlegend": false,
         "type": "scatter",
         "x": [
          0,
          1,
          2,
          3,
          4,
          5,
          6,
          7,
          8,
          9,
          10,
          11,
          12,
          13,
          14,
          15,
          16,
          17,
          18,
          19,
          20,
          21,
          22,
          23,
          24,
          25,
          26,
          27,
          28,
          29,
          30,
          31,
          32,
          33,
          34,
          35,
          36,
          37,
          38,
          39,
          40,
          41,
          42,
          43,
          44,
          45,
          46,
          47,
          48,
          49,
          50,
          51,
          52,
          53,
          54,
          55,
          56,
          57,
          58,
          59,
          60,
          61,
          62,
          63,
          64,
          65,
          66,
          67,
          68,
          69,
          70,
          71,
          72,
          73,
          74,
          75,
          76,
          77,
          78,
          79,
          80,
          81,
          82,
          83,
          84,
          85,
          86,
          87,
          88,
          89,
          90,
          91,
          92,
          93,
          94,
          95,
          96,
          97,
          98,
          99
         ],
         "xaxis": "x2",
         "y": [
          "",
          "",
          -1.671786720588085,
          "",
          "",
          -0.41498381950063423,
          -0.5022989686946971,
          -0.23426152401706823,
          -0.5019185167504598,
          -0.1388457479868448,
          "",
          -0.40408385543450276,
          "",
          "",
          "",
          -0.9976753089146366,
          -2.49906327102481,
          -0.3515674478095705,
          "",
          -0.5526159739295469,
          "",
          "",
          -0.4967962949335224,
          -0.3378278800811182,
          -1.305689920632793,
          "",
          -0.6866295475313,
          -0.7360275485727339,
          "",
          -0.9487213028869893,
          -0.6264020294526303,
          "",
          "",
          "",
          -0.037838281667160356,
          "",
          -2.8292444154403897,
          -1.979800727298291,
          -0.9793828509903453,
          -4.386265348589523,
          "",
          -1.719721539803492,
          -0.5964410209715992,
          "",
          -0.173579918787656,
          "",
          "",
          -0.9434326184328052,
          -1.2856486863745487,
          -0.6898994430573417,
          "",
          "",
          "",
          -0.32209395871604507,
          -1.2703831122998497,
          -1.3271869401970673,
          "",
          -0.2506191098497017,
          -2.0477976306095806,
          -0.31097614437539955,
          -2.4600032736706896,
          -3.1690568561378294,
          "",
          -1.2342973513006756,
          "",
          -1.187353508418099,
          -1.5038287898025375,
          "",
          -0.21477845701952547,
          -3.6646578540030506,
          "",
          -0.7678305174731401,
          "",
          -1.068104999443666,
          -0.07757854437285949,
          "",
          "",
          -0.39038520204008026,
          "",
          "",
          -0.33555475968710435,
          -0.011269940141306806,
          "",
          -2.08109087624372,
          -0.3936607251001281,
          "",
          -4.413060110244752,
          "",
          -0.8477517351586294,
          -0.8962814998586721,
          -0.6128282613541269,
          -0.9553435660351833,
          "",
          -1.8174659779319868,
          -0.2323541736270351,
          -0.9640289328277196,
          -0.5220599416688956,
          "",
          -1.0435914781112168,
          ""
         ],
         "yaxis": "y2"
        }
       ],
       "layout": {
        "hovermode": "x",
        "legend": {
         "bgcolor": "#F5F6F9",
         "font": {
          "color": "#4D5663"
         }
        },
        "paper_bgcolor": "#F5F6F9",
        "plot_bgcolor": "#F5F6F9",
        "template": {
         "data": {
          "bar": [
           {
            "error_x": {
             "color": "#2a3f5f"
            },
            "error_y": {
             "color": "#2a3f5f"
            },
            "marker": {
             "line": {
              "color": "#E5ECF6",
              "width": 0.5
             }
            },
            "type": "bar"
           }
          ],
          "barpolar": [
           {
            "marker": {
             "line": {
              "color": "#E5ECF6",
              "width": 0.5
             }
            },
            "type": "barpolar"
           }
          ],
          "carpet": [
           {
            "aaxis": {
             "endlinecolor": "#2a3f5f",
             "gridcolor": "white",
             "linecolor": "white",
             "minorgridcolor": "white",
             "startlinecolor": "#2a3f5f"
            },
            "baxis": {
             "endlinecolor": "#2a3f5f",
             "gridcolor": "white",
             "linecolor": "white",
             "minorgridcolor": "white",
             "startlinecolor": "#2a3f5f"
            },
            "type": "carpet"
           }
          ],
          "choropleth": [
           {
            "colorbar": {
             "outlinewidth": 0,
             "ticks": ""
            },
            "type": "choropleth"
           }
          ],
          "contour": [
           {
            "colorbar": {
             "outlinewidth": 0,
             "ticks": ""
            },
            "colorscale": [
             [
              0,
              "#0d0887"
             ],
             [
              0.1111111111111111,
              "#46039f"
             ],
             [
              0.2222222222222222,
              "#7201a8"
             ],
             [
              0.3333333333333333,
              "#9c179e"
             ],
             [
              0.4444444444444444,
              "#bd3786"
             ],
             [
              0.5555555555555556,
              "#d8576b"
             ],
             [
              0.6666666666666666,
              "#ed7953"
             ],
             [
              0.7777777777777778,
              "#fb9f3a"
             ],
             [
              0.8888888888888888,
              "#fdca26"
             ],
             [
              1,
              "#f0f921"
             ]
            ],
            "type": "contour"
           }
          ],
          "contourcarpet": [
           {
            "colorbar": {
             "outlinewidth": 0,
             "ticks": ""
            },
            "type": "contourcarpet"
           }
          ],
          "heatmap": [
           {
            "colorbar": {
             "outlinewidth": 0,
             "ticks": ""
            },
            "colorscale": [
             [
              0,
              "#0d0887"
             ],
             [
              0.1111111111111111,
              "#46039f"
             ],
             [
              0.2222222222222222,
              "#7201a8"
             ],
             [
              0.3333333333333333,
              "#9c179e"
             ],
             [
              0.4444444444444444,
              "#bd3786"
             ],
             [
              0.5555555555555556,
              "#d8576b"
             ],
             [
              0.6666666666666666,
              "#ed7953"
             ],
             [
              0.7777777777777778,
              "#fb9f3a"
             ],
             [
              0.8888888888888888,
              "#fdca26"
             ],
             [
              1,
              "#f0f921"
             ]
            ],
            "type": "heatmap"
           }
          ],
          "heatmapgl": [
           {
            "colorbar": {
             "outlinewidth": 0,
             "ticks": ""
            },
            "colorscale": [
             [
              0,
              "#0d0887"
             ],
             [
              0.1111111111111111,
              "#46039f"
             ],
             [
              0.2222222222222222,
              "#7201a8"
             ],
             [
              0.3333333333333333,
              "#9c179e"
             ],
             [
              0.4444444444444444,
              "#bd3786"
             ],
             [
              0.5555555555555556,
              "#d8576b"
             ],
             [
              0.6666666666666666,
              "#ed7953"
             ],
             [
              0.7777777777777778,
              "#fb9f3a"
             ],
             [
              0.8888888888888888,
              "#fdca26"
             ],
             [
              1,
              "#f0f921"
             ]
            ],
            "type": "heatmapgl"
           }
          ],
          "histogram": [
           {
            "marker": {
             "colorbar": {
              "outlinewidth": 0,
              "ticks": ""
             }
            },
            "type": "histogram"
           }
          ],
          "histogram2d": [
           {
            "colorbar": {
             "outlinewidth": 0,
             "ticks": ""
            },
            "colorscale": [
             [
              0,
              "#0d0887"
             ],
             [
              0.1111111111111111,
              "#46039f"
             ],
             [
              0.2222222222222222,
              "#7201a8"
             ],
             [
              0.3333333333333333,
              "#9c179e"
             ],
             [
              0.4444444444444444,
              "#bd3786"
             ],
             [
              0.5555555555555556,
              "#d8576b"
             ],
             [
              0.6666666666666666,
              "#ed7953"
             ],
             [
              0.7777777777777778,
              "#fb9f3a"
             ],
             [
              0.8888888888888888,
              "#fdca26"
             ],
             [
              1,
              "#f0f921"
             ]
            ],
            "type": "histogram2d"
           }
          ],
          "histogram2dcontour": [
           {
            "colorbar": {
             "outlinewidth": 0,
             "ticks": ""
            },
            "colorscale": [
             [
              0,
              "#0d0887"
             ],
             [
              0.1111111111111111,
              "#46039f"
             ],
             [
              0.2222222222222222,
              "#7201a8"
             ],
             [
              0.3333333333333333,
              "#9c179e"
             ],
             [
              0.4444444444444444,
              "#bd3786"
             ],
             [
              0.5555555555555556,
              "#d8576b"
             ],
             [
              0.6666666666666666,
              "#ed7953"
             ],
             [
              0.7777777777777778,
              "#fb9f3a"
             ],
             [
              0.8888888888888888,
              "#fdca26"
             ],
             [
              1,
              "#f0f921"
             ]
            ],
            "type": "histogram2dcontour"
           }
          ],
          "mesh3d": [
           {
            "colorbar": {
             "outlinewidth": 0,
             "ticks": ""
            },
            "type": "mesh3d"
           }
          ],
          "parcoords": [
           {
            "line": {
             "colorbar": {
              "outlinewidth": 0,
              "ticks": ""
             }
            },
            "type": "parcoords"
           }
          ],
          "pie": [
           {
            "automargin": true,
            "type": "pie"
           }
          ],
          "scatter": [
           {
            "marker": {
             "colorbar": {
              "outlinewidth": 0,
              "ticks": ""
             }
            },
            "type": "scatter"
           }
          ],
          "scatter3d": [
           {
            "line": {
             "colorbar": {
              "outlinewidth": 0,
              "ticks": ""
             }
            },
            "marker": {
             "colorbar": {
              "outlinewidth": 0,
              "ticks": ""
             }
            },
            "type": "scatter3d"
           }
          ],
          "scattercarpet": [
           {
            "marker": {
             "colorbar": {
              "outlinewidth": 0,
              "ticks": ""
             }
            },
            "type": "scattercarpet"
           }
          ],
          "scattergeo": [
           {
            "marker": {
             "colorbar": {
              "outlinewidth": 0,
              "ticks": ""
             }
            },
            "type": "scattergeo"
           }
          ],
          "scattergl": [
           {
            "marker": {
             "colorbar": {
              "outlinewidth": 0,
              "ticks": ""
             }
            },
            "type": "scattergl"
           }
          ],
          "scattermapbox": [
           {
            "marker": {
             "colorbar": {
              "outlinewidth": 0,
              "ticks": ""
             }
            },
            "type": "scattermapbox"
           }
          ],
          "scatterpolar": [
           {
            "marker": {
             "colorbar": {
              "outlinewidth": 0,
              "ticks": ""
             }
            },
            "type": "scatterpolar"
           }
          ],
          "scatterpolargl": [
           {
            "marker": {
             "colorbar": {
              "outlinewidth": 0,
              "ticks": ""
             }
            },
            "type": "scatterpolargl"
           }
          ],
          "scatterternary": [
           {
            "marker": {
             "colorbar": {
              "outlinewidth": 0,
              "ticks": ""
             }
            },
            "type": "scatterternary"
           }
          ],
          "surface": [
           {
            "colorbar": {
             "outlinewidth": 0,
             "ticks": ""
            },
            "colorscale": [
             [
              0,
              "#0d0887"
             ],
             [
              0.1111111111111111,
              "#46039f"
             ],
             [
              0.2222222222222222,
              "#7201a8"
             ],
             [
              0.3333333333333333,
              "#9c179e"
             ],
             [
              0.4444444444444444,
              "#bd3786"
             ],
             [
              0.5555555555555556,
              "#d8576b"
             ],
             [
              0.6666666666666666,
              "#ed7953"
             ],
             [
              0.7777777777777778,
              "#fb9f3a"
             ],
             [
              0.8888888888888888,
              "#fdca26"
             ],
             [
              1,
              "#f0f921"
             ]
            ],
            "type": "surface"
           }
          ],
          "table": [
           {
            "cells": {
             "fill": {
              "color": "#EBF0F8"
             },
             "line": {
              "color": "white"
             }
            },
            "header": {
             "fill": {
              "color": "#C8D4E3"
             },
             "line": {
              "color": "white"
             }
            },
            "type": "table"
           }
          ]
         },
         "layout": {
          "annotationdefaults": {
           "arrowcolor": "#2a3f5f",
           "arrowhead": 0,
           "arrowwidth": 1
          },
          "coloraxis": {
           "colorbar": {
            "outlinewidth": 0,
            "ticks": ""
           }
          },
          "colorscale": {
           "diverging": [
            [
             0,
             "#8e0152"
            ],
            [
             0.1,
             "#c51b7d"
            ],
            [
             0.2,
             "#de77ae"
            ],
            [
             0.3,
             "#f1b6da"
            ],
            [
             0.4,
             "#fde0ef"
            ],
            [
             0.5,
             "#f7f7f7"
            ],
            [
             0.6,
             "#e6f5d0"
            ],
            [
             0.7,
             "#b8e186"
            ],
            [
             0.8,
             "#7fbc41"
            ],
            [
             0.9,
             "#4d9221"
            ],
            [
             1,
             "#276419"
            ]
           ],
           "sequential": [
            [
             0,
             "#0d0887"
            ],
            [
             0.1111111111111111,
             "#46039f"
            ],
            [
             0.2222222222222222,
             "#7201a8"
            ],
            [
             0.3333333333333333,
             "#9c179e"
            ],
            [
             0.4444444444444444,
             "#bd3786"
            ],
            [
             0.5555555555555556,
             "#d8576b"
            ],
            [
             0.6666666666666666,
             "#ed7953"
            ],
            [
             0.7777777777777778,
             "#fb9f3a"
            ],
            [
             0.8888888888888888,
             "#fdca26"
            ],
            [
             1,
             "#f0f921"
            ]
           ],
           "sequentialminus": [
            [
             0,
             "#0d0887"
            ],
            [
             0.1111111111111111,
             "#46039f"
            ],
            [
             0.2222222222222222,
             "#7201a8"
            ],
            [
             0.3333333333333333,
             "#9c179e"
            ],
            [
             0.4444444444444444,
             "#bd3786"
            ],
            [
             0.5555555555555556,
             "#d8576b"
            ],
            [
             0.6666666666666666,
             "#ed7953"
            ],
            [
             0.7777777777777778,
             "#fb9f3a"
            ],
            [
             0.8888888888888888,
             "#fdca26"
            ],
            [
             1,
             "#f0f921"
            ]
           ]
          },
          "colorway": [
           "#636efa",
           "#EF553B",
           "#00cc96",
           "#ab63fa",
           "#FFA15A",
           "#19d3f3",
           "#FF6692",
           "#B6E880",
           "#FF97FF",
           "#FECB52"
          ],
          "font": {
           "color": "#2a3f5f"
          },
          "geo": {
           "bgcolor": "white",
           "lakecolor": "white",
           "landcolor": "#E5ECF6",
           "showlakes": true,
           "showland": true,
           "subunitcolor": "white"
          },
          "hoverlabel": {
           "align": "left"
          },
          "hovermode": "closest",
          "mapbox": {
           "style": "light"
          },
          "paper_bgcolor": "white",
          "plot_bgcolor": "#E5ECF6",
          "polar": {
           "angularaxis": {
            "gridcolor": "white",
            "linecolor": "white",
            "ticks": ""
           },
           "bgcolor": "#E5ECF6",
           "radialaxis": {
            "gridcolor": "white",
            "linecolor": "white",
            "ticks": ""
           }
          },
          "scene": {
           "xaxis": {
            "backgroundcolor": "#E5ECF6",
            "gridcolor": "white",
            "gridwidth": 2,
            "linecolor": "white",
            "showbackground": true,
            "ticks": "",
            "zerolinecolor": "white"
           },
           "yaxis": {
            "backgroundcolor": "#E5ECF6",
            "gridcolor": "white",
            "gridwidth": 2,
            "linecolor": "white",
            "showbackground": true,
            "ticks": "",
            "zerolinecolor": "white"
           },
           "zaxis": {
            "backgroundcolor": "#E5ECF6",
            "gridcolor": "white",
            "gridwidth": 2,
            "linecolor": "white",
            "showbackground": true,
            "ticks": "",
            "zerolinecolor": "white"
           }
          },
          "shapedefaults": {
           "line": {
            "color": "#2a3f5f"
           }
          },
          "ternary": {
           "aaxis": {
            "gridcolor": "white",
            "linecolor": "white",
            "ticks": ""
           },
           "baxis": {
            "gridcolor": "white",
            "linecolor": "white",
            "ticks": ""
           },
           "bgcolor": "#E5ECF6",
           "caxis": {
            "gridcolor": "white",
            "linecolor": "white",
            "ticks": ""
           }
          },
          "title": {
           "x": 0.05
          },
          "xaxis": {
           "automargin": true,
           "gridcolor": "white",
           "linecolor": "white",
           "ticks": "",
           "title": {
            "standoff": 15
           },
           "zerolinecolor": "white",
           "zerolinewidth": 2
          },
          "yaxis": {
           "automargin": true,
           "gridcolor": "white",
           "linecolor": "white",
           "ticks": "",
           "title": {
            "standoff": 15
           },
           "zerolinecolor": "white",
           "zerolinewidth": 2
          }
         }
        },
        "title": {
         "font": {
          "color": "#4D5663"
         }
        },
        "xaxis": {
         "gridcolor": "#E1E5ED",
         "showgrid": true,
         "tickfont": {
          "color": "#4D5663"
         },
         "title": {
          "font": {
           "color": "#4D5663"
          },
          "text": ""
         },
         "zerolinecolor": "#E1E5ED"
        },
        "xaxis2": {
         "anchor": "y2",
         "gridcolor": "#E1E5ED",
         "showgrid": true,
         "showticklabels": false,
         "tickfont": {
          "color": "#4D5663"
         },
         "title": {
          "font": {
           "color": "#4D5663"
          },
          "text": ""
         },
         "zerolinecolor": "#E1E5ED"
        },
        "yaxis": {
         "domain": [
          0.3,
          1
         ],
         "gridcolor": "#E1E5ED",
         "showgrid": true,
         "tickfont": {
          "color": "#4D5663"
         },
         "title": {
          "font": {
           "color": "#4D5663"
          },
          "text": ""
         },
         "zerolinecolor": "#E1E5ED"
        },
        "yaxis2": {
         "domain": [
          0,
          0.25
         ],
         "gridcolor": "#E1E5ED",
         "showgrid": true,
         "tickfont": {
          "color": "#4D5663"
         },
         "title": {
          "font": {
           "color": "#4D5663"
          },
          "text": "Spread"
         },
         "zerolinecolor": "#E1E5ED"
        }
       }
      },
      "text/html": [
       "<div>\n",
       "        \n",
       "        \n",
       "            <div id=\"6f8a3dff-ac14-4ca0-a7ea-a8d3f3d0fb95\" class=\"plotly-graph-div\" style=\"height:525px; width:100%;\"></div>\n",
       "            <script type=\"text/javascript\">\n",
       "                require([\"plotly\"], function(Plotly) {\n",
       "                    window.PLOTLYENV=window.PLOTLYENV || {};\n",
       "                    window.PLOTLYENV.BASE_URL='https://plot.ly';\n",
       "                    \n",
       "                if (document.getElementById(\"6f8a3dff-ac14-4ca0-a7ea-a8d3f3d0fb95\")) {\n",
       "                    Plotly.newPlot(\n",
       "                        '6f8a3dff-ac14-4ca0-a7ea-a8d3f3d0fb95',\n",
       "                        [{\"line\": {\"color\": \"rgba(255, 153, 51, 1.0)\", \"dash\": \"solid\", \"shape\": \"linear\", \"width\": 1.3}, \"mode\": \"lines\", \"name\": \"A\", \"text\": \"\", \"type\": \"scatter\", \"x\": [0, 1, 2, 3, 4, 5, 6, 7, 8, 9, 10, 11, 12, 13, 14, 15, 16, 17, 18, 19, 20, 21, 22, 23, 24, 25, 26, 27, 28, 29, 30, 31, 32, 33, 34, 35, 36, 37, 38, 39, 40, 41, 42, 43, 44, 45, 46, 47, 48, 49, 50, 51, 52, 53, 54, 55, 56, 57, 58, 59, 60, 61, 62, 63, 64, 65, 66, 67, 68, 69, 70, 71, 72, 73, 74, 75, 76, 77, 78, 79, 80, 81, 82, 83, 84, 85, 86, 87, 88, 89, 90, 91, 92, 93, 94, 95, 96, 97, 98, 99], \"y\": [1.0299692281207755, 0.4534019734022077, -1.156757825181421, -0.7299709942828432, 1.4409059505261956, -0.09674859261974017, -0.31310025124263396, -0.615562589771781, 1.3377488960017276, -1.238193381643003, 1.4473866003039055, -0.24578986864768815, -1.3932058840044743, -0.983629216765057, 1.1592625360059976, -0.5747697575840409, -2.164848056491318, -0.5521112208010445, 0.6596277084563169, -1.6610543716234045, -0.20127771451028606, 1.1401415826487609, 0.09581359549845013, 0.41353007338316194, -0.8418997837834926, 0.44398379100801055, -0.4763568195789701, 0.1622909197676177, -0.21577326523983892, -1.149924445072829, 0.8747976740565843, -0.6277466746502788, -0.4111046817448839, -0.1396106207813502, -0.3245889850514159, 0.47953606265711457, 0.10826429640054529, -1.33207714457925, -0.24755916405588405, -1.8647696040457458, 1.222906419466841, -1.4606120183754274, -0.5334167468495689, 0.9391682065309265, -0.5451809983351346, -0.02004448042626695, 1.9293086101896395, -0.4337940434540837, -1.3343809530709445, 0.29511550748888954, -0.06558515741836947, 0.5294550388808351, -0.9166582808037367, 0.2319000324614197, -1.5281168095973396, -0.42954701959141756, 2.0865890889512637, -0.5949872127370982, -1.4743702902513047, 0.19093383641853026, 0.3081129908388611, -2.0470356036501256, 1.1095352336807842, -1.368442764338196, -0.4275366607821204, 0.9250293952647808, -0.5777652608572624, 1.6608177632775625, 0.5316301885035559, -1.820881124822415, 0.5009456277225153, -0.4740403752566626, 0.1246658233655019, -0.869721085306933, 0.8570321501144111, 1.5911369302460645, -0.12107611962269951, -0.3401337751027574, 0.5930826615465543, -0.4564408347145368, -0.24216836595027982, -0.08433722488491868, 0.6992801443206138, -1.3479230918201661, 0.12385260456613993, -0.2558399630323414, -3.403472824761215, -0.045574523361199985, -0.0035774583155329586, -0.11088118405751529, 0.8604034726710508, -1.0374664218756517, -0.1855592050009561, -0.5341872200032267, 0.49876930778198564, -1.3949285590172393, -0.28398579730008716, 0.06999325605449133, 0.8462434658818054, 0.9747558345318641]}, {\"line\": {\"color\": \"rgba(55, 128, 191, 1.0)\", \"dash\": \"solid\", \"shape\": \"linear\", \"width\": 1.3}, \"mode\": \"lines\", \"name\": \"B\", \"text\": \"\", \"type\": \"scatter\", \"x\": [0, 1, 2, 3, 4, 5, 6, 7, 8, 9, 10, 11, 12, 13, 14, 15, 16, 17, 18, 19, 20, 21, 22, 23, 24, 25, 26, 27, 28, 29, 30, 31, 32, 33, 34, 35, 36, 37, 38, 39, 40, 41, 42, 43, 44, 45, 46, 47, 48, 49, 50, 51, 52, 53, 54, 55, 56, 57, 58, 59, 60, 61, 62, 63, 64, 65, 66, 67, 68, 69, 70, 71, 72, 73, 74, 75, 76, 77, 78, 79, 80, 81, 82, 83, 84, 85, 86, 87, 88, 89, 90, 91, 92, 93, 94, 95, 96, 97, 98, 99], \"y\": [-0.5292130527085185, -1.0380352192512008, 0.515028895406664, -2.0489223232459652, -1.1616751322392724, 0.31823522688089406, 0.18919871745206318, -0.3813010657547128, 1.8396674127521875, -1.0993476336561583, 1.1927977033888462, 0.15829398678681464, -2.1109880813706603, -2.0385818530526314, -1.2361305929799478, 0.42290555133059576, 0.334215214533492, -0.20054377299147397, -0.8833505114126339, -1.1084383976938577, -1.851908547017362, -1.0630283408896297, 0.5926098904319725, 0.7513579534642801, 0.4637901368493004, -0.33709959840844683, 0.21027272795232996, 0.8983184683403516, -0.4901405914309119, -0.20120314218583968, 1.5011997035092146, -1.2095873020523167, -1.0700199021981835, -0.561313763405721, -0.28675070338425557, -0.6600015870215331, 2.937508711840935, 0.6477235827190407, 0.7318236869344612, 2.521495744543777, -0.022979158314660908, 0.2591095214280645, 0.06302427412203036, -0.5361261075311612, -0.37160107954747856, -0.626653987445001, 1.1429500158289485, 0.5096385749787216, -0.04873226669639589, 0.9850149505462312, -0.7852691213273342, -0.34270170975593817, -0.9623179316518778, 0.5539939911774647, -0.2577336972974899, 0.8976399206056497, -0.8051615534241037, -0.3443681028873965, 0.5734273403582758, 0.5019099807939298, 2.7681162645095507, 1.122021252487704, -0.7216893204909437, -0.13414541303752042, -1.1840734124359265, 2.11238290368288, 0.926063528945275, -0.48344166812176287, 0.7464086455230814, 1.8437767291806353, 0.4979201807729261, 0.2937901422164776, 0.057658364909912586, 0.19838391413673306, 0.9346106944872706, -0.34037271913893585, -1.0638231219610457, 0.05025142693732289, -0.6289189004932967, -0.9800787023295485, 0.0933863937368245, -0.07306728474361188, -1.0369062410116046, 0.7331677844235539, 0.5175133296662681, -0.29837523305297237, 1.009587285483537, -0.9170029650799433, 0.8441742768430965, 0.7854003158011569, 1.4732317340251777, -0.08212285584046843, -0.6773271354002086, 1.2832787579287601, 0.7311234814090207, -0.43089962618951966, 0.23807414436880844, -0.7455583649577328, 1.8898349439930222, -0.48940410252311906]}, {\"connectgaps\": false, \"fill\": \"tozeroy\", \"line\": {\"color\": \"green\", \"dash\": \"solid\", \"shape\": \"linear\", \"width\": 0.5}, \"mode\": \"lines\", \"name\": \"Spread\", \"showlegend\": false, \"type\": \"scatter\", \"x\": [0, 1, 2, 3, 4, 5, 6, 7, 8, 9, 10, 11, 12, 13, 14, 15, 16, 17, 18, 19, 20, 21, 22, 23, 24, 25, 26, 27, 28, 29, 30, 31, 32, 33, 34, 35, 36, 37, 38, 39, 40, 41, 42, 43, 44, 45, 46, 47, 48, 49, 50, 51, 52, 53, 54, 55, 56, 57, 58, 59, 60, 61, 62, 63, 64, 65, 66, 67, 68, 69, 70, 71, 72, 73, 74, 75, 76, 77, 78, 79, 80, 81, 82, 83, 84, 85, 86, 87, 88, 89, 90, 91, 92, 93, 94, 95, 96, 97, 98, 99], \"xaxis\": \"x2\", \"y\": [1.5591822808292939, 1.4914371926534085, \"\", 1.318951328963122, 2.602581082765468, \"\", \"\", \"\", \"\", \"\", 0.25458889691505937, \"\", 0.717782197366186, 1.0549526362875743, 2.3953931289859454, \"\", \"\", \"\", 1.5429782198689508, \"\", 1.650630832507076, 2.2031699235383906, \"\", \"\", \"\", 0.7810833894164574, \"\", \"\", 0.27436732619107296, \"\", \"\", 0.5818406274020379, 0.6589152204532996, 0.4217031426243708, \"\", 1.1395376496786476, \"\", \"\", \"\", \"\", 1.245885577781502, \"\", \"\", 1.4752943140620878, \"\", 0.6066095070187341, 0.786358594360691, \"\", \"\", \"\", 0.7196839639089647, 0.8721567486367733, 0.045659650848141164, \"\", \"\", \"\", 2.891750642375367, \"\", \"\", \"\", \"\", \"\", 1.8312245541717278, \"\", 0.7565367516538061, \"\", \"\", 2.1442594313993255, \"\", \"\", 0.0030254469495891723, \"\", 0.06700745845558931, \"\", \"\", 1.9315096493850004, 0.9427470023383462, \"\", 1.222001562039851, 0.5236378676150117, \"\", \"\", 1.7361863853322184, \"\", \"\", 0.042535270020630955, \"\", 0.8714284417187433, \"\", \"\", \"\", \"\", 0.4917679303992525, \"\", \"\", \"\", \"\", 0.8155516210122241, \"\", 1.4641599370549832], \"yaxis\": \"y2\"}, {\"connectgaps\": false, \"fill\": \"tozeroy\", \"line\": {\"color\": \"red\", \"dash\": \"solid\", \"shape\": \"linear\", \"width\": 0.5}, \"mode\": \"lines\", \"name\": \"Spread\", \"showlegend\": false, \"type\": \"scatter\", \"x\": [0, 1, 2, 3, 4, 5, 6, 7, 8, 9, 10, 11, 12, 13, 14, 15, 16, 17, 18, 19, 20, 21, 22, 23, 24, 25, 26, 27, 28, 29, 30, 31, 32, 33, 34, 35, 36, 37, 38, 39, 40, 41, 42, 43, 44, 45, 46, 47, 48, 49, 50, 51, 52, 53, 54, 55, 56, 57, 58, 59, 60, 61, 62, 63, 64, 65, 66, 67, 68, 69, 70, 71, 72, 73, 74, 75, 76, 77, 78, 79, 80, 81, 82, 83, 84, 85, 86, 87, 88, 89, 90, 91, 92, 93, 94, 95, 96, 97, 98, 99], \"xaxis\": \"x2\", \"y\": [\"\", \"\", -1.671786720588085, \"\", \"\", -0.41498381950063423, -0.5022989686946971, -0.23426152401706823, -0.5019185167504598, -0.1388457479868448, \"\", -0.40408385543450276, \"\", \"\", \"\", -0.9976753089146366, -2.49906327102481, -0.3515674478095705, \"\", -0.5526159739295469, \"\", \"\", -0.4967962949335224, -0.3378278800811182, -1.305689920632793, \"\", -0.6866295475313, -0.7360275485727339, \"\", -0.9487213028869893, -0.6264020294526303, \"\", \"\", \"\", -0.037838281667160356, \"\", -2.8292444154403897, -1.979800727298291, -0.9793828509903453, -4.386265348589523, \"\", -1.719721539803492, -0.5964410209715992, \"\", -0.173579918787656, \"\", \"\", -0.9434326184328052, -1.2856486863745487, -0.6898994430573417, \"\", \"\", \"\", -0.32209395871604507, -1.2703831122998497, -1.3271869401970673, \"\", -0.2506191098497017, -2.0477976306095806, -0.31097614437539955, -2.4600032736706896, -3.1690568561378294, \"\", -1.2342973513006756, \"\", -1.187353508418099, -1.5038287898025375, \"\", -0.21477845701952547, -3.6646578540030506, \"\", -0.7678305174731401, \"\", -1.068104999443666, -0.07757854437285949, \"\", \"\", -0.39038520204008026, \"\", \"\", -0.33555475968710435, -0.011269940141306806, \"\", -2.08109087624372, -0.3936607251001281, \"\", -4.413060110244752, \"\", -0.8477517351586294, -0.8962814998586721, -0.6128282613541269, -0.9553435660351833, \"\", -1.8174659779319868, -0.2323541736270351, -0.9640289328277196, -0.5220599416688956, \"\", -1.0435914781112168, \"\"], \"yaxis\": \"y2\"}],\n",
       "                        {\"hovermode\": \"x\", \"legend\": {\"bgcolor\": \"#F5F6F9\", \"font\": {\"color\": \"#4D5663\"}}, \"paper_bgcolor\": \"#F5F6F9\", \"plot_bgcolor\": \"#F5F6F9\", \"template\": {\"data\": {\"bar\": [{\"error_x\": {\"color\": \"#2a3f5f\"}, \"error_y\": {\"color\": \"#2a3f5f\"}, \"marker\": {\"line\": {\"color\": \"#E5ECF6\", \"width\": 0.5}}, \"type\": \"bar\"}], \"barpolar\": [{\"marker\": {\"line\": {\"color\": \"#E5ECF6\", \"width\": 0.5}}, \"type\": \"barpolar\"}], \"carpet\": [{\"aaxis\": {\"endlinecolor\": \"#2a3f5f\", \"gridcolor\": \"white\", \"linecolor\": \"white\", \"minorgridcolor\": \"white\", \"startlinecolor\": \"#2a3f5f\"}, \"baxis\": {\"endlinecolor\": \"#2a3f5f\", \"gridcolor\": \"white\", \"linecolor\": \"white\", \"minorgridcolor\": \"white\", \"startlinecolor\": \"#2a3f5f\"}, \"type\": \"carpet\"}], \"choropleth\": [{\"colorbar\": {\"outlinewidth\": 0, \"ticks\": \"\"}, \"type\": \"choropleth\"}], \"contour\": [{\"colorbar\": {\"outlinewidth\": 0, \"ticks\": \"\"}, \"colorscale\": [[0.0, \"#0d0887\"], [0.1111111111111111, \"#46039f\"], [0.2222222222222222, \"#7201a8\"], [0.3333333333333333, \"#9c179e\"], [0.4444444444444444, \"#bd3786\"], [0.5555555555555556, \"#d8576b\"], [0.6666666666666666, \"#ed7953\"], [0.7777777777777778, \"#fb9f3a\"], [0.8888888888888888, \"#fdca26\"], [1.0, \"#f0f921\"]], \"type\": \"contour\"}], \"contourcarpet\": [{\"colorbar\": {\"outlinewidth\": 0, \"ticks\": \"\"}, \"type\": \"contourcarpet\"}], \"heatmap\": [{\"colorbar\": {\"outlinewidth\": 0, \"ticks\": \"\"}, \"colorscale\": [[0.0, \"#0d0887\"], [0.1111111111111111, \"#46039f\"], [0.2222222222222222, \"#7201a8\"], [0.3333333333333333, \"#9c179e\"], [0.4444444444444444, \"#bd3786\"], [0.5555555555555556, \"#d8576b\"], [0.6666666666666666, \"#ed7953\"], [0.7777777777777778, \"#fb9f3a\"], [0.8888888888888888, \"#fdca26\"], [1.0, \"#f0f921\"]], \"type\": \"heatmap\"}], \"heatmapgl\": [{\"colorbar\": {\"outlinewidth\": 0, \"ticks\": \"\"}, \"colorscale\": [[0.0, \"#0d0887\"], [0.1111111111111111, \"#46039f\"], [0.2222222222222222, \"#7201a8\"], [0.3333333333333333, \"#9c179e\"], [0.4444444444444444, \"#bd3786\"], [0.5555555555555556, \"#d8576b\"], [0.6666666666666666, \"#ed7953\"], [0.7777777777777778, \"#fb9f3a\"], [0.8888888888888888, \"#fdca26\"], [1.0, \"#f0f921\"]], \"type\": \"heatmapgl\"}], \"histogram\": [{\"marker\": {\"colorbar\": {\"outlinewidth\": 0, \"ticks\": \"\"}}, \"type\": \"histogram\"}], \"histogram2d\": [{\"colorbar\": {\"outlinewidth\": 0, \"ticks\": \"\"}, \"colorscale\": [[0.0, \"#0d0887\"], [0.1111111111111111, \"#46039f\"], [0.2222222222222222, \"#7201a8\"], [0.3333333333333333, \"#9c179e\"], [0.4444444444444444, \"#bd3786\"], [0.5555555555555556, \"#d8576b\"], [0.6666666666666666, \"#ed7953\"], [0.7777777777777778, \"#fb9f3a\"], [0.8888888888888888, \"#fdca26\"], [1.0, \"#f0f921\"]], \"type\": \"histogram2d\"}], \"histogram2dcontour\": [{\"colorbar\": {\"outlinewidth\": 0, \"ticks\": \"\"}, \"colorscale\": [[0.0, \"#0d0887\"], [0.1111111111111111, \"#46039f\"], [0.2222222222222222, \"#7201a8\"], [0.3333333333333333, \"#9c179e\"], [0.4444444444444444, \"#bd3786\"], [0.5555555555555556, \"#d8576b\"], [0.6666666666666666, \"#ed7953\"], [0.7777777777777778, \"#fb9f3a\"], [0.8888888888888888, \"#fdca26\"], [1.0, \"#f0f921\"]], \"type\": \"histogram2dcontour\"}], \"mesh3d\": [{\"colorbar\": {\"outlinewidth\": 0, \"ticks\": \"\"}, \"type\": \"mesh3d\"}], \"parcoords\": [{\"line\": {\"colorbar\": {\"outlinewidth\": 0, \"ticks\": \"\"}}, \"type\": \"parcoords\"}], \"pie\": [{\"automargin\": true, \"type\": \"pie\"}], \"scatter\": [{\"marker\": {\"colorbar\": {\"outlinewidth\": 0, \"ticks\": \"\"}}, \"type\": \"scatter\"}], \"scatter3d\": [{\"line\": {\"colorbar\": {\"outlinewidth\": 0, \"ticks\": \"\"}}, \"marker\": {\"colorbar\": {\"outlinewidth\": 0, \"ticks\": \"\"}}, \"type\": \"scatter3d\"}], \"scattercarpet\": [{\"marker\": {\"colorbar\": {\"outlinewidth\": 0, \"ticks\": \"\"}}, \"type\": \"scattercarpet\"}], \"scattergeo\": [{\"marker\": {\"colorbar\": {\"outlinewidth\": 0, \"ticks\": \"\"}}, \"type\": \"scattergeo\"}], \"scattergl\": [{\"marker\": {\"colorbar\": {\"outlinewidth\": 0, \"ticks\": \"\"}}, \"type\": \"scattergl\"}], \"scattermapbox\": [{\"marker\": {\"colorbar\": {\"outlinewidth\": 0, \"ticks\": \"\"}}, \"type\": \"scattermapbox\"}], \"scatterpolar\": [{\"marker\": {\"colorbar\": {\"outlinewidth\": 0, \"ticks\": \"\"}}, \"type\": \"scatterpolar\"}], \"scatterpolargl\": [{\"marker\": {\"colorbar\": {\"outlinewidth\": 0, \"ticks\": \"\"}}, \"type\": \"scatterpolargl\"}], \"scatterternary\": [{\"marker\": {\"colorbar\": {\"outlinewidth\": 0, \"ticks\": \"\"}}, \"type\": \"scatterternary\"}], \"surface\": [{\"colorbar\": {\"outlinewidth\": 0, \"ticks\": \"\"}, \"colorscale\": [[0.0, \"#0d0887\"], [0.1111111111111111, \"#46039f\"], [0.2222222222222222, \"#7201a8\"], [0.3333333333333333, \"#9c179e\"], [0.4444444444444444, \"#bd3786\"], [0.5555555555555556, \"#d8576b\"], [0.6666666666666666, \"#ed7953\"], [0.7777777777777778, \"#fb9f3a\"], [0.8888888888888888, \"#fdca26\"], [1.0, \"#f0f921\"]], \"type\": \"surface\"}], \"table\": [{\"cells\": {\"fill\": {\"color\": \"#EBF0F8\"}, \"line\": {\"color\": \"white\"}}, \"header\": {\"fill\": {\"color\": \"#C8D4E3\"}, \"line\": {\"color\": \"white\"}}, \"type\": \"table\"}]}, \"layout\": {\"annotationdefaults\": {\"arrowcolor\": \"#2a3f5f\", \"arrowhead\": 0, \"arrowwidth\": 1}, \"coloraxis\": {\"colorbar\": {\"outlinewidth\": 0, \"ticks\": \"\"}}, \"colorscale\": {\"diverging\": [[0, \"#8e0152\"], [0.1, \"#c51b7d\"], [0.2, \"#de77ae\"], [0.3, \"#f1b6da\"], [0.4, \"#fde0ef\"], [0.5, \"#f7f7f7\"], [0.6, \"#e6f5d0\"], [0.7, \"#b8e186\"], [0.8, \"#7fbc41\"], [0.9, \"#4d9221\"], [1, \"#276419\"]], \"sequential\": [[0.0, \"#0d0887\"], [0.1111111111111111, \"#46039f\"], [0.2222222222222222, \"#7201a8\"], [0.3333333333333333, \"#9c179e\"], [0.4444444444444444, \"#bd3786\"], [0.5555555555555556, \"#d8576b\"], [0.6666666666666666, \"#ed7953\"], [0.7777777777777778, \"#fb9f3a\"], [0.8888888888888888, \"#fdca26\"], [1.0, \"#f0f921\"]], \"sequentialminus\": [[0.0, \"#0d0887\"], [0.1111111111111111, \"#46039f\"], [0.2222222222222222, \"#7201a8\"], [0.3333333333333333, \"#9c179e\"], [0.4444444444444444, \"#bd3786\"], [0.5555555555555556, \"#d8576b\"], [0.6666666666666666, \"#ed7953\"], [0.7777777777777778, \"#fb9f3a\"], [0.8888888888888888, \"#fdca26\"], [1.0, \"#f0f921\"]]}, \"colorway\": [\"#636efa\", \"#EF553B\", \"#00cc96\", \"#ab63fa\", \"#FFA15A\", \"#19d3f3\", \"#FF6692\", \"#B6E880\", \"#FF97FF\", \"#FECB52\"], \"font\": {\"color\": \"#2a3f5f\"}, \"geo\": {\"bgcolor\": \"white\", \"lakecolor\": \"white\", \"landcolor\": \"#E5ECF6\", \"showlakes\": true, \"showland\": true, \"subunitcolor\": \"white\"}, \"hoverlabel\": {\"align\": \"left\"}, \"hovermode\": \"closest\", \"mapbox\": {\"style\": \"light\"}, \"paper_bgcolor\": \"white\", \"plot_bgcolor\": \"#E5ECF6\", \"polar\": {\"angularaxis\": {\"gridcolor\": \"white\", \"linecolor\": \"white\", \"ticks\": \"\"}, \"bgcolor\": \"#E5ECF6\", \"radialaxis\": {\"gridcolor\": \"white\", \"linecolor\": \"white\", \"ticks\": \"\"}}, \"scene\": {\"xaxis\": {\"backgroundcolor\": \"#E5ECF6\", \"gridcolor\": \"white\", \"gridwidth\": 2, \"linecolor\": \"white\", \"showbackground\": true, \"ticks\": \"\", \"zerolinecolor\": \"white\"}, \"yaxis\": {\"backgroundcolor\": \"#E5ECF6\", \"gridcolor\": \"white\", \"gridwidth\": 2, \"linecolor\": \"white\", \"showbackground\": true, \"ticks\": \"\", \"zerolinecolor\": \"white\"}, \"zaxis\": {\"backgroundcolor\": \"#E5ECF6\", \"gridcolor\": \"white\", \"gridwidth\": 2, \"linecolor\": \"white\", \"showbackground\": true, \"ticks\": \"\", \"zerolinecolor\": \"white\"}}, \"shapedefaults\": {\"line\": {\"color\": \"#2a3f5f\"}}, \"ternary\": {\"aaxis\": {\"gridcolor\": \"white\", \"linecolor\": \"white\", \"ticks\": \"\"}, \"baxis\": {\"gridcolor\": \"white\", \"linecolor\": \"white\", \"ticks\": \"\"}, \"bgcolor\": \"#E5ECF6\", \"caxis\": {\"gridcolor\": \"white\", \"linecolor\": \"white\", \"ticks\": \"\"}}, \"title\": {\"x\": 0.05}, \"xaxis\": {\"automargin\": true, \"gridcolor\": \"white\", \"linecolor\": \"white\", \"ticks\": \"\", \"title\": {\"standoff\": 15}, \"zerolinecolor\": \"white\", \"zerolinewidth\": 2}, \"yaxis\": {\"automargin\": true, \"gridcolor\": \"white\", \"linecolor\": \"white\", \"ticks\": \"\", \"title\": {\"standoff\": 15}, \"zerolinecolor\": \"white\", \"zerolinewidth\": 2}}}, \"title\": {\"font\": {\"color\": \"#4D5663\"}}, \"xaxis\": {\"gridcolor\": \"#E1E5ED\", \"showgrid\": true, \"tickfont\": {\"color\": \"#4D5663\"}, \"title\": {\"font\": {\"color\": \"#4D5663\"}, \"text\": \"\"}, \"zerolinecolor\": \"#E1E5ED\"}, \"xaxis2\": {\"anchor\": \"y2\", \"gridcolor\": \"#E1E5ED\", \"showgrid\": true, \"showticklabels\": false, \"tickfont\": {\"color\": \"#4D5663\"}, \"title\": {\"font\": {\"color\": \"#4D5663\"}, \"text\": \"\"}, \"zerolinecolor\": \"#E1E5ED\"}, \"yaxis\": {\"domain\": [0.3, 1], \"gridcolor\": \"#E1E5ED\", \"showgrid\": true, \"tickfont\": {\"color\": \"#4D5663\"}, \"title\": {\"font\": {\"color\": \"#4D5663\"}, \"text\": \"\"}, \"zerolinecolor\": \"#E1E5ED\"}, \"yaxis2\": {\"domain\": [0, 0.25], \"gridcolor\": \"#E1E5ED\", \"showgrid\": true, \"tickfont\": {\"color\": \"#4D5663\"}, \"title\": {\"font\": {\"color\": \"#4D5663\"}, \"text\": \"Spread\"}, \"zerolinecolor\": \"#E1E5ED\"}},\n",
       "                        {\"showLink\": true, \"linkText\": \"Export to plot.ly\", \"plotlyServerURL\": \"https://plot.ly\", \"responsive\": true}\n",
       "                    ).then(function(){\n",
       "                            \n",
       "var gd = document.getElementById('6f8a3dff-ac14-4ca0-a7ea-a8d3f3d0fb95');\n",
       "var x = new MutationObserver(function (mutations, observer) {{\n",
       "        var display = window.getComputedStyle(gd).display;\n",
       "        if (!display || display === 'none') {{\n",
       "            console.log([gd, 'removed!']);\n",
       "            Plotly.purge(gd);\n",
       "            observer.disconnect();\n",
       "        }}\n",
       "}});\n",
       "\n",
       "// Listen for the removal of the full notebook cells\n",
       "var notebookContainer = gd.closest('#notebook-container');\n",
       "if (notebookContainer) {{\n",
       "    x.observe(notebookContainer, {childList: true});\n",
       "}}\n",
       "\n",
       "// Listen for the clearing of the current output cell\n",
       "var outputEl = gd.closest('.output');\n",
       "if (outputEl) {{\n",
       "    x.observe(outputEl, {childList: true});\n",
       "}}\n",
       "\n",
       "                        })\n",
       "                };\n",
       "                });\n",
       "            </script>\n",
       "        </div>"
      ]
     },
     "metadata": {},
     "output_type": "display_data"
    }
   ],
   "source": [
    "df[['A','B']].iplot(kind='spread')"
   ]
  },
  {
   "cell_type": "markdown",
   "metadata": {},
   "source": [
    "## histogram"
   ]
  },
  {
   "cell_type": "code",
   "execution_count": 16,
   "metadata": {},
   "outputs": [
    {
     "data": {
      "application/vnd.plotly.v1+json": {
       "config": {
        "linkText": "Export to plot.ly",
        "plotlyServerURL": "https://plot.ly",
        "showLink": true
       },
       "data": [
        {
         "histfunc": "count",
         "histnorm": "",
         "marker": {
          "color": "rgba(255, 153, 51, 1.0)",
          "line": {
           "color": "#4D5663",
           "width": 1.3
          }
         },
         "name": "A",
         "nbinsx": 25,
         "opacity": 0.8,
         "orientation": "v",
         "type": "histogram",
         "x": [
          1.0299692281207755,
          0.4534019734022077,
          -1.156757825181421,
          -0.7299709942828432,
          1.4409059505261956,
          -0.09674859261974017,
          -0.31310025124263396,
          -0.615562589771781,
          1.3377488960017276,
          -1.238193381643003,
          1.4473866003039055,
          -0.24578986864768815,
          -1.3932058840044743,
          -0.983629216765057,
          1.1592625360059976,
          -0.5747697575840409,
          -2.164848056491318,
          -0.5521112208010445,
          0.6596277084563169,
          -1.6610543716234045,
          -0.20127771451028606,
          1.1401415826487609,
          0.09581359549845013,
          0.41353007338316194,
          -0.8418997837834926,
          0.44398379100801055,
          -0.4763568195789701,
          0.1622909197676177,
          -0.21577326523983892,
          -1.149924445072829,
          0.8747976740565843,
          -0.6277466746502788,
          -0.4111046817448839,
          -0.1396106207813502,
          -0.3245889850514159,
          0.47953606265711457,
          0.10826429640054529,
          -1.33207714457925,
          -0.24755916405588405,
          -1.8647696040457458,
          1.222906419466841,
          -1.4606120183754274,
          -0.5334167468495689,
          0.9391682065309265,
          -0.5451809983351346,
          -0.02004448042626695,
          1.9293086101896395,
          -0.4337940434540837,
          -1.3343809530709445,
          0.29511550748888954,
          -0.06558515741836947,
          0.5294550388808351,
          -0.9166582808037367,
          0.2319000324614197,
          -1.5281168095973396,
          -0.42954701959141756,
          2.0865890889512637,
          -0.5949872127370982,
          -1.4743702902513047,
          0.19093383641853026,
          0.3081129908388611,
          -2.0470356036501256,
          1.1095352336807842,
          -1.368442764338196,
          -0.4275366607821204,
          0.9250293952647808,
          -0.5777652608572624,
          1.6608177632775625,
          0.5316301885035559,
          -1.820881124822415,
          0.5009456277225153,
          -0.4740403752566626,
          0.1246658233655019,
          -0.869721085306933,
          0.8570321501144111,
          1.5911369302460645,
          -0.12107611962269951,
          -0.3401337751027574,
          0.5930826615465543,
          -0.4564408347145368,
          -0.24216836595027982,
          -0.08433722488491868,
          0.6992801443206138,
          -1.3479230918201661,
          0.12385260456613993,
          -0.2558399630323414,
          -3.403472824761215,
          -0.045574523361199985,
          -0.0035774583155329586,
          -0.11088118405751529,
          0.8604034726710508,
          -1.0374664218756517,
          -0.1855592050009561,
          -0.5341872200032267,
          0.49876930778198564,
          -1.3949285590172393,
          -0.28398579730008716,
          0.06999325605449133,
          0.8462434658818054,
          0.9747558345318641
         ]
        }
       ],
       "layout": {
        "barmode": "overlay",
        "legend": {
         "bgcolor": "#F5F6F9",
         "font": {
          "color": "#4D5663"
         }
        },
        "paper_bgcolor": "#F5F6F9",
        "plot_bgcolor": "#F5F6F9",
        "template": {
         "data": {
          "bar": [
           {
            "error_x": {
             "color": "#2a3f5f"
            },
            "error_y": {
             "color": "#2a3f5f"
            },
            "marker": {
             "line": {
              "color": "#E5ECF6",
              "width": 0.5
             }
            },
            "type": "bar"
           }
          ],
          "barpolar": [
           {
            "marker": {
             "line": {
              "color": "#E5ECF6",
              "width": 0.5
             }
            },
            "type": "barpolar"
           }
          ],
          "carpet": [
           {
            "aaxis": {
             "endlinecolor": "#2a3f5f",
             "gridcolor": "white",
             "linecolor": "white",
             "minorgridcolor": "white",
             "startlinecolor": "#2a3f5f"
            },
            "baxis": {
             "endlinecolor": "#2a3f5f",
             "gridcolor": "white",
             "linecolor": "white",
             "minorgridcolor": "white",
             "startlinecolor": "#2a3f5f"
            },
            "type": "carpet"
           }
          ],
          "choropleth": [
           {
            "colorbar": {
             "outlinewidth": 0,
             "ticks": ""
            },
            "type": "choropleth"
           }
          ],
          "contour": [
           {
            "colorbar": {
             "outlinewidth": 0,
             "ticks": ""
            },
            "colorscale": [
             [
              0,
              "#0d0887"
             ],
             [
              0.1111111111111111,
              "#46039f"
             ],
             [
              0.2222222222222222,
              "#7201a8"
             ],
             [
              0.3333333333333333,
              "#9c179e"
             ],
             [
              0.4444444444444444,
              "#bd3786"
             ],
             [
              0.5555555555555556,
              "#d8576b"
             ],
             [
              0.6666666666666666,
              "#ed7953"
             ],
             [
              0.7777777777777778,
              "#fb9f3a"
             ],
             [
              0.8888888888888888,
              "#fdca26"
             ],
             [
              1,
              "#f0f921"
             ]
            ],
            "type": "contour"
           }
          ],
          "contourcarpet": [
           {
            "colorbar": {
             "outlinewidth": 0,
             "ticks": ""
            },
            "type": "contourcarpet"
           }
          ],
          "heatmap": [
           {
            "colorbar": {
             "outlinewidth": 0,
             "ticks": ""
            },
            "colorscale": [
             [
              0,
              "#0d0887"
             ],
             [
              0.1111111111111111,
              "#46039f"
             ],
             [
              0.2222222222222222,
              "#7201a8"
             ],
             [
              0.3333333333333333,
              "#9c179e"
             ],
             [
              0.4444444444444444,
              "#bd3786"
             ],
             [
              0.5555555555555556,
              "#d8576b"
             ],
             [
              0.6666666666666666,
              "#ed7953"
             ],
             [
              0.7777777777777778,
              "#fb9f3a"
             ],
             [
              0.8888888888888888,
              "#fdca26"
             ],
             [
              1,
              "#f0f921"
             ]
            ],
            "type": "heatmap"
           }
          ],
          "heatmapgl": [
           {
            "colorbar": {
             "outlinewidth": 0,
             "ticks": ""
            },
            "colorscale": [
             [
              0,
              "#0d0887"
             ],
             [
              0.1111111111111111,
              "#46039f"
             ],
             [
              0.2222222222222222,
              "#7201a8"
             ],
             [
              0.3333333333333333,
              "#9c179e"
             ],
             [
              0.4444444444444444,
              "#bd3786"
             ],
             [
              0.5555555555555556,
              "#d8576b"
             ],
             [
              0.6666666666666666,
              "#ed7953"
             ],
             [
              0.7777777777777778,
              "#fb9f3a"
             ],
             [
              0.8888888888888888,
              "#fdca26"
             ],
             [
              1,
              "#f0f921"
             ]
            ],
            "type": "heatmapgl"
           }
          ],
          "histogram": [
           {
            "marker": {
             "colorbar": {
              "outlinewidth": 0,
              "ticks": ""
             }
            },
            "type": "histogram"
           }
          ],
          "histogram2d": [
           {
            "colorbar": {
             "outlinewidth": 0,
             "ticks": ""
            },
            "colorscale": [
             [
              0,
              "#0d0887"
             ],
             [
              0.1111111111111111,
              "#46039f"
             ],
             [
              0.2222222222222222,
              "#7201a8"
             ],
             [
              0.3333333333333333,
              "#9c179e"
             ],
             [
              0.4444444444444444,
              "#bd3786"
             ],
             [
              0.5555555555555556,
              "#d8576b"
             ],
             [
              0.6666666666666666,
              "#ed7953"
             ],
             [
              0.7777777777777778,
              "#fb9f3a"
             ],
             [
              0.8888888888888888,
              "#fdca26"
             ],
             [
              1,
              "#f0f921"
             ]
            ],
            "type": "histogram2d"
           }
          ],
          "histogram2dcontour": [
           {
            "colorbar": {
             "outlinewidth": 0,
             "ticks": ""
            },
            "colorscale": [
             [
              0,
              "#0d0887"
             ],
             [
              0.1111111111111111,
              "#46039f"
             ],
             [
              0.2222222222222222,
              "#7201a8"
             ],
             [
              0.3333333333333333,
              "#9c179e"
             ],
             [
              0.4444444444444444,
              "#bd3786"
             ],
             [
              0.5555555555555556,
              "#d8576b"
             ],
             [
              0.6666666666666666,
              "#ed7953"
             ],
             [
              0.7777777777777778,
              "#fb9f3a"
             ],
             [
              0.8888888888888888,
              "#fdca26"
             ],
             [
              1,
              "#f0f921"
             ]
            ],
            "type": "histogram2dcontour"
           }
          ],
          "mesh3d": [
           {
            "colorbar": {
             "outlinewidth": 0,
             "ticks": ""
            },
            "type": "mesh3d"
           }
          ],
          "parcoords": [
           {
            "line": {
             "colorbar": {
              "outlinewidth": 0,
              "ticks": ""
             }
            },
            "type": "parcoords"
           }
          ],
          "pie": [
           {
            "automargin": true,
            "type": "pie"
           }
          ],
          "scatter": [
           {
            "marker": {
             "colorbar": {
              "outlinewidth": 0,
              "ticks": ""
             }
            },
            "type": "scatter"
           }
          ],
          "scatter3d": [
           {
            "line": {
             "colorbar": {
              "outlinewidth": 0,
              "ticks": ""
             }
            },
            "marker": {
             "colorbar": {
              "outlinewidth": 0,
              "ticks": ""
             }
            },
            "type": "scatter3d"
           }
          ],
          "scattercarpet": [
           {
            "marker": {
             "colorbar": {
              "outlinewidth": 0,
              "ticks": ""
             }
            },
            "type": "scattercarpet"
           }
          ],
          "scattergeo": [
           {
            "marker": {
             "colorbar": {
              "outlinewidth": 0,
              "ticks": ""
             }
            },
            "type": "scattergeo"
           }
          ],
          "scattergl": [
           {
            "marker": {
             "colorbar": {
              "outlinewidth": 0,
              "ticks": ""
             }
            },
            "type": "scattergl"
           }
          ],
          "scattermapbox": [
           {
            "marker": {
             "colorbar": {
              "outlinewidth": 0,
              "ticks": ""
             }
            },
            "type": "scattermapbox"
           }
          ],
          "scatterpolar": [
           {
            "marker": {
             "colorbar": {
              "outlinewidth": 0,
              "ticks": ""
             }
            },
            "type": "scatterpolar"
           }
          ],
          "scatterpolargl": [
           {
            "marker": {
             "colorbar": {
              "outlinewidth": 0,
              "ticks": ""
             }
            },
            "type": "scatterpolargl"
           }
          ],
          "scatterternary": [
           {
            "marker": {
             "colorbar": {
              "outlinewidth": 0,
              "ticks": ""
             }
            },
            "type": "scatterternary"
           }
          ],
          "surface": [
           {
            "colorbar": {
             "outlinewidth": 0,
             "ticks": ""
            },
            "colorscale": [
             [
              0,
              "#0d0887"
             ],
             [
              0.1111111111111111,
              "#46039f"
             ],
             [
              0.2222222222222222,
              "#7201a8"
             ],
             [
              0.3333333333333333,
              "#9c179e"
             ],
             [
              0.4444444444444444,
              "#bd3786"
             ],
             [
              0.5555555555555556,
              "#d8576b"
             ],
             [
              0.6666666666666666,
              "#ed7953"
             ],
             [
              0.7777777777777778,
              "#fb9f3a"
             ],
             [
              0.8888888888888888,
              "#fdca26"
             ],
             [
              1,
              "#f0f921"
             ]
            ],
            "type": "surface"
           }
          ],
          "table": [
           {
            "cells": {
             "fill": {
              "color": "#EBF0F8"
             },
             "line": {
              "color": "white"
             }
            },
            "header": {
             "fill": {
              "color": "#C8D4E3"
             },
             "line": {
              "color": "white"
             }
            },
            "type": "table"
           }
          ]
         },
         "layout": {
          "annotationdefaults": {
           "arrowcolor": "#2a3f5f",
           "arrowhead": 0,
           "arrowwidth": 1
          },
          "coloraxis": {
           "colorbar": {
            "outlinewidth": 0,
            "ticks": ""
           }
          },
          "colorscale": {
           "diverging": [
            [
             0,
             "#8e0152"
            ],
            [
             0.1,
             "#c51b7d"
            ],
            [
             0.2,
             "#de77ae"
            ],
            [
             0.3,
             "#f1b6da"
            ],
            [
             0.4,
             "#fde0ef"
            ],
            [
             0.5,
             "#f7f7f7"
            ],
            [
             0.6,
             "#e6f5d0"
            ],
            [
             0.7,
             "#b8e186"
            ],
            [
             0.8,
             "#7fbc41"
            ],
            [
             0.9,
             "#4d9221"
            ],
            [
             1,
             "#276419"
            ]
           ],
           "sequential": [
            [
             0,
             "#0d0887"
            ],
            [
             0.1111111111111111,
             "#46039f"
            ],
            [
             0.2222222222222222,
             "#7201a8"
            ],
            [
             0.3333333333333333,
             "#9c179e"
            ],
            [
             0.4444444444444444,
             "#bd3786"
            ],
            [
             0.5555555555555556,
             "#d8576b"
            ],
            [
             0.6666666666666666,
             "#ed7953"
            ],
            [
             0.7777777777777778,
             "#fb9f3a"
            ],
            [
             0.8888888888888888,
             "#fdca26"
            ],
            [
             1,
             "#f0f921"
            ]
           ],
           "sequentialminus": [
            [
             0,
             "#0d0887"
            ],
            [
             0.1111111111111111,
             "#46039f"
            ],
            [
             0.2222222222222222,
             "#7201a8"
            ],
            [
             0.3333333333333333,
             "#9c179e"
            ],
            [
             0.4444444444444444,
             "#bd3786"
            ],
            [
             0.5555555555555556,
             "#d8576b"
            ],
            [
             0.6666666666666666,
             "#ed7953"
            ],
            [
             0.7777777777777778,
             "#fb9f3a"
            ],
            [
             0.8888888888888888,
             "#fdca26"
            ],
            [
             1,
             "#f0f921"
            ]
           ]
          },
          "colorway": [
           "#636efa",
           "#EF553B",
           "#00cc96",
           "#ab63fa",
           "#FFA15A",
           "#19d3f3",
           "#FF6692",
           "#B6E880",
           "#FF97FF",
           "#FECB52"
          ],
          "font": {
           "color": "#2a3f5f"
          },
          "geo": {
           "bgcolor": "white",
           "lakecolor": "white",
           "landcolor": "#E5ECF6",
           "showlakes": true,
           "showland": true,
           "subunitcolor": "white"
          },
          "hoverlabel": {
           "align": "left"
          },
          "hovermode": "closest",
          "mapbox": {
           "style": "light"
          },
          "paper_bgcolor": "white",
          "plot_bgcolor": "#E5ECF6",
          "polar": {
           "angularaxis": {
            "gridcolor": "white",
            "linecolor": "white",
            "ticks": ""
           },
           "bgcolor": "#E5ECF6",
           "radialaxis": {
            "gridcolor": "white",
            "linecolor": "white",
            "ticks": ""
           }
          },
          "scene": {
           "xaxis": {
            "backgroundcolor": "#E5ECF6",
            "gridcolor": "white",
            "gridwidth": 2,
            "linecolor": "white",
            "showbackground": true,
            "ticks": "",
            "zerolinecolor": "white"
           },
           "yaxis": {
            "backgroundcolor": "#E5ECF6",
            "gridcolor": "white",
            "gridwidth": 2,
            "linecolor": "white",
            "showbackground": true,
            "ticks": "",
            "zerolinecolor": "white"
           },
           "zaxis": {
            "backgroundcolor": "#E5ECF6",
            "gridcolor": "white",
            "gridwidth": 2,
            "linecolor": "white",
            "showbackground": true,
            "ticks": "",
            "zerolinecolor": "white"
           }
          },
          "shapedefaults": {
           "line": {
            "color": "#2a3f5f"
           }
          },
          "ternary": {
           "aaxis": {
            "gridcolor": "white",
            "linecolor": "white",
            "ticks": ""
           },
           "baxis": {
            "gridcolor": "white",
            "linecolor": "white",
            "ticks": ""
           },
           "bgcolor": "#E5ECF6",
           "caxis": {
            "gridcolor": "white",
            "linecolor": "white",
            "ticks": ""
           }
          },
          "title": {
           "x": 0.05
          },
          "xaxis": {
           "automargin": true,
           "gridcolor": "white",
           "linecolor": "white",
           "ticks": "",
           "title": {
            "standoff": 15
           },
           "zerolinecolor": "white",
           "zerolinewidth": 2
          },
          "yaxis": {
           "automargin": true,
           "gridcolor": "white",
           "linecolor": "white",
           "ticks": "",
           "title": {
            "standoff": 15
           },
           "zerolinecolor": "white",
           "zerolinewidth": 2
          }
         }
        },
        "title": {
         "font": {
          "color": "#4D5663"
         }
        },
        "xaxis": {
         "gridcolor": "#E1E5ED",
         "showgrid": true,
         "tickfont": {
          "color": "#4D5663"
         },
         "title": {
          "font": {
           "color": "#4D5663"
          },
          "text": ""
         },
         "zerolinecolor": "#E1E5ED"
        },
        "yaxis": {
         "gridcolor": "#E1E5ED",
         "showgrid": true,
         "tickfont": {
          "color": "#4D5663"
         },
         "title": {
          "font": {
           "color": "#4D5663"
          },
          "text": ""
         },
         "zerolinecolor": "#E1E5ED"
        }
       }
      },
      "text/html": [
       "<div>\n",
       "        \n",
       "        \n",
       "            <div id=\"b411ef6a-33b3-4b90-bfd1-1134bbeb496a\" class=\"plotly-graph-div\" style=\"height:525px; width:100%;\"></div>\n",
       "            <script type=\"text/javascript\">\n",
       "                require([\"plotly\"], function(Plotly) {\n",
       "                    window.PLOTLYENV=window.PLOTLYENV || {};\n",
       "                    window.PLOTLYENV.BASE_URL='https://plot.ly';\n",
       "                    \n",
       "                if (document.getElementById(\"b411ef6a-33b3-4b90-bfd1-1134bbeb496a\")) {\n",
       "                    Plotly.newPlot(\n",
       "                        'b411ef6a-33b3-4b90-bfd1-1134bbeb496a',\n",
       "                        [{\"histfunc\": \"count\", \"histnorm\": \"\", \"marker\": {\"color\": \"rgba(255, 153, 51, 1.0)\", \"line\": {\"color\": \"#4D5663\", \"width\": 1.3}}, \"name\": \"A\", \"nbinsx\": 25, \"opacity\": 0.8, \"orientation\": \"v\", \"type\": \"histogram\", \"x\": [1.0299692281207755, 0.4534019734022077, -1.156757825181421, -0.7299709942828432, 1.4409059505261956, -0.09674859261974017, -0.31310025124263396, -0.615562589771781, 1.3377488960017276, -1.238193381643003, 1.4473866003039055, -0.24578986864768815, -1.3932058840044743, -0.983629216765057, 1.1592625360059976, -0.5747697575840409, -2.164848056491318, -0.5521112208010445, 0.6596277084563169, -1.6610543716234045, -0.20127771451028606, 1.1401415826487609, 0.09581359549845013, 0.41353007338316194, -0.8418997837834926, 0.44398379100801055, -0.4763568195789701, 0.1622909197676177, -0.21577326523983892, -1.149924445072829, 0.8747976740565843, -0.6277466746502788, -0.4111046817448839, -0.1396106207813502, -0.3245889850514159, 0.47953606265711457, 0.10826429640054529, -1.33207714457925, -0.24755916405588405, -1.8647696040457458, 1.222906419466841, -1.4606120183754274, -0.5334167468495689, 0.9391682065309265, -0.5451809983351346, -0.02004448042626695, 1.9293086101896395, -0.4337940434540837, -1.3343809530709445, 0.29511550748888954, -0.06558515741836947, 0.5294550388808351, -0.9166582808037367, 0.2319000324614197, -1.5281168095973396, -0.42954701959141756, 2.0865890889512637, -0.5949872127370982, -1.4743702902513047, 0.19093383641853026, 0.3081129908388611, -2.0470356036501256, 1.1095352336807842, -1.368442764338196, -0.4275366607821204, 0.9250293952647808, -0.5777652608572624, 1.6608177632775625, 0.5316301885035559, -1.820881124822415, 0.5009456277225153, -0.4740403752566626, 0.1246658233655019, -0.869721085306933, 0.8570321501144111, 1.5911369302460645, -0.12107611962269951, -0.3401337751027574, 0.5930826615465543, -0.4564408347145368, -0.24216836595027982, -0.08433722488491868, 0.6992801443206138, -1.3479230918201661, 0.12385260456613993, -0.2558399630323414, -3.403472824761215, -0.045574523361199985, -0.0035774583155329586, -0.11088118405751529, 0.8604034726710508, -1.0374664218756517, -0.1855592050009561, -0.5341872200032267, 0.49876930778198564, -1.3949285590172393, -0.28398579730008716, 0.06999325605449133, 0.8462434658818054, 0.9747558345318641]}],\n",
       "                        {\"barmode\": \"overlay\", \"legend\": {\"bgcolor\": \"#F5F6F9\", \"font\": {\"color\": \"#4D5663\"}}, \"paper_bgcolor\": \"#F5F6F9\", \"plot_bgcolor\": \"#F5F6F9\", \"template\": {\"data\": {\"bar\": [{\"error_x\": {\"color\": \"#2a3f5f\"}, \"error_y\": {\"color\": \"#2a3f5f\"}, \"marker\": {\"line\": {\"color\": \"#E5ECF6\", \"width\": 0.5}}, \"type\": \"bar\"}], \"barpolar\": [{\"marker\": {\"line\": {\"color\": \"#E5ECF6\", \"width\": 0.5}}, \"type\": \"barpolar\"}], \"carpet\": [{\"aaxis\": {\"endlinecolor\": \"#2a3f5f\", \"gridcolor\": \"white\", \"linecolor\": \"white\", \"minorgridcolor\": \"white\", \"startlinecolor\": \"#2a3f5f\"}, \"baxis\": {\"endlinecolor\": \"#2a3f5f\", \"gridcolor\": \"white\", \"linecolor\": \"white\", \"minorgridcolor\": \"white\", \"startlinecolor\": \"#2a3f5f\"}, \"type\": \"carpet\"}], \"choropleth\": [{\"colorbar\": {\"outlinewidth\": 0, \"ticks\": \"\"}, \"type\": \"choropleth\"}], \"contour\": [{\"colorbar\": {\"outlinewidth\": 0, \"ticks\": \"\"}, \"colorscale\": [[0.0, \"#0d0887\"], [0.1111111111111111, \"#46039f\"], [0.2222222222222222, \"#7201a8\"], [0.3333333333333333, \"#9c179e\"], [0.4444444444444444, \"#bd3786\"], [0.5555555555555556, \"#d8576b\"], [0.6666666666666666, \"#ed7953\"], [0.7777777777777778, \"#fb9f3a\"], [0.8888888888888888, \"#fdca26\"], [1.0, \"#f0f921\"]], \"type\": \"contour\"}], \"contourcarpet\": [{\"colorbar\": {\"outlinewidth\": 0, \"ticks\": \"\"}, \"type\": \"contourcarpet\"}], \"heatmap\": [{\"colorbar\": {\"outlinewidth\": 0, \"ticks\": \"\"}, \"colorscale\": [[0.0, \"#0d0887\"], [0.1111111111111111, \"#46039f\"], [0.2222222222222222, \"#7201a8\"], [0.3333333333333333, \"#9c179e\"], [0.4444444444444444, \"#bd3786\"], [0.5555555555555556, \"#d8576b\"], [0.6666666666666666, \"#ed7953\"], [0.7777777777777778, \"#fb9f3a\"], [0.8888888888888888, \"#fdca26\"], [1.0, \"#f0f921\"]], \"type\": \"heatmap\"}], \"heatmapgl\": [{\"colorbar\": {\"outlinewidth\": 0, \"ticks\": \"\"}, \"colorscale\": [[0.0, \"#0d0887\"], [0.1111111111111111, \"#46039f\"], [0.2222222222222222, \"#7201a8\"], [0.3333333333333333, \"#9c179e\"], [0.4444444444444444, \"#bd3786\"], [0.5555555555555556, \"#d8576b\"], [0.6666666666666666, \"#ed7953\"], [0.7777777777777778, \"#fb9f3a\"], [0.8888888888888888, \"#fdca26\"], [1.0, \"#f0f921\"]], \"type\": \"heatmapgl\"}], \"histogram\": [{\"marker\": {\"colorbar\": {\"outlinewidth\": 0, \"ticks\": \"\"}}, \"type\": \"histogram\"}], \"histogram2d\": [{\"colorbar\": {\"outlinewidth\": 0, \"ticks\": \"\"}, \"colorscale\": [[0.0, \"#0d0887\"], [0.1111111111111111, \"#46039f\"], [0.2222222222222222, \"#7201a8\"], [0.3333333333333333, \"#9c179e\"], [0.4444444444444444, \"#bd3786\"], [0.5555555555555556, \"#d8576b\"], [0.6666666666666666, \"#ed7953\"], [0.7777777777777778, \"#fb9f3a\"], [0.8888888888888888, \"#fdca26\"], [1.0, \"#f0f921\"]], \"type\": \"histogram2d\"}], \"histogram2dcontour\": [{\"colorbar\": {\"outlinewidth\": 0, \"ticks\": \"\"}, \"colorscale\": [[0.0, \"#0d0887\"], [0.1111111111111111, \"#46039f\"], [0.2222222222222222, \"#7201a8\"], [0.3333333333333333, \"#9c179e\"], [0.4444444444444444, \"#bd3786\"], [0.5555555555555556, \"#d8576b\"], [0.6666666666666666, \"#ed7953\"], [0.7777777777777778, \"#fb9f3a\"], [0.8888888888888888, \"#fdca26\"], [1.0, \"#f0f921\"]], \"type\": \"histogram2dcontour\"}], \"mesh3d\": [{\"colorbar\": {\"outlinewidth\": 0, \"ticks\": \"\"}, \"type\": \"mesh3d\"}], \"parcoords\": [{\"line\": {\"colorbar\": {\"outlinewidth\": 0, \"ticks\": \"\"}}, \"type\": \"parcoords\"}], \"pie\": [{\"automargin\": true, \"type\": \"pie\"}], \"scatter\": [{\"marker\": {\"colorbar\": {\"outlinewidth\": 0, \"ticks\": \"\"}}, \"type\": \"scatter\"}], \"scatter3d\": [{\"line\": {\"colorbar\": {\"outlinewidth\": 0, \"ticks\": \"\"}}, \"marker\": {\"colorbar\": {\"outlinewidth\": 0, \"ticks\": \"\"}}, \"type\": \"scatter3d\"}], \"scattercarpet\": [{\"marker\": {\"colorbar\": {\"outlinewidth\": 0, \"ticks\": \"\"}}, \"type\": \"scattercarpet\"}], \"scattergeo\": [{\"marker\": {\"colorbar\": {\"outlinewidth\": 0, \"ticks\": \"\"}}, \"type\": \"scattergeo\"}], \"scattergl\": [{\"marker\": {\"colorbar\": {\"outlinewidth\": 0, \"ticks\": \"\"}}, \"type\": \"scattergl\"}], \"scattermapbox\": [{\"marker\": {\"colorbar\": {\"outlinewidth\": 0, \"ticks\": \"\"}}, \"type\": \"scattermapbox\"}], \"scatterpolar\": [{\"marker\": {\"colorbar\": {\"outlinewidth\": 0, \"ticks\": \"\"}}, \"type\": \"scatterpolar\"}], \"scatterpolargl\": [{\"marker\": {\"colorbar\": {\"outlinewidth\": 0, \"ticks\": \"\"}}, \"type\": \"scatterpolargl\"}], \"scatterternary\": [{\"marker\": {\"colorbar\": {\"outlinewidth\": 0, \"ticks\": \"\"}}, \"type\": \"scatterternary\"}], \"surface\": [{\"colorbar\": {\"outlinewidth\": 0, \"ticks\": \"\"}, \"colorscale\": [[0.0, \"#0d0887\"], [0.1111111111111111, \"#46039f\"], [0.2222222222222222, \"#7201a8\"], [0.3333333333333333, \"#9c179e\"], [0.4444444444444444, \"#bd3786\"], [0.5555555555555556, \"#d8576b\"], [0.6666666666666666, \"#ed7953\"], [0.7777777777777778, \"#fb9f3a\"], [0.8888888888888888, \"#fdca26\"], [1.0, \"#f0f921\"]], \"type\": \"surface\"}], \"table\": [{\"cells\": {\"fill\": {\"color\": \"#EBF0F8\"}, \"line\": {\"color\": \"white\"}}, \"header\": {\"fill\": {\"color\": \"#C8D4E3\"}, \"line\": {\"color\": \"white\"}}, \"type\": \"table\"}]}, \"layout\": {\"annotationdefaults\": {\"arrowcolor\": \"#2a3f5f\", \"arrowhead\": 0, \"arrowwidth\": 1}, \"coloraxis\": {\"colorbar\": {\"outlinewidth\": 0, \"ticks\": \"\"}}, \"colorscale\": {\"diverging\": [[0, \"#8e0152\"], [0.1, \"#c51b7d\"], [0.2, \"#de77ae\"], [0.3, \"#f1b6da\"], [0.4, \"#fde0ef\"], [0.5, \"#f7f7f7\"], [0.6, \"#e6f5d0\"], [0.7, \"#b8e186\"], [0.8, \"#7fbc41\"], [0.9, \"#4d9221\"], [1, \"#276419\"]], \"sequential\": [[0.0, \"#0d0887\"], [0.1111111111111111, \"#46039f\"], [0.2222222222222222, \"#7201a8\"], [0.3333333333333333, \"#9c179e\"], [0.4444444444444444, \"#bd3786\"], [0.5555555555555556, \"#d8576b\"], [0.6666666666666666, \"#ed7953\"], [0.7777777777777778, \"#fb9f3a\"], [0.8888888888888888, \"#fdca26\"], [1.0, \"#f0f921\"]], \"sequentialminus\": [[0.0, \"#0d0887\"], [0.1111111111111111, \"#46039f\"], [0.2222222222222222, \"#7201a8\"], [0.3333333333333333, \"#9c179e\"], [0.4444444444444444, \"#bd3786\"], [0.5555555555555556, \"#d8576b\"], [0.6666666666666666, \"#ed7953\"], [0.7777777777777778, \"#fb9f3a\"], [0.8888888888888888, \"#fdca26\"], [1.0, \"#f0f921\"]]}, \"colorway\": [\"#636efa\", \"#EF553B\", \"#00cc96\", \"#ab63fa\", \"#FFA15A\", \"#19d3f3\", \"#FF6692\", \"#B6E880\", \"#FF97FF\", \"#FECB52\"], \"font\": {\"color\": \"#2a3f5f\"}, \"geo\": {\"bgcolor\": \"white\", \"lakecolor\": \"white\", \"landcolor\": \"#E5ECF6\", \"showlakes\": true, \"showland\": true, \"subunitcolor\": \"white\"}, \"hoverlabel\": {\"align\": \"left\"}, \"hovermode\": \"closest\", \"mapbox\": {\"style\": \"light\"}, \"paper_bgcolor\": \"white\", \"plot_bgcolor\": \"#E5ECF6\", \"polar\": {\"angularaxis\": {\"gridcolor\": \"white\", \"linecolor\": \"white\", \"ticks\": \"\"}, \"bgcolor\": \"#E5ECF6\", \"radialaxis\": {\"gridcolor\": \"white\", \"linecolor\": \"white\", \"ticks\": \"\"}}, \"scene\": {\"xaxis\": {\"backgroundcolor\": \"#E5ECF6\", \"gridcolor\": \"white\", \"gridwidth\": 2, \"linecolor\": \"white\", \"showbackground\": true, \"ticks\": \"\", \"zerolinecolor\": \"white\"}, \"yaxis\": {\"backgroundcolor\": \"#E5ECF6\", \"gridcolor\": \"white\", \"gridwidth\": 2, \"linecolor\": \"white\", \"showbackground\": true, \"ticks\": \"\", \"zerolinecolor\": \"white\"}, \"zaxis\": {\"backgroundcolor\": \"#E5ECF6\", \"gridcolor\": \"white\", \"gridwidth\": 2, \"linecolor\": \"white\", \"showbackground\": true, \"ticks\": \"\", \"zerolinecolor\": \"white\"}}, \"shapedefaults\": {\"line\": {\"color\": \"#2a3f5f\"}}, \"ternary\": {\"aaxis\": {\"gridcolor\": \"white\", \"linecolor\": \"white\", \"ticks\": \"\"}, \"baxis\": {\"gridcolor\": \"white\", \"linecolor\": \"white\", \"ticks\": \"\"}, \"bgcolor\": \"#E5ECF6\", \"caxis\": {\"gridcolor\": \"white\", \"linecolor\": \"white\", \"ticks\": \"\"}}, \"title\": {\"x\": 0.05}, \"xaxis\": {\"automargin\": true, \"gridcolor\": \"white\", \"linecolor\": \"white\", \"ticks\": \"\", \"title\": {\"standoff\": 15}, \"zerolinecolor\": \"white\", \"zerolinewidth\": 2}, \"yaxis\": {\"automargin\": true, \"gridcolor\": \"white\", \"linecolor\": \"white\", \"ticks\": \"\", \"title\": {\"standoff\": 15}, \"zerolinecolor\": \"white\", \"zerolinewidth\": 2}}}, \"title\": {\"font\": {\"color\": \"#4D5663\"}}, \"xaxis\": {\"gridcolor\": \"#E1E5ED\", \"showgrid\": true, \"tickfont\": {\"color\": \"#4D5663\"}, \"title\": {\"font\": {\"color\": \"#4D5663\"}, \"text\": \"\"}, \"zerolinecolor\": \"#E1E5ED\"}, \"yaxis\": {\"gridcolor\": \"#E1E5ED\", \"showgrid\": true, \"tickfont\": {\"color\": \"#4D5663\"}, \"title\": {\"font\": {\"color\": \"#4D5663\"}, \"text\": \"\"}, \"zerolinecolor\": \"#E1E5ED\"}},\n",
       "                        {\"showLink\": true, \"linkText\": \"Export to plot.ly\", \"plotlyServerURL\": \"https://plot.ly\", \"responsive\": true}\n",
       "                    ).then(function(){\n",
       "                            \n",
       "var gd = document.getElementById('b411ef6a-33b3-4b90-bfd1-1134bbeb496a');\n",
       "var x = new MutationObserver(function (mutations, observer) {{\n",
       "        var display = window.getComputedStyle(gd).display;\n",
       "        if (!display || display === 'none') {{\n",
       "            console.log([gd, 'removed!']);\n",
       "            Plotly.purge(gd);\n",
       "            observer.disconnect();\n",
       "        }}\n",
       "}});\n",
       "\n",
       "// Listen for the removal of the full notebook cells\n",
       "var notebookContainer = gd.closest('#notebook-container');\n",
       "if (notebookContainer) {{\n",
       "    x.observe(notebookContainer, {childList: true});\n",
       "}}\n",
       "\n",
       "// Listen for the clearing of the current output cell\n",
       "var outputEl = gd.closest('.output');\n",
       "if (outputEl) {{\n",
       "    x.observe(outputEl, {childList: true});\n",
       "}}\n",
       "\n",
       "                        })\n",
       "                };\n",
       "                });\n",
       "            </script>\n",
       "        </div>"
      ]
     },
     "metadata": {},
     "output_type": "display_data"
    }
   ],
   "source": [
    "df['A'].iplot(kind='hist',bins=25)"
   ]
  },
  {
   "cell_type": "code",
   "execution_count": 17,
   "metadata": {},
   "outputs": [
    {
     "data": {
      "application/vnd.plotly.v1+json": {
       "config": {
        "linkText": "Export to plot.ly",
        "plotlyServerURL": "https://plot.ly",
        "showLink": true
       },
       "data": [
        {
         "marker": {
          "color": [
           "rgb(255, 153, 51)",
           "rgb(55, 128, 191)",
           "rgb(50, 171, 96)",
           "rgb(128, 0, 128)",
           "rgb(219, 64, 82)",
           "rgb(0, 128, 128)",
           "rgb(255, 255, 51)",
           "rgb(128, 128, 0)",
           "rgb(251, 128, 114)",
           "rgb(128, 177, 211)"
          ],
          "line": {
           "width": 1.3
          },
          "size": [
           53,
           63,
           46,
           55,
           58,
           60,
           12,
           83,
           82,
           91,
           68,
           51,
           70,
           112,
           69,
           59,
           65,
           78,
           63,
           71,
           42,
           74,
           73,
           83,
           60,
           84,
           64,
           65,
           77,
           64,
           75,
           84,
           54,
           67,
           52,
           80,
           61,
           68,
           78,
           54,
           35,
           46,
           79,
           99,
           44,
           51,
           59,
           61,
           60,
           46,
           63,
           61,
           75,
           29,
           58,
           88,
           76,
           84,
           56,
           71,
           43,
           64,
           82,
           106,
           65,
           54,
           64,
           28,
           69,
           71,
           64,
           61,
           64,
           84,
           79,
           65,
           59,
           64,
           68,
           66,
           45,
           64,
           58,
           77,
           71,
           32,
           77,
           62,
           54,
           105,
           60,
           67,
           59,
           82,
           70,
           45,
           59,
           62,
           73,
           94
          ],
          "symbol": "circle"
         },
         "mode": "markers",
         "text": "",
         "type": "scatter",
         "x": [
          1.0299692281207755,
          0.4534019734022077,
          -1.156757825181421,
          -0.7299709942828432,
          1.4409059505261956,
          -0.09674859261974017,
          -0.31310025124263396,
          -0.615562589771781,
          1.3377488960017276,
          -1.238193381643003,
          1.4473866003039055,
          -0.24578986864768815,
          -1.3932058840044743,
          -0.983629216765057,
          1.1592625360059976,
          -0.5747697575840409,
          -2.164848056491318,
          -0.5521112208010445,
          0.6596277084563169,
          -1.6610543716234045,
          -0.20127771451028606,
          1.1401415826487609,
          0.09581359549845013,
          0.41353007338316194,
          -0.8418997837834926,
          0.44398379100801055,
          -0.4763568195789701,
          0.1622909197676177,
          -0.21577326523983892,
          -1.149924445072829,
          0.8747976740565843,
          -0.6277466746502788,
          -0.4111046817448839,
          -0.1396106207813502,
          -0.3245889850514159,
          0.47953606265711457,
          0.10826429640054529,
          -1.33207714457925,
          -0.24755916405588405,
          -1.8647696040457458,
          1.222906419466841,
          -1.4606120183754274,
          -0.5334167468495689,
          0.9391682065309265,
          -0.5451809983351346,
          -0.02004448042626695,
          1.9293086101896395,
          -0.4337940434540837,
          -1.3343809530709445,
          0.29511550748888954,
          -0.06558515741836947,
          0.5294550388808351,
          -0.9166582808037367,
          0.2319000324614197,
          -1.5281168095973396,
          -0.42954701959141756,
          2.0865890889512637,
          -0.5949872127370982,
          -1.4743702902513047,
          0.19093383641853026,
          0.3081129908388611,
          -2.0470356036501256,
          1.1095352336807842,
          -1.368442764338196,
          -0.4275366607821204,
          0.9250293952647808,
          -0.5777652608572624,
          1.6608177632775625,
          0.5316301885035559,
          -1.820881124822415,
          0.5009456277225153,
          -0.4740403752566626,
          0.1246658233655019,
          -0.869721085306933,
          0.8570321501144111,
          1.5911369302460645,
          -0.12107611962269951,
          -0.3401337751027574,
          0.5930826615465543,
          -0.4564408347145368,
          -0.24216836595027982,
          -0.08433722488491868,
          0.6992801443206138,
          -1.3479230918201661,
          0.12385260456613993,
          -0.2558399630323414,
          -3.403472824761215,
          -0.045574523361199985,
          -0.0035774583155329586,
          -0.11088118405751529,
          0.8604034726710508,
          -1.0374664218756517,
          -0.1855592050009561,
          -0.5341872200032267,
          0.49876930778198564,
          -1.3949285590172393,
          -0.28398579730008716,
          0.06999325605449133,
          0.8462434658818054,
          0.9747558345318641
         ],
         "y": [
          -0.5292130527085185,
          -1.0380352192512008,
          0.515028895406664,
          -2.0489223232459652,
          -1.1616751322392724,
          0.31823522688089406,
          0.18919871745206318,
          -0.3813010657547128,
          1.8396674127521875,
          -1.0993476336561583,
          1.1927977033888462,
          0.15829398678681464,
          -2.1109880813706603,
          -2.0385818530526314,
          -1.2361305929799478,
          0.42290555133059576,
          0.334215214533492,
          -0.20054377299147397,
          -0.8833505114126339,
          -1.1084383976938577,
          -1.851908547017362,
          -1.0630283408896297,
          0.5926098904319725,
          0.7513579534642801,
          0.4637901368493004,
          -0.33709959840844683,
          0.21027272795232996,
          0.8983184683403516,
          -0.4901405914309119,
          -0.20120314218583968,
          1.5011997035092146,
          -1.2095873020523167,
          -1.0700199021981835,
          -0.561313763405721,
          -0.28675070338425557,
          -0.6600015870215331,
          2.937508711840935,
          0.6477235827190407,
          0.7318236869344612,
          2.521495744543777,
          -0.022979158314660908,
          0.2591095214280645,
          0.06302427412203036,
          -0.5361261075311612,
          -0.37160107954747856,
          -0.626653987445001,
          1.1429500158289485,
          0.5096385749787216,
          -0.04873226669639589,
          0.9850149505462312,
          -0.7852691213273342,
          -0.34270170975593817,
          -0.9623179316518778,
          0.5539939911774647,
          -0.2577336972974899,
          0.8976399206056497,
          -0.8051615534241037,
          -0.3443681028873965,
          0.5734273403582758,
          0.5019099807939298,
          2.7681162645095507,
          1.122021252487704,
          -0.7216893204909437,
          -0.13414541303752042,
          -1.1840734124359265,
          2.11238290368288,
          0.926063528945275,
          -0.48344166812176287,
          0.7464086455230814,
          1.8437767291806353,
          0.4979201807729261,
          0.2937901422164776,
          0.057658364909912586,
          0.19838391413673306,
          0.9346106944872706,
          -0.34037271913893585,
          -1.0638231219610457,
          0.05025142693732289,
          -0.6289189004932967,
          -0.9800787023295485,
          0.0933863937368245,
          -0.07306728474361188,
          -1.0369062410116046,
          0.7331677844235539,
          0.5175133296662681,
          -0.29837523305297237,
          1.009587285483537,
          -0.9170029650799433,
          0.8441742768430965,
          0.7854003158011569,
          1.4732317340251777,
          -0.08212285584046843,
          -0.6773271354002086,
          1.2832787579287601,
          0.7311234814090207,
          -0.43089962618951966,
          0.23807414436880844,
          -0.7455583649577328,
          1.8898349439930222,
          -0.48940410252311906
         ]
        }
       ],
       "layout": {
        "legend": {
         "bgcolor": "#F5F6F9",
         "font": {
          "color": "#4D5663"
         }
        },
        "paper_bgcolor": "#F5F6F9",
        "plot_bgcolor": "#F5F6F9",
        "template": {
         "data": {
          "bar": [
           {
            "error_x": {
             "color": "#2a3f5f"
            },
            "error_y": {
             "color": "#2a3f5f"
            },
            "marker": {
             "line": {
              "color": "#E5ECF6",
              "width": 0.5
             }
            },
            "type": "bar"
           }
          ],
          "barpolar": [
           {
            "marker": {
             "line": {
              "color": "#E5ECF6",
              "width": 0.5
             }
            },
            "type": "barpolar"
           }
          ],
          "carpet": [
           {
            "aaxis": {
             "endlinecolor": "#2a3f5f",
             "gridcolor": "white",
             "linecolor": "white",
             "minorgridcolor": "white",
             "startlinecolor": "#2a3f5f"
            },
            "baxis": {
             "endlinecolor": "#2a3f5f",
             "gridcolor": "white",
             "linecolor": "white",
             "minorgridcolor": "white",
             "startlinecolor": "#2a3f5f"
            },
            "type": "carpet"
           }
          ],
          "choropleth": [
           {
            "colorbar": {
             "outlinewidth": 0,
             "ticks": ""
            },
            "type": "choropleth"
           }
          ],
          "contour": [
           {
            "colorbar": {
             "outlinewidth": 0,
             "ticks": ""
            },
            "colorscale": [
             [
              0,
              "#0d0887"
             ],
             [
              0.1111111111111111,
              "#46039f"
             ],
             [
              0.2222222222222222,
              "#7201a8"
             ],
             [
              0.3333333333333333,
              "#9c179e"
             ],
             [
              0.4444444444444444,
              "#bd3786"
             ],
             [
              0.5555555555555556,
              "#d8576b"
             ],
             [
              0.6666666666666666,
              "#ed7953"
             ],
             [
              0.7777777777777778,
              "#fb9f3a"
             ],
             [
              0.8888888888888888,
              "#fdca26"
             ],
             [
              1,
              "#f0f921"
             ]
            ],
            "type": "contour"
           }
          ],
          "contourcarpet": [
           {
            "colorbar": {
             "outlinewidth": 0,
             "ticks": ""
            },
            "type": "contourcarpet"
           }
          ],
          "heatmap": [
           {
            "colorbar": {
             "outlinewidth": 0,
             "ticks": ""
            },
            "colorscale": [
             [
              0,
              "#0d0887"
             ],
             [
              0.1111111111111111,
              "#46039f"
             ],
             [
              0.2222222222222222,
              "#7201a8"
             ],
             [
              0.3333333333333333,
              "#9c179e"
             ],
             [
              0.4444444444444444,
              "#bd3786"
             ],
             [
              0.5555555555555556,
              "#d8576b"
             ],
             [
              0.6666666666666666,
              "#ed7953"
             ],
             [
              0.7777777777777778,
              "#fb9f3a"
             ],
             [
              0.8888888888888888,
              "#fdca26"
             ],
             [
              1,
              "#f0f921"
             ]
            ],
            "type": "heatmap"
           }
          ],
          "heatmapgl": [
           {
            "colorbar": {
             "outlinewidth": 0,
             "ticks": ""
            },
            "colorscale": [
             [
              0,
              "#0d0887"
             ],
             [
              0.1111111111111111,
              "#46039f"
             ],
             [
              0.2222222222222222,
              "#7201a8"
             ],
             [
              0.3333333333333333,
              "#9c179e"
             ],
             [
              0.4444444444444444,
              "#bd3786"
             ],
             [
              0.5555555555555556,
              "#d8576b"
             ],
             [
              0.6666666666666666,
              "#ed7953"
             ],
             [
              0.7777777777777778,
              "#fb9f3a"
             ],
             [
              0.8888888888888888,
              "#fdca26"
             ],
             [
              1,
              "#f0f921"
             ]
            ],
            "type": "heatmapgl"
           }
          ],
          "histogram": [
           {
            "marker": {
             "colorbar": {
              "outlinewidth": 0,
              "ticks": ""
             }
            },
            "type": "histogram"
           }
          ],
          "histogram2d": [
           {
            "colorbar": {
             "outlinewidth": 0,
             "ticks": ""
            },
            "colorscale": [
             [
              0,
              "#0d0887"
             ],
             [
              0.1111111111111111,
              "#46039f"
             ],
             [
              0.2222222222222222,
              "#7201a8"
             ],
             [
              0.3333333333333333,
              "#9c179e"
             ],
             [
              0.4444444444444444,
              "#bd3786"
             ],
             [
              0.5555555555555556,
              "#d8576b"
             ],
             [
              0.6666666666666666,
              "#ed7953"
             ],
             [
              0.7777777777777778,
              "#fb9f3a"
             ],
             [
              0.8888888888888888,
              "#fdca26"
             ],
             [
              1,
              "#f0f921"
             ]
            ],
            "type": "histogram2d"
           }
          ],
          "histogram2dcontour": [
           {
            "colorbar": {
             "outlinewidth": 0,
             "ticks": ""
            },
            "colorscale": [
             [
              0,
              "#0d0887"
             ],
             [
              0.1111111111111111,
              "#46039f"
             ],
             [
              0.2222222222222222,
              "#7201a8"
             ],
             [
              0.3333333333333333,
              "#9c179e"
             ],
             [
              0.4444444444444444,
              "#bd3786"
             ],
             [
              0.5555555555555556,
              "#d8576b"
             ],
             [
              0.6666666666666666,
              "#ed7953"
             ],
             [
              0.7777777777777778,
              "#fb9f3a"
             ],
             [
              0.8888888888888888,
              "#fdca26"
             ],
             [
              1,
              "#f0f921"
             ]
            ],
            "type": "histogram2dcontour"
           }
          ],
          "mesh3d": [
           {
            "colorbar": {
             "outlinewidth": 0,
             "ticks": ""
            },
            "type": "mesh3d"
           }
          ],
          "parcoords": [
           {
            "line": {
             "colorbar": {
              "outlinewidth": 0,
              "ticks": ""
             }
            },
            "type": "parcoords"
           }
          ],
          "pie": [
           {
            "automargin": true,
            "type": "pie"
           }
          ],
          "scatter": [
           {
            "marker": {
             "colorbar": {
              "outlinewidth": 0,
              "ticks": ""
             }
            },
            "type": "scatter"
           }
          ],
          "scatter3d": [
           {
            "line": {
             "colorbar": {
              "outlinewidth": 0,
              "ticks": ""
             }
            },
            "marker": {
             "colorbar": {
              "outlinewidth": 0,
              "ticks": ""
             }
            },
            "type": "scatter3d"
           }
          ],
          "scattercarpet": [
           {
            "marker": {
             "colorbar": {
              "outlinewidth": 0,
              "ticks": ""
             }
            },
            "type": "scattercarpet"
           }
          ],
          "scattergeo": [
           {
            "marker": {
             "colorbar": {
              "outlinewidth": 0,
              "ticks": ""
             }
            },
            "type": "scattergeo"
           }
          ],
          "scattergl": [
           {
            "marker": {
             "colorbar": {
              "outlinewidth": 0,
              "ticks": ""
             }
            },
            "type": "scattergl"
           }
          ],
          "scattermapbox": [
           {
            "marker": {
             "colorbar": {
              "outlinewidth": 0,
              "ticks": ""
             }
            },
            "type": "scattermapbox"
           }
          ],
          "scatterpolar": [
           {
            "marker": {
             "colorbar": {
              "outlinewidth": 0,
              "ticks": ""
             }
            },
            "type": "scatterpolar"
           }
          ],
          "scatterpolargl": [
           {
            "marker": {
             "colorbar": {
              "outlinewidth": 0,
              "ticks": ""
             }
            },
            "type": "scatterpolargl"
           }
          ],
          "scatterternary": [
           {
            "marker": {
             "colorbar": {
              "outlinewidth": 0,
              "ticks": ""
             }
            },
            "type": "scatterternary"
           }
          ],
          "surface": [
           {
            "colorbar": {
             "outlinewidth": 0,
             "ticks": ""
            },
            "colorscale": [
             [
              0,
              "#0d0887"
             ],
             [
              0.1111111111111111,
              "#46039f"
             ],
             [
              0.2222222222222222,
              "#7201a8"
             ],
             [
              0.3333333333333333,
              "#9c179e"
             ],
             [
              0.4444444444444444,
              "#bd3786"
             ],
             [
              0.5555555555555556,
              "#d8576b"
             ],
             [
              0.6666666666666666,
              "#ed7953"
             ],
             [
              0.7777777777777778,
              "#fb9f3a"
             ],
             [
              0.8888888888888888,
              "#fdca26"
             ],
             [
              1,
              "#f0f921"
             ]
            ],
            "type": "surface"
           }
          ],
          "table": [
           {
            "cells": {
             "fill": {
              "color": "#EBF0F8"
             },
             "line": {
              "color": "white"
             }
            },
            "header": {
             "fill": {
              "color": "#C8D4E3"
             },
             "line": {
              "color": "white"
             }
            },
            "type": "table"
           }
          ]
         },
         "layout": {
          "annotationdefaults": {
           "arrowcolor": "#2a3f5f",
           "arrowhead": 0,
           "arrowwidth": 1
          },
          "coloraxis": {
           "colorbar": {
            "outlinewidth": 0,
            "ticks": ""
           }
          },
          "colorscale": {
           "diverging": [
            [
             0,
             "#8e0152"
            ],
            [
             0.1,
             "#c51b7d"
            ],
            [
             0.2,
             "#de77ae"
            ],
            [
             0.3,
             "#f1b6da"
            ],
            [
             0.4,
             "#fde0ef"
            ],
            [
             0.5,
             "#f7f7f7"
            ],
            [
             0.6,
             "#e6f5d0"
            ],
            [
             0.7,
             "#b8e186"
            ],
            [
             0.8,
             "#7fbc41"
            ],
            [
             0.9,
             "#4d9221"
            ],
            [
             1,
             "#276419"
            ]
           ],
           "sequential": [
            [
             0,
             "#0d0887"
            ],
            [
             0.1111111111111111,
             "#46039f"
            ],
            [
             0.2222222222222222,
             "#7201a8"
            ],
            [
             0.3333333333333333,
             "#9c179e"
            ],
            [
             0.4444444444444444,
             "#bd3786"
            ],
            [
             0.5555555555555556,
             "#d8576b"
            ],
            [
             0.6666666666666666,
             "#ed7953"
            ],
            [
             0.7777777777777778,
             "#fb9f3a"
            ],
            [
             0.8888888888888888,
             "#fdca26"
            ],
            [
             1,
             "#f0f921"
            ]
           ],
           "sequentialminus": [
            [
             0,
             "#0d0887"
            ],
            [
             0.1111111111111111,
             "#46039f"
            ],
            [
             0.2222222222222222,
             "#7201a8"
            ],
            [
             0.3333333333333333,
             "#9c179e"
            ],
            [
             0.4444444444444444,
             "#bd3786"
            ],
            [
             0.5555555555555556,
             "#d8576b"
            ],
            [
             0.6666666666666666,
             "#ed7953"
            ],
            [
             0.7777777777777778,
             "#fb9f3a"
            ],
            [
             0.8888888888888888,
             "#fdca26"
            ],
            [
             1,
             "#f0f921"
            ]
           ]
          },
          "colorway": [
           "#636efa",
           "#EF553B",
           "#00cc96",
           "#ab63fa",
           "#FFA15A",
           "#19d3f3",
           "#FF6692",
           "#B6E880",
           "#FF97FF",
           "#FECB52"
          ],
          "font": {
           "color": "#2a3f5f"
          },
          "geo": {
           "bgcolor": "white",
           "lakecolor": "white",
           "landcolor": "#E5ECF6",
           "showlakes": true,
           "showland": true,
           "subunitcolor": "white"
          },
          "hoverlabel": {
           "align": "left"
          },
          "hovermode": "closest",
          "mapbox": {
           "style": "light"
          },
          "paper_bgcolor": "white",
          "plot_bgcolor": "#E5ECF6",
          "polar": {
           "angularaxis": {
            "gridcolor": "white",
            "linecolor": "white",
            "ticks": ""
           },
           "bgcolor": "#E5ECF6",
           "radialaxis": {
            "gridcolor": "white",
            "linecolor": "white",
            "ticks": ""
           }
          },
          "scene": {
           "xaxis": {
            "backgroundcolor": "#E5ECF6",
            "gridcolor": "white",
            "gridwidth": 2,
            "linecolor": "white",
            "showbackground": true,
            "ticks": "",
            "zerolinecolor": "white"
           },
           "yaxis": {
            "backgroundcolor": "#E5ECF6",
            "gridcolor": "white",
            "gridwidth": 2,
            "linecolor": "white",
            "showbackground": true,
            "ticks": "",
            "zerolinecolor": "white"
           },
           "zaxis": {
            "backgroundcolor": "#E5ECF6",
            "gridcolor": "white",
            "gridwidth": 2,
            "linecolor": "white",
            "showbackground": true,
            "ticks": "",
            "zerolinecolor": "white"
           }
          },
          "shapedefaults": {
           "line": {
            "color": "#2a3f5f"
           }
          },
          "ternary": {
           "aaxis": {
            "gridcolor": "white",
            "linecolor": "white",
            "ticks": ""
           },
           "baxis": {
            "gridcolor": "white",
            "linecolor": "white",
            "ticks": ""
           },
           "bgcolor": "#E5ECF6",
           "caxis": {
            "gridcolor": "white",
            "linecolor": "white",
            "ticks": ""
           }
          },
          "title": {
           "x": 0.05
          },
          "xaxis": {
           "automargin": true,
           "gridcolor": "white",
           "linecolor": "white",
           "ticks": "",
           "title": {
            "standoff": 15
           },
           "zerolinecolor": "white",
           "zerolinewidth": 2
          },
          "yaxis": {
           "automargin": true,
           "gridcolor": "white",
           "linecolor": "white",
           "ticks": "",
           "title": {
            "standoff": 15
           },
           "zerolinecolor": "white",
           "zerolinewidth": 2
          }
         }
        },
        "title": {
         "font": {
          "color": "#4D5663"
         }
        },
        "xaxis": {
         "gridcolor": "#E1E5ED",
         "showgrid": true,
         "tickfont": {
          "color": "#4D5663"
         },
         "title": {
          "font": {
           "color": "#4D5663"
          },
          "text": ""
         },
         "zerolinecolor": "#E1E5ED"
        },
        "yaxis": {
         "gridcolor": "#E1E5ED",
         "showgrid": true,
         "tickfont": {
          "color": "#4D5663"
         },
         "title": {
          "font": {
           "color": "#4D5663"
          },
          "text": ""
         },
         "zerolinecolor": "#E1E5ED"
        }
       }
      },
      "text/html": [
       "<div>\n",
       "        \n",
       "        \n",
       "            <div id=\"ff64ea6d-a213-41a7-bdd5-c65625e9da79\" class=\"plotly-graph-div\" style=\"height:525px; width:100%;\"></div>\n",
       "            <script type=\"text/javascript\">\n",
       "                require([\"plotly\"], function(Plotly) {\n",
       "                    window.PLOTLYENV=window.PLOTLYENV || {};\n",
       "                    window.PLOTLYENV.BASE_URL='https://plot.ly';\n",
       "                    \n",
       "                if (document.getElementById(\"ff64ea6d-a213-41a7-bdd5-c65625e9da79\")) {\n",
       "                    Plotly.newPlot(\n",
       "                        'ff64ea6d-a213-41a7-bdd5-c65625e9da79',\n",
       "                        [{\"marker\": {\"color\": [\"rgb(255, 153, 51)\", \"rgb(55, 128, 191)\", \"rgb(50, 171, 96)\", \"rgb(128, 0, 128)\", \"rgb(219, 64, 82)\", \"rgb(0, 128, 128)\", \"rgb(255, 255, 51)\", \"rgb(128, 128, 0)\", \"rgb(251, 128, 114)\", \"rgb(128, 177, 211)\"], \"line\": {\"width\": 1.3}, \"size\": [53, 63, 46, 55, 58, 60, 12, 83, 82, 91, 68, 51, 70, 112, 69, 59, 65, 78, 63, 71, 42, 74, 73, 83, 60, 84, 64, 65, 77, 64, 75, 84, 54, 67, 52, 80, 61, 68, 78, 54, 35, 46, 79, 99, 44, 51, 59, 61, 60, 46, 63, 61, 75, 29, 58, 88, 76, 84, 56, 71, 43, 64, 82, 106, 65, 54, 64, 28, 69, 71, 64, 61, 64, 84, 79, 65, 59, 64, 68, 66, 45, 64, 58, 77, 71, 32, 77, 62, 54, 105, 60, 67, 59, 82, 70, 45, 59, 62, 73, 94], \"symbol\": \"circle\"}, \"mode\": \"markers\", \"text\": \"\", \"type\": \"scatter\", \"x\": [1.0299692281207755, 0.4534019734022077, -1.156757825181421, -0.7299709942828432, 1.4409059505261956, -0.09674859261974017, -0.31310025124263396, -0.615562589771781, 1.3377488960017276, -1.238193381643003, 1.4473866003039055, -0.24578986864768815, -1.3932058840044743, -0.983629216765057, 1.1592625360059976, -0.5747697575840409, -2.164848056491318, -0.5521112208010445, 0.6596277084563169, -1.6610543716234045, -0.20127771451028606, 1.1401415826487609, 0.09581359549845013, 0.41353007338316194, -0.8418997837834926, 0.44398379100801055, -0.4763568195789701, 0.1622909197676177, -0.21577326523983892, -1.149924445072829, 0.8747976740565843, -0.6277466746502788, -0.4111046817448839, -0.1396106207813502, -0.3245889850514159, 0.47953606265711457, 0.10826429640054529, -1.33207714457925, -0.24755916405588405, -1.8647696040457458, 1.222906419466841, -1.4606120183754274, -0.5334167468495689, 0.9391682065309265, -0.5451809983351346, -0.02004448042626695, 1.9293086101896395, -0.4337940434540837, -1.3343809530709445, 0.29511550748888954, -0.06558515741836947, 0.5294550388808351, -0.9166582808037367, 0.2319000324614197, -1.5281168095973396, -0.42954701959141756, 2.0865890889512637, -0.5949872127370982, -1.4743702902513047, 0.19093383641853026, 0.3081129908388611, -2.0470356036501256, 1.1095352336807842, -1.368442764338196, -0.4275366607821204, 0.9250293952647808, -0.5777652608572624, 1.6608177632775625, 0.5316301885035559, -1.820881124822415, 0.5009456277225153, -0.4740403752566626, 0.1246658233655019, -0.869721085306933, 0.8570321501144111, 1.5911369302460645, -0.12107611962269951, -0.3401337751027574, 0.5930826615465543, -0.4564408347145368, -0.24216836595027982, -0.08433722488491868, 0.6992801443206138, -1.3479230918201661, 0.12385260456613993, -0.2558399630323414, -3.403472824761215, -0.045574523361199985, -0.0035774583155329586, -0.11088118405751529, 0.8604034726710508, -1.0374664218756517, -0.1855592050009561, -0.5341872200032267, 0.49876930778198564, -1.3949285590172393, -0.28398579730008716, 0.06999325605449133, 0.8462434658818054, 0.9747558345318641], \"y\": [-0.5292130527085185, -1.0380352192512008, 0.515028895406664, -2.0489223232459652, -1.1616751322392724, 0.31823522688089406, 0.18919871745206318, -0.3813010657547128, 1.8396674127521875, -1.0993476336561583, 1.1927977033888462, 0.15829398678681464, -2.1109880813706603, -2.0385818530526314, -1.2361305929799478, 0.42290555133059576, 0.334215214533492, -0.20054377299147397, -0.8833505114126339, -1.1084383976938577, -1.851908547017362, -1.0630283408896297, 0.5926098904319725, 0.7513579534642801, 0.4637901368493004, -0.33709959840844683, 0.21027272795232996, 0.8983184683403516, -0.4901405914309119, -0.20120314218583968, 1.5011997035092146, -1.2095873020523167, -1.0700199021981835, -0.561313763405721, -0.28675070338425557, -0.6600015870215331, 2.937508711840935, 0.6477235827190407, 0.7318236869344612, 2.521495744543777, -0.022979158314660908, 0.2591095214280645, 0.06302427412203036, -0.5361261075311612, -0.37160107954747856, -0.626653987445001, 1.1429500158289485, 0.5096385749787216, -0.04873226669639589, 0.9850149505462312, -0.7852691213273342, -0.34270170975593817, -0.9623179316518778, 0.5539939911774647, -0.2577336972974899, 0.8976399206056497, -0.8051615534241037, -0.3443681028873965, 0.5734273403582758, 0.5019099807939298, 2.7681162645095507, 1.122021252487704, -0.7216893204909437, -0.13414541303752042, -1.1840734124359265, 2.11238290368288, 0.926063528945275, -0.48344166812176287, 0.7464086455230814, 1.8437767291806353, 0.4979201807729261, 0.2937901422164776, 0.057658364909912586, 0.19838391413673306, 0.9346106944872706, -0.34037271913893585, -1.0638231219610457, 0.05025142693732289, -0.6289189004932967, -0.9800787023295485, 0.0933863937368245, -0.07306728474361188, -1.0369062410116046, 0.7331677844235539, 0.5175133296662681, -0.29837523305297237, 1.009587285483537, -0.9170029650799433, 0.8441742768430965, 0.7854003158011569, 1.4732317340251777, -0.08212285584046843, -0.6773271354002086, 1.2832787579287601, 0.7311234814090207, -0.43089962618951966, 0.23807414436880844, -0.7455583649577328, 1.8898349439930222, -0.48940410252311906]}],\n",
       "                        {\"legend\": {\"bgcolor\": \"#F5F6F9\", \"font\": {\"color\": \"#4D5663\"}}, \"paper_bgcolor\": \"#F5F6F9\", \"plot_bgcolor\": \"#F5F6F9\", \"template\": {\"data\": {\"bar\": [{\"error_x\": {\"color\": \"#2a3f5f\"}, \"error_y\": {\"color\": \"#2a3f5f\"}, \"marker\": {\"line\": {\"color\": \"#E5ECF6\", \"width\": 0.5}}, \"type\": \"bar\"}], \"barpolar\": [{\"marker\": {\"line\": {\"color\": \"#E5ECF6\", \"width\": 0.5}}, \"type\": \"barpolar\"}], \"carpet\": [{\"aaxis\": {\"endlinecolor\": \"#2a3f5f\", \"gridcolor\": \"white\", \"linecolor\": \"white\", \"minorgridcolor\": \"white\", \"startlinecolor\": \"#2a3f5f\"}, \"baxis\": {\"endlinecolor\": \"#2a3f5f\", \"gridcolor\": \"white\", \"linecolor\": \"white\", \"minorgridcolor\": \"white\", \"startlinecolor\": \"#2a3f5f\"}, \"type\": \"carpet\"}], \"choropleth\": [{\"colorbar\": {\"outlinewidth\": 0, \"ticks\": \"\"}, \"type\": \"choropleth\"}], \"contour\": [{\"colorbar\": {\"outlinewidth\": 0, \"ticks\": \"\"}, \"colorscale\": [[0.0, \"#0d0887\"], [0.1111111111111111, \"#46039f\"], [0.2222222222222222, \"#7201a8\"], [0.3333333333333333, \"#9c179e\"], [0.4444444444444444, \"#bd3786\"], [0.5555555555555556, \"#d8576b\"], [0.6666666666666666, \"#ed7953\"], [0.7777777777777778, \"#fb9f3a\"], [0.8888888888888888, \"#fdca26\"], [1.0, \"#f0f921\"]], \"type\": \"contour\"}], \"contourcarpet\": [{\"colorbar\": {\"outlinewidth\": 0, \"ticks\": \"\"}, \"type\": \"contourcarpet\"}], \"heatmap\": [{\"colorbar\": {\"outlinewidth\": 0, \"ticks\": \"\"}, \"colorscale\": [[0.0, \"#0d0887\"], [0.1111111111111111, \"#46039f\"], [0.2222222222222222, \"#7201a8\"], [0.3333333333333333, \"#9c179e\"], [0.4444444444444444, \"#bd3786\"], [0.5555555555555556, \"#d8576b\"], [0.6666666666666666, \"#ed7953\"], [0.7777777777777778, \"#fb9f3a\"], [0.8888888888888888, \"#fdca26\"], [1.0, \"#f0f921\"]], \"type\": \"heatmap\"}], \"heatmapgl\": [{\"colorbar\": {\"outlinewidth\": 0, \"ticks\": \"\"}, \"colorscale\": [[0.0, \"#0d0887\"], [0.1111111111111111, \"#46039f\"], [0.2222222222222222, \"#7201a8\"], [0.3333333333333333, \"#9c179e\"], [0.4444444444444444, \"#bd3786\"], [0.5555555555555556, \"#d8576b\"], [0.6666666666666666, \"#ed7953\"], [0.7777777777777778, \"#fb9f3a\"], [0.8888888888888888, \"#fdca26\"], [1.0, \"#f0f921\"]], \"type\": \"heatmapgl\"}], \"histogram\": [{\"marker\": {\"colorbar\": {\"outlinewidth\": 0, \"ticks\": \"\"}}, \"type\": \"histogram\"}], \"histogram2d\": [{\"colorbar\": {\"outlinewidth\": 0, \"ticks\": \"\"}, \"colorscale\": [[0.0, \"#0d0887\"], [0.1111111111111111, \"#46039f\"], [0.2222222222222222, \"#7201a8\"], [0.3333333333333333, \"#9c179e\"], [0.4444444444444444, \"#bd3786\"], [0.5555555555555556, \"#d8576b\"], [0.6666666666666666, \"#ed7953\"], [0.7777777777777778, \"#fb9f3a\"], [0.8888888888888888, \"#fdca26\"], [1.0, \"#f0f921\"]], \"type\": \"histogram2d\"}], \"histogram2dcontour\": [{\"colorbar\": {\"outlinewidth\": 0, \"ticks\": \"\"}, \"colorscale\": [[0.0, \"#0d0887\"], [0.1111111111111111, \"#46039f\"], [0.2222222222222222, \"#7201a8\"], [0.3333333333333333, \"#9c179e\"], [0.4444444444444444, \"#bd3786\"], [0.5555555555555556, \"#d8576b\"], [0.6666666666666666, \"#ed7953\"], [0.7777777777777778, \"#fb9f3a\"], [0.8888888888888888, \"#fdca26\"], [1.0, \"#f0f921\"]], \"type\": \"histogram2dcontour\"}], \"mesh3d\": [{\"colorbar\": {\"outlinewidth\": 0, \"ticks\": \"\"}, \"type\": \"mesh3d\"}], \"parcoords\": [{\"line\": {\"colorbar\": {\"outlinewidth\": 0, \"ticks\": \"\"}}, \"type\": \"parcoords\"}], \"pie\": [{\"automargin\": true, \"type\": \"pie\"}], \"scatter\": [{\"marker\": {\"colorbar\": {\"outlinewidth\": 0, \"ticks\": \"\"}}, \"type\": \"scatter\"}], \"scatter3d\": [{\"line\": {\"colorbar\": {\"outlinewidth\": 0, \"ticks\": \"\"}}, \"marker\": {\"colorbar\": {\"outlinewidth\": 0, \"ticks\": \"\"}}, \"type\": \"scatter3d\"}], \"scattercarpet\": [{\"marker\": {\"colorbar\": {\"outlinewidth\": 0, \"ticks\": \"\"}}, \"type\": \"scattercarpet\"}], \"scattergeo\": [{\"marker\": {\"colorbar\": {\"outlinewidth\": 0, \"ticks\": \"\"}}, \"type\": \"scattergeo\"}], \"scattergl\": [{\"marker\": {\"colorbar\": {\"outlinewidth\": 0, \"ticks\": \"\"}}, \"type\": \"scattergl\"}], \"scattermapbox\": [{\"marker\": {\"colorbar\": {\"outlinewidth\": 0, \"ticks\": \"\"}}, \"type\": \"scattermapbox\"}], \"scatterpolar\": [{\"marker\": {\"colorbar\": {\"outlinewidth\": 0, \"ticks\": \"\"}}, \"type\": \"scatterpolar\"}], \"scatterpolargl\": [{\"marker\": {\"colorbar\": {\"outlinewidth\": 0, \"ticks\": \"\"}}, \"type\": \"scatterpolargl\"}], \"scatterternary\": [{\"marker\": {\"colorbar\": {\"outlinewidth\": 0, \"ticks\": \"\"}}, \"type\": \"scatterternary\"}], \"surface\": [{\"colorbar\": {\"outlinewidth\": 0, \"ticks\": \"\"}, \"colorscale\": [[0.0, \"#0d0887\"], [0.1111111111111111, \"#46039f\"], [0.2222222222222222, \"#7201a8\"], [0.3333333333333333, \"#9c179e\"], [0.4444444444444444, \"#bd3786\"], [0.5555555555555556, \"#d8576b\"], [0.6666666666666666, \"#ed7953\"], [0.7777777777777778, \"#fb9f3a\"], [0.8888888888888888, \"#fdca26\"], [1.0, \"#f0f921\"]], \"type\": \"surface\"}], \"table\": [{\"cells\": {\"fill\": {\"color\": \"#EBF0F8\"}, \"line\": {\"color\": \"white\"}}, \"header\": {\"fill\": {\"color\": \"#C8D4E3\"}, \"line\": {\"color\": \"white\"}}, \"type\": \"table\"}]}, \"layout\": {\"annotationdefaults\": {\"arrowcolor\": \"#2a3f5f\", \"arrowhead\": 0, \"arrowwidth\": 1}, \"coloraxis\": {\"colorbar\": {\"outlinewidth\": 0, \"ticks\": \"\"}}, \"colorscale\": {\"diverging\": [[0, \"#8e0152\"], [0.1, \"#c51b7d\"], [0.2, \"#de77ae\"], [0.3, \"#f1b6da\"], [0.4, \"#fde0ef\"], [0.5, \"#f7f7f7\"], [0.6, \"#e6f5d0\"], [0.7, \"#b8e186\"], [0.8, \"#7fbc41\"], [0.9, \"#4d9221\"], [1, \"#276419\"]], \"sequential\": [[0.0, \"#0d0887\"], [0.1111111111111111, \"#46039f\"], [0.2222222222222222, \"#7201a8\"], [0.3333333333333333, \"#9c179e\"], [0.4444444444444444, \"#bd3786\"], [0.5555555555555556, \"#d8576b\"], [0.6666666666666666, \"#ed7953\"], [0.7777777777777778, \"#fb9f3a\"], [0.8888888888888888, \"#fdca26\"], [1.0, \"#f0f921\"]], \"sequentialminus\": [[0.0, \"#0d0887\"], [0.1111111111111111, \"#46039f\"], [0.2222222222222222, \"#7201a8\"], [0.3333333333333333, \"#9c179e\"], [0.4444444444444444, \"#bd3786\"], [0.5555555555555556, \"#d8576b\"], [0.6666666666666666, \"#ed7953\"], [0.7777777777777778, \"#fb9f3a\"], [0.8888888888888888, \"#fdca26\"], [1.0, \"#f0f921\"]]}, \"colorway\": [\"#636efa\", \"#EF553B\", \"#00cc96\", \"#ab63fa\", \"#FFA15A\", \"#19d3f3\", \"#FF6692\", \"#B6E880\", \"#FF97FF\", \"#FECB52\"], \"font\": {\"color\": \"#2a3f5f\"}, \"geo\": {\"bgcolor\": \"white\", \"lakecolor\": \"white\", \"landcolor\": \"#E5ECF6\", \"showlakes\": true, \"showland\": true, \"subunitcolor\": \"white\"}, \"hoverlabel\": {\"align\": \"left\"}, \"hovermode\": \"closest\", \"mapbox\": {\"style\": \"light\"}, \"paper_bgcolor\": \"white\", \"plot_bgcolor\": \"#E5ECF6\", \"polar\": {\"angularaxis\": {\"gridcolor\": \"white\", \"linecolor\": \"white\", \"ticks\": \"\"}, \"bgcolor\": \"#E5ECF6\", \"radialaxis\": {\"gridcolor\": \"white\", \"linecolor\": \"white\", \"ticks\": \"\"}}, \"scene\": {\"xaxis\": {\"backgroundcolor\": \"#E5ECF6\", \"gridcolor\": \"white\", \"gridwidth\": 2, \"linecolor\": \"white\", \"showbackground\": true, \"ticks\": \"\", \"zerolinecolor\": \"white\"}, \"yaxis\": {\"backgroundcolor\": \"#E5ECF6\", \"gridcolor\": \"white\", \"gridwidth\": 2, \"linecolor\": \"white\", \"showbackground\": true, \"ticks\": \"\", \"zerolinecolor\": \"white\"}, \"zaxis\": {\"backgroundcolor\": \"#E5ECF6\", \"gridcolor\": \"white\", \"gridwidth\": 2, \"linecolor\": \"white\", \"showbackground\": true, \"ticks\": \"\", \"zerolinecolor\": \"white\"}}, \"shapedefaults\": {\"line\": {\"color\": \"#2a3f5f\"}}, \"ternary\": {\"aaxis\": {\"gridcolor\": \"white\", \"linecolor\": \"white\", \"ticks\": \"\"}, \"baxis\": {\"gridcolor\": \"white\", \"linecolor\": \"white\", \"ticks\": \"\"}, \"bgcolor\": \"#E5ECF6\", \"caxis\": {\"gridcolor\": \"white\", \"linecolor\": \"white\", \"ticks\": \"\"}}, \"title\": {\"x\": 0.05}, \"xaxis\": {\"automargin\": true, \"gridcolor\": \"white\", \"linecolor\": \"white\", \"ticks\": \"\", \"title\": {\"standoff\": 15}, \"zerolinecolor\": \"white\", \"zerolinewidth\": 2}, \"yaxis\": {\"automargin\": true, \"gridcolor\": \"white\", \"linecolor\": \"white\", \"ticks\": \"\", \"title\": {\"standoff\": 15}, \"zerolinecolor\": \"white\", \"zerolinewidth\": 2}}}, \"title\": {\"font\": {\"color\": \"#4D5663\"}}, \"xaxis\": {\"gridcolor\": \"#E1E5ED\", \"showgrid\": true, \"tickfont\": {\"color\": \"#4D5663\"}, \"title\": {\"font\": {\"color\": \"#4D5663\"}, \"text\": \"\"}, \"zerolinecolor\": \"#E1E5ED\"}, \"yaxis\": {\"gridcolor\": \"#E1E5ED\", \"showgrid\": true, \"tickfont\": {\"color\": \"#4D5663\"}, \"title\": {\"font\": {\"color\": \"#4D5663\"}, \"text\": \"\"}, \"zerolinecolor\": \"#E1E5ED\"}},\n",
       "                        {\"showLink\": true, \"linkText\": \"Export to plot.ly\", \"plotlyServerURL\": \"https://plot.ly\", \"responsive\": true}\n",
       "                    ).then(function(){\n",
       "                            \n",
       "var gd = document.getElementById('ff64ea6d-a213-41a7-bdd5-c65625e9da79');\n",
       "var x = new MutationObserver(function (mutations, observer) {{\n",
       "        var display = window.getComputedStyle(gd).display;\n",
       "        if (!display || display === 'none') {{\n",
       "            console.log([gd, 'removed!']);\n",
       "            Plotly.purge(gd);\n",
       "            observer.disconnect();\n",
       "        }}\n",
       "}});\n",
       "\n",
       "// Listen for the removal of the full notebook cells\n",
       "var notebookContainer = gd.closest('#notebook-container');\n",
       "if (notebookContainer) {{\n",
       "    x.observe(notebookContainer, {childList: true});\n",
       "}}\n",
       "\n",
       "// Listen for the clearing of the current output cell\n",
       "var outputEl = gd.closest('.output');\n",
       "if (outputEl) {{\n",
       "    x.observe(outputEl, {childList: true});\n",
       "}}\n",
       "\n",
       "                        })\n",
       "                };\n",
       "                });\n",
       "            </script>\n",
       "        </div>"
      ]
     },
     "metadata": {},
     "output_type": "display_data"
    }
   ],
   "source": [
    "df.iplot(kind='bubble',x='A',y='B',size='C')"
   ]
  },
  {
   "cell_type": "markdown",
   "metadata": {},
   "source": [
    "## scatter_matrix()\n",
    "\n",
    "Similar to sns.pairplot()"
   ]
  },
  {
   "cell_type": "code",
   "execution_count": 19,
   "metadata": {},
   "outputs": [
    {
     "data": {
      "application/vnd.plotly.v1+json": {
       "config": {
        "linkText": "Export to plot.ly",
        "plotlyServerURL": "https://plot.ly",
        "showLink": true
       },
       "data": [
        {
         "histfunc": "count",
         "histnorm": "",
         "marker": {
          "color": "rgba(255, 153, 51, 1.0)",
          "line": {
           "color": "#4D5663",
           "width": 1.3
          }
         },
         "name": "A",
         "nbinsx": 10,
         "opacity": 0.8,
         "orientation": "v",
         "type": "histogram",
         "x": [
          1.0299692281207755,
          0.4534019734022077,
          -1.156757825181421,
          -0.7299709942828432,
          1.4409059505261956,
          -0.09674859261974017,
          -0.31310025124263396,
          -0.615562589771781,
          1.3377488960017276,
          -1.238193381643003,
          1.4473866003039055,
          -0.24578986864768815,
          -1.3932058840044743,
          -0.983629216765057,
          1.1592625360059976,
          -0.5747697575840409,
          -2.164848056491318,
          -0.5521112208010445,
          0.6596277084563169,
          -1.6610543716234045,
          -0.20127771451028606,
          1.1401415826487609,
          0.09581359549845013,
          0.41353007338316194,
          -0.8418997837834926,
          0.44398379100801055,
          -0.4763568195789701,
          0.1622909197676177,
          -0.21577326523983892,
          -1.149924445072829,
          0.8747976740565843,
          -0.6277466746502788,
          -0.4111046817448839,
          -0.1396106207813502,
          -0.3245889850514159,
          0.47953606265711457,
          0.10826429640054529,
          -1.33207714457925,
          -0.24755916405588405,
          -1.8647696040457458,
          1.222906419466841,
          -1.4606120183754274,
          -0.5334167468495689,
          0.9391682065309265,
          -0.5451809983351346,
          -0.02004448042626695,
          1.9293086101896395,
          -0.4337940434540837,
          -1.3343809530709445,
          0.29511550748888954,
          -0.06558515741836947,
          0.5294550388808351,
          -0.9166582808037367,
          0.2319000324614197,
          -1.5281168095973396,
          -0.42954701959141756,
          2.0865890889512637,
          -0.5949872127370982,
          -1.4743702902513047,
          0.19093383641853026,
          0.3081129908388611,
          -2.0470356036501256,
          1.1095352336807842,
          -1.368442764338196,
          -0.4275366607821204,
          0.9250293952647808,
          -0.5777652608572624,
          1.6608177632775625,
          0.5316301885035559,
          -1.820881124822415,
          0.5009456277225153,
          -0.4740403752566626,
          0.1246658233655019,
          -0.869721085306933,
          0.8570321501144111,
          1.5911369302460645,
          -0.12107611962269951,
          -0.3401337751027574,
          0.5930826615465543,
          -0.4564408347145368,
          -0.24216836595027982,
          -0.08433722488491868,
          0.6992801443206138,
          -1.3479230918201661,
          0.12385260456613993,
          -0.2558399630323414,
          -3.403472824761215,
          -0.045574523361199985,
          -0.0035774583155329586,
          -0.11088118405751529,
          0.8604034726710508,
          -1.0374664218756517,
          -0.1855592050009561,
          -0.5341872200032267,
          0.49876930778198564,
          -1.3949285590172393,
          -0.28398579730008716,
          0.06999325605449133,
          0.8462434658818054,
          0.9747558345318641
         ],
         "xaxis": "x",
         "yaxis": "y"
        },
        {
         "line": {
          "color": "rgba(128, 128, 128, 1.0)",
          "dash": "solid",
          "shape": "linear",
          "width": 1.3
         },
         "marker": {
          "size": 2,
          "symbol": "circle"
         },
         "mode": "markers",
         "name": "A",
         "text": "",
         "type": "scatter",
         "x": [
          -0.5292130527085185,
          -1.0380352192512008,
          0.515028895406664,
          -2.0489223232459652,
          -1.1616751322392724,
          0.31823522688089406,
          0.18919871745206318,
          -0.3813010657547128,
          1.8396674127521875,
          -1.0993476336561583,
          1.1927977033888462,
          0.15829398678681464,
          -2.1109880813706603,
          -2.0385818530526314,
          -1.2361305929799478,
          0.42290555133059576,
          0.334215214533492,
          -0.20054377299147397,
          -0.8833505114126339,
          -1.1084383976938577,
          -1.851908547017362,
          -1.0630283408896297,
          0.5926098904319725,
          0.7513579534642801,
          0.4637901368493004,
          -0.33709959840844683,
          0.21027272795232996,
          0.8983184683403516,
          -0.4901405914309119,
          -0.20120314218583968,
          1.5011997035092146,
          -1.2095873020523167,
          -1.0700199021981835,
          -0.561313763405721,
          -0.28675070338425557,
          -0.6600015870215331,
          2.937508711840935,
          0.6477235827190407,
          0.7318236869344612,
          2.521495744543777,
          -0.022979158314660908,
          0.2591095214280645,
          0.06302427412203036,
          -0.5361261075311612,
          -0.37160107954747856,
          -0.626653987445001,
          1.1429500158289485,
          0.5096385749787216,
          -0.04873226669639589,
          0.9850149505462312,
          -0.7852691213273342,
          -0.34270170975593817,
          -0.9623179316518778,
          0.5539939911774647,
          -0.2577336972974899,
          0.8976399206056497,
          -0.8051615534241037,
          -0.3443681028873965,
          0.5734273403582758,
          0.5019099807939298,
          2.7681162645095507,
          1.122021252487704,
          -0.7216893204909437,
          -0.13414541303752042,
          -1.1840734124359265,
          2.11238290368288,
          0.926063528945275,
          -0.48344166812176287,
          0.7464086455230814,
          1.8437767291806353,
          0.4979201807729261,
          0.2937901422164776,
          0.057658364909912586,
          0.19838391413673306,
          0.9346106944872706,
          -0.34037271913893585,
          -1.0638231219610457,
          0.05025142693732289,
          -0.6289189004932967,
          -0.9800787023295485,
          0.0933863937368245,
          -0.07306728474361188,
          -1.0369062410116046,
          0.7331677844235539,
          0.5175133296662681,
          -0.29837523305297237,
          1.009587285483537,
          -0.9170029650799433,
          0.8441742768430965,
          0.7854003158011569,
          1.4732317340251777,
          -0.08212285584046843,
          -0.6773271354002086,
          1.2832787579287601,
          0.7311234814090207,
          -0.43089962618951966,
          0.23807414436880844,
          -0.7455583649577328,
          1.8898349439930222,
          -0.48940410252311906
         ],
         "xaxis": "x2",
         "y": [
          1.0299692281207755,
          0.4534019734022077,
          -1.156757825181421,
          -0.7299709942828432,
          1.4409059505261956,
          -0.09674859261974017,
          -0.31310025124263396,
          -0.615562589771781,
          1.3377488960017276,
          -1.238193381643003,
          1.4473866003039055,
          -0.24578986864768815,
          -1.3932058840044743,
          -0.983629216765057,
          1.1592625360059976,
          -0.5747697575840409,
          -2.164848056491318,
          -0.5521112208010445,
          0.6596277084563169,
          -1.6610543716234045,
          -0.20127771451028606,
          1.1401415826487609,
          0.09581359549845013,
          0.41353007338316194,
          -0.8418997837834926,
          0.44398379100801055,
          -0.4763568195789701,
          0.1622909197676177,
          -0.21577326523983892,
          -1.149924445072829,
          0.8747976740565843,
          -0.6277466746502788,
          -0.4111046817448839,
          -0.1396106207813502,
          -0.3245889850514159,
          0.47953606265711457,
          0.10826429640054529,
          -1.33207714457925,
          -0.24755916405588405,
          -1.8647696040457458,
          1.222906419466841,
          -1.4606120183754274,
          -0.5334167468495689,
          0.9391682065309265,
          -0.5451809983351346,
          -0.02004448042626695,
          1.9293086101896395,
          -0.4337940434540837,
          -1.3343809530709445,
          0.29511550748888954,
          -0.06558515741836947,
          0.5294550388808351,
          -0.9166582808037367,
          0.2319000324614197,
          -1.5281168095973396,
          -0.42954701959141756,
          2.0865890889512637,
          -0.5949872127370982,
          -1.4743702902513047,
          0.19093383641853026,
          0.3081129908388611,
          -2.0470356036501256,
          1.1095352336807842,
          -1.368442764338196,
          -0.4275366607821204,
          0.9250293952647808,
          -0.5777652608572624,
          1.6608177632775625,
          0.5316301885035559,
          -1.820881124822415,
          0.5009456277225153,
          -0.4740403752566626,
          0.1246658233655019,
          -0.869721085306933,
          0.8570321501144111,
          1.5911369302460645,
          -0.12107611962269951,
          -0.3401337751027574,
          0.5930826615465543,
          -0.4564408347145368,
          -0.24216836595027982,
          -0.08433722488491868,
          0.6992801443206138,
          -1.3479230918201661,
          0.12385260456613993,
          -0.2558399630323414,
          -3.403472824761215,
          -0.045574523361199985,
          -0.0035774583155329586,
          -0.11088118405751529,
          0.8604034726710508,
          -1.0374664218756517,
          -0.1855592050009561,
          -0.5341872200032267,
          0.49876930778198564,
          -1.3949285590172393,
          -0.28398579730008716,
          0.06999325605449133,
          0.8462434658818054,
          0.9747558345318641
         ],
         "yaxis": "y2"
        },
        {
         "line": {
          "color": "rgba(128, 128, 128, 1.0)",
          "dash": "solid",
          "shape": "linear",
          "width": 1.3
         },
         "marker": {
          "size": 2,
          "symbol": "circle"
         },
         "mode": "markers",
         "name": "A",
         "text": "",
         "type": "scatter",
         "x": [
          -0.7324498605631861,
          -0.1303894608628459,
          -1.151100409182011,
          -0.6422617241775928,
          -0.44754472937397344,
          -0.3075176554383684,
          -3.1383989680001267,
          0.9764719821691396,
          0.9266940736043047,
          1.4434370922461166,
          0.15364569147515642,
          -0.8600410763556198,
          0.27149082659844936,
          2.652403606812918,
          0.19789334310764972,
          -0.4034990693487221,
          -0.05531385250273491,
          0.6977655605986051,
          -0.13119522974507344,
          0.32007108515669425,
          -1.394911538222159,
          0.4890328438033733,
          0.4279502511685625,
          0.999009471226633,
          -0.3049256779375995,
          1.0554487495688034,
          -0.07025195901839071,
          -0.06158185040287161,
          0.6422129478688288,
          -0.09901727969887121,
          0.5107018454485471,
          1.0402505354817695,
          -0.6508222246538106,
          0.059348190610508944,
          -0.7810493526677275,
          0.8464277906209582,
          -0.2597065853638947,
          0.15705290177027986,
          0.721847761461881,
          -0.6871082860134929,
          -1.7821285555993478,
          -1.1591483514811343,
          0.7652530577940034,
          1.9284784171058644,
          -1.2743976951607354,
          -0.8624389453104636,
          -0.4116205273447163,
          -0.25568683642038775,
          -0.3400649966749066,
          -1.1497243849249152,
          -0.18031729609360275,
          -0.27769638691502063,
          0.5320467971213227,
          -2.109826886255268,
          -0.46713590865489846,
          1.2723497597429383,
          0.6063208534882636,
          1.0778543334618587,
          -0.5475774933853736,
          0.2805901048055045,
          -1.2859662545080643,
          -0.12623347019959708,
          0.9528552836049331,
          2.353897144594742,
          -0.029919428088069962,
          -0.6952287967905131,
          -0.07769555725477738,
          -2.1975619606829366,
          0.19106169107433513,
          0.2842729049504016,
          -0.09525562185007477,
          -0.24799786172426608,
          -0.09576940661676409,
          1.0641532265647242,
          0.7826753718086371,
          -0.011998668395117125,
          -0.4007367902180285,
          -0.11230917965809203,
          0.10830421162028454,
          0.008995541337013661,
          -1.1728670577135618,
          -0.09614470770089809,
          -0.4410033002449212,
          0.6484236081441456,
          0.28309485102980203,
          -1.9585303737505555,
          0.6407223405181663,
          -0.23420900871443726,
          -0.6580015984575852,
          2.247150655645674,
          -0.32304534932041523,
          0.05013026965175229,
          -0.39674403388053014,
          0.96971803688895,
          0.25562500157134666,
          -1.1929340682178564,
          -0.3793143282987808,
          -0.20849049787340979,
          0.4023415317472472,
          1.6568358063297357
         ],
         "xaxis": "x3",
         "y": [
          1.0299692281207755,
          0.4534019734022077,
          -1.156757825181421,
          -0.7299709942828432,
          1.4409059505261956,
          -0.09674859261974017,
          -0.31310025124263396,
          -0.615562589771781,
          1.3377488960017276,
          -1.238193381643003,
          1.4473866003039055,
          -0.24578986864768815,
          -1.3932058840044743,
          -0.983629216765057,
          1.1592625360059976,
          -0.5747697575840409,
          -2.164848056491318,
          -0.5521112208010445,
          0.6596277084563169,
          -1.6610543716234045,
          -0.20127771451028606,
          1.1401415826487609,
          0.09581359549845013,
          0.41353007338316194,
          -0.8418997837834926,
          0.44398379100801055,
          -0.4763568195789701,
          0.1622909197676177,
          -0.21577326523983892,
          -1.149924445072829,
          0.8747976740565843,
          -0.6277466746502788,
          -0.4111046817448839,
          -0.1396106207813502,
          -0.3245889850514159,
          0.47953606265711457,
          0.10826429640054529,
          -1.33207714457925,
          -0.24755916405588405,
          -1.8647696040457458,
          1.222906419466841,
          -1.4606120183754274,
          -0.5334167468495689,
          0.9391682065309265,
          -0.5451809983351346,
          -0.02004448042626695,
          1.9293086101896395,
          -0.4337940434540837,
          -1.3343809530709445,
          0.29511550748888954,
          -0.06558515741836947,
          0.5294550388808351,
          -0.9166582808037367,
          0.2319000324614197,
          -1.5281168095973396,
          -0.42954701959141756,
          2.0865890889512637,
          -0.5949872127370982,
          -1.4743702902513047,
          0.19093383641853026,
          0.3081129908388611,
          -2.0470356036501256,
          1.1095352336807842,
          -1.368442764338196,
          -0.4275366607821204,
          0.9250293952647808,
          -0.5777652608572624,
          1.6608177632775625,
          0.5316301885035559,
          -1.820881124822415,
          0.5009456277225153,
          -0.4740403752566626,
          0.1246658233655019,
          -0.869721085306933,
          0.8570321501144111,
          1.5911369302460645,
          -0.12107611962269951,
          -0.3401337751027574,
          0.5930826615465543,
          -0.4564408347145368,
          -0.24216836595027982,
          -0.08433722488491868,
          0.6992801443206138,
          -1.3479230918201661,
          0.12385260456613993,
          -0.2558399630323414,
          -3.403472824761215,
          -0.045574523361199985,
          -0.0035774583155329586,
          -0.11088118405751529,
          0.8604034726710508,
          -1.0374664218756517,
          -0.1855592050009561,
          -0.5341872200032267,
          0.49876930778198564,
          -1.3949285590172393,
          -0.28398579730008716,
          0.06999325605449133,
          0.8462434658818054,
          0.9747558345318641
         ],
         "yaxis": "y3"
        },
        {
         "line": {
          "color": "rgba(128, 128, 128, 1.0)",
          "dash": "solid",
          "shape": "linear",
          "width": 1.3
         },
         "marker": {
          "size": 2,
          "symbol": "circle"
         },
         "mode": "markers",
         "name": "A",
         "text": "",
         "type": "scatter",
         "x": [
          -0.03405134757754162,
          1.7601247138745886,
          0.7102161198087767,
          -0.20015282905238874,
          -2.091195220278861,
          1.1204571784020945,
          0.7106720190853378,
          -0.6336353028181934,
          0.7501138232635651,
          1.7419560818222881,
          -0.3083398513293142,
          0.15955064262988533,
          1.0490556273469869,
          0.28255005612949297,
          0.8743748133540031,
          -0.36818590031915716,
          0.3482186714954275,
          -0.4700906789684043,
          -0.5664638387952888,
          -0.7359182099202148,
          -2.566657954603579,
          -0.500571359282229,
          2.5275974880261707,
          -0.12644390984980539,
          -0.4901267637245524,
          0.1682681391167114,
          1.0937463725943974,
          -0.639426165430679,
          -1.9639560818688637,
          -0.9088344333096241,
          -1.4861475068301657,
          1.0038671754592452,
          0.2851358764228744,
          -0.05976094031039234,
          -1.864592796729352,
          -0.34248666954436857,
          -1.5085546495188544,
          -0.31230847608330536,
          3.3138915393945925,
          1.11482123114005,
          -0.4571426724366232,
          -0.7641689224300509,
          -0.4055984788240558,
          -0.7048011882313757,
          -1.0322008125019613,
          0.12921765130349191,
          0.45631515986879134,
          0.6303858234609643,
          -0.4699500879746037,
          0.16970164067017493,
          0.8745101344956532,
          0.20439625104582343,
          -0.8217709907644891,
          -0.8419600534293578,
          -0.6722858746289054,
          -0.7506503580178014,
          0.7473586143240762,
          0.019515955657227097,
          0.1692105965100989,
          2.0757748626399155,
          0.2678083922467391,
          -0.7783403921194563,
          1.1276814882775195,
          -2.0542988448012927,
          -1.110588941942566,
          0.35171992312005,
          -1.461644889124666,
          0.13811073609220823,
          0.9999749992383878,
          1.1408925929262406,
          -1.1288253533927428,
          -0.38262838805717175,
          -1.3853308736999235,
          -1.5771578115948657,
          -0.4383853798804836,
          0.49243061527514315,
          1.7074205792522625,
          -0.2455721645333344,
          -0.13148762705759243,
          -0.18537710295690857,
          -0.1290397089016061,
          1.566791331909838,
          -1.0644028526512264,
          0.4748821179637237,
          0.7203473787223855,
          0.4466385392714042,
          2.171749315693905,
          0.4123904744334221,
          -1.9855716426751728,
          -0.5118512502422413,
          -0.21477142134116692,
          -2.4018237983542186,
          -0.3266458193432738,
          -0.2145059113336942,
          -0.24174609919601492,
          1.3031027972902298,
          -0.17916473801883537,
          2.1699855178031124,
          -0.5965139378836746,
          1.057565997220973
         ],
         "xaxis": "x4",
         "y": [
          1.0299692281207755,
          0.4534019734022077,
          -1.156757825181421,
          -0.7299709942828432,
          1.4409059505261956,
          -0.09674859261974017,
          -0.31310025124263396,
          -0.615562589771781,
          1.3377488960017276,
          -1.238193381643003,
          1.4473866003039055,
          -0.24578986864768815,
          -1.3932058840044743,
          -0.983629216765057,
          1.1592625360059976,
          -0.5747697575840409,
          -2.164848056491318,
          -0.5521112208010445,
          0.6596277084563169,
          -1.6610543716234045,
          -0.20127771451028606,
          1.1401415826487609,
          0.09581359549845013,
          0.41353007338316194,
          -0.8418997837834926,
          0.44398379100801055,
          -0.4763568195789701,
          0.1622909197676177,
          -0.21577326523983892,
          -1.149924445072829,
          0.8747976740565843,
          -0.6277466746502788,
          -0.4111046817448839,
          -0.1396106207813502,
          -0.3245889850514159,
          0.47953606265711457,
          0.10826429640054529,
          -1.33207714457925,
          -0.24755916405588405,
          -1.8647696040457458,
          1.222906419466841,
          -1.4606120183754274,
          -0.5334167468495689,
          0.9391682065309265,
          -0.5451809983351346,
          -0.02004448042626695,
          1.9293086101896395,
          -0.4337940434540837,
          -1.3343809530709445,
          0.29511550748888954,
          -0.06558515741836947,
          0.5294550388808351,
          -0.9166582808037367,
          0.2319000324614197,
          -1.5281168095973396,
          -0.42954701959141756,
          2.0865890889512637,
          -0.5949872127370982,
          -1.4743702902513047,
          0.19093383641853026,
          0.3081129908388611,
          -2.0470356036501256,
          1.1095352336807842,
          -1.368442764338196,
          -0.4275366607821204,
          0.9250293952647808,
          -0.5777652608572624,
          1.6608177632775625,
          0.5316301885035559,
          -1.820881124822415,
          0.5009456277225153,
          -0.4740403752566626,
          0.1246658233655019,
          -0.869721085306933,
          0.8570321501144111,
          1.5911369302460645,
          -0.12107611962269951,
          -0.3401337751027574,
          0.5930826615465543,
          -0.4564408347145368,
          -0.24216836595027982,
          -0.08433722488491868,
          0.6992801443206138,
          -1.3479230918201661,
          0.12385260456613993,
          -0.2558399630323414,
          -3.403472824761215,
          -0.045574523361199985,
          -0.0035774583155329586,
          -0.11088118405751529,
          0.8604034726710508,
          -1.0374664218756517,
          -0.1855592050009561,
          -0.5341872200032267,
          0.49876930778198564,
          -1.3949285590172393,
          -0.28398579730008716,
          0.06999325605449133,
          0.8462434658818054,
          0.9747558345318641
         ],
         "yaxis": "y4"
        },
        {
         "line": {
          "color": "rgba(128, 128, 128, 1.0)",
          "dash": "solid",
          "shape": "linear",
          "width": 1.3
         },
         "marker": {
          "size": 2,
          "symbol": "circle"
         },
         "mode": "markers",
         "name": "B",
         "text": "",
         "type": "scatter",
         "x": [
          1.0299692281207755,
          0.4534019734022077,
          -1.156757825181421,
          -0.7299709942828432,
          1.4409059505261956,
          -0.09674859261974017,
          -0.31310025124263396,
          -0.615562589771781,
          1.3377488960017276,
          -1.238193381643003,
          1.4473866003039055,
          -0.24578986864768815,
          -1.3932058840044743,
          -0.983629216765057,
          1.1592625360059976,
          -0.5747697575840409,
          -2.164848056491318,
          -0.5521112208010445,
          0.6596277084563169,
          -1.6610543716234045,
          -0.20127771451028606,
          1.1401415826487609,
          0.09581359549845013,
          0.41353007338316194,
          -0.8418997837834926,
          0.44398379100801055,
          -0.4763568195789701,
          0.1622909197676177,
          -0.21577326523983892,
          -1.149924445072829,
          0.8747976740565843,
          -0.6277466746502788,
          -0.4111046817448839,
          -0.1396106207813502,
          -0.3245889850514159,
          0.47953606265711457,
          0.10826429640054529,
          -1.33207714457925,
          -0.24755916405588405,
          -1.8647696040457458,
          1.222906419466841,
          -1.4606120183754274,
          -0.5334167468495689,
          0.9391682065309265,
          -0.5451809983351346,
          -0.02004448042626695,
          1.9293086101896395,
          -0.4337940434540837,
          -1.3343809530709445,
          0.29511550748888954,
          -0.06558515741836947,
          0.5294550388808351,
          -0.9166582808037367,
          0.2319000324614197,
          -1.5281168095973396,
          -0.42954701959141756,
          2.0865890889512637,
          -0.5949872127370982,
          -1.4743702902513047,
          0.19093383641853026,
          0.3081129908388611,
          -2.0470356036501256,
          1.1095352336807842,
          -1.368442764338196,
          -0.4275366607821204,
          0.9250293952647808,
          -0.5777652608572624,
          1.6608177632775625,
          0.5316301885035559,
          -1.820881124822415,
          0.5009456277225153,
          -0.4740403752566626,
          0.1246658233655019,
          -0.869721085306933,
          0.8570321501144111,
          1.5911369302460645,
          -0.12107611962269951,
          -0.3401337751027574,
          0.5930826615465543,
          -0.4564408347145368,
          -0.24216836595027982,
          -0.08433722488491868,
          0.6992801443206138,
          -1.3479230918201661,
          0.12385260456613993,
          -0.2558399630323414,
          -3.403472824761215,
          -0.045574523361199985,
          -0.0035774583155329586,
          -0.11088118405751529,
          0.8604034726710508,
          -1.0374664218756517,
          -0.1855592050009561,
          -0.5341872200032267,
          0.49876930778198564,
          -1.3949285590172393,
          -0.28398579730008716,
          0.06999325605449133,
          0.8462434658818054,
          0.9747558345318641
         ],
         "xaxis": "x5",
         "y": [
          -0.5292130527085185,
          -1.0380352192512008,
          0.515028895406664,
          -2.0489223232459652,
          -1.1616751322392724,
          0.31823522688089406,
          0.18919871745206318,
          -0.3813010657547128,
          1.8396674127521875,
          -1.0993476336561583,
          1.1927977033888462,
          0.15829398678681464,
          -2.1109880813706603,
          -2.0385818530526314,
          -1.2361305929799478,
          0.42290555133059576,
          0.334215214533492,
          -0.20054377299147397,
          -0.8833505114126339,
          -1.1084383976938577,
          -1.851908547017362,
          -1.0630283408896297,
          0.5926098904319725,
          0.7513579534642801,
          0.4637901368493004,
          -0.33709959840844683,
          0.21027272795232996,
          0.8983184683403516,
          -0.4901405914309119,
          -0.20120314218583968,
          1.5011997035092146,
          -1.2095873020523167,
          -1.0700199021981835,
          -0.561313763405721,
          -0.28675070338425557,
          -0.6600015870215331,
          2.937508711840935,
          0.6477235827190407,
          0.7318236869344612,
          2.521495744543777,
          -0.022979158314660908,
          0.2591095214280645,
          0.06302427412203036,
          -0.5361261075311612,
          -0.37160107954747856,
          -0.626653987445001,
          1.1429500158289485,
          0.5096385749787216,
          -0.04873226669639589,
          0.9850149505462312,
          -0.7852691213273342,
          -0.34270170975593817,
          -0.9623179316518778,
          0.5539939911774647,
          -0.2577336972974899,
          0.8976399206056497,
          -0.8051615534241037,
          -0.3443681028873965,
          0.5734273403582758,
          0.5019099807939298,
          2.7681162645095507,
          1.122021252487704,
          -0.7216893204909437,
          -0.13414541303752042,
          -1.1840734124359265,
          2.11238290368288,
          0.926063528945275,
          -0.48344166812176287,
          0.7464086455230814,
          1.8437767291806353,
          0.4979201807729261,
          0.2937901422164776,
          0.057658364909912586,
          0.19838391413673306,
          0.9346106944872706,
          -0.34037271913893585,
          -1.0638231219610457,
          0.05025142693732289,
          -0.6289189004932967,
          -0.9800787023295485,
          0.0933863937368245,
          -0.07306728474361188,
          -1.0369062410116046,
          0.7331677844235539,
          0.5175133296662681,
          -0.29837523305297237,
          1.009587285483537,
          -0.9170029650799433,
          0.8441742768430965,
          0.7854003158011569,
          1.4732317340251777,
          -0.08212285584046843,
          -0.6773271354002086,
          1.2832787579287601,
          0.7311234814090207,
          -0.43089962618951966,
          0.23807414436880844,
          -0.7455583649577328,
          1.8898349439930222,
          -0.48940410252311906
         ],
         "yaxis": "y5"
        },
        {
         "histfunc": "count",
         "histnorm": "",
         "marker": {
          "color": "rgba(55, 128, 191, 1.0)",
          "line": {
           "color": "#4D5663",
           "width": 1.3
          }
         },
         "name": "B",
         "nbinsx": 10,
         "opacity": 0.8,
         "orientation": "v",
         "type": "histogram",
         "x": [
          -0.5292130527085185,
          -1.0380352192512008,
          0.515028895406664,
          -2.0489223232459652,
          -1.1616751322392724,
          0.31823522688089406,
          0.18919871745206318,
          -0.3813010657547128,
          1.8396674127521875,
          -1.0993476336561583,
          1.1927977033888462,
          0.15829398678681464,
          -2.1109880813706603,
          -2.0385818530526314,
          -1.2361305929799478,
          0.42290555133059576,
          0.334215214533492,
          -0.20054377299147397,
          -0.8833505114126339,
          -1.1084383976938577,
          -1.851908547017362,
          -1.0630283408896297,
          0.5926098904319725,
          0.7513579534642801,
          0.4637901368493004,
          -0.33709959840844683,
          0.21027272795232996,
          0.8983184683403516,
          -0.4901405914309119,
          -0.20120314218583968,
          1.5011997035092146,
          -1.2095873020523167,
          -1.0700199021981835,
          -0.561313763405721,
          -0.28675070338425557,
          -0.6600015870215331,
          2.937508711840935,
          0.6477235827190407,
          0.7318236869344612,
          2.521495744543777,
          -0.022979158314660908,
          0.2591095214280645,
          0.06302427412203036,
          -0.5361261075311612,
          -0.37160107954747856,
          -0.626653987445001,
          1.1429500158289485,
          0.5096385749787216,
          -0.04873226669639589,
          0.9850149505462312,
          -0.7852691213273342,
          -0.34270170975593817,
          -0.9623179316518778,
          0.5539939911774647,
          -0.2577336972974899,
          0.8976399206056497,
          -0.8051615534241037,
          -0.3443681028873965,
          0.5734273403582758,
          0.5019099807939298,
          2.7681162645095507,
          1.122021252487704,
          -0.7216893204909437,
          -0.13414541303752042,
          -1.1840734124359265,
          2.11238290368288,
          0.926063528945275,
          -0.48344166812176287,
          0.7464086455230814,
          1.8437767291806353,
          0.4979201807729261,
          0.2937901422164776,
          0.057658364909912586,
          0.19838391413673306,
          0.9346106944872706,
          -0.34037271913893585,
          -1.0638231219610457,
          0.05025142693732289,
          -0.6289189004932967,
          -0.9800787023295485,
          0.0933863937368245,
          -0.07306728474361188,
          -1.0369062410116046,
          0.7331677844235539,
          0.5175133296662681,
          -0.29837523305297237,
          1.009587285483537,
          -0.9170029650799433,
          0.8441742768430965,
          0.7854003158011569,
          1.4732317340251777,
          -0.08212285584046843,
          -0.6773271354002086,
          1.2832787579287601,
          0.7311234814090207,
          -0.43089962618951966,
          0.23807414436880844,
          -0.7455583649577328,
          1.8898349439930222,
          -0.48940410252311906
         ],
         "xaxis": "x6",
         "yaxis": "y6"
        },
        {
         "line": {
          "color": "rgba(128, 128, 128, 1.0)",
          "dash": "solid",
          "shape": "linear",
          "width": 1.3
         },
         "marker": {
          "size": 2,
          "symbol": "circle"
         },
         "mode": "markers",
         "name": "B",
         "text": "",
         "type": "scatter",
         "x": [
          -0.7324498605631861,
          -0.1303894608628459,
          -1.151100409182011,
          -0.6422617241775928,
          -0.44754472937397344,
          -0.3075176554383684,
          -3.1383989680001267,
          0.9764719821691396,
          0.9266940736043047,
          1.4434370922461166,
          0.15364569147515642,
          -0.8600410763556198,
          0.27149082659844936,
          2.652403606812918,
          0.19789334310764972,
          -0.4034990693487221,
          -0.05531385250273491,
          0.6977655605986051,
          -0.13119522974507344,
          0.32007108515669425,
          -1.394911538222159,
          0.4890328438033733,
          0.4279502511685625,
          0.999009471226633,
          -0.3049256779375995,
          1.0554487495688034,
          -0.07025195901839071,
          -0.06158185040287161,
          0.6422129478688288,
          -0.09901727969887121,
          0.5107018454485471,
          1.0402505354817695,
          -0.6508222246538106,
          0.059348190610508944,
          -0.7810493526677275,
          0.8464277906209582,
          -0.2597065853638947,
          0.15705290177027986,
          0.721847761461881,
          -0.6871082860134929,
          -1.7821285555993478,
          -1.1591483514811343,
          0.7652530577940034,
          1.9284784171058644,
          -1.2743976951607354,
          -0.8624389453104636,
          -0.4116205273447163,
          -0.25568683642038775,
          -0.3400649966749066,
          -1.1497243849249152,
          -0.18031729609360275,
          -0.27769638691502063,
          0.5320467971213227,
          -2.109826886255268,
          -0.46713590865489846,
          1.2723497597429383,
          0.6063208534882636,
          1.0778543334618587,
          -0.5475774933853736,
          0.2805901048055045,
          -1.2859662545080643,
          -0.12623347019959708,
          0.9528552836049331,
          2.353897144594742,
          -0.029919428088069962,
          -0.6952287967905131,
          -0.07769555725477738,
          -2.1975619606829366,
          0.19106169107433513,
          0.2842729049504016,
          -0.09525562185007477,
          -0.24799786172426608,
          -0.09576940661676409,
          1.0641532265647242,
          0.7826753718086371,
          -0.011998668395117125,
          -0.4007367902180285,
          -0.11230917965809203,
          0.10830421162028454,
          0.008995541337013661,
          -1.1728670577135618,
          -0.09614470770089809,
          -0.4410033002449212,
          0.6484236081441456,
          0.28309485102980203,
          -1.9585303737505555,
          0.6407223405181663,
          -0.23420900871443726,
          -0.6580015984575852,
          2.247150655645674,
          -0.32304534932041523,
          0.05013026965175229,
          -0.39674403388053014,
          0.96971803688895,
          0.25562500157134666,
          -1.1929340682178564,
          -0.3793143282987808,
          -0.20849049787340979,
          0.4023415317472472,
          1.6568358063297357
         ],
         "xaxis": "x7",
         "y": [
          -0.5292130527085185,
          -1.0380352192512008,
          0.515028895406664,
          -2.0489223232459652,
          -1.1616751322392724,
          0.31823522688089406,
          0.18919871745206318,
          -0.3813010657547128,
          1.8396674127521875,
          -1.0993476336561583,
          1.1927977033888462,
          0.15829398678681464,
          -2.1109880813706603,
          -2.0385818530526314,
          -1.2361305929799478,
          0.42290555133059576,
          0.334215214533492,
          -0.20054377299147397,
          -0.8833505114126339,
          -1.1084383976938577,
          -1.851908547017362,
          -1.0630283408896297,
          0.5926098904319725,
          0.7513579534642801,
          0.4637901368493004,
          -0.33709959840844683,
          0.21027272795232996,
          0.8983184683403516,
          -0.4901405914309119,
          -0.20120314218583968,
          1.5011997035092146,
          -1.2095873020523167,
          -1.0700199021981835,
          -0.561313763405721,
          -0.28675070338425557,
          -0.6600015870215331,
          2.937508711840935,
          0.6477235827190407,
          0.7318236869344612,
          2.521495744543777,
          -0.022979158314660908,
          0.2591095214280645,
          0.06302427412203036,
          -0.5361261075311612,
          -0.37160107954747856,
          -0.626653987445001,
          1.1429500158289485,
          0.5096385749787216,
          -0.04873226669639589,
          0.9850149505462312,
          -0.7852691213273342,
          -0.34270170975593817,
          -0.9623179316518778,
          0.5539939911774647,
          -0.2577336972974899,
          0.8976399206056497,
          -0.8051615534241037,
          -0.3443681028873965,
          0.5734273403582758,
          0.5019099807939298,
          2.7681162645095507,
          1.122021252487704,
          -0.7216893204909437,
          -0.13414541303752042,
          -1.1840734124359265,
          2.11238290368288,
          0.926063528945275,
          -0.48344166812176287,
          0.7464086455230814,
          1.8437767291806353,
          0.4979201807729261,
          0.2937901422164776,
          0.057658364909912586,
          0.19838391413673306,
          0.9346106944872706,
          -0.34037271913893585,
          -1.0638231219610457,
          0.05025142693732289,
          -0.6289189004932967,
          -0.9800787023295485,
          0.0933863937368245,
          -0.07306728474361188,
          -1.0369062410116046,
          0.7331677844235539,
          0.5175133296662681,
          -0.29837523305297237,
          1.009587285483537,
          -0.9170029650799433,
          0.8441742768430965,
          0.7854003158011569,
          1.4732317340251777,
          -0.08212285584046843,
          -0.6773271354002086,
          1.2832787579287601,
          0.7311234814090207,
          -0.43089962618951966,
          0.23807414436880844,
          -0.7455583649577328,
          1.8898349439930222,
          -0.48940410252311906
         ],
         "yaxis": "y7"
        },
        {
         "line": {
          "color": "rgba(128, 128, 128, 1.0)",
          "dash": "solid",
          "shape": "linear",
          "width": 1.3
         },
         "marker": {
          "size": 2,
          "symbol": "circle"
         },
         "mode": "markers",
         "name": "B",
         "text": "",
         "type": "scatter",
         "x": [
          -0.03405134757754162,
          1.7601247138745886,
          0.7102161198087767,
          -0.20015282905238874,
          -2.091195220278861,
          1.1204571784020945,
          0.7106720190853378,
          -0.6336353028181934,
          0.7501138232635651,
          1.7419560818222881,
          -0.3083398513293142,
          0.15955064262988533,
          1.0490556273469869,
          0.28255005612949297,
          0.8743748133540031,
          -0.36818590031915716,
          0.3482186714954275,
          -0.4700906789684043,
          -0.5664638387952888,
          -0.7359182099202148,
          -2.566657954603579,
          -0.500571359282229,
          2.5275974880261707,
          -0.12644390984980539,
          -0.4901267637245524,
          0.1682681391167114,
          1.0937463725943974,
          -0.639426165430679,
          -1.9639560818688637,
          -0.9088344333096241,
          -1.4861475068301657,
          1.0038671754592452,
          0.2851358764228744,
          -0.05976094031039234,
          -1.864592796729352,
          -0.34248666954436857,
          -1.5085546495188544,
          -0.31230847608330536,
          3.3138915393945925,
          1.11482123114005,
          -0.4571426724366232,
          -0.7641689224300509,
          -0.4055984788240558,
          -0.7048011882313757,
          -1.0322008125019613,
          0.12921765130349191,
          0.45631515986879134,
          0.6303858234609643,
          -0.4699500879746037,
          0.16970164067017493,
          0.8745101344956532,
          0.20439625104582343,
          -0.8217709907644891,
          -0.8419600534293578,
          -0.6722858746289054,
          -0.7506503580178014,
          0.7473586143240762,
          0.019515955657227097,
          0.1692105965100989,
          2.0757748626399155,
          0.2678083922467391,
          -0.7783403921194563,
          1.1276814882775195,
          -2.0542988448012927,
          -1.110588941942566,
          0.35171992312005,
          -1.461644889124666,
          0.13811073609220823,
          0.9999749992383878,
          1.1408925929262406,
          -1.1288253533927428,
          -0.38262838805717175,
          -1.3853308736999235,
          -1.5771578115948657,
          -0.4383853798804836,
          0.49243061527514315,
          1.7074205792522625,
          -0.2455721645333344,
          -0.13148762705759243,
          -0.18537710295690857,
          -0.1290397089016061,
          1.566791331909838,
          -1.0644028526512264,
          0.4748821179637237,
          0.7203473787223855,
          0.4466385392714042,
          2.171749315693905,
          0.4123904744334221,
          -1.9855716426751728,
          -0.5118512502422413,
          -0.21477142134116692,
          -2.4018237983542186,
          -0.3266458193432738,
          -0.2145059113336942,
          -0.24174609919601492,
          1.3031027972902298,
          -0.17916473801883537,
          2.1699855178031124,
          -0.5965139378836746,
          1.057565997220973
         ],
         "xaxis": "x8",
         "y": [
          -0.5292130527085185,
          -1.0380352192512008,
          0.515028895406664,
          -2.0489223232459652,
          -1.1616751322392724,
          0.31823522688089406,
          0.18919871745206318,
          -0.3813010657547128,
          1.8396674127521875,
          -1.0993476336561583,
          1.1927977033888462,
          0.15829398678681464,
          -2.1109880813706603,
          -2.0385818530526314,
          -1.2361305929799478,
          0.42290555133059576,
          0.334215214533492,
          -0.20054377299147397,
          -0.8833505114126339,
          -1.1084383976938577,
          -1.851908547017362,
          -1.0630283408896297,
          0.5926098904319725,
          0.7513579534642801,
          0.4637901368493004,
          -0.33709959840844683,
          0.21027272795232996,
          0.8983184683403516,
          -0.4901405914309119,
          -0.20120314218583968,
          1.5011997035092146,
          -1.2095873020523167,
          -1.0700199021981835,
          -0.561313763405721,
          -0.28675070338425557,
          -0.6600015870215331,
          2.937508711840935,
          0.6477235827190407,
          0.7318236869344612,
          2.521495744543777,
          -0.022979158314660908,
          0.2591095214280645,
          0.06302427412203036,
          -0.5361261075311612,
          -0.37160107954747856,
          -0.626653987445001,
          1.1429500158289485,
          0.5096385749787216,
          -0.04873226669639589,
          0.9850149505462312,
          -0.7852691213273342,
          -0.34270170975593817,
          -0.9623179316518778,
          0.5539939911774647,
          -0.2577336972974899,
          0.8976399206056497,
          -0.8051615534241037,
          -0.3443681028873965,
          0.5734273403582758,
          0.5019099807939298,
          2.7681162645095507,
          1.122021252487704,
          -0.7216893204909437,
          -0.13414541303752042,
          -1.1840734124359265,
          2.11238290368288,
          0.926063528945275,
          -0.48344166812176287,
          0.7464086455230814,
          1.8437767291806353,
          0.4979201807729261,
          0.2937901422164776,
          0.057658364909912586,
          0.19838391413673306,
          0.9346106944872706,
          -0.34037271913893585,
          -1.0638231219610457,
          0.05025142693732289,
          -0.6289189004932967,
          -0.9800787023295485,
          0.0933863937368245,
          -0.07306728474361188,
          -1.0369062410116046,
          0.7331677844235539,
          0.5175133296662681,
          -0.29837523305297237,
          1.009587285483537,
          -0.9170029650799433,
          0.8441742768430965,
          0.7854003158011569,
          1.4732317340251777,
          -0.08212285584046843,
          -0.6773271354002086,
          1.2832787579287601,
          0.7311234814090207,
          -0.43089962618951966,
          0.23807414436880844,
          -0.7455583649577328,
          1.8898349439930222,
          -0.48940410252311906
         ],
         "yaxis": "y8"
        },
        {
         "line": {
          "color": "rgba(128, 128, 128, 1.0)",
          "dash": "solid",
          "shape": "linear",
          "width": 1.3
         },
         "marker": {
          "size": 2,
          "symbol": "circle"
         },
         "mode": "markers",
         "name": "C",
         "text": "",
         "type": "scatter",
         "x": [
          1.0299692281207755,
          0.4534019734022077,
          -1.156757825181421,
          -0.7299709942828432,
          1.4409059505261956,
          -0.09674859261974017,
          -0.31310025124263396,
          -0.615562589771781,
          1.3377488960017276,
          -1.238193381643003,
          1.4473866003039055,
          -0.24578986864768815,
          -1.3932058840044743,
          -0.983629216765057,
          1.1592625360059976,
          -0.5747697575840409,
          -2.164848056491318,
          -0.5521112208010445,
          0.6596277084563169,
          -1.6610543716234045,
          -0.20127771451028606,
          1.1401415826487609,
          0.09581359549845013,
          0.41353007338316194,
          -0.8418997837834926,
          0.44398379100801055,
          -0.4763568195789701,
          0.1622909197676177,
          -0.21577326523983892,
          -1.149924445072829,
          0.8747976740565843,
          -0.6277466746502788,
          -0.4111046817448839,
          -0.1396106207813502,
          -0.3245889850514159,
          0.47953606265711457,
          0.10826429640054529,
          -1.33207714457925,
          -0.24755916405588405,
          -1.8647696040457458,
          1.222906419466841,
          -1.4606120183754274,
          -0.5334167468495689,
          0.9391682065309265,
          -0.5451809983351346,
          -0.02004448042626695,
          1.9293086101896395,
          -0.4337940434540837,
          -1.3343809530709445,
          0.29511550748888954,
          -0.06558515741836947,
          0.5294550388808351,
          -0.9166582808037367,
          0.2319000324614197,
          -1.5281168095973396,
          -0.42954701959141756,
          2.0865890889512637,
          -0.5949872127370982,
          -1.4743702902513047,
          0.19093383641853026,
          0.3081129908388611,
          -2.0470356036501256,
          1.1095352336807842,
          -1.368442764338196,
          -0.4275366607821204,
          0.9250293952647808,
          -0.5777652608572624,
          1.6608177632775625,
          0.5316301885035559,
          -1.820881124822415,
          0.5009456277225153,
          -0.4740403752566626,
          0.1246658233655019,
          -0.869721085306933,
          0.8570321501144111,
          1.5911369302460645,
          -0.12107611962269951,
          -0.3401337751027574,
          0.5930826615465543,
          -0.4564408347145368,
          -0.24216836595027982,
          -0.08433722488491868,
          0.6992801443206138,
          -1.3479230918201661,
          0.12385260456613993,
          -0.2558399630323414,
          -3.403472824761215,
          -0.045574523361199985,
          -0.0035774583155329586,
          -0.11088118405751529,
          0.8604034726710508,
          -1.0374664218756517,
          -0.1855592050009561,
          -0.5341872200032267,
          0.49876930778198564,
          -1.3949285590172393,
          -0.28398579730008716,
          0.06999325605449133,
          0.8462434658818054,
          0.9747558345318641
         ],
         "xaxis": "x9",
         "y": [
          -0.7324498605631861,
          -0.1303894608628459,
          -1.151100409182011,
          -0.6422617241775928,
          -0.44754472937397344,
          -0.3075176554383684,
          -3.1383989680001267,
          0.9764719821691396,
          0.9266940736043047,
          1.4434370922461166,
          0.15364569147515642,
          -0.8600410763556198,
          0.27149082659844936,
          2.652403606812918,
          0.19789334310764972,
          -0.4034990693487221,
          -0.05531385250273491,
          0.6977655605986051,
          -0.13119522974507344,
          0.32007108515669425,
          -1.394911538222159,
          0.4890328438033733,
          0.4279502511685625,
          0.999009471226633,
          -0.3049256779375995,
          1.0554487495688034,
          -0.07025195901839071,
          -0.06158185040287161,
          0.6422129478688288,
          -0.09901727969887121,
          0.5107018454485471,
          1.0402505354817695,
          -0.6508222246538106,
          0.059348190610508944,
          -0.7810493526677275,
          0.8464277906209582,
          -0.2597065853638947,
          0.15705290177027986,
          0.721847761461881,
          -0.6871082860134929,
          -1.7821285555993478,
          -1.1591483514811343,
          0.7652530577940034,
          1.9284784171058644,
          -1.2743976951607354,
          -0.8624389453104636,
          -0.4116205273447163,
          -0.25568683642038775,
          -0.3400649966749066,
          -1.1497243849249152,
          -0.18031729609360275,
          -0.27769638691502063,
          0.5320467971213227,
          -2.109826886255268,
          -0.46713590865489846,
          1.2723497597429383,
          0.6063208534882636,
          1.0778543334618587,
          -0.5475774933853736,
          0.2805901048055045,
          -1.2859662545080643,
          -0.12623347019959708,
          0.9528552836049331,
          2.353897144594742,
          -0.029919428088069962,
          -0.6952287967905131,
          -0.07769555725477738,
          -2.1975619606829366,
          0.19106169107433513,
          0.2842729049504016,
          -0.09525562185007477,
          -0.24799786172426608,
          -0.09576940661676409,
          1.0641532265647242,
          0.7826753718086371,
          -0.011998668395117125,
          -0.4007367902180285,
          -0.11230917965809203,
          0.10830421162028454,
          0.008995541337013661,
          -1.1728670577135618,
          -0.09614470770089809,
          -0.4410033002449212,
          0.6484236081441456,
          0.28309485102980203,
          -1.9585303737505555,
          0.6407223405181663,
          -0.23420900871443726,
          -0.6580015984575852,
          2.247150655645674,
          -0.32304534932041523,
          0.05013026965175229,
          -0.39674403388053014,
          0.96971803688895,
          0.25562500157134666,
          -1.1929340682178564,
          -0.3793143282987808,
          -0.20849049787340979,
          0.4023415317472472,
          1.6568358063297357
         ],
         "yaxis": "y9"
        },
        {
         "line": {
          "color": "rgba(128, 128, 128, 1.0)",
          "dash": "solid",
          "shape": "linear",
          "width": 1.3
         },
         "marker": {
          "size": 2,
          "symbol": "circle"
         },
         "mode": "markers",
         "name": "C",
         "text": "",
         "type": "scatter",
         "x": [
          -0.5292130527085185,
          -1.0380352192512008,
          0.515028895406664,
          -2.0489223232459652,
          -1.1616751322392724,
          0.31823522688089406,
          0.18919871745206318,
          -0.3813010657547128,
          1.8396674127521875,
          -1.0993476336561583,
          1.1927977033888462,
          0.15829398678681464,
          -2.1109880813706603,
          -2.0385818530526314,
          -1.2361305929799478,
          0.42290555133059576,
          0.334215214533492,
          -0.20054377299147397,
          -0.8833505114126339,
          -1.1084383976938577,
          -1.851908547017362,
          -1.0630283408896297,
          0.5926098904319725,
          0.7513579534642801,
          0.4637901368493004,
          -0.33709959840844683,
          0.21027272795232996,
          0.8983184683403516,
          -0.4901405914309119,
          -0.20120314218583968,
          1.5011997035092146,
          -1.2095873020523167,
          -1.0700199021981835,
          -0.561313763405721,
          -0.28675070338425557,
          -0.6600015870215331,
          2.937508711840935,
          0.6477235827190407,
          0.7318236869344612,
          2.521495744543777,
          -0.022979158314660908,
          0.2591095214280645,
          0.06302427412203036,
          -0.5361261075311612,
          -0.37160107954747856,
          -0.626653987445001,
          1.1429500158289485,
          0.5096385749787216,
          -0.04873226669639589,
          0.9850149505462312,
          -0.7852691213273342,
          -0.34270170975593817,
          -0.9623179316518778,
          0.5539939911774647,
          -0.2577336972974899,
          0.8976399206056497,
          -0.8051615534241037,
          -0.3443681028873965,
          0.5734273403582758,
          0.5019099807939298,
          2.7681162645095507,
          1.122021252487704,
          -0.7216893204909437,
          -0.13414541303752042,
          -1.1840734124359265,
          2.11238290368288,
          0.926063528945275,
          -0.48344166812176287,
          0.7464086455230814,
          1.8437767291806353,
          0.4979201807729261,
          0.2937901422164776,
          0.057658364909912586,
          0.19838391413673306,
          0.9346106944872706,
          -0.34037271913893585,
          -1.0638231219610457,
          0.05025142693732289,
          -0.6289189004932967,
          -0.9800787023295485,
          0.0933863937368245,
          -0.07306728474361188,
          -1.0369062410116046,
          0.7331677844235539,
          0.5175133296662681,
          -0.29837523305297237,
          1.009587285483537,
          -0.9170029650799433,
          0.8441742768430965,
          0.7854003158011569,
          1.4732317340251777,
          -0.08212285584046843,
          -0.6773271354002086,
          1.2832787579287601,
          0.7311234814090207,
          -0.43089962618951966,
          0.23807414436880844,
          -0.7455583649577328,
          1.8898349439930222,
          -0.48940410252311906
         ],
         "xaxis": "x10",
         "y": [
          -0.7324498605631861,
          -0.1303894608628459,
          -1.151100409182011,
          -0.6422617241775928,
          -0.44754472937397344,
          -0.3075176554383684,
          -3.1383989680001267,
          0.9764719821691396,
          0.9266940736043047,
          1.4434370922461166,
          0.15364569147515642,
          -0.8600410763556198,
          0.27149082659844936,
          2.652403606812918,
          0.19789334310764972,
          -0.4034990693487221,
          -0.05531385250273491,
          0.6977655605986051,
          -0.13119522974507344,
          0.32007108515669425,
          -1.394911538222159,
          0.4890328438033733,
          0.4279502511685625,
          0.999009471226633,
          -0.3049256779375995,
          1.0554487495688034,
          -0.07025195901839071,
          -0.06158185040287161,
          0.6422129478688288,
          -0.09901727969887121,
          0.5107018454485471,
          1.0402505354817695,
          -0.6508222246538106,
          0.059348190610508944,
          -0.7810493526677275,
          0.8464277906209582,
          -0.2597065853638947,
          0.15705290177027986,
          0.721847761461881,
          -0.6871082860134929,
          -1.7821285555993478,
          -1.1591483514811343,
          0.7652530577940034,
          1.9284784171058644,
          -1.2743976951607354,
          -0.8624389453104636,
          -0.4116205273447163,
          -0.25568683642038775,
          -0.3400649966749066,
          -1.1497243849249152,
          -0.18031729609360275,
          -0.27769638691502063,
          0.5320467971213227,
          -2.109826886255268,
          -0.46713590865489846,
          1.2723497597429383,
          0.6063208534882636,
          1.0778543334618587,
          -0.5475774933853736,
          0.2805901048055045,
          -1.2859662545080643,
          -0.12623347019959708,
          0.9528552836049331,
          2.353897144594742,
          -0.029919428088069962,
          -0.6952287967905131,
          -0.07769555725477738,
          -2.1975619606829366,
          0.19106169107433513,
          0.2842729049504016,
          -0.09525562185007477,
          -0.24799786172426608,
          -0.09576940661676409,
          1.0641532265647242,
          0.7826753718086371,
          -0.011998668395117125,
          -0.4007367902180285,
          -0.11230917965809203,
          0.10830421162028454,
          0.008995541337013661,
          -1.1728670577135618,
          -0.09614470770089809,
          -0.4410033002449212,
          0.6484236081441456,
          0.28309485102980203,
          -1.9585303737505555,
          0.6407223405181663,
          -0.23420900871443726,
          -0.6580015984575852,
          2.247150655645674,
          -0.32304534932041523,
          0.05013026965175229,
          -0.39674403388053014,
          0.96971803688895,
          0.25562500157134666,
          -1.1929340682178564,
          -0.3793143282987808,
          -0.20849049787340979,
          0.4023415317472472,
          1.6568358063297357
         ],
         "yaxis": "y10"
        },
        {
         "histfunc": "count",
         "histnorm": "",
         "marker": {
          "color": "rgba(50, 171, 96, 1.0)",
          "line": {
           "color": "#4D5663",
           "width": 1.3
          }
         },
         "name": "C",
         "nbinsx": 10,
         "opacity": 0.8,
         "orientation": "v",
         "type": "histogram",
         "x": [
          -0.7324498605631861,
          -0.1303894608628459,
          -1.151100409182011,
          -0.6422617241775928,
          -0.44754472937397344,
          -0.3075176554383684,
          -3.1383989680001267,
          0.9764719821691396,
          0.9266940736043047,
          1.4434370922461166,
          0.15364569147515642,
          -0.8600410763556198,
          0.27149082659844936,
          2.652403606812918,
          0.19789334310764972,
          -0.4034990693487221,
          -0.05531385250273491,
          0.6977655605986051,
          -0.13119522974507344,
          0.32007108515669425,
          -1.394911538222159,
          0.4890328438033733,
          0.4279502511685625,
          0.999009471226633,
          -0.3049256779375995,
          1.0554487495688034,
          -0.07025195901839071,
          -0.06158185040287161,
          0.6422129478688288,
          -0.09901727969887121,
          0.5107018454485471,
          1.0402505354817695,
          -0.6508222246538106,
          0.059348190610508944,
          -0.7810493526677275,
          0.8464277906209582,
          -0.2597065853638947,
          0.15705290177027986,
          0.721847761461881,
          -0.6871082860134929,
          -1.7821285555993478,
          -1.1591483514811343,
          0.7652530577940034,
          1.9284784171058644,
          -1.2743976951607354,
          -0.8624389453104636,
          -0.4116205273447163,
          -0.25568683642038775,
          -0.3400649966749066,
          -1.1497243849249152,
          -0.18031729609360275,
          -0.27769638691502063,
          0.5320467971213227,
          -2.109826886255268,
          -0.46713590865489846,
          1.2723497597429383,
          0.6063208534882636,
          1.0778543334618587,
          -0.5475774933853736,
          0.2805901048055045,
          -1.2859662545080643,
          -0.12623347019959708,
          0.9528552836049331,
          2.353897144594742,
          -0.029919428088069962,
          -0.6952287967905131,
          -0.07769555725477738,
          -2.1975619606829366,
          0.19106169107433513,
          0.2842729049504016,
          -0.09525562185007477,
          -0.24799786172426608,
          -0.09576940661676409,
          1.0641532265647242,
          0.7826753718086371,
          -0.011998668395117125,
          -0.4007367902180285,
          -0.11230917965809203,
          0.10830421162028454,
          0.008995541337013661,
          -1.1728670577135618,
          -0.09614470770089809,
          -0.4410033002449212,
          0.6484236081441456,
          0.28309485102980203,
          -1.9585303737505555,
          0.6407223405181663,
          -0.23420900871443726,
          -0.6580015984575852,
          2.247150655645674,
          -0.32304534932041523,
          0.05013026965175229,
          -0.39674403388053014,
          0.96971803688895,
          0.25562500157134666,
          -1.1929340682178564,
          -0.3793143282987808,
          -0.20849049787340979,
          0.4023415317472472,
          1.6568358063297357
         ],
         "xaxis": "x11",
         "yaxis": "y11"
        },
        {
         "line": {
          "color": "rgba(128, 128, 128, 1.0)",
          "dash": "solid",
          "shape": "linear",
          "width": 1.3
         },
         "marker": {
          "size": 2,
          "symbol": "circle"
         },
         "mode": "markers",
         "name": "C",
         "text": "",
         "type": "scatter",
         "x": [
          -0.03405134757754162,
          1.7601247138745886,
          0.7102161198087767,
          -0.20015282905238874,
          -2.091195220278861,
          1.1204571784020945,
          0.7106720190853378,
          -0.6336353028181934,
          0.7501138232635651,
          1.7419560818222881,
          -0.3083398513293142,
          0.15955064262988533,
          1.0490556273469869,
          0.28255005612949297,
          0.8743748133540031,
          -0.36818590031915716,
          0.3482186714954275,
          -0.4700906789684043,
          -0.5664638387952888,
          -0.7359182099202148,
          -2.566657954603579,
          -0.500571359282229,
          2.5275974880261707,
          -0.12644390984980539,
          -0.4901267637245524,
          0.1682681391167114,
          1.0937463725943974,
          -0.639426165430679,
          -1.9639560818688637,
          -0.9088344333096241,
          -1.4861475068301657,
          1.0038671754592452,
          0.2851358764228744,
          -0.05976094031039234,
          -1.864592796729352,
          -0.34248666954436857,
          -1.5085546495188544,
          -0.31230847608330536,
          3.3138915393945925,
          1.11482123114005,
          -0.4571426724366232,
          -0.7641689224300509,
          -0.4055984788240558,
          -0.7048011882313757,
          -1.0322008125019613,
          0.12921765130349191,
          0.45631515986879134,
          0.6303858234609643,
          -0.4699500879746037,
          0.16970164067017493,
          0.8745101344956532,
          0.20439625104582343,
          -0.8217709907644891,
          -0.8419600534293578,
          -0.6722858746289054,
          -0.7506503580178014,
          0.7473586143240762,
          0.019515955657227097,
          0.1692105965100989,
          2.0757748626399155,
          0.2678083922467391,
          -0.7783403921194563,
          1.1276814882775195,
          -2.0542988448012927,
          -1.110588941942566,
          0.35171992312005,
          -1.461644889124666,
          0.13811073609220823,
          0.9999749992383878,
          1.1408925929262406,
          -1.1288253533927428,
          -0.38262838805717175,
          -1.3853308736999235,
          -1.5771578115948657,
          -0.4383853798804836,
          0.49243061527514315,
          1.7074205792522625,
          -0.2455721645333344,
          -0.13148762705759243,
          -0.18537710295690857,
          -0.1290397089016061,
          1.566791331909838,
          -1.0644028526512264,
          0.4748821179637237,
          0.7203473787223855,
          0.4466385392714042,
          2.171749315693905,
          0.4123904744334221,
          -1.9855716426751728,
          -0.5118512502422413,
          -0.21477142134116692,
          -2.4018237983542186,
          -0.3266458193432738,
          -0.2145059113336942,
          -0.24174609919601492,
          1.3031027972902298,
          -0.17916473801883537,
          2.1699855178031124,
          -0.5965139378836746,
          1.057565997220973
         ],
         "xaxis": "x12",
         "y": [
          -0.7324498605631861,
          -0.1303894608628459,
          -1.151100409182011,
          -0.6422617241775928,
          -0.44754472937397344,
          -0.3075176554383684,
          -3.1383989680001267,
          0.9764719821691396,
          0.9266940736043047,
          1.4434370922461166,
          0.15364569147515642,
          -0.8600410763556198,
          0.27149082659844936,
          2.652403606812918,
          0.19789334310764972,
          -0.4034990693487221,
          -0.05531385250273491,
          0.6977655605986051,
          -0.13119522974507344,
          0.32007108515669425,
          -1.394911538222159,
          0.4890328438033733,
          0.4279502511685625,
          0.999009471226633,
          -0.3049256779375995,
          1.0554487495688034,
          -0.07025195901839071,
          -0.06158185040287161,
          0.6422129478688288,
          -0.09901727969887121,
          0.5107018454485471,
          1.0402505354817695,
          -0.6508222246538106,
          0.059348190610508944,
          -0.7810493526677275,
          0.8464277906209582,
          -0.2597065853638947,
          0.15705290177027986,
          0.721847761461881,
          -0.6871082860134929,
          -1.7821285555993478,
          -1.1591483514811343,
          0.7652530577940034,
          1.9284784171058644,
          -1.2743976951607354,
          -0.8624389453104636,
          -0.4116205273447163,
          -0.25568683642038775,
          -0.3400649966749066,
          -1.1497243849249152,
          -0.18031729609360275,
          -0.27769638691502063,
          0.5320467971213227,
          -2.109826886255268,
          -0.46713590865489846,
          1.2723497597429383,
          0.6063208534882636,
          1.0778543334618587,
          -0.5475774933853736,
          0.2805901048055045,
          -1.2859662545080643,
          -0.12623347019959708,
          0.9528552836049331,
          2.353897144594742,
          -0.029919428088069962,
          -0.6952287967905131,
          -0.07769555725477738,
          -2.1975619606829366,
          0.19106169107433513,
          0.2842729049504016,
          -0.09525562185007477,
          -0.24799786172426608,
          -0.09576940661676409,
          1.0641532265647242,
          0.7826753718086371,
          -0.011998668395117125,
          -0.4007367902180285,
          -0.11230917965809203,
          0.10830421162028454,
          0.008995541337013661,
          -1.1728670577135618,
          -0.09614470770089809,
          -0.4410033002449212,
          0.6484236081441456,
          0.28309485102980203,
          -1.9585303737505555,
          0.6407223405181663,
          -0.23420900871443726,
          -0.6580015984575852,
          2.247150655645674,
          -0.32304534932041523,
          0.05013026965175229,
          -0.39674403388053014,
          0.96971803688895,
          0.25562500157134666,
          -1.1929340682178564,
          -0.3793143282987808,
          -0.20849049787340979,
          0.4023415317472472,
          1.6568358063297357
         ],
         "yaxis": "y12"
        },
        {
         "line": {
          "color": "rgba(128, 128, 128, 1.0)",
          "dash": "solid",
          "shape": "linear",
          "width": 1.3
         },
         "marker": {
          "size": 2,
          "symbol": "circle"
         },
         "mode": "markers",
         "name": "D",
         "text": "",
         "type": "scatter",
         "x": [
          1.0299692281207755,
          0.4534019734022077,
          -1.156757825181421,
          -0.7299709942828432,
          1.4409059505261956,
          -0.09674859261974017,
          -0.31310025124263396,
          -0.615562589771781,
          1.3377488960017276,
          -1.238193381643003,
          1.4473866003039055,
          -0.24578986864768815,
          -1.3932058840044743,
          -0.983629216765057,
          1.1592625360059976,
          -0.5747697575840409,
          -2.164848056491318,
          -0.5521112208010445,
          0.6596277084563169,
          -1.6610543716234045,
          -0.20127771451028606,
          1.1401415826487609,
          0.09581359549845013,
          0.41353007338316194,
          -0.8418997837834926,
          0.44398379100801055,
          -0.4763568195789701,
          0.1622909197676177,
          -0.21577326523983892,
          -1.149924445072829,
          0.8747976740565843,
          -0.6277466746502788,
          -0.4111046817448839,
          -0.1396106207813502,
          -0.3245889850514159,
          0.47953606265711457,
          0.10826429640054529,
          -1.33207714457925,
          -0.24755916405588405,
          -1.8647696040457458,
          1.222906419466841,
          -1.4606120183754274,
          -0.5334167468495689,
          0.9391682065309265,
          -0.5451809983351346,
          -0.02004448042626695,
          1.9293086101896395,
          -0.4337940434540837,
          -1.3343809530709445,
          0.29511550748888954,
          -0.06558515741836947,
          0.5294550388808351,
          -0.9166582808037367,
          0.2319000324614197,
          -1.5281168095973396,
          -0.42954701959141756,
          2.0865890889512637,
          -0.5949872127370982,
          -1.4743702902513047,
          0.19093383641853026,
          0.3081129908388611,
          -2.0470356036501256,
          1.1095352336807842,
          -1.368442764338196,
          -0.4275366607821204,
          0.9250293952647808,
          -0.5777652608572624,
          1.6608177632775625,
          0.5316301885035559,
          -1.820881124822415,
          0.5009456277225153,
          -0.4740403752566626,
          0.1246658233655019,
          -0.869721085306933,
          0.8570321501144111,
          1.5911369302460645,
          -0.12107611962269951,
          -0.3401337751027574,
          0.5930826615465543,
          -0.4564408347145368,
          -0.24216836595027982,
          -0.08433722488491868,
          0.6992801443206138,
          -1.3479230918201661,
          0.12385260456613993,
          -0.2558399630323414,
          -3.403472824761215,
          -0.045574523361199985,
          -0.0035774583155329586,
          -0.11088118405751529,
          0.8604034726710508,
          -1.0374664218756517,
          -0.1855592050009561,
          -0.5341872200032267,
          0.49876930778198564,
          -1.3949285590172393,
          -0.28398579730008716,
          0.06999325605449133,
          0.8462434658818054,
          0.9747558345318641
         ],
         "xaxis": "x13",
         "y": [
          -0.03405134757754162,
          1.7601247138745886,
          0.7102161198087767,
          -0.20015282905238874,
          -2.091195220278861,
          1.1204571784020945,
          0.7106720190853378,
          -0.6336353028181934,
          0.7501138232635651,
          1.7419560818222881,
          -0.3083398513293142,
          0.15955064262988533,
          1.0490556273469869,
          0.28255005612949297,
          0.8743748133540031,
          -0.36818590031915716,
          0.3482186714954275,
          -0.4700906789684043,
          -0.5664638387952888,
          -0.7359182099202148,
          -2.566657954603579,
          -0.500571359282229,
          2.5275974880261707,
          -0.12644390984980539,
          -0.4901267637245524,
          0.1682681391167114,
          1.0937463725943974,
          -0.639426165430679,
          -1.9639560818688637,
          -0.9088344333096241,
          -1.4861475068301657,
          1.0038671754592452,
          0.2851358764228744,
          -0.05976094031039234,
          -1.864592796729352,
          -0.34248666954436857,
          -1.5085546495188544,
          -0.31230847608330536,
          3.3138915393945925,
          1.11482123114005,
          -0.4571426724366232,
          -0.7641689224300509,
          -0.4055984788240558,
          -0.7048011882313757,
          -1.0322008125019613,
          0.12921765130349191,
          0.45631515986879134,
          0.6303858234609643,
          -0.4699500879746037,
          0.16970164067017493,
          0.8745101344956532,
          0.20439625104582343,
          -0.8217709907644891,
          -0.8419600534293578,
          -0.6722858746289054,
          -0.7506503580178014,
          0.7473586143240762,
          0.019515955657227097,
          0.1692105965100989,
          2.0757748626399155,
          0.2678083922467391,
          -0.7783403921194563,
          1.1276814882775195,
          -2.0542988448012927,
          -1.110588941942566,
          0.35171992312005,
          -1.461644889124666,
          0.13811073609220823,
          0.9999749992383878,
          1.1408925929262406,
          -1.1288253533927428,
          -0.38262838805717175,
          -1.3853308736999235,
          -1.5771578115948657,
          -0.4383853798804836,
          0.49243061527514315,
          1.7074205792522625,
          -0.2455721645333344,
          -0.13148762705759243,
          -0.18537710295690857,
          -0.1290397089016061,
          1.566791331909838,
          -1.0644028526512264,
          0.4748821179637237,
          0.7203473787223855,
          0.4466385392714042,
          2.171749315693905,
          0.4123904744334221,
          -1.9855716426751728,
          -0.5118512502422413,
          -0.21477142134116692,
          -2.4018237983542186,
          -0.3266458193432738,
          -0.2145059113336942,
          -0.24174609919601492,
          1.3031027972902298,
          -0.17916473801883537,
          2.1699855178031124,
          -0.5965139378836746,
          1.057565997220973
         ],
         "yaxis": "y13"
        },
        {
         "line": {
          "color": "rgba(128, 128, 128, 1.0)",
          "dash": "solid",
          "shape": "linear",
          "width": 1.3
         },
         "marker": {
          "size": 2,
          "symbol": "circle"
         },
         "mode": "markers",
         "name": "D",
         "text": "",
         "type": "scatter",
         "x": [
          -0.5292130527085185,
          -1.0380352192512008,
          0.515028895406664,
          -2.0489223232459652,
          -1.1616751322392724,
          0.31823522688089406,
          0.18919871745206318,
          -0.3813010657547128,
          1.8396674127521875,
          -1.0993476336561583,
          1.1927977033888462,
          0.15829398678681464,
          -2.1109880813706603,
          -2.0385818530526314,
          -1.2361305929799478,
          0.42290555133059576,
          0.334215214533492,
          -0.20054377299147397,
          -0.8833505114126339,
          -1.1084383976938577,
          -1.851908547017362,
          -1.0630283408896297,
          0.5926098904319725,
          0.7513579534642801,
          0.4637901368493004,
          -0.33709959840844683,
          0.21027272795232996,
          0.8983184683403516,
          -0.4901405914309119,
          -0.20120314218583968,
          1.5011997035092146,
          -1.2095873020523167,
          -1.0700199021981835,
          -0.561313763405721,
          -0.28675070338425557,
          -0.6600015870215331,
          2.937508711840935,
          0.6477235827190407,
          0.7318236869344612,
          2.521495744543777,
          -0.022979158314660908,
          0.2591095214280645,
          0.06302427412203036,
          -0.5361261075311612,
          -0.37160107954747856,
          -0.626653987445001,
          1.1429500158289485,
          0.5096385749787216,
          -0.04873226669639589,
          0.9850149505462312,
          -0.7852691213273342,
          -0.34270170975593817,
          -0.9623179316518778,
          0.5539939911774647,
          -0.2577336972974899,
          0.8976399206056497,
          -0.8051615534241037,
          -0.3443681028873965,
          0.5734273403582758,
          0.5019099807939298,
          2.7681162645095507,
          1.122021252487704,
          -0.7216893204909437,
          -0.13414541303752042,
          -1.1840734124359265,
          2.11238290368288,
          0.926063528945275,
          -0.48344166812176287,
          0.7464086455230814,
          1.8437767291806353,
          0.4979201807729261,
          0.2937901422164776,
          0.057658364909912586,
          0.19838391413673306,
          0.9346106944872706,
          -0.34037271913893585,
          -1.0638231219610457,
          0.05025142693732289,
          -0.6289189004932967,
          -0.9800787023295485,
          0.0933863937368245,
          -0.07306728474361188,
          -1.0369062410116046,
          0.7331677844235539,
          0.5175133296662681,
          -0.29837523305297237,
          1.009587285483537,
          -0.9170029650799433,
          0.8441742768430965,
          0.7854003158011569,
          1.4732317340251777,
          -0.08212285584046843,
          -0.6773271354002086,
          1.2832787579287601,
          0.7311234814090207,
          -0.43089962618951966,
          0.23807414436880844,
          -0.7455583649577328,
          1.8898349439930222,
          -0.48940410252311906
         ],
         "xaxis": "x14",
         "y": [
          -0.03405134757754162,
          1.7601247138745886,
          0.7102161198087767,
          -0.20015282905238874,
          -2.091195220278861,
          1.1204571784020945,
          0.7106720190853378,
          -0.6336353028181934,
          0.7501138232635651,
          1.7419560818222881,
          -0.3083398513293142,
          0.15955064262988533,
          1.0490556273469869,
          0.28255005612949297,
          0.8743748133540031,
          -0.36818590031915716,
          0.3482186714954275,
          -0.4700906789684043,
          -0.5664638387952888,
          -0.7359182099202148,
          -2.566657954603579,
          -0.500571359282229,
          2.5275974880261707,
          -0.12644390984980539,
          -0.4901267637245524,
          0.1682681391167114,
          1.0937463725943974,
          -0.639426165430679,
          -1.9639560818688637,
          -0.9088344333096241,
          -1.4861475068301657,
          1.0038671754592452,
          0.2851358764228744,
          -0.05976094031039234,
          -1.864592796729352,
          -0.34248666954436857,
          -1.5085546495188544,
          -0.31230847608330536,
          3.3138915393945925,
          1.11482123114005,
          -0.4571426724366232,
          -0.7641689224300509,
          -0.4055984788240558,
          -0.7048011882313757,
          -1.0322008125019613,
          0.12921765130349191,
          0.45631515986879134,
          0.6303858234609643,
          -0.4699500879746037,
          0.16970164067017493,
          0.8745101344956532,
          0.20439625104582343,
          -0.8217709907644891,
          -0.8419600534293578,
          -0.6722858746289054,
          -0.7506503580178014,
          0.7473586143240762,
          0.019515955657227097,
          0.1692105965100989,
          2.0757748626399155,
          0.2678083922467391,
          -0.7783403921194563,
          1.1276814882775195,
          -2.0542988448012927,
          -1.110588941942566,
          0.35171992312005,
          -1.461644889124666,
          0.13811073609220823,
          0.9999749992383878,
          1.1408925929262406,
          -1.1288253533927428,
          -0.38262838805717175,
          -1.3853308736999235,
          -1.5771578115948657,
          -0.4383853798804836,
          0.49243061527514315,
          1.7074205792522625,
          -0.2455721645333344,
          -0.13148762705759243,
          -0.18537710295690857,
          -0.1290397089016061,
          1.566791331909838,
          -1.0644028526512264,
          0.4748821179637237,
          0.7203473787223855,
          0.4466385392714042,
          2.171749315693905,
          0.4123904744334221,
          -1.9855716426751728,
          -0.5118512502422413,
          -0.21477142134116692,
          -2.4018237983542186,
          -0.3266458193432738,
          -0.2145059113336942,
          -0.24174609919601492,
          1.3031027972902298,
          -0.17916473801883537,
          2.1699855178031124,
          -0.5965139378836746,
          1.057565997220973
         ],
         "yaxis": "y14"
        },
        {
         "line": {
          "color": "rgba(128, 128, 128, 1.0)",
          "dash": "solid",
          "shape": "linear",
          "width": 1.3
         },
         "marker": {
          "size": 2,
          "symbol": "circle"
         },
         "mode": "markers",
         "name": "D",
         "text": "",
         "type": "scatter",
         "x": [
          -0.7324498605631861,
          -0.1303894608628459,
          -1.151100409182011,
          -0.6422617241775928,
          -0.44754472937397344,
          -0.3075176554383684,
          -3.1383989680001267,
          0.9764719821691396,
          0.9266940736043047,
          1.4434370922461166,
          0.15364569147515642,
          -0.8600410763556198,
          0.27149082659844936,
          2.652403606812918,
          0.19789334310764972,
          -0.4034990693487221,
          -0.05531385250273491,
          0.6977655605986051,
          -0.13119522974507344,
          0.32007108515669425,
          -1.394911538222159,
          0.4890328438033733,
          0.4279502511685625,
          0.999009471226633,
          -0.3049256779375995,
          1.0554487495688034,
          -0.07025195901839071,
          -0.06158185040287161,
          0.6422129478688288,
          -0.09901727969887121,
          0.5107018454485471,
          1.0402505354817695,
          -0.6508222246538106,
          0.059348190610508944,
          -0.7810493526677275,
          0.8464277906209582,
          -0.2597065853638947,
          0.15705290177027986,
          0.721847761461881,
          -0.6871082860134929,
          -1.7821285555993478,
          -1.1591483514811343,
          0.7652530577940034,
          1.9284784171058644,
          -1.2743976951607354,
          -0.8624389453104636,
          -0.4116205273447163,
          -0.25568683642038775,
          -0.3400649966749066,
          -1.1497243849249152,
          -0.18031729609360275,
          -0.27769638691502063,
          0.5320467971213227,
          -2.109826886255268,
          -0.46713590865489846,
          1.2723497597429383,
          0.6063208534882636,
          1.0778543334618587,
          -0.5475774933853736,
          0.2805901048055045,
          -1.2859662545080643,
          -0.12623347019959708,
          0.9528552836049331,
          2.353897144594742,
          -0.029919428088069962,
          -0.6952287967905131,
          -0.07769555725477738,
          -2.1975619606829366,
          0.19106169107433513,
          0.2842729049504016,
          -0.09525562185007477,
          -0.24799786172426608,
          -0.09576940661676409,
          1.0641532265647242,
          0.7826753718086371,
          -0.011998668395117125,
          -0.4007367902180285,
          -0.11230917965809203,
          0.10830421162028454,
          0.008995541337013661,
          -1.1728670577135618,
          -0.09614470770089809,
          -0.4410033002449212,
          0.6484236081441456,
          0.28309485102980203,
          -1.9585303737505555,
          0.6407223405181663,
          -0.23420900871443726,
          -0.6580015984575852,
          2.247150655645674,
          -0.32304534932041523,
          0.05013026965175229,
          -0.39674403388053014,
          0.96971803688895,
          0.25562500157134666,
          -1.1929340682178564,
          -0.3793143282987808,
          -0.20849049787340979,
          0.4023415317472472,
          1.6568358063297357
         ],
         "xaxis": "x15",
         "y": [
          -0.03405134757754162,
          1.7601247138745886,
          0.7102161198087767,
          -0.20015282905238874,
          -2.091195220278861,
          1.1204571784020945,
          0.7106720190853378,
          -0.6336353028181934,
          0.7501138232635651,
          1.7419560818222881,
          -0.3083398513293142,
          0.15955064262988533,
          1.0490556273469869,
          0.28255005612949297,
          0.8743748133540031,
          -0.36818590031915716,
          0.3482186714954275,
          -0.4700906789684043,
          -0.5664638387952888,
          -0.7359182099202148,
          -2.566657954603579,
          -0.500571359282229,
          2.5275974880261707,
          -0.12644390984980539,
          -0.4901267637245524,
          0.1682681391167114,
          1.0937463725943974,
          -0.639426165430679,
          -1.9639560818688637,
          -0.9088344333096241,
          -1.4861475068301657,
          1.0038671754592452,
          0.2851358764228744,
          -0.05976094031039234,
          -1.864592796729352,
          -0.34248666954436857,
          -1.5085546495188544,
          -0.31230847608330536,
          3.3138915393945925,
          1.11482123114005,
          -0.4571426724366232,
          -0.7641689224300509,
          -0.4055984788240558,
          -0.7048011882313757,
          -1.0322008125019613,
          0.12921765130349191,
          0.45631515986879134,
          0.6303858234609643,
          -0.4699500879746037,
          0.16970164067017493,
          0.8745101344956532,
          0.20439625104582343,
          -0.8217709907644891,
          -0.8419600534293578,
          -0.6722858746289054,
          -0.7506503580178014,
          0.7473586143240762,
          0.019515955657227097,
          0.1692105965100989,
          2.0757748626399155,
          0.2678083922467391,
          -0.7783403921194563,
          1.1276814882775195,
          -2.0542988448012927,
          -1.110588941942566,
          0.35171992312005,
          -1.461644889124666,
          0.13811073609220823,
          0.9999749992383878,
          1.1408925929262406,
          -1.1288253533927428,
          -0.38262838805717175,
          -1.3853308736999235,
          -1.5771578115948657,
          -0.4383853798804836,
          0.49243061527514315,
          1.7074205792522625,
          -0.2455721645333344,
          -0.13148762705759243,
          -0.18537710295690857,
          -0.1290397089016061,
          1.566791331909838,
          -1.0644028526512264,
          0.4748821179637237,
          0.7203473787223855,
          0.4466385392714042,
          2.171749315693905,
          0.4123904744334221,
          -1.9855716426751728,
          -0.5118512502422413,
          -0.21477142134116692,
          -2.4018237983542186,
          -0.3266458193432738,
          -0.2145059113336942,
          -0.24174609919601492,
          1.3031027972902298,
          -0.17916473801883537,
          2.1699855178031124,
          -0.5965139378836746,
          1.057565997220973
         ],
         "yaxis": "y15"
        },
        {
         "histfunc": "count",
         "histnorm": "",
         "marker": {
          "color": "rgba(128, 0, 128, 1.0)",
          "line": {
           "color": "#4D5663",
           "width": 1.3
          }
         },
         "name": "D",
         "nbinsx": 10,
         "opacity": 0.8,
         "orientation": "v",
         "type": "histogram",
         "x": [
          -0.03405134757754162,
          1.7601247138745886,
          0.7102161198087767,
          -0.20015282905238874,
          -2.091195220278861,
          1.1204571784020945,
          0.7106720190853378,
          -0.6336353028181934,
          0.7501138232635651,
          1.7419560818222881,
          -0.3083398513293142,
          0.15955064262988533,
          1.0490556273469869,
          0.28255005612949297,
          0.8743748133540031,
          -0.36818590031915716,
          0.3482186714954275,
          -0.4700906789684043,
          -0.5664638387952888,
          -0.7359182099202148,
          -2.566657954603579,
          -0.500571359282229,
          2.5275974880261707,
          -0.12644390984980539,
          -0.4901267637245524,
          0.1682681391167114,
          1.0937463725943974,
          -0.639426165430679,
          -1.9639560818688637,
          -0.9088344333096241,
          -1.4861475068301657,
          1.0038671754592452,
          0.2851358764228744,
          -0.05976094031039234,
          -1.864592796729352,
          -0.34248666954436857,
          -1.5085546495188544,
          -0.31230847608330536,
          3.3138915393945925,
          1.11482123114005,
          -0.4571426724366232,
          -0.7641689224300509,
          -0.4055984788240558,
          -0.7048011882313757,
          -1.0322008125019613,
          0.12921765130349191,
          0.45631515986879134,
          0.6303858234609643,
          -0.4699500879746037,
          0.16970164067017493,
          0.8745101344956532,
          0.20439625104582343,
          -0.8217709907644891,
          -0.8419600534293578,
          -0.6722858746289054,
          -0.7506503580178014,
          0.7473586143240762,
          0.019515955657227097,
          0.1692105965100989,
          2.0757748626399155,
          0.2678083922467391,
          -0.7783403921194563,
          1.1276814882775195,
          -2.0542988448012927,
          -1.110588941942566,
          0.35171992312005,
          -1.461644889124666,
          0.13811073609220823,
          0.9999749992383878,
          1.1408925929262406,
          -1.1288253533927428,
          -0.38262838805717175,
          -1.3853308736999235,
          -1.5771578115948657,
          -0.4383853798804836,
          0.49243061527514315,
          1.7074205792522625,
          -0.2455721645333344,
          -0.13148762705759243,
          -0.18537710295690857,
          -0.1290397089016061,
          1.566791331909838,
          -1.0644028526512264,
          0.4748821179637237,
          0.7203473787223855,
          0.4466385392714042,
          2.171749315693905,
          0.4123904744334221,
          -1.9855716426751728,
          -0.5118512502422413,
          -0.21477142134116692,
          -2.4018237983542186,
          -0.3266458193432738,
          -0.2145059113336942,
          -0.24174609919601492,
          1.3031027972902298,
          -0.17916473801883537,
          2.1699855178031124,
          -0.5965139378836746,
          1.057565997220973
         ],
         "xaxis": "x16",
         "yaxis": "y16"
        }
       ],
       "layout": {
        "bargap": 0.02,
        "legend": {
         "bgcolor": "#F5F6F9",
         "font": {
          "color": "#4D5663"
         }
        },
        "paper_bgcolor": "#F5F6F9",
        "plot_bgcolor": "#F5F6F9",
        "showlegend": false,
        "template": {
         "data": {
          "bar": [
           {
            "error_x": {
             "color": "#2a3f5f"
            },
            "error_y": {
             "color": "#2a3f5f"
            },
            "marker": {
             "line": {
              "color": "#E5ECF6",
              "width": 0.5
             }
            },
            "type": "bar"
           }
          ],
          "barpolar": [
           {
            "marker": {
             "line": {
              "color": "#E5ECF6",
              "width": 0.5
             }
            },
            "type": "barpolar"
           }
          ],
          "carpet": [
           {
            "aaxis": {
             "endlinecolor": "#2a3f5f",
             "gridcolor": "white",
             "linecolor": "white",
             "minorgridcolor": "white",
             "startlinecolor": "#2a3f5f"
            },
            "baxis": {
             "endlinecolor": "#2a3f5f",
             "gridcolor": "white",
             "linecolor": "white",
             "minorgridcolor": "white",
             "startlinecolor": "#2a3f5f"
            },
            "type": "carpet"
           }
          ],
          "choropleth": [
           {
            "colorbar": {
             "outlinewidth": 0,
             "ticks": ""
            },
            "type": "choropleth"
           }
          ],
          "contour": [
           {
            "colorbar": {
             "outlinewidth": 0,
             "ticks": ""
            },
            "colorscale": [
             [
              0,
              "#0d0887"
             ],
             [
              0.1111111111111111,
              "#46039f"
             ],
             [
              0.2222222222222222,
              "#7201a8"
             ],
             [
              0.3333333333333333,
              "#9c179e"
             ],
             [
              0.4444444444444444,
              "#bd3786"
             ],
             [
              0.5555555555555556,
              "#d8576b"
             ],
             [
              0.6666666666666666,
              "#ed7953"
             ],
             [
              0.7777777777777778,
              "#fb9f3a"
             ],
             [
              0.8888888888888888,
              "#fdca26"
             ],
             [
              1,
              "#f0f921"
             ]
            ],
            "type": "contour"
           }
          ],
          "contourcarpet": [
           {
            "colorbar": {
             "outlinewidth": 0,
             "ticks": ""
            },
            "type": "contourcarpet"
           }
          ],
          "heatmap": [
           {
            "colorbar": {
             "outlinewidth": 0,
             "ticks": ""
            },
            "colorscale": [
             [
              0,
              "#0d0887"
             ],
             [
              0.1111111111111111,
              "#46039f"
             ],
             [
              0.2222222222222222,
              "#7201a8"
             ],
             [
              0.3333333333333333,
              "#9c179e"
             ],
             [
              0.4444444444444444,
              "#bd3786"
             ],
             [
              0.5555555555555556,
              "#d8576b"
             ],
             [
              0.6666666666666666,
              "#ed7953"
             ],
             [
              0.7777777777777778,
              "#fb9f3a"
             ],
             [
              0.8888888888888888,
              "#fdca26"
             ],
             [
              1,
              "#f0f921"
             ]
            ],
            "type": "heatmap"
           }
          ],
          "heatmapgl": [
           {
            "colorbar": {
             "outlinewidth": 0,
             "ticks": ""
            },
            "colorscale": [
             [
              0,
              "#0d0887"
             ],
             [
              0.1111111111111111,
              "#46039f"
             ],
             [
              0.2222222222222222,
              "#7201a8"
             ],
             [
              0.3333333333333333,
              "#9c179e"
             ],
             [
              0.4444444444444444,
              "#bd3786"
             ],
             [
              0.5555555555555556,
              "#d8576b"
             ],
             [
              0.6666666666666666,
              "#ed7953"
             ],
             [
              0.7777777777777778,
              "#fb9f3a"
             ],
             [
              0.8888888888888888,
              "#fdca26"
             ],
             [
              1,
              "#f0f921"
             ]
            ],
            "type": "heatmapgl"
           }
          ],
          "histogram": [
           {
            "marker": {
             "colorbar": {
              "outlinewidth": 0,
              "ticks": ""
             }
            },
            "type": "histogram"
           }
          ],
          "histogram2d": [
           {
            "colorbar": {
             "outlinewidth": 0,
             "ticks": ""
            },
            "colorscale": [
             [
              0,
              "#0d0887"
             ],
             [
              0.1111111111111111,
              "#46039f"
             ],
             [
              0.2222222222222222,
              "#7201a8"
             ],
             [
              0.3333333333333333,
              "#9c179e"
             ],
             [
              0.4444444444444444,
              "#bd3786"
             ],
             [
              0.5555555555555556,
              "#d8576b"
             ],
             [
              0.6666666666666666,
              "#ed7953"
             ],
             [
              0.7777777777777778,
              "#fb9f3a"
             ],
             [
              0.8888888888888888,
              "#fdca26"
             ],
             [
              1,
              "#f0f921"
             ]
            ],
            "type": "histogram2d"
           }
          ],
          "histogram2dcontour": [
           {
            "colorbar": {
             "outlinewidth": 0,
             "ticks": ""
            },
            "colorscale": [
             [
              0,
              "#0d0887"
             ],
             [
              0.1111111111111111,
              "#46039f"
             ],
             [
              0.2222222222222222,
              "#7201a8"
             ],
             [
              0.3333333333333333,
              "#9c179e"
             ],
             [
              0.4444444444444444,
              "#bd3786"
             ],
             [
              0.5555555555555556,
              "#d8576b"
             ],
             [
              0.6666666666666666,
              "#ed7953"
             ],
             [
              0.7777777777777778,
              "#fb9f3a"
             ],
             [
              0.8888888888888888,
              "#fdca26"
             ],
             [
              1,
              "#f0f921"
             ]
            ],
            "type": "histogram2dcontour"
           }
          ],
          "mesh3d": [
           {
            "colorbar": {
             "outlinewidth": 0,
             "ticks": ""
            },
            "type": "mesh3d"
           }
          ],
          "parcoords": [
           {
            "line": {
             "colorbar": {
              "outlinewidth": 0,
              "ticks": ""
             }
            },
            "type": "parcoords"
           }
          ],
          "pie": [
           {
            "automargin": true,
            "type": "pie"
           }
          ],
          "scatter": [
           {
            "marker": {
             "colorbar": {
              "outlinewidth": 0,
              "ticks": ""
             }
            },
            "type": "scatter"
           }
          ],
          "scatter3d": [
           {
            "line": {
             "colorbar": {
              "outlinewidth": 0,
              "ticks": ""
             }
            },
            "marker": {
             "colorbar": {
              "outlinewidth": 0,
              "ticks": ""
             }
            },
            "type": "scatter3d"
           }
          ],
          "scattercarpet": [
           {
            "marker": {
             "colorbar": {
              "outlinewidth": 0,
              "ticks": ""
             }
            },
            "type": "scattercarpet"
           }
          ],
          "scattergeo": [
           {
            "marker": {
             "colorbar": {
              "outlinewidth": 0,
              "ticks": ""
             }
            },
            "type": "scattergeo"
           }
          ],
          "scattergl": [
           {
            "marker": {
             "colorbar": {
              "outlinewidth": 0,
              "ticks": ""
             }
            },
            "type": "scattergl"
           }
          ],
          "scattermapbox": [
           {
            "marker": {
             "colorbar": {
              "outlinewidth": 0,
              "ticks": ""
             }
            },
            "type": "scattermapbox"
           }
          ],
          "scatterpolar": [
           {
            "marker": {
             "colorbar": {
              "outlinewidth": 0,
              "ticks": ""
             }
            },
            "type": "scatterpolar"
           }
          ],
          "scatterpolargl": [
           {
            "marker": {
             "colorbar": {
              "outlinewidth": 0,
              "ticks": ""
             }
            },
            "type": "scatterpolargl"
           }
          ],
          "scatterternary": [
           {
            "marker": {
             "colorbar": {
              "outlinewidth": 0,
              "ticks": ""
             }
            },
            "type": "scatterternary"
           }
          ],
          "surface": [
           {
            "colorbar": {
             "outlinewidth": 0,
             "ticks": ""
            },
            "colorscale": [
             [
              0,
              "#0d0887"
             ],
             [
              0.1111111111111111,
              "#46039f"
             ],
             [
              0.2222222222222222,
              "#7201a8"
             ],
             [
              0.3333333333333333,
              "#9c179e"
             ],
             [
              0.4444444444444444,
              "#bd3786"
             ],
             [
              0.5555555555555556,
              "#d8576b"
             ],
             [
              0.6666666666666666,
              "#ed7953"
             ],
             [
              0.7777777777777778,
              "#fb9f3a"
             ],
             [
              0.8888888888888888,
              "#fdca26"
             ],
             [
              1,
              "#f0f921"
             ]
            ],
            "type": "surface"
           }
          ],
          "table": [
           {
            "cells": {
             "fill": {
              "color": "#EBF0F8"
             },
             "line": {
              "color": "white"
             }
            },
            "header": {
             "fill": {
              "color": "#C8D4E3"
             },
             "line": {
              "color": "white"
             }
            },
            "type": "table"
           }
          ]
         },
         "layout": {
          "annotationdefaults": {
           "arrowcolor": "#2a3f5f",
           "arrowhead": 0,
           "arrowwidth": 1
          },
          "coloraxis": {
           "colorbar": {
            "outlinewidth": 0,
            "ticks": ""
           }
          },
          "colorscale": {
           "diverging": [
            [
             0,
             "#8e0152"
            ],
            [
             0.1,
             "#c51b7d"
            ],
            [
             0.2,
             "#de77ae"
            ],
            [
             0.3,
             "#f1b6da"
            ],
            [
             0.4,
             "#fde0ef"
            ],
            [
             0.5,
             "#f7f7f7"
            ],
            [
             0.6,
             "#e6f5d0"
            ],
            [
             0.7,
             "#b8e186"
            ],
            [
             0.8,
             "#7fbc41"
            ],
            [
             0.9,
             "#4d9221"
            ],
            [
             1,
             "#276419"
            ]
           ],
           "sequential": [
            [
             0,
             "#0d0887"
            ],
            [
             0.1111111111111111,
             "#46039f"
            ],
            [
             0.2222222222222222,
             "#7201a8"
            ],
            [
             0.3333333333333333,
             "#9c179e"
            ],
            [
             0.4444444444444444,
             "#bd3786"
            ],
            [
             0.5555555555555556,
             "#d8576b"
            ],
            [
             0.6666666666666666,
             "#ed7953"
            ],
            [
             0.7777777777777778,
             "#fb9f3a"
            ],
            [
             0.8888888888888888,
             "#fdca26"
            ],
            [
             1,
             "#f0f921"
            ]
           ],
           "sequentialminus": [
            [
             0,
             "#0d0887"
            ],
            [
             0.1111111111111111,
             "#46039f"
            ],
            [
             0.2222222222222222,
             "#7201a8"
            ],
            [
             0.3333333333333333,
             "#9c179e"
            ],
            [
             0.4444444444444444,
             "#bd3786"
            ],
            [
             0.5555555555555556,
             "#d8576b"
            ],
            [
             0.6666666666666666,
             "#ed7953"
            ],
            [
             0.7777777777777778,
             "#fb9f3a"
            ],
            [
             0.8888888888888888,
             "#fdca26"
            ],
            [
             1,
             "#f0f921"
            ]
           ]
          },
          "colorway": [
           "#636efa",
           "#EF553B",
           "#00cc96",
           "#ab63fa",
           "#FFA15A",
           "#19d3f3",
           "#FF6692",
           "#B6E880",
           "#FF97FF",
           "#FECB52"
          ],
          "font": {
           "color": "#2a3f5f"
          },
          "geo": {
           "bgcolor": "white",
           "lakecolor": "white",
           "landcolor": "#E5ECF6",
           "showlakes": true,
           "showland": true,
           "subunitcolor": "white"
          },
          "hoverlabel": {
           "align": "left"
          },
          "hovermode": "closest",
          "mapbox": {
           "style": "light"
          },
          "paper_bgcolor": "white",
          "plot_bgcolor": "#E5ECF6",
          "polar": {
           "angularaxis": {
            "gridcolor": "white",
            "linecolor": "white",
            "ticks": ""
           },
           "bgcolor": "#E5ECF6",
           "radialaxis": {
            "gridcolor": "white",
            "linecolor": "white",
            "ticks": ""
           }
          },
          "scene": {
           "xaxis": {
            "backgroundcolor": "#E5ECF6",
            "gridcolor": "white",
            "gridwidth": 2,
            "linecolor": "white",
            "showbackground": true,
            "ticks": "",
            "zerolinecolor": "white"
           },
           "yaxis": {
            "backgroundcolor": "#E5ECF6",
            "gridcolor": "white",
            "gridwidth": 2,
            "linecolor": "white",
            "showbackground": true,
            "ticks": "",
            "zerolinecolor": "white"
           },
           "zaxis": {
            "backgroundcolor": "#E5ECF6",
            "gridcolor": "white",
            "gridwidth": 2,
            "linecolor": "white",
            "showbackground": true,
            "ticks": "",
            "zerolinecolor": "white"
           }
          },
          "shapedefaults": {
           "line": {
            "color": "#2a3f5f"
           }
          },
          "ternary": {
           "aaxis": {
            "gridcolor": "white",
            "linecolor": "white",
            "ticks": ""
           },
           "baxis": {
            "gridcolor": "white",
            "linecolor": "white",
            "ticks": ""
           },
           "bgcolor": "#E5ECF6",
           "caxis": {
            "gridcolor": "white",
            "linecolor": "white",
            "ticks": ""
           }
          },
          "title": {
           "x": 0.05
          },
          "xaxis": {
           "automargin": true,
           "gridcolor": "white",
           "linecolor": "white",
           "ticks": "",
           "title": {
            "standoff": 15
           },
           "zerolinecolor": "white",
           "zerolinewidth": 2
          },
          "yaxis": {
           "automargin": true,
           "gridcolor": "white",
           "linecolor": "white",
           "ticks": "",
           "title": {
            "standoff": 15
           },
           "zerolinecolor": "white",
           "zerolinewidth": 2
          }
         }
        },
        "title": {
         "font": {
          "color": "#4D5663"
         }
        },
        "xaxis": {
         "anchor": "y",
         "domain": [
          0,
          0.2125
         ],
         "gridcolor": "#E1E5ED",
         "showgrid": false,
         "tickfont": {
          "color": "#4D5663"
         },
         "title": {
          "font": {
           "color": "#4D5663"
          },
          "text": ""
         },
         "zerolinecolor": "#E1E5ED"
        },
        "xaxis10": {
         "anchor": "y10",
         "domain": [
          0.2625,
          0.475
         ],
         "gridcolor": "#E1E5ED",
         "showgrid": false,
         "tickfont": {
          "color": "#4D5663"
         },
         "title": {
          "font": {
           "color": "#4D5663"
          },
          "text": ""
         },
         "zerolinecolor": "#E1E5ED"
        },
        "xaxis11": {
         "anchor": "y11",
         "domain": [
          0.525,
          0.7375
         ],
         "gridcolor": "#E1E5ED",
         "showgrid": false,
         "tickfont": {
          "color": "#4D5663"
         },
         "title": {
          "font": {
           "color": "#4D5663"
          },
          "text": ""
         },
         "zerolinecolor": "#E1E5ED"
        },
        "xaxis12": {
         "anchor": "y12",
         "domain": [
          0.7875,
          1
         ],
         "gridcolor": "#E1E5ED",
         "showgrid": false,
         "tickfont": {
          "color": "#4D5663"
         },
         "title": {
          "font": {
           "color": "#4D5663"
          },
          "text": ""
         },
         "zerolinecolor": "#E1E5ED"
        },
        "xaxis13": {
         "anchor": "y13",
         "domain": [
          0,
          0.2125
         ],
         "gridcolor": "#E1E5ED",
         "showgrid": false,
         "tickfont": {
          "color": "#4D5663"
         },
         "title": {
          "font": {
           "color": "#4D5663"
          },
          "text": ""
         },
         "zerolinecolor": "#E1E5ED"
        },
        "xaxis14": {
         "anchor": "y14",
         "domain": [
          0.2625,
          0.475
         ],
         "gridcolor": "#E1E5ED",
         "showgrid": false,
         "tickfont": {
          "color": "#4D5663"
         },
         "title": {
          "font": {
           "color": "#4D5663"
          },
          "text": ""
         },
         "zerolinecolor": "#E1E5ED"
        },
        "xaxis15": {
         "anchor": "y15",
         "domain": [
          0.525,
          0.7375
         ],
         "gridcolor": "#E1E5ED",
         "showgrid": false,
         "tickfont": {
          "color": "#4D5663"
         },
         "title": {
          "font": {
           "color": "#4D5663"
          },
          "text": ""
         },
         "zerolinecolor": "#E1E5ED"
        },
        "xaxis16": {
         "anchor": "y16",
         "domain": [
          0.7875,
          1
         ],
         "gridcolor": "#E1E5ED",
         "showgrid": false,
         "tickfont": {
          "color": "#4D5663"
         },
         "title": {
          "font": {
           "color": "#4D5663"
          },
          "text": ""
         },
         "zerolinecolor": "#E1E5ED"
        },
        "xaxis2": {
         "anchor": "y2",
         "domain": [
          0.2625,
          0.475
         ],
         "gridcolor": "#E1E5ED",
         "showgrid": false,
         "tickfont": {
          "color": "#4D5663"
         },
         "title": {
          "font": {
           "color": "#4D5663"
          },
          "text": ""
         },
         "zerolinecolor": "#E1E5ED"
        },
        "xaxis3": {
         "anchor": "y3",
         "domain": [
          0.525,
          0.7375
         ],
         "gridcolor": "#E1E5ED",
         "showgrid": false,
         "tickfont": {
          "color": "#4D5663"
         },
         "title": {
          "font": {
           "color": "#4D5663"
          },
          "text": ""
         },
         "zerolinecolor": "#E1E5ED"
        },
        "xaxis4": {
         "anchor": "y4",
         "domain": [
          0.7875,
          1
         ],
         "gridcolor": "#E1E5ED",
         "showgrid": false,
         "tickfont": {
          "color": "#4D5663"
         },
         "title": {
          "font": {
           "color": "#4D5663"
          },
          "text": ""
         },
         "zerolinecolor": "#E1E5ED"
        },
        "xaxis5": {
         "anchor": "y5",
         "domain": [
          0,
          0.2125
         ],
         "gridcolor": "#E1E5ED",
         "showgrid": false,
         "tickfont": {
          "color": "#4D5663"
         },
         "title": {
          "font": {
           "color": "#4D5663"
          },
          "text": ""
         },
         "zerolinecolor": "#E1E5ED"
        },
        "xaxis6": {
         "anchor": "y6",
         "domain": [
          0.2625,
          0.475
         ],
         "gridcolor": "#E1E5ED",
         "showgrid": false,
         "tickfont": {
          "color": "#4D5663"
         },
         "title": {
          "font": {
           "color": "#4D5663"
          },
          "text": ""
         },
         "zerolinecolor": "#E1E5ED"
        },
        "xaxis7": {
         "anchor": "y7",
         "domain": [
          0.525,
          0.7375
         ],
         "gridcolor": "#E1E5ED",
         "showgrid": false,
         "tickfont": {
          "color": "#4D5663"
         },
         "title": {
          "font": {
           "color": "#4D5663"
          },
          "text": ""
         },
         "zerolinecolor": "#E1E5ED"
        },
        "xaxis8": {
         "anchor": "y8",
         "domain": [
          0.7875,
          1
         ],
         "gridcolor": "#E1E5ED",
         "showgrid": false,
         "tickfont": {
          "color": "#4D5663"
         },
         "title": {
          "font": {
           "color": "#4D5663"
          },
          "text": ""
         },
         "zerolinecolor": "#E1E5ED"
        },
        "xaxis9": {
         "anchor": "y9",
         "domain": [
          0,
          0.2125
         ],
         "gridcolor": "#E1E5ED",
         "showgrid": false,
         "tickfont": {
          "color": "#4D5663"
         },
         "title": {
          "font": {
           "color": "#4D5663"
          },
          "text": ""
         },
         "zerolinecolor": "#E1E5ED"
        },
        "yaxis": {
         "anchor": "x",
         "domain": [
          0.8025,
          1
         ],
         "gridcolor": "#E1E5ED",
         "showgrid": false,
         "tickfont": {
          "color": "#4D5663"
         },
         "title": {
          "font": {
           "color": "#4D5663"
          },
          "text": ""
         },
         "zerolinecolor": "#E1E5ED"
        },
        "yaxis10": {
         "anchor": "x10",
         "domain": [
          0.2675,
          0.465
         ],
         "gridcolor": "#E1E5ED",
         "showgrid": false,
         "tickfont": {
          "color": "#4D5663"
         },
         "title": {
          "font": {
           "color": "#4D5663"
          },
          "text": ""
         },
         "zerolinecolor": "#E1E5ED"
        },
        "yaxis11": {
         "anchor": "x11",
         "domain": [
          0.2675,
          0.465
         ],
         "gridcolor": "#E1E5ED",
         "showgrid": false,
         "tickfont": {
          "color": "#4D5663"
         },
         "title": {
          "font": {
           "color": "#4D5663"
          },
          "text": ""
         },
         "zerolinecolor": "#E1E5ED"
        },
        "yaxis12": {
         "anchor": "x12",
         "domain": [
          0.2675,
          0.465
         ],
         "gridcolor": "#E1E5ED",
         "showgrid": false,
         "tickfont": {
          "color": "#4D5663"
         },
         "title": {
          "font": {
           "color": "#4D5663"
          },
          "text": ""
         },
         "zerolinecolor": "#E1E5ED"
        },
        "yaxis13": {
         "anchor": "x13",
         "domain": [
          0,
          0.1975
         ],
         "gridcolor": "#E1E5ED",
         "showgrid": false,
         "tickfont": {
          "color": "#4D5663"
         },
         "title": {
          "font": {
           "color": "#4D5663"
          },
          "text": ""
         },
         "zerolinecolor": "#E1E5ED"
        },
        "yaxis14": {
         "anchor": "x14",
         "domain": [
          0,
          0.1975
         ],
         "gridcolor": "#E1E5ED",
         "showgrid": false,
         "tickfont": {
          "color": "#4D5663"
         },
         "title": {
          "font": {
           "color": "#4D5663"
          },
          "text": ""
         },
         "zerolinecolor": "#E1E5ED"
        },
        "yaxis15": {
         "anchor": "x15",
         "domain": [
          0,
          0.1975
         ],
         "gridcolor": "#E1E5ED",
         "showgrid": false,
         "tickfont": {
          "color": "#4D5663"
         },
         "title": {
          "font": {
           "color": "#4D5663"
          },
          "text": ""
         },
         "zerolinecolor": "#E1E5ED"
        },
        "yaxis16": {
         "anchor": "x16",
         "domain": [
          0,
          0.1975
         ],
         "gridcolor": "#E1E5ED",
         "showgrid": false,
         "tickfont": {
          "color": "#4D5663"
         },
         "title": {
          "font": {
           "color": "#4D5663"
          },
          "text": ""
         },
         "zerolinecolor": "#E1E5ED"
        },
        "yaxis2": {
         "anchor": "x2",
         "domain": [
          0.8025,
          1
         ],
         "gridcolor": "#E1E5ED",
         "showgrid": false,
         "tickfont": {
          "color": "#4D5663"
         },
         "title": {
          "font": {
           "color": "#4D5663"
          },
          "text": ""
         },
         "zerolinecolor": "#E1E5ED"
        },
        "yaxis3": {
         "anchor": "x3",
         "domain": [
          0.8025,
          1
         ],
         "gridcolor": "#E1E5ED",
         "showgrid": false,
         "tickfont": {
          "color": "#4D5663"
         },
         "title": {
          "font": {
           "color": "#4D5663"
          },
          "text": ""
         },
         "zerolinecolor": "#E1E5ED"
        },
        "yaxis4": {
         "anchor": "x4",
         "domain": [
          0.8025,
          1
         ],
         "gridcolor": "#E1E5ED",
         "showgrid": false,
         "tickfont": {
          "color": "#4D5663"
         },
         "title": {
          "font": {
           "color": "#4D5663"
          },
          "text": ""
         },
         "zerolinecolor": "#E1E5ED"
        },
        "yaxis5": {
         "anchor": "x5",
         "domain": [
          0.535,
          0.7325
         ],
         "gridcolor": "#E1E5ED",
         "showgrid": false,
         "tickfont": {
          "color": "#4D5663"
         },
         "title": {
          "font": {
           "color": "#4D5663"
          },
          "text": ""
         },
         "zerolinecolor": "#E1E5ED"
        },
        "yaxis6": {
         "anchor": "x6",
         "domain": [
          0.535,
          0.7325
         ],
         "gridcolor": "#E1E5ED",
         "showgrid": false,
         "tickfont": {
          "color": "#4D5663"
         },
         "title": {
          "font": {
           "color": "#4D5663"
          },
          "text": ""
         },
         "zerolinecolor": "#E1E5ED"
        },
        "yaxis7": {
         "anchor": "x7",
         "domain": [
          0.535,
          0.7325
         ],
         "gridcolor": "#E1E5ED",
         "showgrid": false,
         "tickfont": {
          "color": "#4D5663"
         },
         "title": {
          "font": {
           "color": "#4D5663"
          },
          "text": ""
         },
         "zerolinecolor": "#E1E5ED"
        },
        "yaxis8": {
         "anchor": "x8",
         "domain": [
          0.535,
          0.7325
         ],
         "gridcolor": "#E1E5ED",
         "showgrid": false,
         "tickfont": {
          "color": "#4D5663"
         },
         "title": {
          "font": {
           "color": "#4D5663"
          },
          "text": ""
         },
         "zerolinecolor": "#E1E5ED"
        },
        "yaxis9": {
         "anchor": "x9",
         "domain": [
          0.2675,
          0.465
         ],
         "gridcolor": "#E1E5ED",
         "showgrid": false,
         "tickfont": {
          "color": "#4D5663"
         },
         "title": {
          "font": {
           "color": "#4D5663"
          },
          "text": ""
         },
         "zerolinecolor": "#E1E5ED"
        }
       }
      },
      "text/html": [
       "<div>\n",
       "        \n",
       "        \n",
       "            <div id=\"612f53b4-0d43-40bf-b455-aee7110f79c2\" class=\"plotly-graph-div\" style=\"height:525px; width:100%;\"></div>\n",
       "            <script type=\"text/javascript\">\n",
       "                require([\"plotly\"], function(Plotly) {\n",
       "                    window.PLOTLYENV=window.PLOTLYENV || {};\n",
       "                    window.PLOTLYENV.BASE_URL='https://plot.ly';\n",
       "                    \n",
       "                if (document.getElementById(\"612f53b4-0d43-40bf-b455-aee7110f79c2\")) {\n",
       "                    Plotly.newPlot(\n",
       "                        '612f53b4-0d43-40bf-b455-aee7110f79c2',\n",
       "                        [{\"histfunc\": \"count\", \"histnorm\": \"\", \"marker\": {\"color\": \"rgba(255, 153, 51, 1.0)\", \"line\": {\"color\": \"#4D5663\", \"width\": 1.3}}, \"name\": \"A\", \"nbinsx\": 10, \"opacity\": 0.8, \"orientation\": \"v\", \"type\": \"histogram\", \"x\": [1.0299692281207755, 0.4534019734022077, -1.156757825181421, -0.7299709942828432, 1.4409059505261956, -0.09674859261974017, -0.31310025124263396, -0.615562589771781, 1.3377488960017276, -1.238193381643003, 1.4473866003039055, -0.24578986864768815, -1.3932058840044743, -0.983629216765057, 1.1592625360059976, -0.5747697575840409, -2.164848056491318, -0.5521112208010445, 0.6596277084563169, -1.6610543716234045, -0.20127771451028606, 1.1401415826487609, 0.09581359549845013, 0.41353007338316194, -0.8418997837834926, 0.44398379100801055, -0.4763568195789701, 0.1622909197676177, -0.21577326523983892, -1.149924445072829, 0.8747976740565843, -0.6277466746502788, -0.4111046817448839, -0.1396106207813502, -0.3245889850514159, 0.47953606265711457, 0.10826429640054529, -1.33207714457925, -0.24755916405588405, -1.8647696040457458, 1.222906419466841, -1.4606120183754274, -0.5334167468495689, 0.9391682065309265, -0.5451809983351346, -0.02004448042626695, 1.9293086101896395, -0.4337940434540837, -1.3343809530709445, 0.29511550748888954, -0.06558515741836947, 0.5294550388808351, -0.9166582808037367, 0.2319000324614197, -1.5281168095973396, -0.42954701959141756, 2.0865890889512637, -0.5949872127370982, -1.4743702902513047, 0.19093383641853026, 0.3081129908388611, -2.0470356036501256, 1.1095352336807842, -1.368442764338196, -0.4275366607821204, 0.9250293952647808, -0.5777652608572624, 1.6608177632775625, 0.5316301885035559, -1.820881124822415, 0.5009456277225153, -0.4740403752566626, 0.1246658233655019, -0.869721085306933, 0.8570321501144111, 1.5911369302460645, -0.12107611962269951, -0.3401337751027574, 0.5930826615465543, -0.4564408347145368, -0.24216836595027982, -0.08433722488491868, 0.6992801443206138, -1.3479230918201661, 0.12385260456613993, -0.2558399630323414, -3.403472824761215, -0.045574523361199985, -0.0035774583155329586, -0.11088118405751529, 0.8604034726710508, -1.0374664218756517, -0.1855592050009561, -0.5341872200032267, 0.49876930778198564, -1.3949285590172393, -0.28398579730008716, 0.06999325605449133, 0.8462434658818054, 0.9747558345318641], \"xaxis\": \"x\", \"yaxis\": \"y\"}, {\"line\": {\"color\": \"rgba(128, 128, 128, 1.0)\", \"dash\": \"solid\", \"shape\": \"linear\", \"width\": 1.3}, \"marker\": {\"size\": 2, \"symbol\": \"circle\"}, \"mode\": \"markers\", \"name\": \"A\", \"text\": \"\", \"type\": \"scatter\", \"x\": [-0.5292130527085185, -1.0380352192512008, 0.515028895406664, -2.0489223232459652, -1.1616751322392724, 0.31823522688089406, 0.18919871745206318, -0.3813010657547128, 1.8396674127521875, -1.0993476336561583, 1.1927977033888462, 0.15829398678681464, -2.1109880813706603, -2.0385818530526314, -1.2361305929799478, 0.42290555133059576, 0.334215214533492, -0.20054377299147397, -0.8833505114126339, -1.1084383976938577, -1.851908547017362, -1.0630283408896297, 0.5926098904319725, 0.7513579534642801, 0.4637901368493004, -0.33709959840844683, 0.21027272795232996, 0.8983184683403516, -0.4901405914309119, -0.20120314218583968, 1.5011997035092146, -1.2095873020523167, -1.0700199021981835, -0.561313763405721, -0.28675070338425557, -0.6600015870215331, 2.937508711840935, 0.6477235827190407, 0.7318236869344612, 2.521495744543777, -0.022979158314660908, 0.2591095214280645, 0.06302427412203036, -0.5361261075311612, -0.37160107954747856, -0.626653987445001, 1.1429500158289485, 0.5096385749787216, -0.04873226669639589, 0.9850149505462312, -0.7852691213273342, -0.34270170975593817, -0.9623179316518778, 0.5539939911774647, -0.2577336972974899, 0.8976399206056497, -0.8051615534241037, -0.3443681028873965, 0.5734273403582758, 0.5019099807939298, 2.7681162645095507, 1.122021252487704, -0.7216893204909437, -0.13414541303752042, -1.1840734124359265, 2.11238290368288, 0.926063528945275, -0.48344166812176287, 0.7464086455230814, 1.8437767291806353, 0.4979201807729261, 0.2937901422164776, 0.057658364909912586, 0.19838391413673306, 0.9346106944872706, -0.34037271913893585, -1.0638231219610457, 0.05025142693732289, -0.6289189004932967, -0.9800787023295485, 0.0933863937368245, -0.07306728474361188, -1.0369062410116046, 0.7331677844235539, 0.5175133296662681, -0.29837523305297237, 1.009587285483537, -0.9170029650799433, 0.8441742768430965, 0.7854003158011569, 1.4732317340251777, -0.08212285584046843, -0.6773271354002086, 1.2832787579287601, 0.7311234814090207, -0.43089962618951966, 0.23807414436880844, -0.7455583649577328, 1.8898349439930222, -0.48940410252311906], \"xaxis\": \"x2\", \"y\": [1.0299692281207755, 0.4534019734022077, -1.156757825181421, -0.7299709942828432, 1.4409059505261956, -0.09674859261974017, -0.31310025124263396, -0.615562589771781, 1.3377488960017276, -1.238193381643003, 1.4473866003039055, -0.24578986864768815, -1.3932058840044743, -0.983629216765057, 1.1592625360059976, -0.5747697575840409, -2.164848056491318, -0.5521112208010445, 0.6596277084563169, -1.6610543716234045, -0.20127771451028606, 1.1401415826487609, 0.09581359549845013, 0.41353007338316194, -0.8418997837834926, 0.44398379100801055, -0.4763568195789701, 0.1622909197676177, -0.21577326523983892, -1.149924445072829, 0.8747976740565843, -0.6277466746502788, -0.4111046817448839, -0.1396106207813502, -0.3245889850514159, 0.47953606265711457, 0.10826429640054529, -1.33207714457925, -0.24755916405588405, -1.8647696040457458, 1.222906419466841, -1.4606120183754274, -0.5334167468495689, 0.9391682065309265, -0.5451809983351346, -0.02004448042626695, 1.9293086101896395, -0.4337940434540837, -1.3343809530709445, 0.29511550748888954, -0.06558515741836947, 0.5294550388808351, -0.9166582808037367, 0.2319000324614197, -1.5281168095973396, -0.42954701959141756, 2.0865890889512637, -0.5949872127370982, -1.4743702902513047, 0.19093383641853026, 0.3081129908388611, -2.0470356036501256, 1.1095352336807842, -1.368442764338196, -0.4275366607821204, 0.9250293952647808, -0.5777652608572624, 1.6608177632775625, 0.5316301885035559, -1.820881124822415, 0.5009456277225153, -0.4740403752566626, 0.1246658233655019, -0.869721085306933, 0.8570321501144111, 1.5911369302460645, -0.12107611962269951, -0.3401337751027574, 0.5930826615465543, -0.4564408347145368, -0.24216836595027982, -0.08433722488491868, 0.6992801443206138, -1.3479230918201661, 0.12385260456613993, -0.2558399630323414, -3.403472824761215, -0.045574523361199985, -0.0035774583155329586, -0.11088118405751529, 0.8604034726710508, -1.0374664218756517, -0.1855592050009561, -0.5341872200032267, 0.49876930778198564, -1.3949285590172393, -0.28398579730008716, 0.06999325605449133, 0.8462434658818054, 0.9747558345318641], \"yaxis\": \"y2\"}, {\"line\": {\"color\": \"rgba(128, 128, 128, 1.0)\", \"dash\": \"solid\", \"shape\": \"linear\", \"width\": 1.3}, \"marker\": {\"size\": 2, \"symbol\": \"circle\"}, \"mode\": \"markers\", \"name\": \"A\", \"text\": \"\", \"type\": \"scatter\", \"x\": [-0.7324498605631861, -0.1303894608628459, -1.151100409182011, -0.6422617241775928, -0.44754472937397344, -0.3075176554383684, -3.1383989680001267, 0.9764719821691396, 0.9266940736043047, 1.4434370922461166, 0.15364569147515642, -0.8600410763556198, 0.27149082659844936, 2.652403606812918, 0.19789334310764972, -0.4034990693487221, -0.05531385250273491, 0.6977655605986051, -0.13119522974507344, 0.32007108515669425, -1.394911538222159, 0.4890328438033733, 0.4279502511685625, 0.999009471226633, -0.3049256779375995, 1.0554487495688034, -0.07025195901839071, -0.06158185040287161, 0.6422129478688288, -0.09901727969887121, 0.5107018454485471, 1.0402505354817695, -0.6508222246538106, 0.059348190610508944, -0.7810493526677275, 0.8464277906209582, -0.2597065853638947, 0.15705290177027986, 0.721847761461881, -0.6871082860134929, -1.7821285555993478, -1.1591483514811343, 0.7652530577940034, 1.9284784171058644, -1.2743976951607354, -0.8624389453104636, -0.4116205273447163, -0.25568683642038775, -0.3400649966749066, -1.1497243849249152, -0.18031729609360275, -0.27769638691502063, 0.5320467971213227, -2.109826886255268, -0.46713590865489846, 1.2723497597429383, 0.6063208534882636, 1.0778543334618587, -0.5475774933853736, 0.2805901048055045, -1.2859662545080643, -0.12623347019959708, 0.9528552836049331, 2.353897144594742, -0.029919428088069962, -0.6952287967905131, -0.07769555725477738, -2.1975619606829366, 0.19106169107433513, 0.2842729049504016, -0.09525562185007477, -0.24799786172426608, -0.09576940661676409, 1.0641532265647242, 0.7826753718086371, -0.011998668395117125, -0.4007367902180285, -0.11230917965809203, 0.10830421162028454, 0.008995541337013661, -1.1728670577135618, -0.09614470770089809, -0.4410033002449212, 0.6484236081441456, 0.28309485102980203, -1.9585303737505555, 0.6407223405181663, -0.23420900871443726, -0.6580015984575852, 2.247150655645674, -0.32304534932041523, 0.05013026965175229, -0.39674403388053014, 0.96971803688895, 0.25562500157134666, -1.1929340682178564, -0.3793143282987808, -0.20849049787340979, 0.4023415317472472, 1.6568358063297357], \"xaxis\": \"x3\", \"y\": [1.0299692281207755, 0.4534019734022077, -1.156757825181421, -0.7299709942828432, 1.4409059505261956, -0.09674859261974017, -0.31310025124263396, -0.615562589771781, 1.3377488960017276, -1.238193381643003, 1.4473866003039055, -0.24578986864768815, -1.3932058840044743, -0.983629216765057, 1.1592625360059976, -0.5747697575840409, -2.164848056491318, -0.5521112208010445, 0.6596277084563169, -1.6610543716234045, -0.20127771451028606, 1.1401415826487609, 0.09581359549845013, 0.41353007338316194, -0.8418997837834926, 0.44398379100801055, -0.4763568195789701, 0.1622909197676177, -0.21577326523983892, -1.149924445072829, 0.8747976740565843, -0.6277466746502788, -0.4111046817448839, -0.1396106207813502, -0.3245889850514159, 0.47953606265711457, 0.10826429640054529, -1.33207714457925, -0.24755916405588405, -1.8647696040457458, 1.222906419466841, -1.4606120183754274, -0.5334167468495689, 0.9391682065309265, -0.5451809983351346, -0.02004448042626695, 1.9293086101896395, -0.4337940434540837, -1.3343809530709445, 0.29511550748888954, -0.06558515741836947, 0.5294550388808351, -0.9166582808037367, 0.2319000324614197, -1.5281168095973396, -0.42954701959141756, 2.0865890889512637, -0.5949872127370982, -1.4743702902513047, 0.19093383641853026, 0.3081129908388611, -2.0470356036501256, 1.1095352336807842, -1.368442764338196, -0.4275366607821204, 0.9250293952647808, -0.5777652608572624, 1.6608177632775625, 0.5316301885035559, -1.820881124822415, 0.5009456277225153, -0.4740403752566626, 0.1246658233655019, -0.869721085306933, 0.8570321501144111, 1.5911369302460645, -0.12107611962269951, -0.3401337751027574, 0.5930826615465543, -0.4564408347145368, -0.24216836595027982, -0.08433722488491868, 0.6992801443206138, -1.3479230918201661, 0.12385260456613993, -0.2558399630323414, -3.403472824761215, -0.045574523361199985, -0.0035774583155329586, -0.11088118405751529, 0.8604034726710508, -1.0374664218756517, -0.1855592050009561, -0.5341872200032267, 0.49876930778198564, -1.3949285590172393, -0.28398579730008716, 0.06999325605449133, 0.8462434658818054, 0.9747558345318641], \"yaxis\": \"y3\"}, {\"line\": {\"color\": \"rgba(128, 128, 128, 1.0)\", \"dash\": \"solid\", \"shape\": \"linear\", \"width\": 1.3}, \"marker\": {\"size\": 2, \"symbol\": \"circle\"}, \"mode\": \"markers\", \"name\": \"A\", \"text\": \"\", \"type\": \"scatter\", \"x\": [-0.03405134757754162, 1.7601247138745886, 0.7102161198087767, -0.20015282905238874, -2.091195220278861, 1.1204571784020945, 0.7106720190853378, -0.6336353028181934, 0.7501138232635651, 1.7419560818222881, -0.3083398513293142, 0.15955064262988533, 1.0490556273469869, 0.28255005612949297, 0.8743748133540031, -0.36818590031915716, 0.3482186714954275, -0.4700906789684043, -0.5664638387952888, -0.7359182099202148, -2.566657954603579, -0.500571359282229, 2.5275974880261707, -0.12644390984980539, -0.4901267637245524, 0.1682681391167114, 1.0937463725943974, -0.639426165430679, -1.9639560818688637, -0.9088344333096241, -1.4861475068301657, 1.0038671754592452, 0.2851358764228744, -0.05976094031039234, -1.864592796729352, -0.34248666954436857, -1.5085546495188544, -0.31230847608330536, 3.3138915393945925, 1.11482123114005, -0.4571426724366232, -0.7641689224300509, -0.4055984788240558, -0.7048011882313757, -1.0322008125019613, 0.12921765130349191, 0.45631515986879134, 0.6303858234609643, -0.4699500879746037, 0.16970164067017493, 0.8745101344956532, 0.20439625104582343, -0.8217709907644891, -0.8419600534293578, -0.6722858746289054, -0.7506503580178014, 0.7473586143240762, 0.019515955657227097, 0.1692105965100989, 2.0757748626399155, 0.2678083922467391, -0.7783403921194563, 1.1276814882775195, -2.0542988448012927, -1.110588941942566, 0.35171992312005, -1.461644889124666, 0.13811073609220823, 0.9999749992383878, 1.1408925929262406, -1.1288253533927428, -0.38262838805717175, -1.3853308736999235, -1.5771578115948657, -0.4383853798804836, 0.49243061527514315, 1.7074205792522625, -0.2455721645333344, -0.13148762705759243, -0.18537710295690857, -0.1290397089016061, 1.566791331909838, -1.0644028526512264, 0.4748821179637237, 0.7203473787223855, 0.4466385392714042, 2.171749315693905, 0.4123904744334221, -1.9855716426751728, -0.5118512502422413, -0.21477142134116692, -2.4018237983542186, -0.3266458193432738, -0.2145059113336942, -0.24174609919601492, 1.3031027972902298, -0.17916473801883537, 2.1699855178031124, -0.5965139378836746, 1.057565997220973], \"xaxis\": \"x4\", \"y\": [1.0299692281207755, 0.4534019734022077, -1.156757825181421, -0.7299709942828432, 1.4409059505261956, -0.09674859261974017, -0.31310025124263396, -0.615562589771781, 1.3377488960017276, -1.238193381643003, 1.4473866003039055, -0.24578986864768815, -1.3932058840044743, -0.983629216765057, 1.1592625360059976, -0.5747697575840409, -2.164848056491318, -0.5521112208010445, 0.6596277084563169, -1.6610543716234045, -0.20127771451028606, 1.1401415826487609, 0.09581359549845013, 0.41353007338316194, -0.8418997837834926, 0.44398379100801055, -0.4763568195789701, 0.1622909197676177, -0.21577326523983892, -1.149924445072829, 0.8747976740565843, -0.6277466746502788, -0.4111046817448839, -0.1396106207813502, -0.3245889850514159, 0.47953606265711457, 0.10826429640054529, -1.33207714457925, -0.24755916405588405, -1.8647696040457458, 1.222906419466841, -1.4606120183754274, -0.5334167468495689, 0.9391682065309265, -0.5451809983351346, -0.02004448042626695, 1.9293086101896395, -0.4337940434540837, -1.3343809530709445, 0.29511550748888954, -0.06558515741836947, 0.5294550388808351, -0.9166582808037367, 0.2319000324614197, -1.5281168095973396, -0.42954701959141756, 2.0865890889512637, -0.5949872127370982, -1.4743702902513047, 0.19093383641853026, 0.3081129908388611, -2.0470356036501256, 1.1095352336807842, -1.368442764338196, -0.4275366607821204, 0.9250293952647808, -0.5777652608572624, 1.6608177632775625, 0.5316301885035559, -1.820881124822415, 0.5009456277225153, -0.4740403752566626, 0.1246658233655019, -0.869721085306933, 0.8570321501144111, 1.5911369302460645, -0.12107611962269951, -0.3401337751027574, 0.5930826615465543, -0.4564408347145368, -0.24216836595027982, -0.08433722488491868, 0.6992801443206138, -1.3479230918201661, 0.12385260456613993, -0.2558399630323414, -3.403472824761215, -0.045574523361199985, -0.0035774583155329586, -0.11088118405751529, 0.8604034726710508, -1.0374664218756517, -0.1855592050009561, -0.5341872200032267, 0.49876930778198564, -1.3949285590172393, -0.28398579730008716, 0.06999325605449133, 0.8462434658818054, 0.9747558345318641], \"yaxis\": \"y4\"}, {\"line\": {\"color\": \"rgba(128, 128, 128, 1.0)\", \"dash\": \"solid\", \"shape\": \"linear\", \"width\": 1.3}, \"marker\": {\"size\": 2, \"symbol\": \"circle\"}, \"mode\": \"markers\", \"name\": \"B\", \"text\": \"\", \"type\": \"scatter\", \"x\": [1.0299692281207755, 0.4534019734022077, -1.156757825181421, -0.7299709942828432, 1.4409059505261956, -0.09674859261974017, -0.31310025124263396, -0.615562589771781, 1.3377488960017276, -1.238193381643003, 1.4473866003039055, -0.24578986864768815, -1.3932058840044743, -0.983629216765057, 1.1592625360059976, -0.5747697575840409, -2.164848056491318, -0.5521112208010445, 0.6596277084563169, -1.6610543716234045, -0.20127771451028606, 1.1401415826487609, 0.09581359549845013, 0.41353007338316194, -0.8418997837834926, 0.44398379100801055, -0.4763568195789701, 0.1622909197676177, -0.21577326523983892, -1.149924445072829, 0.8747976740565843, -0.6277466746502788, -0.4111046817448839, -0.1396106207813502, -0.3245889850514159, 0.47953606265711457, 0.10826429640054529, -1.33207714457925, -0.24755916405588405, -1.8647696040457458, 1.222906419466841, -1.4606120183754274, -0.5334167468495689, 0.9391682065309265, -0.5451809983351346, -0.02004448042626695, 1.9293086101896395, -0.4337940434540837, -1.3343809530709445, 0.29511550748888954, -0.06558515741836947, 0.5294550388808351, -0.9166582808037367, 0.2319000324614197, -1.5281168095973396, -0.42954701959141756, 2.0865890889512637, -0.5949872127370982, -1.4743702902513047, 0.19093383641853026, 0.3081129908388611, -2.0470356036501256, 1.1095352336807842, -1.368442764338196, -0.4275366607821204, 0.9250293952647808, -0.5777652608572624, 1.6608177632775625, 0.5316301885035559, -1.820881124822415, 0.5009456277225153, -0.4740403752566626, 0.1246658233655019, -0.869721085306933, 0.8570321501144111, 1.5911369302460645, -0.12107611962269951, -0.3401337751027574, 0.5930826615465543, -0.4564408347145368, -0.24216836595027982, -0.08433722488491868, 0.6992801443206138, -1.3479230918201661, 0.12385260456613993, -0.2558399630323414, -3.403472824761215, -0.045574523361199985, -0.0035774583155329586, -0.11088118405751529, 0.8604034726710508, -1.0374664218756517, -0.1855592050009561, -0.5341872200032267, 0.49876930778198564, -1.3949285590172393, -0.28398579730008716, 0.06999325605449133, 0.8462434658818054, 0.9747558345318641], \"xaxis\": \"x5\", \"y\": [-0.5292130527085185, -1.0380352192512008, 0.515028895406664, -2.0489223232459652, -1.1616751322392724, 0.31823522688089406, 0.18919871745206318, -0.3813010657547128, 1.8396674127521875, -1.0993476336561583, 1.1927977033888462, 0.15829398678681464, -2.1109880813706603, -2.0385818530526314, -1.2361305929799478, 0.42290555133059576, 0.334215214533492, -0.20054377299147397, -0.8833505114126339, -1.1084383976938577, -1.851908547017362, -1.0630283408896297, 0.5926098904319725, 0.7513579534642801, 0.4637901368493004, -0.33709959840844683, 0.21027272795232996, 0.8983184683403516, -0.4901405914309119, -0.20120314218583968, 1.5011997035092146, -1.2095873020523167, -1.0700199021981835, -0.561313763405721, -0.28675070338425557, -0.6600015870215331, 2.937508711840935, 0.6477235827190407, 0.7318236869344612, 2.521495744543777, -0.022979158314660908, 0.2591095214280645, 0.06302427412203036, -0.5361261075311612, -0.37160107954747856, -0.626653987445001, 1.1429500158289485, 0.5096385749787216, -0.04873226669639589, 0.9850149505462312, -0.7852691213273342, -0.34270170975593817, -0.9623179316518778, 0.5539939911774647, -0.2577336972974899, 0.8976399206056497, -0.8051615534241037, -0.3443681028873965, 0.5734273403582758, 0.5019099807939298, 2.7681162645095507, 1.122021252487704, -0.7216893204909437, -0.13414541303752042, -1.1840734124359265, 2.11238290368288, 0.926063528945275, -0.48344166812176287, 0.7464086455230814, 1.8437767291806353, 0.4979201807729261, 0.2937901422164776, 0.057658364909912586, 0.19838391413673306, 0.9346106944872706, -0.34037271913893585, -1.0638231219610457, 0.05025142693732289, -0.6289189004932967, -0.9800787023295485, 0.0933863937368245, -0.07306728474361188, -1.0369062410116046, 0.7331677844235539, 0.5175133296662681, -0.29837523305297237, 1.009587285483537, -0.9170029650799433, 0.8441742768430965, 0.7854003158011569, 1.4732317340251777, -0.08212285584046843, -0.6773271354002086, 1.2832787579287601, 0.7311234814090207, -0.43089962618951966, 0.23807414436880844, -0.7455583649577328, 1.8898349439930222, -0.48940410252311906], \"yaxis\": \"y5\"}, {\"histfunc\": \"count\", \"histnorm\": \"\", \"marker\": {\"color\": \"rgba(55, 128, 191, 1.0)\", \"line\": {\"color\": \"#4D5663\", \"width\": 1.3}}, \"name\": \"B\", \"nbinsx\": 10, \"opacity\": 0.8, \"orientation\": \"v\", \"type\": \"histogram\", \"x\": [-0.5292130527085185, -1.0380352192512008, 0.515028895406664, -2.0489223232459652, -1.1616751322392724, 0.31823522688089406, 0.18919871745206318, -0.3813010657547128, 1.8396674127521875, -1.0993476336561583, 1.1927977033888462, 0.15829398678681464, -2.1109880813706603, -2.0385818530526314, -1.2361305929799478, 0.42290555133059576, 0.334215214533492, -0.20054377299147397, -0.8833505114126339, -1.1084383976938577, -1.851908547017362, -1.0630283408896297, 0.5926098904319725, 0.7513579534642801, 0.4637901368493004, -0.33709959840844683, 0.21027272795232996, 0.8983184683403516, -0.4901405914309119, -0.20120314218583968, 1.5011997035092146, -1.2095873020523167, -1.0700199021981835, -0.561313763405721, -0.28675070338425557, -0.6600015870215331, 2.937508711840935, 0.6477235827190407, 0.7318236869344612, 2.521495744543777, -0.022979158314660908, 0.2591095214280645, 0.06302427412203036, -0.5361261075311612, -0.37160107954747856, -0.626653987445001, 1.1429500158289485, 0.5096385749787216, -0.04873226669639589, 0.9850149505462312, -0.7852691213273342, -0.34270170975593817, -0.9623179316518778, 0.5539939911774647, -0.2577336972974899, 0.8976399206056497, -0.8051615534241037, -0.3443681028873965, 0.5734273403582758, 0.5019099807939298, 2.7681162645095507, 1.122021252487704, -0.7216893204909437, -0.13414541303752042, -1.1840734124359265, 2.11238290368288, 0.926063528945275, -0.48344166812176287, 0.7464086455230814, 1.8437767291806353, 0.4979201807729261, 0.2937901422164776, 0.057658364909912586, 0.19838391413673306, 0.9346106944872706, -0.34037271913893585, -1.0638231219610457, 0.05025142693732289, -0.6289189004932967, -0.9800787023295485, 0.0933863937368245, -0.07306728474361188, -1.0369062410116046, 0.7331677844235539, 0.5175133296662681, -0.29837523305297237, 1.009587285483537, -0.9170029650799433, 0.8441742768430965, 0.7854003158011569, 1.4732317340251777, -0.08212285584046843, -0.6773271354002086, 1.2832787579287601, 0.7311234814090207, -0.43089962618951966, 0.23807414436880844, -0.7455583649577328, 1.8898349439930222, -0.48940410252311906], \"xaxis\": \"x6\", \"yaxis\": \"y6\"}, {\"line\": {\"color\": \"rgba(128, 128, 128, 1.0)\", \"dash\": \"solid\", \"shape\": \"linear\", \"width\": 1.3}, \"marker\": {\"size\": 2, \"symbol\": \"circle\"}, \"mode\": \"markers\", \"name\": \"B\", \"text\": \"\", \"type\": \"scatter\", \"x\": [-0.7324498605631861, -0.1303894608628459, -1.151100409182011, -0.6422617241775928, -0.44754472937397344, -0.3075176554383684, -3.1383989680001267, 0.9764719821691396, 0.9266940736043047, 1.4434370922461166, 0.15364569147515642, -0.8600410763556198, 0.27149082659844936, 2.652403606812918, 0.19789334310764972, -0.4034990693487221, -0.05531385250273491, 0.6977655605986051, -0.13119522974507344, 0.32007108515669425, -1.394911538222159, 0.4890328438033733, 0.4279502511685625, 0.999009471226633, -0.3049256779375995, 1.0554487495688034, -0.07025195901839071, -0.06158185040287161, 0.6422129478688288, -0.09901727969887121, 0.5107018454485471, 1.0402505354817695, -0.6508222246538106, 0.059348190610508944, -0.7810493526677275, 0.8464277906209582, -0.2597065853638947, 0.15705290177027986, 0.721847761461881, -0.6871082860134929, -1.7821285555993478, -1.1591483514811343, 0.7652530577940034, 1.9284784171058644, -1.2743976951607354, -0.8624389453104636, -0.4116205273447163, -0.25568683642038775, -0.3400649966749066, -1.1497243849249152, -0.18031729609360275, -0.27769638691502063, 0.5320467971213227, -2.109826886255268, -0.46713590865489846, 1.2723497597429383, 0.6063208534882636, 1.0778543334618587, -0.5475774933853736, 0.2805901048055045, -1.2859662545080643, -0.12623347019959708, 0.9528552836049331, 2.353897144594742, -0.029919428088069962, -0.6952287967905131, -0.07769555725477738, -2.1975619606829366, 0.19106169107433513, 0.2842729049504016, -0.09525562185007477, -0.24799786172426608, -0.09576940661676409, 1.0641532265647242, 0.7826753718086371, -0.011998668395117125, -0.4007367902180285, -0.11230917965809203, 0.10830421162028454, 0.008995541337013661, -1.1728670577135618, -0.09614470770089809, -0.4410033002449212, 0.6484236081441456, 0.28309485102980203, -1.9585303737505555, 0.6407223405181663, -0.23420900871443726, -0.6580015984575852, 2.247150655645674, -0.32304534932041523, 0.05013026965175229, -0.39674403388053014, 0.96971803688895, 0.25562500157134666, -1.1929340682178564, -0.3793143282987808, -0.20849049787340979, 0.4023415317472472, 1.6568358063297357], \"xaxis\": \"x7\", \"y\": [-0.5292130527085185, -1.0380352192512008, 0.515028895406664, -2.0489223232459652, -1.1616751322392724, 0.31823522688089406, 0.18919871745206318, -0.3813010657547128, 1.8396674127521875, -1.0993476336561583, 1.1927977033888462, 0.15829398678681464, -2.1109880813706603, -2.0385818530526314, -1.2361305929799478, 0.42290555133059576, 0.334215214533492, -0.20054377299147397, -0.8833505114126339, -1.1084383976938577, -1.851908547017362, -1.0630283408896297, 0.5926098904319725, 0.7513579534642801, 0.4637901368493004, -0.33709959840844683, 0.21027272795232996, 0.8983184683403516, -0.4901405914309119, -0.20120314218583968, 1.5011997035092146, -1.2095873020523167, -1.0700199021981835, -0.561313763405721, -0.28675070338425557, -0.6600015870215331, 2.937508711840935, 0.6477235827190407, 0.7318236869344612, 2.521495744543777, -0.022979158314660908, 0.2591095214280645, 0.06302427412203036, -0.5361261075311612, -0.37160107954747856, -0.626653987445001, 1.1429500158289485, 0.5096385749787216, -0.04873226669639589, 0.9850149505462312, -0.7852691213273342, -0.34270170975593817, -0.9623179316518778, 0.5539939911774647, -0.2577336972974899, 0.8976399206056497, -0.8051615534241037, -0.3443681028873965, 0.5734273403582758, 0.5019099807939298, 2.7681162645095507, 1.122021252487704, -0.7216893204909437, -0.13414541303752042, -1.1840734124359265, 2.11238290368288, 0.926063528945275, -0.48344166812176287, 0.7464086455230814, 1.8437767291806353, 0.4979201807729261, 0.2937901422164776, 0.057658364909912586, 0.19838391413673306, 0.9346106944872706, -0.34037271913893585, -1.0638231219610457, 0.05025142693732289, -0.6289189004932967, -0.9800787023295485, 0.0933863937368245, -0.07306728474361188, -1.0369062410116046, 0.7331677844235539, 0.5175133296662681, -0.29837523305297237, 1.009587285483537, -0.9170029650799433, 0.8441742768430965, 0.7854003158011569, 1.4732317340251777, -0.08212285584046843, -0.6773271354002086, 1.2832787579287601, 0.7311234814090207, -0.43089962618951966, 0.23807414436880844, -0.7455583649577328, 1.8898349439930222, -0.48940410252311906], \"yaxis\": \"y7\"}, {\"line\": {\"color\": \"rgba(128, 128, 128, 1.0)\", \"dash\": \"solid\", \"shape\": \"linear\", \"width\": 1.3}, \"marker\": {\"size\": 2, \"symbol\": \"circle\"}, \"mode\": \"markers\", \"name\": \"B\", \"text\": \"\", \"type\": \"scatter\", \"x\": [-0.03405134757754162, 1.7601247138745886, 0.7102161198087767, -0.20015282905238874, -2.091195220278861, 1.1204571784020945, 0.7106720190853378, -0.6336353028181934, 0.7501138232635651, 1.7419560818222881, -0.3083398513293142, 0.15955064262988533, 1.0490556273469869, 0.28255005612949297, 0.8743748133540031, -0.36818590031915716, 0.3482186714954275, -0.4700906789684043, -0.5664638387952888, -0.7359182099202148, -2.566657954603579, -0.500571359282229, 2.5275974880261707, -0.12644390984980539, -0.4901267637245524, 0.1682681391167114, 1.0937463725943974, -0.639426165430679, -1.9639560818688637, -0.9088344333096241, -1.4861475068301657, 1.0038671754592452, 0.2851358764228744, -0.05976094031039234, -1.864592796729352, -0.34248666954436857, -1.5085546495188544, -0.31230847608330536, 3.3138915393945925, 1.11482123114005, -0.4571426724366232, -0.7641689224300509, -0.4055984788240558, -0.7048011882313757, -1.0322008125019613, 0.12921765130349191, 0.45631515986879134, 0.6303858234609643, -0.4699500879746037, 0.16970164067017493, 0.8745101344956532, 0.20439625104582343, -0.8217709907644891, -0.8419600534293578, -0.6722858746289054, -0.7506503580178014, 0.7473586143240762, 0.019515955657227097, 0.1692105965100989, 2.0757748626399155, 0.2678083922467391, -0.7783403921194563, 1.1276814882775195, -2.0542988448012927, -1.110588941942566, 0.35171992312005, -1.461644889124666, 0.13811073609220823, 0.9999749992383878, 1.1408925929262406, -1.1288253533927428, -0.38262838805717175, -1.3853308736999235, -1.5771578115948657, -0.4383853798804836, 0.49243061527514315, 1.7074205792522625, -0.2455721645333344, -0.13148762705759243, -0.18537710295690857, -0.1290397089016061, 1.566791331909838, -1.0644028526512264, 0.4748821179637237, 0.7203473787223855, 0.4466385392714042, 2.171749315693905, 0.4123904744334221, -1.9855716426751728, -0.5118512502422413, -0.21477142134116692, -2.4018237983542186, -0.3266458193432738, -0.2145059113336942, -0.24174609919601492, 1.3031027972902298, -0.17916473801883537, 2.1699855178031124, -0.5965139378836746, 1.057565997220973], \"xaxis\": \"x8\", \"y\": [-0.5292130527085185, -1.0380352192512008, 0.515028895406664, -2.0489223232459652, -1.1616751322392724, 0.31823522688089406, 0.18919871745206318, -0.3813010657547128, 1.8396674127521875, -1.0993476336561583, 1.1927977033888462, 0.15829398678681464, -2.1109880813706603, -2.0385818530526314, -1.2361305929799478, 0.42290555133059576, 0.334215214533492, -0.20054377299147397, -0.8833505114126339, -1.1084383976938577, -1.851908547017362, -1.0630283408896297, 0.5926098904319725, 0.7513579534642801, 0.4637901368493004, -0.33709959840844683, 0.21027272795232996, 0.8983184683403516, -0.4901405914309119, -0.20120314218583968, 1.5011997035092146, -1.2095873020523167, -1.0700199021981835, -0.561313763405721, -0.28675070338425557, -0.6600015870215331, 2.937508711840935, 0.6477235827190407, 0.7318236869344612, 2.521495744543777, -0.022979158314660908, 0.2591095214280645, 0.06302427412203036, -0.5361261075311612, -0.37160107954747856, -0.626653987445001, 1.1429500158289485, 0.5096385749787216, -0.04873226669639589, 0.9850149505462312, -0.7852691213273342, -0.34270170975593817, -0.9623179316518778, 0.5539939911774647, -0.2577336972974899, 0.8976399206056497, -0.8051615534241037, -0.3443681028873965, 0.5734273403582758, 0.5019099807939298, 2.7681162645095507, 1.122021252487704, -0.7216893204909437, -0.13414541303752042, -1.1840734124359265, 2.11238290368288, 0.926063528945275, -0.48344166812176287, 0.7464086455230814, 1.8437767291806353, 0.4979201807729261, 0.2937901422164776, 0.057658364909912586, 0.19838391413673306, 0.9346106944872706, -0.34037271913893585, -1.0638231219610457, 0.05025142693732289, -0.6289189004932967, -0.9800787023295485, 0.0933863937368245, -0.07306728474361188, -1.0369062410116046, 0.7331677844235539, 0.5175133296662681, -0.29837523305297237, 1.009587285483537, -0.9170029650799433, 0.8441742768430965, 0.7854003158011569, 1.4732317340251777, -0.08212285584046843, -0.6773271354002086, 1.2832787579287601, 0.7311234814090207, -0.43089962618951966, 0.23807414436880844, -0.7455583649577328, 1.8898349439930222, -0.48940410252311906], \"yaxis\": \"y8\"}, {\"line\": {\"color\": \"rgba(128, 128, 128, 1.0)\", \"dash\": \"solid\", \"shape\": \"linear\", \"width\": 1.3}, \"marker\": {\"size\": 2, \"symbol\": \"circle\"}, \"mode\": \"markers\", \"name\": \"C\", \"text\": \"\", \"type\": \"scatter\", \"x\": [1.0299692281207755, 0.4534019734022077, -1.156757825181421, -0.7299709942828432, 1.4409059505261956, -0.09674859261974017, -0.31310025124263396, -0.615562589771781, 1.3377488960017276, -1.238193381643003, 1.4473866003039055, -0.24578986864768815, -1.3932058840044743, -0.983629216765057, 1.1592625360059976, -0.5747697575840409, -2.164848056491318, -0.5521112208010445, 0.6596277084563169, -1.6610543716234045, -0.20127771451028606, 1.1401415826487609, 0.09581359549845013, 0.41353007338316194, -0.8418997837834926, 0.44398379100801055, -0.4763568195789701, 0.1622909197676177, -0.21577326523983892, -1.149924445072829, 0.8747976740565843, -0.6277466746502788, -0.4111046817448839, -0.1396106207813502, -0.3245889850514159, 0.47953606265711457, 0.10826429640054529, -1.33207714457925, -0.24755916405588405, -1.8647696040457458, 1.222906419466841, -1.4606120183754274, -0.5334167468495689, 0.9391682065309265, -0.5451809983351346, -0.02004448042626695, 1.9293086101896395, -0.4337940434540837, -1.3343809530709445, 0.29511550748888954, -0.06558515741836947, 0.5294550388808351, -0.9166582808037367, 0.2319000324614197, -1.5281168095973396, -0.42954701959141756, 2.0865890889512637, -0.5949872127370982, -1.4743702902513047, 0.19093383641853026, 0.3081129908388611, -2.0470356036501256, 1.1095352336807842, -1.368442764338196, -0.4275366607821204, 0.9250293952647808, -0.5777652608572624, 1.6608177632775625, 0.5316301885035559, -1.820881124822415, 0.5009456277225153, -0.4740403752566626, 0.1246658233655019, -0.869721085306933, 0.8570321501144111, 1.5911369302460645, -0.12107611962269951, -0.3401337751027574, 0.5930826615465543, -0.4564408347145368, -0.24216836595027982, -0.08433722488491868, 0.6992801443206138, -1.3479230918201661, 0.12385260456613993, -0.2558399630323414, -3.403472824761215, -0.045574523361199985, -0.0035774583155329586, -0.11088118405751529, 0.8604034726710508, -1.0374664218756517, -0.1855592050009561, -0.5341872200032267, 0.49876930778198564, -1.3949285590172393, -0.28398579730008716, 0.06999325605449133, 0.8462434658818054, 0.9747558345318641], \"xaxis\": \"x9\", \"y\": [-0.7324498605631861, -0.1303894608628459, -1.151100409182011, -0.6422617241775928, -0.44754472937397344, -0.3075176554383684, -3.1383989680001267, 0.9764719821691396, 0.9266940736043047, 1.4434370922461166, 0.15364569147515642, -0.8600410763556198, 0.27149082659844936, 2.652403606812918, 0.19789334310764972, -0.4034990693487221, -0.05531385250273491, 0.6977655605986051, -0.13119522974507344, 0.32007108515669425, -1.394911538222159, 0.4890328438033733, 0.4279502511685625, 0.999009471226633, -0.3049256779375995, 1.0554487495688034, -0.07025195901839071, -0.06158185040287161, 0.6422129478688288, -0.09901727969887121, 0.5107018454485471, 1.0402505354817695, -0.6508222246538106, 0.059348190610508944, -0.7810493526677275, 0.8464277906209582, -0.2597065853638947, 0.15705290177027986, 0.721847761461881, -0.6871082860134929, -1.7821285555993478, -1.1591483514811343, 0.7652530577940034, 1.9284784171058644, -1.2743976951607354, -0.8624389453104636, -0.4116205273447163, -0.25568683642038775, -0.3400649966749066, -1.1497243849249152, -0.18031729609360275, -0.27769638691502063, 0.5320467971213227, -2.109826886255268, -0.46713590865489846, 1.2723497597429383, 0.6063208534882636, 1.0778543334618587, -0.5475774933853736, 0.2805901048055045, -1.2859662545080643, -0.12623347019959708, 0.9528552836049331, 2.353897144594742, -0.029919428088069962, -0.6952287967905131, -0.07769555725477738, -2.1975619606829366, 0.19106169107433513, 0.2842729049504016, -0.09525562185007477, -0.24799786172426608, -0.09576940661676409, 1.0641532265647242, 0.7826753718086371, -0.011998668395117125, -0.4007367902180285, -0.11230917965809203, 0.10830421162028454, 0.008995541337013661, -1.1728670577135618, -0.09614470770089809, -0.4410033002449212, 0.6484236081441456, 0.28309485102980203, -1.9585303737505555, 0.6407223405181663, -0.23420900871443726, -0.6580015984575852, 2.247150655645674, -0.32304534932041523, 0.05013026965175229, -0.39674403388053014, 0.96971803688895, 0.25562500157134666, -1.1929340682178564, -0.3793143282987808, -0.20849049787340979, 0.4023415317472472, 1.6568358063297357], \"yaxis\": \"y9\"}, {\"line\": {\"color\": \"rgba(128, 128, 128, 1.0)\", \"dash\": \"solid\", \"shape\": \"linear\", \"width\": 1.3}, \"marker\": {\"size\": 2, \"symbol\": \"circle\"}, \"mode\": \"markers\", \"name\": \"C\", \"text\": \"\", \"type\": \"scatter\", \"x\": [-0.5292130527085185, -1.0380352192512008, 0.515028895406664, -2.0489223232459652, -1.1616751322392724, 0.31823522688089406, 0.18919871745206318, -0.3813010657547128, 1.8396674127521875, -1.0993476336561583, 1.1927977033888462, 0.15829398678681464, -2.1109880813706603, -2.0385818530526314, -1.2361305929799478, 0.42290555133059576, 0.334215214533492, -0.20054377299147397, -0.8833505114126339, -1.1084383976938577, -1.851908547017362, -1.0630283408896297, 0.5926098904319725, 0.7513579534642801, 0.4637901368493004, -0.33709959840844683, 0.21027272795232996, 0.8983184683403516, -0.4901405914309119, -0.20120314218583968, 1.5011997035092146, -1.2095873020523167, -1.0700199021981835, -0.561313763405721, -0.28675070338425557, -0.6600015870215331, 2.937508711840935, 0.6477235827190407, 0.7318236869344612, 2.521495744543777, -0.022979158314660908, 0.2591095214280645, 0.06302427412203036, -0.5361261075311612, -0.37160107954747856, -0.626653987445001, 1.1429500158289485, 0.5096385749787216, -0.04873226669639589, 0.9850149505462312, -0.7852691213273342, -0.34270170975593817, -0.9623179316518778, 0.5539939911774647, -0.2577336972974899, 0.8976399206056497, -0.8051615534241037, -0.3443681028873965, 0.5734273403582758, 0.5019099807939298, 2.7681162645095507, 1.122021252487704, -0.7216893204909437, -0.13414541303752042, -1.1840734124359265, 2.11238290368288, 0.926063528945275, -0.48344166812176287, 0.7464086455230814, 1.8437767291806353, 0.4979201807729261, 0.2937901422164776, 0.057658364909912586, 0.19838391413673306, 0.9346106944872706, -0.34037271913893585, -1.0638231219610457, 0.05025142693732289, -0.6289189004932967, -0.9800787023295485, 0.0933863937368245, -0.07306728474361188, -1.0369062410116046, 0.7331677844235539, 0.5175133296662681, -0.29837523305297237, 1.009587285483537, -0.9170029650799433, 0.8441742768430965, 0.7854003158011569, 1.4732317340251777, -0.08212285584046843, -0.6773271354002086, 1.2832787579287601, 0.7311234814090207, -0.43089962618951966, 0.23807414436880844, -0.7455583649577328, 1.8898349439930222, -0.48940410252311906], \"xaxis\": \"x10\", \"y\": [-0.7324498605631861, -0.1303894608628459, -1.151100409182011, -0.6422617241775928, -0.44754472937397344, -0.3075176554383684, -3.1383989680001267, 0.9764719821691396, 0.9266940736043047, 1.4434370922461166, 0.15364569147515642, -0.8600410763556198, 0.27149082659844936, 2.652403606812918, 0.19789334310764972, -0.4034990693487221, -0.05531385250273491, 0.6977655605986051, -0.13119522974507344, 0.32007108515669425, -1.394911538222159, 0.4890328438033733, 0.4279502511685625, 0.999009471226633, -0.3049256779375995, 1.0554487495688034, -0.07025195901839071, -0.06158185040287161, 0.6422129478688288, -0.09901727969887121, 0.5107018454485471, 1.0402505354817695, -0.6508222246538106, 0.059348190610508944, -0.7810493526677275, 0.8464277906209582, -0.2597065853638947, 0.15705290177027986, 0.721847761461881, -0.6871082860134929, -1.7821285555993478, -1.1591483514811343, 0.7652530577940034, 1.9284784171058644, -1.2743976951607354, -0.8624389453104636, -0.4116205273447163, -0.25568683642038775, -0.3400649966749066, -1.1497243849249152, -0.18031729609360275, -0.27769638691502063, 0.5320467971213227, -2.109826886255268, -0.46713590865489846, 1.2723497597429383, 0.6063208534882636, 1.0778543334618587, -0.5475774933853736, 0.2805901048055045, -1.2859662545080643, -0.12623347019959708, 0.9528552836049331, 2.353897144594742, -0.029919428088069962, -0.6952287967905131, -0.07769555725477738, -2.1975619606829366, 0.19106169107433513, 0.2842729049504016, -0.09525562185007477, -0.24799786172426608, -0.09576940661676409, 1.0641532265647242, 0.7826753718086371, -0.011998668395117125, -0.4007367902180285, -0.11230917965809203, 0.10830421162028454, 0.008995541337013661, -1.1728670577135618, -0.09614470770089809, -0.4410033002449212, 0.6484236081441456, 0.28309485102980203, -1.9585303737505555, 0.6407223405181663, -0.23420900871443726, -0.6580015984575852, 2.247150655645674, -0.32304534932041523, 0.05013026965175229, -0.39674403388053014, 0.96971803688895, 0.25562500157134666, -1.1929340682178564, -0.3793143282987808, -0.20849049787340979, 0.4023415317472472, 1.6568358063297357], \"yaxis\": \"y10\"}, {\"histfunc\": \"count\", \"histnorm\": \"\", \"marker\": {\"color\": \"rgba(50, 171, 96, 1.0)\", \"line\": {\"color\": \"#4D5663\", \"width\": 1.3}}, \"name\": \"C\", \"nbinsx\": 10, \"opacity\": 0.8, \"orientation\": \"v\", \"type\": \"histogram\", \"x\": [-0.7324498605631861, -0.1303894608628459, -1.151100409182011, -0.6422617241775928, -0.44754472937397344, -0.3075176554383684, -3.1383989680001267, 0.9764719821691396, 0.9266940736043047, 1.4434370922461166, 0.15364569147515642, -0.8600410763556198, 0.27149082659844936, 2.652403606812918, 0.19789334310764972, -0.4034990693487221, -0.05531385250273491, 0.6977655605986051, -0.13119522974507344, 0.32007108515669425, -1.394911538222159, 0.4890328438033733, 0.4279502511685625, 0.999009471226633, -0.3049256779375995, 1.0554487495688034, -0.07025195901839071, -0.06158185040287161, 0.6422129478688288, -0.09901727969887121, 0.5107018454485471, 1.0402505354817695, -0.6508222246538106, 0.059348190610508944, -0.7810493526677275, 0.8464277906209582, -0.2597065853638947, 0.15705290177027986, 0.721847761461881, -0.6871082860134929, -1.7821285555993478, -1.1591483514811343, 0.7652530577940034, 1.9284784171058644, -1.2743976951607354, -0.8624389453104636, -0.4116205273447163, -0.25568683642038775, -0.3400649966749066, -1.1497243849249152, -0.18031729609360275, -0.27769638691502063, 0.5320467971213227, -2.109826886255268, -0.46713590865489846, 1.2723497597429383, 0.6063208534882636, 1.0778543334618587, -0.5475774933853736, 0.2805901048055045, -1.2859662545080643, -0.12623347019959708, 0.9528552836049331, 2.353897144594742, -0.029919428088069962, -0.6952287967905131, -0.07769555725477738, -2.1975619606829366, 0.19106169107433513, 0.2842729049504016, -0.09525562185007477, -0.24799786172426608, -0.09576940661676409, 1.0641532265647242, 0.7826753718086371, -0.011998668395117125, -0.4007367902180285, -0.11230917965809203, 0.10830421162028454, 0.008995541337013661, -1.1728670577135618, -0.09614470770089809, -0.4410033002449212, 0.6484236081441456, 0.28309485102980203, -1.9585303737505555, 0.6407223405181663, -0.23420900871443726, -0.6580015984575852, 2.247150655645674, -0.32304534932041523, 0.05013026965175229, -0.39674403388053014, 0.96971803688895, 0.25562500157134666, -1.1929340682178564, -0.3793143282987808, -0.20849049787340979, 0.4023415317472472, 1.6568358063297357], \"xaxis\": \"x11\", \"yaxis\": \"y11\"}, {\"line\": {\"color\": \"rgba(128, 128, 128, 1.0)\", \"dash\": \"solid\", \"shape\": \"linear\", \"width\": 1.3}, \"marker\": {\"size\": 2, \"symbol\": \"circle\"}, \"mode\": \"markers\", \"name\": \"C\", \"text\": \"\", \"type\": \"scatter\", \"x\": [-0.03405134757754162, 1.7601247138745886, 0.7102161198087767, -0.20015282905238874, -2.091195220278861, 1.1204571784020945, 0.7106720190853378, -0.6336353028181934, 0.7501138232635651, 1.7419560818222881, -0.3083398513293142, 0.15955064262988533, 1.0490556273469869, 0.28255005612949297, 0.8743748133540031, -0.36818590031915716, 0.3482186714954275, -0.4700906789684043, -0.5664638387952888, -0.7359182099202148, -2.566657954603579, -0.500571359282229, 2.5275974880261707, -0.12644390984980539, -0.4901267637245524, 0.1682681391167114, 1.0937463725943974, -0.639426165430679, -1.9639560818688637, -0.9088344333096241, -1.4861475068301657, 1.0038671754592452, 0.2851358764228744, -0.05976094031039234, -1.864592796729352, -0.34248666954436857, -1.5085546495188544, -0.31230847608330536, 3.3138915393945925, 1.11482123114005, -0.4571426724366232, -0.7641689224300509, -0.4055984788240558, -0.7048011882313757, -1.0322008125019613, 0.12921765130349191, 0.45631515986879134, 0.6303858234609643, -0.4699500879746037, 0.16970164067017493, 0.8745101344956532, 0.20439625104582343, -0.8217709907644891, -0.8419600534293578, -0.6722858746289054, -0.7506503580178014, 0.7473586143240762, 0.019515955657227097, 0.1692105965100989, 2.0757748626399155, 0.2678083922467391, -0.7783403921194563, 1.1276814882775195, -2.0542988448012927, -1.110588941942566, 0.35171992312005, -1.461644889124666, 0.13811073609220823, 0.9999749992383878, 1.1408925929262406, -1.1288253533927428, -0.38262838805717175, -1.3853308736999235, -1.5771578115948657, -0.4383853798804836, 0.49243061527514315, 1.7074205792522625, -0.2455721645333344, -0.13148762705759243, -0.18537710295690857, -0.1290397089016061, 1.566791331909838, -1.0644028526512264, 0.4748821179637237, 0.7203473787223855, 0.4466385392714042, 2.171749315693905, 0.4123904744334221, -1.9855716426751728, -0.5118512502422413, -0.21477142134116692, -2.4018237983542186, -0.3266458193432738, -0.2145059113336942, -0.24174609919601492, 1.3031027972902298, -0.17916473801883537, 2.1699855178031124, -0.5965139378836746, 1.057565997220973], \"xaxis\": \"x12\", \"y\": [-0.7324498605631861, -0.1303894608628459, -1.151100409182011, -0.6422617241775928, -0.44754472937397344, -0.3075176554383684, -3.1383989680001267, 0.9764719821691396, 0.9266940736043047, 1.4434370922461166, 0.15364569147515642, -0.8600410763556198, 0.27149082659844936, 2.652403606812918, 0.19789334310764972, -0.4034990693487221, -0.05531385250273491, 0.6977655605986051, -0.13119522974507344, 0.32007108515669425, -1.394911538222159, 0.4890328438033733, 0.4279502511685625, 0.999009471226633, -0.3049256779375995, 1.0554487495688034, -0.07025195901839071, -0.06158185040287161, 0.6422129478688288, -0.09901727969887121, 0.5107018454485471, 1.0402505354817695, -0.6508222246538106, 0.059348190610508944, -0.7810493526677275, 0.8464277906209582, -0.2597065853638947, 0.15705290177027986, 0.721847761461881, -0.6871082860134929, -1.7821285555993478, -1.1591483514811343, 0.7652530577940034, 1.9284784171058644, -1.2743976951607354, -0.8624389453104636, -0.4116205273447163, -0.25568683642038775, -0.3400649966749066, -1.1497243849249152, -0.18031729609360275, -0.27769638691502063, 0.5320467971213227, -2.109826886255268, -0.46713590865489846, 1.2723497597429383, 0.6063208534882636, 1.0778543334618587, -0.5475774933853736, 0.2805901048055045, -1.2859662545080643, -0.12623347019959708, 0.9528552836049331, 2.353897144594742, -0.029919428088069962, -0.6952287967905131, -0.07769555725477738, -2.1975619606829366, 0.19106169107433513, 0.2842729049504016, -0.09525562185007477, -0.24799786172426608, -0.09576940661676409, 1.0641532265647242, 0.7826753718086371, -0.011998668395117125, -0.4007367902180285, -0.11230917965809203, 0.10830421162028454, 0.008995541337013661, -1.1728670577135618, -0.09614470770089809, -0.4410033002449212, 0.6484236081441456, 0.28309485102980203, -1.9585303737505555, 0.6407223405181663, -0.23420900871443726, -0.6580015984575852, 2.247150655645674, -0.32304534932041523, 0.05013026965175229, -0.39674403388053014, 0.96971803688895, 0.25562500157134666, -1.1929340682178564, -0.3793143282987808, -0.20849049787340979, 0.4023415317472472, 1.6568358063297357], \"yaxis\": \"y12\"}, {\"line\": {\"color\": \"rgba(128, 128, 128, 1.0)\", \"dash\": \"solid\", \"shape\": \"linear\", \"width\": 1.3}, \"marker\": {\"size\": 2, \"symbol\": \"circle\"}, \"mode\": \"markers\", \"name\": \"D\", \"text\": \"\", \"type\": \"scatter\", \"x\": [1.0299692281207755, 0.4534019734022077, -1.156757825181421, -0.7299709942828432, 1.4409059505261956, -0.09674859261974017, -0.31310025124263396, -0.615562589771781, 1.3377488960017276, -1.238193381643003, 1.4473866003039055, -0.24578986864768815, -1.3932058840044743, -0.983629216765057, 1.1592625360059976, -0.5747697575840409, -2.164848056491318, -0.5521112208010445, 0.6596277084563169, -1.6610543716234045, -0.20127771451028606, 1.1401415826487609, 0.09581359549845013, 0.41353007338316194, -0.8418997837834926, 0.44398379100801055, -0.4763568195789701, 0.1622909197676177, -0.21577326523983892, -1.149924445072829, 0.8747976740565843, -0.6277466746502788, -0.4111046817448839, -0.1396106207813502, -0.3245889850514159, 0.47953606265711457, 0.10826429640054529, -1.33207714457925, -0.24755916405588405, -1.8647696040457458, 1.222906419466841, -1.4606120183754274, -0.5334167468495689, 0.9391682065309265, -0.5451809983351346, -0.02004448042626695, 1.9293086101896395, -0.4337940434540837, -1.3343809530709445, 0.29511550748888954, -0.06558515741836947, 0.5294550388808351, -0.9166582808037367, 0.2319000324614197, -1.5281168095973396, -0.42954701959141756, 2.0865890889512637, -0.5949872127370982, -1.4743702902513047, 0.19093383641853026, 0.3081129908388611, -2.0470356036501256, 1.1095352336807842, -1.368442764338196, -0.4275366607821204, 0.9250293952647808, -0.5777652608572624, 1.6608177632775625, 0.5316301885035559, -1.820881124822415, 0.5009456277225153, -0.4740403752566626, 0.1246658233655019, -0.869721085306933, 0.8570321501144111, 1.5911369302460645, -0.12107611962269951, -0.3401337751027574, 0.5930826615465543, -0.4564408347145368, -0.24216836595027982, -0.08433722488491868, 0.6992801443206138, -1.3479230918201661, 0.12385260456613993, -0.2558399630323414, -3.403472824761215, -0.045574523361199985, -0.0035774583155329586, -0.11088118405751529, 0.8604034726710508, -1.0374664218756517, -0.1855592050009561, -0.5341872200032267, 0.49876930778198564, -1.3949285590172393, -0.28398579730008716, 0.06999325605449133, 0.8462434658818054, 0.9747558345318641], \"xaxis\": \"x13\", \"y\": [-0.03405134757754162, 1.7601247138745886, 0.7102161198087767, -0.20015282905238874, -2.091195220278861, 1.1204571784020945, 0.7106720190853378, -0.6336353028181934, 0.7501138232635651, 1.7419560818222881, -0.3083398513293142, 0.15955064262988533, 1.0490556273469869, 0.28255005612949297, 0.8743748133540031, -0.36818590031915716, 0.3482186714954275, -0.4700906789684043, -0.5664638387952888, -0.7359182099202148, -2.566657954603579, -0.500571359282229, 2.5275974880261707, -0.12644390984980539, -0.4901267637245524, 0.1682681391167114, 1.0937463725943974, -0.639426165430679, -1.9639560818688637, -0.9088344333096241, -1.4861475068301657, 1.0038671754592452, 0.2851358764228744, -0.05976094031039234, -1.864592796729352, -0.34248666954436857, -1.5085546495188544, -0.31230847608330536, 3.3138915393945925, 1.11482123114005, -0.4571426724366232, -0.7641689224300509, -0.4055984788240558, -0.7048011882313757, -1.0322008125019613, 0.12921765130349191, 0.45631515986879134, 0.6303858234609643, -0.4699500879746037, 0.16970164067017493, 0.8745101344956532, 0.20439625104582343, -0.8217709907644891, -0.8419600534293578, -0.6722858746289054, -0.7506503580178014, 0.7473586143240762, 0.019515955657227097, 0.1692105965100989, 2.0757748626399155, 0.2678083922467391, -0.7783403921194563, 1.1276814882775195, -2.0542988448012927, -1.110588941942566, 0.35171992312005, -1.461644889124666, 0.13811073609220823, 0.9999749992383878, 1.1408925929262406, -1.1288253533927428, -0.38262838805717175, -1.3853308736999235, -1.5771578115948657, -0.4383853798804836, 0.49243061527514315, 1.7074205792522625, -0.2455721645333344, -0.13148762705759243, -0.18537710295690857, -0.1290397089016061, 1.566791331909838, -1.0644028526512264, 0.4748821179637237, 0.7203473787223855, 0.4466385392714042, 2.171749315693905, 0.4123904744334221, -1.9855716426751728, -0.5118512502422413, -0.21477142134116692, -2.4018237983542186, -0.3266458193432738, -0.2145059113336942, -0.24174609919601492, 1.3031027972902298, -0.17916473801883537, 2.1699855178031124, -0.5965139378836746, 1.057565997220973], \"yaxis\": \"y13\"}, {\"line\": {\"color\": \"rgba(128, 128, 128, 1.0)\", \"dash\": \"solid\", \"shape\": \"linear\", \"width\": 1.3}, \"marker\": {\"size\": 2, \"symbol\": \"circle\"}, \"mode\": \"markers\", \"name\": \"D\", \"text\": \"\", \"type\": \"scatter\", \"x\": [-0.5292130527085185, -1.0380352192512008, 0.515028895406664, -2.0489223232459652, -1.1616751322392724, 0.31823522688089406, 0.18919871745206318, -0.3813010657547128, 1.8396674127521875, -1.0993476336561583, 1.1927977033888462, 0.15829398678681464, -2.1109880813706603, -2.0385818530526314, -1.2361305929799478, 0.42290555133059576, 0.334215214533492, -0.20054377299147397, -0.8833505114126339, -1.1084383976938577, -1.851908547017362, -1.0630283408896297, 0.5926098904319725, 0.7513579534642801, 0.4637901368493004, -0.33709959840844683, 0.21027272795232996, 0.8983184683403516, -0.4901405914309119, -0.20120314218583968, 1.5011997035092146, -1.2095873020523167, -1.0700199021981835, -0.561313763405721, -0.28675070338425557, -0.6600015870215331, 2.937508711840935, 0.6477235827190407, 0.7318236869344612, 2.521495744543777, -0.022979158314660908, 0.2591095214280645, 0.06302427412203036, -0.5361261075311612, -0.37160107954747856, -0.626653987445001, 1.1429500158289485, 0.5096385749787216, -0.04873226669639589, 0.9850149505462312, -0.7852691213273342, -0.34270170975593817, -0.9623179316518778, 0.5539939911774647, -0.2577336972974899, 0.8976399206056497, -0.8051615534241037, -0.3443681028873965, 0.5734273403582758, 0.5019099807939298, 2.7681162645095507, 1.122021252487704, -0.7216893204909437, -0.13414541303752042, -1.1840734124359265, 2.11238290368288, 0.926063528945275, -0.48344166812176287, 0.7464086455230814, 1.8437767291806353, 0.4979201807729261, 0.2937901422164776, 0.057658364909912586, 0.19838391413673306, 0.9346106944872706, -0.34037271913893585, -1.0638231219610457, 0.05025142693732289, -0.6289189004932967, -0.9800787023295485, 0.0933863937368245, -0.07306728474361188, -1.0369062410116046, 0.7331677844235539, 0.5175133296662681, -0.29837523305297237, 1.009587285483537, -0.9170029650799433, 0.8441742768430965, 0.7854003158011569, 1.4732317340251777, -0.08212285584046843, -0.6773271354002086, 1.2832787579287601, 0.7311234814090207, -0.43089962618951966, 0.23807414436880844, -0.7455583649577328, 1.8898349439930222, -0.48940410252311906], \"xaxis\": \"x14\", \"y\": [-0.03405134757754162, 1.7601247138745886, 0.7102161198087767, -0.20015282905238874, -2.091195220278861, 1.1204571784020945, 0.7106720190853378, -0.6336353028181934, 0.7501138232635651, 1.7419560818222881, -0.3083398513293142, 0.15955064262988533, 1.0490556273469869, 0.28255005612949297, 0.8743748133540031, -0.36818590031915716, 0.3482186714954275, -0.4700906789684043, -0.5664638387952888, -0.7359182099202148, -2.566657954603579, -0.500571359282229, 2.5275974880261707, -0.12644390984980539, -0.4901267637245524, 0.1682681391167114, 1.0937463725943974, -0.639426165430679, -1.9639560818688637, -0.9088344333096241, -1.4861475068301657, 1.0038671754592452, 0.2851358764228744, -0.05976094031039234, -1.864592796729352, -0.34248666954436857, -1.5085546495188544, -0.31230847608330536, 3.3138915393945925, 1.11482123114005, -0.4571426724366232, -0.7641689224300509, -0.4055984788240558, -0.7048011882313757, -1.0322008125019613, 0.12921765130349191, 0.45631515986879134, 0.6303858234609643, -0.4699500879746037, 0.16970164067017493, 0.8745101344956532, 0.20439625104582343, -0.8217709907644891, -0.8419600534293578, -0.6722858746289054, -0.7506503580178014, 0.7473586143240762, 0.019515955657227097, 0.1692105965100989, 2.0757748626399155, 0.2678083922467391, -0.7783403921194563, 1.1276814882775195, -2.0542988448012927, -1.110588941942566, 0.35171992312005, -1.461644889124666, 0.13811073609220823, 0.9999749992383878, 1.1408925929262406, -1.1288253533927428, -0.38262838805717175, -1.3853308736999235, -1.5771578115948657, -0.4383853798804836, 0.49243061527514315, 1.7074205792522625, -0.2455721645333344, -0.13148762705759243, -0.18537710295690857, -0.1290397089016061, 1.566791331909838, -1.0644028526512264, 0.4748821179637237, 0.7203473787223855, 0.4466385392714042, 2.171749315693905, 0.4123904744334221, -1.9855716426751728, -0.5118512502422413, -0.21477142134116692, -2.4018237983542186, -0.3266458193432738, -0.2145059113336942, -0.24174609919601492, 1.3031027972902298, -0.17916473801883537, 2.1699855178031124, -0.5965139378836746, 1.057565997220973], \"yaxis\": \"y14\"}, {\"line\": {\"color\": \"rgba(128, 128, 128, 1.0)\", \"dash\": \"solid\", \"shape\": \"linear\", \"width\": 1.3}, \"marker\": {\"size\": 2, \"symbol\": \"circle\"}, \"mode\": \"markers\", \"name\": \"D\", \"text\": \"\", \"type\": \"scatter\", \"x\": [-0.7324498605631861, -0.1303894608628459, -1.151100409182011, -0.6422617241775928, -0.44754472937397344, -0.3075176554383684, -3.1383989680001267, 0.9764719821691396, 0.9266940736043047, 1.4434370922461166, 0.15364569147515642, -0.8600410763556198, 0.27149082659844936, 2.652403606812918, 0.19789334310764972, -0.4034990693487221, -0.05531385250273491, 0.6977655605986051, -0.13119522974507344, 0.32007108515669425, -1.394911538222159, 0.4890328438033733, 0.4279502511685625, 0.999009471226633, -0.3049256779375995, 1.0554487495688034, -0.07025195901839071, -0.06158185040287161, 0.6422129478688288, -0.09901727969887121, 0.5107018454485471, 1.0402505354817695, -0.6508222246538106, 0.059348190610508944, -0.7810493526677275, 0.8464277906209582, -0.2597065853638947, 0.15705290177027986, 0.721847761461881, -0.6871082860134929, -1.7821285555993478, -1.1591483514811343, 0.7652530577940034, 1.9284784171058644, -1.2743976951607354, -0.8624389453104636, -0.4116205273447163, -0.25568683642038775, -0.3400649966749066, -1.1497243849249152, -0.18031729609360275, -0.27769638691502063, 0.5320467971213227, -2.109826886255268, -0.46713590865489846, 1.2723497597429383, 0.6063208534882636, 1.0778543334618587, -0.5475774933853736, 0.2805901048055045, -1.2859662545080643, -0.12623347019959708, 0.9528552836049331, 2.353897144594742, -0.029919428088069962, -0.6952287967905131, -0.07769555725477738, -2.1975619606829366, 0.19106169107433513, 0.2842729049504016, -0.09525562185007477, -0.24799786172426608, -0.09576940661676409, 1.0641532265647242, 0.7826753718086371, -0.011998668395117125, -0.4007367902180285, -0.11230917965809203, 0.10830421162028454, 0.008995541337013661, -1.1728670577135618, -0.09614470770089809, -0.4410033002449212, 0.6484236081441456, 0.28309485102980203, -1.9585303737505555, 0.6407223405181663, -0.23420900871443726, -0.6580015984575852, 2.247150655645674, -0.32304534932041523, 0.05013026965175229, -0.39674403388053014, 0.96971803688895, 0.25562500157134666, -1.1929340682178564, -0.3793143282987808, -0.20849049787340979, 0.4023415317472472, 1.6568358063297357], \"xaxis\": \"x15\", \"y\": [-0.03405134757754162, 1.7601247138745886, 0.7102161198087767, -0.20015282905238874, -2.091195220278861, 1.1204571784020945, 0.7106720190853378, -0.6336353028181934, 0.7501138232635651, 1.7419560818222881, -0.3083398513293142, 0.15955064262988533, 1.0490556273469869, 0.28255005612949297, 0.8743748133540031, -0.36818590031915716, 0.3482186714954275, -0.4700906789684043, -0.5664638387952888, -0.7359182099202148, -2.566657954603579, -0.500571359282229, 2.5275974880261707, -0.12644390984980539, -0.4901267637245524, 0.1682681391167114, 1.0937463725943974, -0.639426165430679, -1.9639560818688637, -0.9088344333096241, -1.4861475068301657, 1.0038671754592452, 0.2851358764228744, -0.05976094031039234, -1.864592796729352, -0.34248666954436857, -1.5085546495188544, -0.31230847608330536, 3.3138915393945925, 1.11482123114005, -0.4571426724366232, -0.7641689224300509, -0.4055984788240558, -0.7048011882313757, -1.0322008125019613, 0.12921765130349191, 0.45631515986879134, 0.6303858234609643, -0.4699500879746037, 0.16970164067017493, 0.8745101344956532, 0.20439625104582343, -0.8217709907644891, -0.8419600534293578, -0.6722858746289054, -0.7506503580178014, 0.7473586143240762, 0.019515955657227097, 0.1692105965100989, 2.0757748626399155, 0.2678083922467391, -0.7783403921194563, 1.1276814882775195, -2.0542988448012927, -1.110588941942566, 0.35171992312005, -1.461644889124666, 0.13811073609220823, 0.9999749992383878, 1.1408925929262406, -1.1288253533927428, -0.38262838805717175, -1.3853308736999235, -1.5771578115948657, -0.4383853798804836, 0.49243061527514315, 1.7074205792522625, -0.2455721645333344, -0.13148762705759243, -0.18537710295690857, -0.1290397089016061, 1.566791331909838, -1.0644028526512264, 0.4748821179637237, 0.7203473787223855, 0.4466385392714042, 2.171749315693905, 0.4123904744334221, -1.9855716426751728, -0.5118512502422413, -0.21477142134116692, -2.4018237983542186, -0.3266458193432738, -0.2145059113336942, -0.24174609919601492, 1.3031027972902298, -0.17916473801883537, 2.1699855178031124, -0.5965139378836746, 1.057565997220973], \"yaxis\": \"y15\"}, {\"histfunc\": \"count\", \"histnorm\": \"\", \"marker\": {\"color\": \"rgba(128, 0, 128, 1.0)\", \"line\": {\"color\": \"#4D5663\", \"width\": 1.3}}, \"name\": \"D\", \"nbinsx\": 10, \"opacity\": 0.8, \"orientation\": \"v\", \"type\": \"histogram\", \"x\": [-0.03405134757754162, 1.7601247138745886, 0.7102161198087767, -0.20015282905238874, -2.091195220278861, 1.1204571784020945, 0.7106720190853378, -0.6336353028181934, 0.7501138232635651, 1.7419560818222881, -0.3083398513293142, 0.15955064262988533, 1.0490556273469869, 0.28255005612949297, 0.8743748133540031, -0.36818590031915716, 0.3482186714954275, -0.4700906789684043, -0.5664638387952888, -0.7359182099202148, -2.566657954603579, -0.500571359282229, 2.5275974880261707, -0.12644390984980539, -0.4901267637245524, 0.1682681391167114, 1.0937463725943974, -0.639426165430679, -1.9639560818688637, -0.9088344333096241, -1.4861475068301657, 1.0038671754592452, 0.2851358764228744, -0.05976094031039234, -1.864592796729352, -0.34248666954436857, -1.5085546495188544, -0.31230847608330536, 3.3138915393945925, 1.11482123114005, -0.4571426724366232, -0.7641689224300509, -0.4055984788240558, -0.7048011882313757, -1.0322008125019613, 0.12921765130349191, 0.45631515986879134, 0.6303858234609643, -0.4699500879746037, 0.16970164067017493, 0.8745101344956532, 0.20439625104582343, -0.8217709907644891, -0.8419600534293578, -0.6722858746289054, -0.7506503580178014, 0.7473586143240762, 0.019515955657227097, 0.1692105965100989, 2.0757748626399155, 0.2678083922467391, -0.7783403921194563, 1.1276814882775195, -2.0542988448012927, -1.110588941942566, 0.35171992312005, -1.461644889124666, 0.13811073609220823, 0.9999749992383878, 1.1408925929262406, -1.1288253533927428, -0.38262838805717175, -1.3853308736999235, -1.5771578115948657, -0.4383853798804836, 0.49243061527514315, 1.7074205792522625, -0.2455721645333344, -0.13148762705759243, -0.18537710295690857, -0.1290397089016061, 1.566791331909838, -1.0644028526512264, 0.4748821179637237, 0.7203473787223855, 0.4466385392714042, 2.171749315693905, 0.4123904744334221, -1.9855716426751728, -0.5118512502422413, -0.21477142134116692, -2.4018237983542186, -0.3266458193432738, -0.2145059113336942, -0.24174609919601492, 1.3031027972902298, -0.17916473801883537, 2.1699855178031124, -0.5965139378836746, 1.057565997220973], \"xaxis\": \"x16\", \"yaxis\": \"y16\"}],\n",
       "                        {\"bargap\": 0.02, \"legend\": {\"bgcolor\": \"#F5F6F9\", \"font\": {\"color\": \"#4D5663\"}}, \"paper_bgcolor\": \"#F5F6F9\", \"plot_bgcolor\": \"#F5F6F9\", \"showlegend\": false, \"template\": {\"data\": {\"bar\": [{\"error_x\": {\"color\": \"#2a3f5f\"}, \"error_y\": {\"color\": \"#2a3f5f\"}, \"marker\": {\"line\": {\"color\": \"#E5ECF6\", \"width\": 0.5}}, \"type\": \"bar\"}], \"barpolar\": [{\"marker\": {\"line\": {\"color\": \"#E5ECF6\", \"width\": 0.5}}, \"type\": \"barpolar\"}], \"carpet\": [{\"aaxis\": {\"endlinecolor\": \"#2a3f5f\", \"gridcolor\": \"white\", \"linecolor\": \"white\", \"minorgridcolor\": \"white\", \"startlinecolor\": \"#2a3f5f\"}, \"baxis\": {\"endlinecolor\": \"#2a3f5f\", \"gridcolor\": \"white\", \"linecolor\": \"white\", \"minorgridcolor\": \"white\", \"startlinecolor\": \"#2a3f5f\"}, \"type\": \"carpet\"}], \"choropleth\": [{\"colorbar\": {\"outlinewidth\": 0, \"ticks\": \"\"}, \"type\": \"choropleth\"}], \"contour\": [{\"colorbar\": {\"outlinewidth\": 0, \"ticks\": \"\"}, \"colorscale\": [[0.0, \"#0d0887\"], [0.1111111111111111, \"#46039f\"], [0.2222222222222222, \"#7201a8\"], [0.3333333333333333, \"#9c179e\"], [0.4444444444444444, \"#bd3786\"], [0.5555555555555556, \"#d8576b\"], [0.6666666666666666, \"#ed7953\"], [0.7777777777777778, \"#fb9f3a\"], [0.8888888888888888, \"#fdca26\"], [1.0, \"#f0f921\"]], \"type\": \"contour\"}], \"contourcarpet\": [{\"colorbar\": {\"outlinewidth\": 0, \"ticks\": \"\"}, \"type\": \"contourcarpet\"}], \"heatmap\": [{\"colorbar\": {\"outlinewidth\": 0, \"ticks\": \"\"}, \"colorscale\": [[0.0, \"#0d0887\"], [0.1111111111111111, \"#46039f\"], [0.2222222222222222, \"#7201a8\"], [0.3333333333333333, \"#9c179e\"], [0.4444444444444444, \"#bd3786\"], [0.5555555555555556, \"#d8576b\"], [0.6666666666666666, \"#ed7953\"], [0.7777777777777778, \"#fb9f3a\"], [0.8888888888888888, \"#fdca26\"], [1.0, \"#f0f921\"]], \"type\": \"heatmap\"}], \"heatmapgl\": [{\"colorbar\": {\"outlinewidth\": 0, \"ticks\": \"\"}, \"colorscale\": [[0.0, \"#0d0887\"], [0.1111111111111111, \"#46039f\"], [0.2222222222222222, \"#7201a8\"], [0.3333333333333333, \"#9c179e\"], [0.4444444444444444, \"#bd3786\"], [0.5555555555555556, \"#d8576b\"], [0.6666666666666666, \"#ed7953\"], [0.7777777777777778, \"#fb9f3a\"], [0.8888888888888888, \"#fdca26\"], [1.0, \"#f0f921\"]], \"type\": \"heatmapgl\"}], \"histogram\": [{\"marker\": {\"colorbar\": {\"outlinewidth\": 0, \"ticks\": \"\"}}, \"type\": \"histogram\"}], \"histogram2d\": [{\"colorbar\": {\"outlinewidth\": 0, \"ticks\": \"\"}, \"colorscale\": [[0.0, \"#0d0887\"], [0.1111111111111111, \"#46039f\"], [0.2222222222222222, \"#7201a8\"], [0.3333333333333333, \"#9c179e\"], [0.4444444444444444, \"#bd3786\"], [0.5555555555555556, \"#d8576b\"], [0.6666666666666666, \"#ed7953\"], [0.7777777777777778, \"#fb9f3a\"], [0.8888888888888888, \"#fdca26\"], [1.0, \"#f0f921\"]], \"type\": \"histogram2d\"}], \"histogram2dcontour\": [{\"colorbar\": {\"outlinewidth\": 0, \"ticks\": \"\"}, \"colorscale\": [[0.0, \"#0d0887\"], [0.1111111111111111, \"#46039f\"], [0.2222222222222222, \"#7201a8\"], [0.3333333333333333, \"#9c179e\"], [0.4444444444444444, \"#bd3786\"], [0.5555555555555556, \"#d8576b\"], [0.6666666666666666, \"#ed7953\"], [0.7777777777777778, \"#fb9f3a\"], [0.8888888888888888, \"#fdca26\"], [1.0, \"#f0f921\"]], \"type\": \"histogram2dcontour\"}], \"mesh3d\": [{\"colorbar\": {\"outlinewidth\": 0, \"ticks\": \"\"}, \"type\": \"mesh3d\"}], \"parcoords\": [{\"line\": {\"colorbar\": {\"outlinewidth\": 0, \"ticks\": \"\"}}, \"type\": \"parcoords\"}], \"pie\": [{\"automargin\": true, \"type\": \"pie\"}], \"scatter\": [{\"marker\": {\"colorbar\": {\"outlinewidth\": 0, \"ticks\": \"\"}}, \"type\": \"scatter\"}], \"scatter3d\": [{\"line\": {\"colorbar\": {\"outlinewidth\": 0, \"ticks\": \"\"}}, \"marker\": {\"colorbar\": {\"outlinewidth\": 0, \"ticks\": \"\"}}, \"type\": \"scatter3d\"}], \"scattercarpet\": [{\"marker\": {\"colorbar\": {\"outlinewidth\": 0, \"ticks\": \"\"}}, \"type\": \"scattercarpet\"}], \"scattergeo\": [{\"marker\": {\"colorbar\": {\"outlinewidth\": 0, \"ticks\": \"\"}}, \"type\": \"scattergeo\"}], \"scattergl\": [{\"marker\": {\"colorbar\": {\"outlinewidth\": 0, \"ticks\": \"\"}}, \"type\": \"scattergl\"}], \"scattermapbox\": [{\"marker\": {\"colorbar\": {\"outlinewidth\": 0, \"ticks\": \"\"}}, \"type\": \"scattermapbox\"}], \"scatterpolar\": [{\"marker\": {\"colorbar\": {\"outlinewidth\": 0, \"ticks\": \"\"}}, \"type\": \"scatterpolar\"}], \"scatterpolargl\": [{\"marker\": {\"colorbar\": {\"outlinewidth\": 0, \"ticks\": \"\"}}, \"type\": \"scatterpolargl\"}], \"scatterternary\": [{\"marker\": {\"colorbar\": {\"outlinewidth\": 0, \"ticks\": \"\"}}, \"type\": \"scatterternary\"}], \"surface\": [{\"colorbar\": {\"outlinewidth\": 0, \"ticks\": \"\"}, \"colorscale\": [[0.0, \"#0d0887\"], [0.1111111111111111, \"#46039f\"], [0.2222222222222222, \"#7201a8\"], [0.3333333333333333, \"#9c179e\"], [0.4444444444444444, \"#bd3786\"], [0.5555555555555556, \"#d8576b\"], [0.6666666666666666, \"#ed7953\"], [0.7777777777777778, \"#fb9f3a\"], [0.8888888888888888, \"#fdca26\"], [1.0, \"#f0f921\"]], \"type\": \"surface\"}], \"table\": [{\"cells\": {\"fill\": {\"color\": \"#EBF0F8\"}, \"line\": {\"color\": \"white\"}}, \"header\": {\"fill\": {\"color\": \"#C8D4E3\"}, \"line\": {\"color\": \"white\"}}, \"type\": \"table\"}]}, \"layout\": {\"annotationdefaults\": {\"arrowcolor\": \"#2a3f5f\", \"arrowhead\": 0, \"arrowwidth\": 1}, \"coloraxis\": {\"colorbar\": {\"outlinewidth\": 0, \"ticks\": \"\"}}, \"colorscale\": {\"diverging\": [[0, \"#8e0152\"], [0.1, \"#c51b7d\"], [0.2, \"#de77ae\"], [0.3, \"#f1b6da\"], [0.4, \"#fde0ef\"], [0.5, \"#f7f7f7\"], [0.6, \"#e6f5d0\"], [0.7, \"#b8e186\"], [0.8, \"#7fbc41\"], [0.9, \"#4d9221\"], [1, \"#276419\"]], \"sequential\": [[0.0, \"#0d0887\"], [0.1111111111111111, \"#46039f\"], [0.2222222222222222, \"#7201a8\"], [0.3333333333333333, \"#9c179e\"], [0.4444444444444444, \"#bd3786\"], [0.5555555555555556, \"#d8576b\"], [0.6666666666666666, \"#ed7953\"], [0.7777777777777778, \"#fb9f3a\"], [0.8888888888888888, \"#fdca26\"], [1.0, \"#f0f921\"]], \"sequentialminus\": [[0.0, \"#0d0887\"], [0.1111111111111111, \"#46039f\"], [0.2222222222222222, \"#7201a8\"], [0.3333333333333333, \"#9c179e\"], [0.4444444444444444, \"#bd3786\"], [0.5555555555555556, \"#d8576b\"], [0.6666666666666666, \"#ed7953\"], [0.7777777777777778, \"#fb9f3a\"], [0.8888888888888888, \"#fdca26\"], [1.0, \"#f0f921\"]]}, \"colorway\": [\"#636efa\", \"#EF553B\", \"#00cc96\", \"#ab63fa\", \"#FFA15A\", \"#19d3f3\", \"#FF6692\", \"#B6E880\", \"#FF97FF\", \"#FECB52\"], \"font\": {\"color\": \"#2a3f5f\"}, \"geo\": {\"bgcolor\": \"white\", \"lakecolor\": \"white\", \"landcolor\": \"#E5ECF6\", \"showlakes\": true, \"showland\": true, \"subunitcolor\": \"white\"}, \"hoverlabel\": {\"align\": \"left\"}, \"hovermode\": \"closest\", \"mapbox\": {\"style\": \"light\"}, \"paper_bgcolor\": \"white\", \"plot_bgcolor\": \"#E5ECF6\", \"polar\": {\"angularaxis\": {\"gridcolor\": \"white\", \"linecolor\": \"white\", \"ticks\": \"\"}, \"bgcolor\": \"#E5ECF6\", \"radialaxis\": {\"gridcolor\": \"white\", \"linecolor\": \"white\", \"ticks\": \"\"}}, \"scene\": {\"xaxis\": {\"backgroundcolor\": \"#E5ECF6\", \"gridcolor\": \"white\", \"gridwidth\": 2, \"linecolor\": \"white\", \"showbackground\": true, \"ticks\": \"\", \"zerolinecolor\": \"white\"}, \"yaxis\": {\"backgroundcolor\": \"#E5ECF6\", \"gridcolor\": \"white\", \"gridwidth\": 2, \"linecolor\": \"white\", \"showbackground\": true, \"ticks\": \"\", \"zerolinecolor\": \"white\"}, \"zaxis\": {\"backgroundcolor\": \"#E5ECF6\", \"gridcolor\": \"white\", \"gridwidth\": 2, \"linecolor\": \"white\", \"showbackground\": true, \"ticks\": \"\", \"zerolinecolor\": \"white\"}}, \"shapedefaults\": {\"line\": {\"color\": \"#2a3f5f\"}}, \"ternary\": {\"aaxis\": {\"gridcolor\": \"white\", \"linecolor\": \"white\", \"ticks\": \"\"}, \"baxis\": {\"gridcolor\": \"white\", \"linecolor\": \"white\", \"ticks\": \"\"}, \"bgcolor\": \"#E5ECF6\", \"caxis\": {\"gridcolor\": \"white\", \"linecolor\": \"white\", \"ticks\": \"\"}}, \"title\": {\"x\": 0.05}, \"xaxis\": {\"automargin\": true, \"gridcolor\": \"white\", \"linecolor\": \"white\", \"ticks\": \"\", \"title\": {\"standoff\": 15}, \"zerolinecolor\": \"white\", \"zerolinewidth\": 2}, \"yaxis\": {\"automargin\": true, \"gridcolor\": \"white\", \"linecolor\": \"white\", \"ticks\": \"\", \"title\": {\"standoff\": 15}, \"zerolinecolor\": \"white\", \"zerolinewidth\": 2}}}, \"title\": {\"font\": {\"color\": \"#4D5663\"}}, \"xaxis\": {\"anchor\": \"y\", \"domain\": [0.0, 0.2125], \"gridcolor\": \"#E1E5ED\", \"showgrid\": false, \"tickfont\": {\"color\": \"#4D5663\"}, \"title\": {\"font\": {\"color\": \"#4D5663\"}, \"text\": \"\"}, \"zerolinecolor\": \"#E1E5ED\"}, \"xaxis10\": {\"anchor\": \"y10\", \"domain\": [0.2625, 0.475], \"gridcolor\": \"#E1E5ED\", \"showgrid\": false, \"tickfont\": {\"color\": \"#4D5663\"}, \"title\": {\"font\": {\"color\": \"#4D5663\"}, \"text\": \"\"}, \"zerolinecolor\": \"#E1E5ED\"}, \"xaxis11\": {\"anchor\": \"y11\", \"domain\": [0.525, 0.7375], \"gridcolor\": \"#E1E5ED\", \"showgrid\": false, \"tickfont\": {\"color\": \"#4D5663\"}, \"title\": {\"font\": {\"color\": \"#4D5663\"}, \"text\": \"\"}, \"zerolinecolor\": \"#E1E5ED\"}, \"xaxis12\": {\"anchor\": \"y12\", \"domain\": [0.7875, 1.0], \"gridcolor\": \"#E1E5ED\", \"showgrid\": false, \"tickfont\": {\"color\": \"#4D5663\"}, \"title\": {\"font\": {\"color\": \"#4D5663\"}, \"text\": \"\"}, \"zerolinecolor\": \"#E1E5ED\"}, \"xaxis13\": {\"anchor\": \"y13\", \"domain\": [0.0, 0.2125], \"gridcolor\": \"#E1E5ED\", \"showgrid\": false, \"tickfont\": {\"color\": \"#4D5663\"}, \"title\": {\"font\": {\"color\": \"#4D5663\"}, \"text\": \"\"}, \"zerolinecolor\": \"#E1E5ED\"}, \"xaxis14\": {\"anchor\": \"y14\", \"domain\": [0.2625, 0.475], \"gridcolor\": \"#E1E5ED\", \"showgrid\": false, \"tickfont\": {\"color\": \"#4D5663\"}, \"title\": {\"font\": {\"color\": \"#4D5663\"}, \"text\": \"\"}, \"zerolinecolor\": \"#E1E5ED\"}, \"xaxis15\": {\"anchor\": \"y15\", \"domain\": [0.525, 0.7375], \"gridcolor\": \"#E1E5ED\", \"showgrid\": false, \"tickfont\": {\"color\": \"#4D5663\"}, \"title\": {\"font\": {\"color\": \"#4D5663\"}, \"text\": \"\"}, \"zerolinecolor\": \"#E1E5ED\"}, \"xaxis16\": {\"anchor\": \"y16\", \"domain\": [0.7875, 1.0], \"gridcolor\": \"#E1E5ED\", \"showgrid\": false, \"tickfont\": {\"color\": \"#4D5663\"}, \"title\": {\"font\": {\"color\": \"#4D5663\"}, \"text\": \"\"}, \"zerolinecolor\": \"#E1E5ED\"}, \"xaxis2\": {\"anchor\": \"y2\", \"domain\": [0.2625, 0.475], \"gridcolor\": \"#E1E5ED\", \"showgrid\": false, \"tickfont\": {\"color\": \"#4D5663\"}, \"title\": {\"font\": {\"color\": \"#4D5663\"}, \"text\": \"\"}, \"zerolinecolor\": \"#E1E5ED\"}, \"xaxis3\": {\"anchor\": \"y3\", \"domain\": [0.525, 0.7375], \"gridcolor\": \"#E1E5ED\", \"showgrid\": false, \"tickfont\": {\"color\": \"#4D5663\"}, \"title\": {\"font\": {\"color\": \"#4D5663\"}, \"text\": \"\"}, \"zerolinecolor\": \"#E1E5ED\"}, \"xaxis4\": {\"anchor\": \"y4\", \"domain\": [0.7875, 1.0], \"gridcolor\": \"#E1E5ED\", \"showgrid\": false, \"tickfont\": {\"color\": \"#4D5663\"}, \"title\": {\"font\": {\"color\": \"#4D5663\"}, \"text\": \"\"}, \"zerolinecolor\": \"#E1E5ED\"}, \"xaxis5\": {\"anchor\": \"y5\", \"domain\": [0.0, 0.2125], \"gridcolor\": \"#E1E5ED\", \"showgrid\": false, \"tickfont\": {\"color\": \"#4D5663\"}, \"title\": {\"font\": {\"color\": \"#4D5663\"}, \"text\": \"\"}, \"zerolinecolor\": \"#E1E5ED\"}, \"xaxis6\": {\"anchor\": \"y6\", \"domain\": [0.2625, 0.475], \"gridcolor\": \"#E1E5ED\", \"showgrid\": false, \"tickfont\": {\"color\": \"#4D5663\"}, \"title\": {\"font\": {\"color\": \"#4D5663\"}, \"text\": \"\"}, \"zerolinecolor\": \"#E1E5ED\"}, \"xaxis7\": {\"anchor\": \"y7\", \"domain\": [0.525, 0.7375], \"gridcolor\": \"#E1E5ED\", \"showgrid\": false, \"tickfont\": {\"color\": \"#4D5663\"}, \"title\": {\"font\": {\"color\": \"#4D5663\"}, \"text\": \"\"}, \"zerolinecolor\": \"#E1E5ED\"}, \"xaxis8\": {\"anchor\": \"y8\", \"domain\": [0.7875, 1.0], \"gridcolor\": \"#E1E5ED\", \"showgrid\": false, \"tickfont\": {\"color\": \"#4D5663\"}, \"title\": {\"font\": {\"color\": \"#4D5663\"}, \"text\": \"\"}, \"zerolinecolor\": \"#E1E5ED\"}, \"xaxis9\": {\"anchor\": \"y9\", \"domain\": [0.0, 0.2125], \"gridcolor\": \"#E1E5ED\", \"showgrid\": false, \"tickfont\": {\"color\": \"#4D5663\"}, \"title\": {\"font\": {\"color\": \"#4D5663\"}, \"text\": \"\"}, \"zerolinecolor\": \"#E1E5ED\"}, \"yaxis\": {\"anchor\": \"x\", \"domain\": [0.8025, 1.0], \"gridcolor\": \"#E1E5ED\", \"showgrid\": false, \"tickfont\": {\"color\": \"#4D5663\"}, \"title\": {\"font\": {\"color\": \"#4D5663\"}, \"text\": \"\"}, \"zerolinecolor\": \"#E1E5ED\"}, \"yaxis10\": {\"anchor\": \"x10\", \"domain\": [0.2675, 0.465], \"gridcolor\": \"#E1E5ED\", \"showgrid\": false, \"tickfont\": {\"color\": \"#4D5663\"}, \"title\": {\"font\": {\"color\": \"#4D5663\"}, \"text\": \"\"}, \"zerolinecolor\": \"#E1E5ED\"}, \"yaxis11\": {\"anchor\": \"x11\", \"domain\": [0.2675, 0.465], \"gridcolor\": \"#E1E5ED\", \"showgrid\": false, \"tickfont\": {\"color\": \"#4D5663\"}, \"title\": {\"font\": {\"color\": \"#4D5663\"}, \"text\": \"\"}, \"zerolinecolor\": \"#E1E5ED\"}, \"yaxis12\": {\"anchor\": \"x12\", \"domain\": [0.2675, 0.465], \"gridcolor\": \"#E1E5ED\", \"showgrid\": false, \"tickfont\": {\"color\": \"#4D5663\"}, \"title\": {\"font\": {\"color\": \"#4D5663\"}, \"text\": \"\"}, \"zerolinecolor\": \"#E1E5ED\"}, \"yaxis13\": {\"anchor\": \"x13\", \"domain\": [0.0, 0.1975], \"gridcolor\": \"#E1E5ED\", \"showgrid\": false, \"tickfont\": {\"color\": \"#4D5663\"}, \"title\": {\"font\": {\"color\": \"#4D5663\"}, \"text\": \"\"}, \"zerolinecolor\": \"#E1E5ED\"}, \"yaxis14\": {\"anchor\": \"x14\", \"domain\": [0.0, 0.1975], \"gridcolor\": \"#E1E5ED\", \"showgrid\": false, \"tickfont\": {\"color\": \"#4D5663\"}, \"title\": {\"font\": {\"color\": \"#4D5663\"}, \"text\": \"\"}, \"zerolinecolor\": \"#E1E5ED\"}, \"yaxis15\": {\"anchor\": \"x15\", \"domain\": [0.0, 0.1975], \"gridcolor\": \"#E1E5ED\", \"showgrid\": false, \"tickfont\": {\"color\": \"#4D5663\"}, \"title\": {\"font\": {\"color\": \"#4D5663\"}, \"text\": \"\"}, \"zerolinecolor\": \"#E1E5ED\"}, \"yaxis16\": {\"anchor\": \"x16\", \"domain\": [0.0, 0.1975], \"gridcolor\": \"#E1E5ED\", \"showgrid\": false, \"tickfont\": {\"color\": \"#4D5663\"}, \"title\": {\"font\": {\"color\": \"#4D5663\"}, \"text\": \"\"}, \"zerolinecolor\": \"#E1E5ED\"}, \"yaxis2\": {\"anchor\": \"x2\", \"domain\": [0.8025, 1.0], \"gridcolor\": \"#E1E5ED\", \"showgrid\": false, \"tickfont\": {\"color\": \"#4D5663\"}, \"title\": {\"font\": {\"color\": \"#4D5663\"}, \"text\": \"\"}, \"zerolinecolor\": \"#E1E5ED\"}, \"yaxis3\": {\"anchor\": \"x3\", \"domain\": [0.8025, 1.0], \"gridcolor\": \"#E1E5ED\", \"showgrid\": false, \"tickfont\": {\"color\": \"#4D5663\"}, \"title\": {\"font\": {\"color\": \"#4D5663\"}, \"text\": \"\"}, \"zerolinecolor\": \"#E1E5ED\"}, \"yaxis4\": {\"anchor\": \"x4\", \"domain\": [0.8025, 1.0], \"gridcolor\": \"#E1E5ED\", \"showgrid\": false, \"tickfont\": {\"color\": \"#4D5663\"}, \"title\": {\"font\": {\"color\": \"#4D5663\"}, \"text\": \"\"}, \"zerolinecolor\": \"#E1E5ED\"}, \"yaxis5\": {\"anchor\": \"x5\", \"domain\": [0.535, 0.7325], \"gridcolor\": \"#E1E5ED\", \"showgrid\": false, \"tickfont\": {\"color\": \"#4D5663\"}, \"title\": {\"font\": {\"color\": \"#4D5663\"}, \"text\": \"\"}, \"zerolinecolor\": \"#E1E5ED\"}, \"yaxis6\": {\"anchor\": \"x6\", \"domain\": [0.535, 0.7325], \"gridcolor\": \"#E1E5ED\", \"showgrid\": false, \"tickfont\": {\"color\": \"#4D5663\"}, \"title\": {\"font\": {\"color\": \"#4D5663\"}, \"text\": \"\"}, \"zerolinecolor\": \"#E1E5ED\"}, \"yaxis7\": {\"anchor\": \"x7\", \"domain\": [0.535, 0.7325], \"gridcolor\": \"#E1E5ED\", \"showgrid\": false, \"tickfont\": {\"color\": \"#4D5663\"}, \"title\": {\"font\": {\"color\": \"#4D5663\"}, \"text\": \"\"}, \"zerolinecolor\": \"#E1E5ED\"}, \"yaxis8\": {\"anchor\": \"x8\", \"domain\": [0.535, 0.7325], \"gridcolor\": \"#E1E5ED\", \"showgrid\": false, \"tickfont\": {\"color\": \"#4D5663\"}, \"title\": {\"font\": {\"color\": \"#4D5663\"}, \"text\": \"\"}, \"zerolinecolor\": \"#E1E5ED\"}, \"yaxis9\": {\"anchor\": \"x9\", \"domain\": [0.2675, 0.465], \"gridcolor\": \"#E1E5ED\", \"showgrid\": false, \"tickfont\": {\"color\": \"#4D5663\"}, \"title\": {\"font\": {\"color\": \"#4D5663\"}, \"text\": \"\"}, \"zerolinecolor\": \"#E1E5ED\"}},\n",
       "                        {\"showLink\": true, \"linkText\": \"Export to plot.ly\", \"plotlyServerURL\": \"https://plot.ly\", \"responsive\": true}\n",
       "                    ).then(function(){\n",
       "                            \n",
       "var gd = document.getElementById('612f53b4-0d43-40bf-b455-aee7110f79c2');\n",
       "var x = new MutationObserver(function (mutations, observer) {{\n",
       "        var display = window.getComputedStyle(gd).display;\n",
       "        if (!display || display === 'none') {{\n",
       "            console.log([gd, 'removed!']);\n",
       "            Plotly.purge(gd);\n",
       "            observer.disconnect();\n",
       "        }}\n",
       "}});\n",
       "\n",
       "// Listen for the removal of the full notebook cells\n",
       "var notebookContainer = gd.closest('#notebook-container');\n",
       "if (notebookContainer) {{\n",
       "    x.observe(notebookContainer, {childList: true});\n",
       "}}\n",
       "\n",
       "// Listen for the clearing of the current output cell\n",
       "var outputEl = gd.closest('.output');\n",
       "if (outputEl) {{\n",
       "    x.observe(outputEl, {childList: true});\n",
       "}}\n",
       "\n",
       "                        })\n",
       "                };\n",
       "                });\n",
       "            </script>\n",
       "        </div>"
      ]
     },
     "metadata": {},
     "output_type": "display_data"
    }
   ],
   "source": [
    "df.scatter_matrix()"
   ]
  },
  {
   "cell_type": "markdown",
   "metadata": {
    "collapsed": true
   },
   "source": [
    "# Great Job!"
   ]
  }
 ],
 "metadata": {
  "kernelspec": {
   "display_name": "Python 3",
   "language": "python",
   "name": "python3"
  },
  "language_info": {
   "codemirror_mode": {
    "name": "ipython",
    "version": 3
   },
   "file_extension": ".py",
   "mimetype": "text/x-python",
   "name": "python",
   "nbconvert_exporter": "python",
   "pygments_lexer": "ipython3",
   "version": "3.7.3"
  }
 },
 "nbformat": 4,
 "nbformat_minor": 1
}
