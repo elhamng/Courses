{
 "cells": [
  {
   "cell_type": "markdown",
   "id": "2f1987a5",
   "metadata": {},
   "source": [
    "Guide to using dplyr\n",
    "We'll be covering the following functions:\n",
    "\n",
    "* filter() (and slice())\n",
    "* arrange()\n",
    "* select() (and rename())\n",
    "* distinct()\n",
    "* mutate() (and transmute())\n",
    "* summarise()\n",
    "* sample_n() and sample_frac()"
   ]
  },
  {
   "cell_type": "code",
   "execution_count": 1,
   "id": "38896330",
   "metadata": {},
   "outputs": [
    {
     "name": "stderr",
     "output_type": "stream",
     "text": [
      "\n",
      "Attaching package: ‘dplyr’\n",
      "\n",
      "The following objects are masked from ‘package:stats’:\n",
      "\n",
      "    filter, lag\n",
      "\n",
      "The following objects are masked from ‘package:base’:\n",
      "\n",
      "    intersect, setdiff, setequal, union\n",
      "\n"
     ]
    }
   ],
   "source": [
    "library(dplyr)"
   ]
  },
  {
   "cell_type": "code",
   "execution_count": 3,
   "id": "8246b6fa",
   "metadata": {},
   "outputs": [
    {
     "name": "stderr",
     "output_type": "stream",
     "text": [
      "Updating HTML index of packages in '.Library'\n",
      "Making 'packages.html' ... done\n"
     ]
    }
   ],
   "source": [
    "install.packages('nycflights13')"
   ]
  },
  {
   "cell_type": "code",
   "execution_count": 4,
   "id": "e9dfc6da",
   "metadata": {},
   "outputs": [
    {
     "data": {
      "text/plain": [
       "      year          month             day           dep_time    sched_dep_time\n",
       " Min.   :2013   Min.   : 1.000   Min.   : 1.00   Min.   :   1   Min.   : 106  \n",
       " 1st Qu.:2013   1st Qu.: 4.000   1st Qu.: 8.00   1st Qu.: 907   1st Qu.: 906  \n",
       " Median :2013   Median : 7.000   Median :16.00   Median :1401   Median :1359  \n",
       " Mean   :2013   Mean   : 6.549   Mean   :15.71   Mean   :1349   Mean   :1344  \n",
       " 3rd Qu.:2013   3rd Qu.:10.000   3rd Qu.:23.00   3rd Qu.:1744   3rd Qu.:1729  \n",
       " Max.   :2013   Max.   :12.000   Max.   :31.00   Max.   :2400   Max.   :2359  \n",
       "                                                 NA's   :8255                 \n",
       "   dep_delay          arr_time    sched_arr_time   arr_delay       \n",
       " Min.   : -43.00   Min.   :   1   Min.   :   1   Min.   : -86.000  \n",
       " 1st Qu.:  -5.00   1st Qu.:1104   1st Qu.:1124   1st Qu.: -17.000  \n",
       " Median :  -2.00   Median :1535   Median :1556   Median :  -5.000  \n",
       " Mean   :  12.64   Mean   :1502   Mean   :1536   Mean   :   6.895  \n",
       " 3rd Qu.:  11.00   3rd Qu.:1940   3rd Qu.:1945   3rd Qu.:  14.000  \n",
       " Max.   :1301.00   Max.   :2400   Max.   :2359   Max.   :1272.000  \n",
       " NA's   :8255      NA's   :8713                  NA's   :9430      \n",
       "   carrier              flight       tailnum             origin         \n",
       " Length:336776      Min.   :   1   Length:336776      Length:336776     \n",
       " Class :character   1st Qu.: 553   Class :character   Class :character  \n",
       " Mode  :character   Median :1496   Mode  :character   Mode  :character  \n",
       "                    Mean   :1972                                        \n",
       "                    3rd Qu.:3465                                        \n",
       "                    Max.   :8500                                        \n",
       "                                                                        \n",
       "     dest              air_time        distance         hour      \n",
       " Length:336776      Min.   : 20.0   Min.   :  17   Min.   : 1.00  \n",
       " Class :character   1st Qu.: 82.0   1st Qu.: 502   1st Qu.: 9.00  \n",
       " Mode  :character   Median :129.0   Median : 872   Median :13.00  \n",
       "                    Mean   :150.7   Mean   :1040   Mean   :13.18  \n",
       "                    3rd Qu.:192.0   3rd Qu.:1389   3rd Qu.:17.00  \n",
       "                    Max.   :695.0   Max.   :4983   Max.   :23.00  \n",
       "                    NA's   :9430                                  \n",
       "     minute        time_hour                  \n",
       " Min.   : 0.00   Min.   :2013-01-01 05:00:00  \n",
       " 1st Qu.: 8.00   1st Qu.:2013-04-04 13:00:00  \n",
       " Median :29.00   Median :2013-07-03 10:00:00  \n",
       " Mean   :26.23   Mean   :2013-07-03 05:22:54  \n",
       " 3rd Qu.:44.00   3rd Qu.:2013-10-01 07:00:00  \n",
       " Max.   :59.00   Max.   :2013-12-31 23:00:00  \n",
       "                                              "
      ]
     },
     "metadata": {},
     "output_type": "display_data"
    }
   ],
   "source": [
    "library(nycflights13)\n",
    "summary(flights)"
   ]
  },
  {
   "cell_type": "code",
   "execution_count": 5,
   "id": "4a623747",
   "metadata": {},
   "outputs": [
    {
     "data": {
      "text/html": [
       "<ol class=list-inline>\n",
       "\t<li>336776</li>\n",
       "\t<li>19</li>\n",
       "</ol>\n"
      ],
      "text/latex": [
       "\\begin{enumerate*}\n",
       "\\item 336776\n",
       "\\item 19\n",
       "\\end{enumerate*}\n"
      ],
      "text/markdown": [
       "1. 336776\n",
       "2. 19\n",
       "\n",
       "\n"
      ],
      "text/plain": [
       "[1] 336776     19"
      ]
     },
     "metadata": {},
     "output_type": "display_data"
    }
   ],
   "source": [
    "dim(flights)"
   ]
  },
  {
   "cell_type": "markdown",
   "id": "758f79ed",
   "metadata": {},
   "source": [
    "## filter()\n",
    "filter() allows you to select a subset of rows in a data frame. The first argument is the name of the data frame. The second and subsequent arguments are the expressions that filter the data frame:\n",
    "\n",
    "For example, we can select all flights on November 3rd that were from American Airlines (AA) with:"
   ]
  },
  {
   "cell_type": "code",
   "execution_count": 8,
   "id": "ddf9f014",
   "metadata": {},
   "outputs": [
    {
     "data": {
      "text/html": [
       "<table>\n",
       "<thead><tr><th scope=col>year</th><th scope=col>month</th><th scope=col>day</th><th scope=col>dep_time</th><th scope=col>sched_dep_time</th><th scope=col>dep_delay</th><th scope=col>arr_time</th><th scope=col>sched_arr_time</th><th scope=col>arr_delay</th><th scope=col>carrier</th><th scope=col>flight</th><th scope=col>tailnum</th><th scope=col>origin</th><th scope=col>dest</th><th scope=col>air_time</th><th scope=col>distance</th><th scope=col>hour</th><th scope=col>minute</th><th scope=col>time_hour</th></tr></thead>\n",
       "<tbody>\n",
       "\t<tr><td>2013               </td><td>11                 </td><td>3                  </td><td>538                </td><td>545                </td><td>-7                 </td><td>824                </td><td>855                </td><td>-31                </td><td>AA                 </td><td>2243               </td><td>N5DWAA             </td><td>JFK                </td><td>MIA                </td><td>144                </td><td>1089               </td><td>5                  </td><td>45                 </td><td>2013-11-03 05:00:00</td></tr>\n",
       "\t<tr><td>2013               </td><td>11                 </td><td>3                  </td><td>556                </td><td>600                </td><td>-4                 </td><td>900                </td><td>905                </td><td> -5                </td><td>AA                 </td><td>1175               </td><td>N3CSAA             </td><td>LGA                </td><td>MIA                </td><td>148                </td><td>1096               </td><td>6                  </td><td> 0                 </td><td>2013-11-03 06:00:00</td></tr>\n",
       "\t<tr><td>2013               </td><td>11                 </td><td>3                  </td><td>604                </td><td>610                </td><td>-6                 </td><td>844                </td><td>855                </td><td>-11                </td><td>AA                 </td><td>1103               </td><td>N3KDAA             </td><td>LGA                </td><td>DFW                </td><td>192                </td><td>1389               </td><td>6                  </td><td>10                 </td><td>2013-11-03 06:00:00</td></tr>\n",
       "\t<tr><td>2013               </td><td>11                 </td><td>3                  </td><td>624                </td><td>629                </td><td>-5                 </td><td>907                </td><td>929                </td><td>-22                </td><td>AA                 </td><td>1205               </td><td>N3EJAA             </td><td>EWR                </td><td>MIA                </td><td>141                </td><td>1085               </td><td>6                  </td><td>29                 </td><td>2013-11-03 06:00:00</td></tr>\n",
       "\t<tr><td>2013               </td><td>11                 </td><td>3                  </td><td>625                </td><td>630                </td><td>-5                 </td><td>736                </td><td>805                </td><td>-29                </td><td>AA                 </td><td> 303               </td><td>N4WJAA             </td><td>LGA                </td><td>ORD                </td><td>113                </td><td> 733               </td><td>6                  </td><td>30                 </td><td>2013-11-03 06:00:00</td></tr>\n",
       "\t<tr><td>2013               </td><td>11                 </td><td>3                  </td><td>653                </td><td>655                </td><td>-2                 </td><td>925                </td><td>920                </td><td>  5                </td><td>AA                 </td><td>1263               </td><td>N634AA             </td><td>JFK                </td><td>LAS                </td><td>306                </td><td>2248               </td><td>6                  </td><td>55                 </td><td>2013-11-03 06:00:00</td></tr>\n",
       "</tbody>\n",
       "</table>\n"
      ],
      "text/latex": [
       "\\begin{tabular}{r|lllllllllllllllllll}\n",
       " year & month & day & dep\\_time & sched\\_dep\\_time & dep\\_delay & arr\\_time & sched\\_arr\\_time & arr\\_delay & carrier & flight & tailnum & origin & dest & air\\_time & distance & hour & minute & time\\_hour\\\\\n",
       "\\hline\n",
       "\t 2013                & 11                  & 3                   & 538                 & 545                 & -7                  & 824                 & 855                 & -31                 & AA                  & 2243                & N5DWAA              & JFK                 & MIA                 & 144                 & 1089                & 5                   & 45                  & 2013-11-03 05:00:00\\\\\n",
       "\t 2013                & 11                  & 3                   & 556                 & 600                 & -4                  & 900                 & 905                 &  -5                 & AA                  & 1175                & N3CSAA              & LGA                 & MIA                 & 148                 & 1096                & 6                   &  0                  & 2013-11-03 06:00:00\\\\\n",
       "\t 2013                & 11                  & 3                   & 604                 & 610                 & -6                  & 844                 & 855                 & -11                 & AA                  & 1103                & N3KDAA              & LGA                 & DFW                 & 192                 & 1389                & 6                   & 10                  & 2013-11-03 06:00:00\\\\\n",
       "\t 2013                & 11                  & 3                   & 624                 & 629                 & -5                  & 907                 & 929                 & -22                 & AA                  & 1205                & N3EJAA              & EWR                 & MIA                 & 141                 & 1085                & 6                   & 29                  & 2013-11-03 06:00:00\\\\\n",
       "\t 2013                & 11                  & 3                   & 625                 & 630                 & -5                  & 736                 & 805                 & -29                 & AA                  &  303                & N4WJAA              & LGA                 & ORD                 & 113                 &  733                & 6                   & 30                  & 2013-11-03 06:00:00\\\\\n",
       "\t 2013                & 11                  & 3                   & 653                 & 655                 & -2                  & 925                 & 920                 &   5                 & AA                  & 1263                & N634AA              & JFK                 & LAS                 & 306                 & 2248                & 6                   & 55                  & 2013-11-03 06:00:00\\\\\n",
       "\\end{tabular}\n"
      ],
      "text/markdown": [
       "\n",
       "| year | month | day | dep_time | sched_dep_time | dep_delay | arr_time | sched_arr_time | arr_delay | carrier | flight | tailnum | origin | dest | air_time | distance | hour | minute | time_hour |\n",
       "|---|---|---|---|---|---|---|---|---|---|---|---|---|---|---|---|---|---|---|\n",
       "| 2013                | 11                  | 3                   | 538                 | 545                 | -7                  | 824                 | 855                 | -31                 | AA                  | 2243                | N5DWAA              | JFK                 | MIA                 | 144                 | 1089                | 5                   | 45                  | 2013-11-03 05:00:00 |\n",
       "| 2013                | 11                  | 3                   | 556                 | 600                 | -4                  | 900                 | 905                 |  -5                 | AA                  | 1175                | N3CSAA              | LGA                 | MIA                 | 148                 | 1096                | 6                   |  0                  | 2013-11-03 06:00:00 |\n",
       "| 2013                | 11                  | 3                   | 604                 | 610                 | -6                  | 844                 | 855                 | -11                 | AA                  | 1103                | N3KDAA              | LGA                 | DFW                 | 192                 | 1389                | 6                   | 10                  | 2013-11-03 06:00:00 |\n",
       "| 2013                | 11                  | 3                   | 624                 | 629                 | -5                  | 907                 | 929                 | -22                 | AA                  | 1205                | N3EJAA              | EWR                 | MIA                 | 141                 | 1085                | 6                   | 29                  | 2013-11-03 06:00:00 |\n",
       "| 2013                | 11                  | 3                   | 625                 | 630                 | -5                  | 736                 | 805                 | -29                 | AA                  |  303                | N4WJAA              | LGA                 | ORD                 | 113                 |  733                | 6                   | 30                  | 2013-11-03 06:00:00 |\n",
       "| 2013                | 11                  | 3                   | 653                 | 655                 | -2                  | 925                 | 920                 |   5                 | AA                  | 1263                | N634AA              | JFK                 | LAS                 | 306                 | 2248                | 6                   | 55                  | 2013-11-03 06:00:00 |\n",
       "\n"
      ],
      "text/plain": [
       "  year month day dep_time sched_dep_time dep_delay arr_time sched_arr_time\n",
       "1 2013 11    3   538      545            -7        824      855           \n",
       "2 2013 11    3   556      600            -4        900      905           \n",
       "3 2013 11    3   604      610            -6        844      855           \n",
       "4 2013 11    3   624      629            -5        907      929           \n",
       "5 2013 11    3   625      630            -5        736      805           \n",
       "6 2013 11    3   653      655            -2        925      920           \n",
       "  arr_delay carrier flight tailnum origin dest air_time distance hour minute\n",
       "1 -31       AA      2243   N5DWAA  JFK    MIA  144      1089     5    45    \n",
       "2  -5       AA      1175   N3CSAA  LGA    MIA  148      1096     6     0    \n",
       "3 -11       AA      1103   N3KDAA  LGA    DFW  192      1389     6    10    \n",
       "4 -22       AA      1205   N3EJAA  EWR    MIA  141      1085     6    29    \n",
       "5 -29       AA       303   N4WJAA  LGA    ORD  113       733     6    30    \n",
       "6   5       AA      1263   N634AA  JFK    LAS  306      2248     6    55    \n",
       "  time_hour          \n",
       "1 2013-11-03 05:00:00\n",
       "2 2013-11-03 06:00:00\n",
       "3 2013-11-03 06:00:00\n",
       "4 2013-11-03 06:00:00\n",
       "5 2013-11-03 06:00:00\n",
       "6 2013-11-03 06:00:00"
      ]
     },
     "metadata": {},
     "output_type": "display_data"
    }
   ],
   "source": [
    "head(filter(flights,month==11,day==3,carrier=='AA'))"
   ]
  },
  {
   "cell_type": "code",
   "execution_count": 9,
   "id": "a7d9bdd8",
   "metadata": {},
   "outputs": [
    {
     "data": {
      "text/html": [
       "<table>\n",
       "<thead><tr><th scope=col>year</th><th scope=col>month</th><th scope=col>day</th><th scope=col>dep_time</th><th scope=col>sched_dep_time</th><th scope=col>dep_delay</th><th scope=col>arr_time</th><th scope=col>sched_arr_time</th><th scope=col>arr_delay</th><th scope=col>carrier</th><th scope=col>flight</th><th scope=col>tailnum</th><th scope=col>origin</th><th scope=col>dest</th><th scope=col>air_time</th><th scope=col>distance</th><th scope=col>hour</th><th scope=col>minute</th><th scope=col>time_hour</th></tr></thead>\n",
       "<tbody>\n",
       "\t<tr><td>2013               </td><td>11                 </td><td>3                  </td><td>538                </td><td>545                </td><td>-7                 </td><td>824                </td><td>855                </td><td>-31                </td><td>AA                 </td><td>2243               </td><td>N5DWAA             </td><td>JFK                </td><td>MIA                </td><td>144                </td><td>1089               </td><td>5                  </td><td>45                 </td><td>2013-11-03 05:00:00</td></tr>\n",
       "\t<tr><td>2013               </td><td>11                 </td><td>3                  </td><td>556                </td><td>600                </td><td>-4                 </td><td>900                </td><td>905                </td><td> -5                </td><td>AA                 </td><td>1175               </td><td>N3CSAA             </td><td>LGA                </td><td>MIA                </td><td>148                </td><td>1096               </td><td>6                  </td><td> 0                 </td><td>2013-11-03 06:00:00</td></tr>\n",
       "\t<tr><td>2013               </td><td>11                 </td><td>3                  </td><td>604                </td><td>610                </td><td>-6                 </td><td>844                </td><td>855                </td><td>-11                </td><td>AA                 </td><td>1103               </td><td>N3KDAA             </td><td>LGA                </td><td>DFW                </td><td>192                </td><td>1389               </td><td>6                  </td><td>10                 </td><td>2013-11-03 06:00:00</td></tr>\n",
       "\t<tr><td>2013               </td><td>11                 </td><td>3                  </td><td>624                </td><td>629                </td><td>-5                 </td><td>907                </td><td>929                </td><td>-22                </td><td>AA                 </td><td>1205               </td><td>N3EJAA             </td><td>EWR                </td><td>MIA                </td><td>141                </td><td>1085               </td><td>6                  </td><td>29                 </td><td>2013-11-03 06:00:00</td></tr>\n",
       "\t<tr><td>2013               </td><td>11                 </td><td>3                  </td><td>625                </td><td>630                </td><td>-5                 </td><td>736                </td><td>805                </td><td>-29                </td><td>AA                 </td><td> 303               </td><td>N4WJAA             </td><td>LGA                </td><td>ORD                </td><td>113                </td><td> 733               </td><td>6                  </td><td>30                 </td><td>2013-11-03 06:00:00</td></tr>\n",
       "\t<tr><td>2013               </td><td>11                 </td><td>3                  </td><td>653                </td><td>655                </td><td>-2                 </td><td>925                </td><td>920                </td><td>  5                </td><td>AA                 </td><td>1263               </td><td>N634AA             </td><td>JFK                </td><td>LAS                </td><td>306                </td><td>2248               </td><td>6                  </td><td>55                 </td><td>2013-11-03 06:00:00</td></tr>\n",
       "</tbody>\n",
       "</table>\n"
      ],
      "text/latex": [
       "\\begin{tabular}{r|lllllllllllllllllll}\n",
       " year & month & day & dep\\_time & sched\\_dep\\_time & dep\\_delay & arr\\_time & sched\\_arr\\_time & arr\\_delay & carrier & flight & tailnum & origin & dest & air\\_time & distance & hour & minute & time\\_hour\\\\\n",
       "\\hline\n",
       "\t 2013                & 11                  & 3                   & 538                 & 545                 & -7                  & 824                 & 855                 & -31                 & AA                  & 2243                & N5DWAA              & JFK                 & MIA                 & 144                 & 1089                & 5                   & 45                  & 2013-11-03 05:00:00\\\\\n",
       "\t 2013                & 11                  & 3                   & 556                 & 600                 & -4                  & 900                 & 905                 &  -5                 & AA                  & 1175                & N3CSAA              & LGA                 & MIA                 & 148                 & 1096                & 6                   &  0                  & 2013-11-03 06:00:00\\\\\n",
       "\t 2013                & 11                  & 3                   & 604                 & 610                 & -6                  & 844                 & 855                 & -11                 & AA                  & 1103                & N3KDAA              & LGA                 & DFW                 & 192                 & 1389                & 6                   & 10                  & 2013-11-03 06:00:00\\\\\n",
       "\t 2013                & 11                  & 3                   & 624                 & 629                 & -5                  & 907                 & 929                 & -22                 & AA                  & 1205                & N3EJAA              & EWR                 & MIA                 & 141                 & 1085                & 6                   & 29                  & 2013-11-03 06:00:00\\\\\n",
       "\t 2013                & 11                  & 3                   & 625                 & 630                 & -5                  & 736                 & 805                 & -29                 & AA                  &  303                & N4WJAA              & LGA                 & ORD                 & 113                 &  733                & 6                   & 30                  & 2013-11-03 06:00:00\\\\\n",
       "\t 2013                & 11                  & 3                   & 653                 & 655                 & -2                  & 925                 & 920                 &   5                 & AA                  & 1263                & N634AA              & JFK                 & LAS                 & 306                 & 2248                & 6                   & 55                  & 2013-11-03 06:00:00\\\\\n",
       "\\end{tabular}\n"
      ],
      "text/markdown": [
       "\n",
       "| year | month | day | dep_time | sched_dep_time | dep_delay | arr_time | sched_arr_time | arr_delay | carrier | flight | tailnum | origin | dest | air_time | distance | hour | minute | time_hour |\n",
       "|---|---|---|---|---|---|---|---|---|---|---|---|---|---|---|---|---|---|---|\n",
       "| 2013                | 11                  | 3                   | 538                 | 545                 | -7                  | 824                 | 855                 | -31                 | AA                  | 2243                | N5DWAA              | JFK                 | MIA                 | 144                 | 1089                | 5                   | 45                  | 2013-11-03 05:00:00 |\n",
       "| 2013                | 11                  | 3                   | 556                 | 600                 | -4                  | 900                 | 905                 |  -5                 | AA                  | 1175                | N3CSAA              | LGA                 | MIA                 | 148                 | 1096                | 6                   |  0                  | 2013-11-03 06:00:00 |\n",
       "| 2013                | 11                  | 3                   | 604                 | 610                 | -6                  | 844                 | 855                 | -11                 | AA                  | 1103                | N3KDAA              | LGA                 | DFW                 | 192                 | 1389                | 6                   | 10                  | 2013-11-03 06:00:00 |\n",
       "| 2013                | 11                  | 3                   | 624                 | 629                 | -5                  | 907                 | 929                 | -22                 | AA                  | 1205                | N3EJAA              | EWR                 | MIA                 | 141                 | 1085                | 6                   | 29                  | 2013-11-03 06:00:00 |\n",
       "| 2013                | 11                  | 3                   | 625                 | 630                 | -5                  | 736                 | 805                 | -29                 | AA                  |  303                | N4WJAA              | LGA                 | ORD                 | 113                 |  733                | 6                   | 30                  | 2013-11-03 06:00:00 |\n",
       "| 2013                | 11                  | 3                   | 653                 | 655                 | -2                  | 925                 | 920                 |   5                 | AA                  | 1263                | N634AA              | JFK                 | LAS                 | 306                 | 2248                | 6                   | 55                  | 2013-11-03 06:00:00 |\n",
       "\n"
      ],
      "text/plain": [
       "  year month day dep_time sched_dep_time dep_delay arr_time sched_arr_time\n",
       "1 2013 11    3   538      545            -7        824      855           \n",
       "2 2013 11    3   556      600            -4        900      905           \n",
       "3 2013 11    3   604      610            -6        844      855           \n",
       "4 2013 11    3   624      629            -5        907      929           \n",
       "5 2013 11    3   625      630            -5        736      805           \n",
       "6 2013 11    3   653      655            -2        925      920           \n",
       "  arr_delay carrier flight tailnum origin dest air_time distance hour minute\n",
       "1 -31       AA      2243   N5DWAA  JFK    MIA  144      1089     5    45    \n",
       "2  -5       AA      1175   N3CSAA  LGA    MIA  148      1096     6     0    \n",
       "3 -11       AA      1103   N3KDAA  LGA    DFW  192      1389     6    10    \n",
       "4 -22       AA      1205   N3EJAA  EWR    MIA  141      1085     6    29    \n",
       "5 -29       AA       303   N4WJAA  LGA    ORD  113       733     6    30    \n",
       "6   5       AA      1263   N634AA  JFK    LAS  306      2248     6    55    \n",
       "  time_hour          \n",
       "1 2013-11-03 05:00:00\n",
       "2 2013-11-03 06:00:00\n",
       "3 2013-11-03 06:00:00\n",
       "4 2013-11-03 06:00:00\n",
       "5 2013-11-03 06:00:00\n",
       "6 2013-11-03 06:00:00"
      ]
     },
     "metadata": {},
     "output_type": "display_data"
    }
   ],
   "source": [
    "head(flights[flights$month == 11 & flights$day == 3 & flights$carrier == 'AA', ]) ### using data fram"
   ]
  },
  {
   "cell_type": "markdown",
   "id": "4288a76d",
   "metadata": {},
   "source": [
    "## slice()\n",
    "We can select rows by position using slice()"
   ]
  },
  {
   "cell_type": "code",
   "execution_count": 10,
   "id": "93d52e1a",
   "metadata": {},
   "outputs": [
    {
     "data": {
      "text/html": [
       "<table>\n",
       "<thead><tr><th scope=col>year</th><th scope=col>month</th><th scope=col>day</th><th scope=col>dep_time</th><th scope=col>sched_dep_time</th><th scope=col>dep_delay</th><th scope=col>arr_time</th><th scope=col>sched_arr_time</th><th scope=col>arr_delay</th><th scope=col>carrier</th><th scope=col>flight</th><th scope=col>tailnum</th><th scope=col>origin</th><th scope=col>dest</th><th scope=col>air_time</th><th scope=col>distance</th><th scope=col>hour</th><th scope=col>minute</th><th scope=col>time_hour</th></tr></thead>\n",
       "<tbody>\n",
       "\t<tr><td>2013               </td><td>1                  </td><td>1                  </td><td>517                </td><td>515                </td><td> 2                 </td><td> 830               </td><td> 819               </td><td> 11                </td><td>UA                 </td><td>1545               </td><td>N14228             </td><td>EWR                </td><td>IAH                </td><td>227                </td><td>1400               </td><td>5                  </td><td>15                 </td><td>2013-01-01 05:00:00</td></tr>\n",
       "\t<tr><td>2013               </td><td>1                  </td><td>1                  </td><td>533                </td><td>529                </td><td> 4                 </td><td> 850               </td><td> 830               </td><td> 20                </td><td>UA                 </td><td>1714               </td><td>N24211             </td><td>LGA                </td><td>IAH                </td><td>227                </td><td>1416               </td><td>5                  </td><td>29                 </td><td>2013-01-01 05:00:00</td></tr>\n",
       "\t<tr><td>2013               </td><td>1                  </td><td>1                  </td><td>542                </td><td>540                </td><td> 2                 </td><td> 923               </td><td> 850               </td><td> 33                </td><td>AA                 </td><td>1141               </td><td>N619AA             </td><td>JFK                </td><td>MIA                </td><td>160                </td><td>1089               </td><td>5                  </td><td>40                 </td><td>2013-01-01 05:00:00</td></tr>\n",
       "\t<tr><td>2013               </td><td>1                  </td><td>1                  </td><td>544                </td><td>545                </td><td>-1                 </td><td>1004               </td><td>1022               </td><td>-18                </td><td>B6                 </td><td> 725               </td><td>N804JB             </td><td>JFK                </td><td>BQN                </td><td>183                </td><td>1576               </td><td>5                  </td><td>45                 </td><td>2013-01-01 05:00:00</td></tr>\n",
       "\t<tr><td>2013               </td><td>1                  </td><td>1                  </td><td>554                </td><td>600                </td><td>-6                 </td><td> 812               </td><td> 837               </td><td>-25                </td><td>DL                 </td><td> 461               </td><td>N668DN             </td><td>LGA                </td><td>ATL                </td><td>116                </td><td> 762               </td><td>6                  </td><td> 0                 </td><td>2013-01-01 06:00:00</td></tr>\n",
       "\t<tr><td>2013               </td><td>1                  </td><td>1                  </td><td>554                </td><td>558                </td><td>-4                 </td><td> 740               </td><td> 728               </td><td> 12                </td><td>UA                 </td><td>1696               </td><td>N39463             </td><td>EWR                </td><td>ORD                </td><td>150                </td><td> 719               </td><td>5                  </td><td>58                 </td><td>2013-01-01 05:00:00</td></tr>\n",
       "\t<tr><td>2013               </td><td>1                  </td><td>1                  </td><td>555                </td><td>600                </td><td>-5                 </td><td> 913               </td><td> 854               </td><td> 19                </td><td>B6                 </td><td> 507               </td><td>N516JB             </td><td>EWR                </td><td>FLL                </td><td>158                </td><td>1065               </td><td>6                  </td><td> 0                 </td><td>2013-01-01 06:00:00</td></tr>\n",
       "\t<tr><td>2013               </td><td>1                  </td><td>1                  </td><td>557                </td><td>600                </td><td>-3                 </td><td> 709               </td><td> 723               </td><td>-14                </td><td>EV                 </td><td>5708               </td><td>N829AS             </td><td>LGA                </td><td>IAD                </td><td> 53                </td><td> 229               </td><td>6                  </td><td> 0                 </td><td>2013-01-01 06:00:00</td></tr>\n",
       "\t<tr><td>2013               </td><td>1                  </td><td>1                  </td><td>557                </td><td>600                </td><td>-3                 </td><td> 838               </td><td> 846               </td><td> -8                </td><td>B6                 </td><td>  79               </td><td>N593JB             </td><td>JFK                </td><td>MCO                </td><td>140                </td><td> 944               </td><td>6                  </td><td> 0                 </td><td>2013-01-01 06:00:00</td></tr>\n",
       "\t<tr><td>2013               </td><td>1                  </td><td>1                  </td><td>558                </td><td>600                </td><td>-2                 </td><td> 753               </td><td> 745               </td><td>  8                </td><td>AA                 </td><td> 301               </td><td>N3ALAA             </td><td>LGA                </td><td>ORD                </td><td>138                </td><td> 733               </td><td>6                  </td><td> 0                 </td><td>2013-01-01 06:00:00</td></tr>\n",
       "</tbody>\n",
       "</table>\n"
      ],
      "text/latex": [
       "\\begin{tabular}{r|lllllllllllllllllll}\n",
       " year & month & day & dep\\_time & sched\\_dep\\_time & dep\\_delay & arr\\_time & sched\\_arr\\_time & arr\\_delay & carrier & flight & tailnum & origin & dest & air\\_time & distance & hour & minute & time\\_hour\\\\\n",
       "\\hline\n",
       "\t 2013                & 1                   & 1                   & 517                 & 515                 &  2                  &  830                &  819                &  11                 & UA                  & 1545                & N14228              & EWR                 & IAH                 & 227                 & 1400                & 5                   & 15                  & 2013-01-01 05:00:00\\\\\n",
       "\t 2013                & 1                   & 1                   & 533                 & 529                 &  4                  &  850                &  830                &  20                 & UA                  & 1714                & N24211              & LGA                 & IAH                 & 227                 & 1416                & 5                   & 29                  & 2013-01-01 05:00:00\\\\\n",
       "\t 2013                & 1                   & 1                   & 542                 & 540                 &  2                  &  923                &  850                &  33                 & AA                  & 1141                & N619AA              & JFK                 & MIA                 & 160                 & 1089                & 5                   & 40                  & 2013-01-01 05:00:00\\\\\n",
       "\t 2013                & 1                   & 1                   & 544                 & 545                 & -1                  & 1004                & 1022                & -18                 & B6                  &  725                & N804JB              & JFK                 & BQN                 & 183                 & 1576                & 5                   & 45                  & 2013-01-01 05:00:00\\\\\n",
       "\t 2013                & 1                   & 1                   & 554                 & 600                 & -6                  &  812                &  837                & -25                 & DL                  &  461                & N668DN              & LGA                 & ATL                 & 116                 &  762                & 6                   &  0                  & 2013-01-01 06:00:00\\\\\n",
       "\t 2013                & 1                   & 1                   & 554                 & 558                 & -4                  &  740                &  728                &  12                 & UA                  & 1696                & N39463              & EWR                 & ORD                 & 150                 &  719                & 5                   & 58                  & 2013-01-01 05:00:00\\\\\n",
       "\t 2013                & 1                   & 1                   & 555                 & 600                 & -5                  &  913                &  854                &  19                 & B6                  &  507                & N516JB              & EWR                 & FLL                 & 158                 & 1065                & 6                   &  0                  & 2013-01-01 06:00:00\\\\\n",
       "\t 2013                & 1                   & 1                   & 557                 & 600                 & -3                  &  709                &  723                & -14                 & EV                  & 5708                & N829AS              & LGA                 & IAD                 &  53                 &  229                & 6                   &  0                  & 2013-01-01 06:00:00\\\\\n",
       "\t 2013                & 1                   & 1                   & 557                 & 600                 & -3                  &  838                &  846                &  -8                 & B6                  &   79                & N593JB              & JFK                 & MCO                 & 140                 &  944                & 6                   &  0                  & 2013-01-01 06:00:00\\\\\n",
       "\t 2013                & 1                   & 1                   & 558                 & 600                 & -2                  &  753                &  745                &   8                 & AA                  &  301                & N3ALAA              & LGA                 & ORD                 & 138                 &  733                & 6                   &  0                  & 2013-01-01 06:00:00\\\\\n",
       "\\end{tabular}\n"
      ],
      "text/markdown": [
       "\n",
       "| year | month | day | dep_time | sched_dep_time | dep_delay | arr_time | sched_arr_time | arr_delay | carrier | flight | tailnum | origin | dest | air_time | distance | hour | minute | time_hour |\n",
       "|---|---|---|---|---|---|---|---|---|---|---|---|---|---|---|---|---|---|---|\n",
       "| 2013                | 1                   | 1                   | 517                 | 515                 |  2                  |  830                |  819                |  11                 | UA                  | 1545                | N14228              | EWR                 | IAH                 | 227                 | 1400                | 5                   | 15                  | 2013-01-01 05:00:00 |\n",
       "| 2013                | 1                   | 1                   | 533                 | 529                 |  4                  |  850                |  830                |  20                 | UA                  | 1714                | N24211              | LGA                 | IAH                 | 227                 | 1416                | 5                   | 29                  | 2013-01-01 05:00:00 |\n",
       "| 2013                | 1                   | 1                   | 542                 | 540                 |  2                  |  923                |  850                |  33                 | AA                  | 1141                | N619AA              | JFK                 | MIA                 | 160                 | 1089                | 5                   | 40                  | 2013-01-01 05:00:00 |\n",
       "| 2013                | 1                   | 1                   | 544                 | 545                 | -1                  | 1004                | 1022                | -18                 | B6                  |  725                | N804JB              | JFK                 | BQN                 | 183                 | 1576                | 5                   | 45                  | 2013-01-01 05:00:00 |\n",
       "| 2013                | 1                   | 1                   | 554                 | 600                 | -6                  |  812                |  837                | -25                 | DL                  |  461                | N668DN              | LGA                 | ATL                 | 116                 |  762                | 6                   |  0                  | 2013-01-01 06:00:00 |\n",
       "| 2013                | 1                   | 1                   | 554                 | 558                 | -4                  |  740                |  728                |  12                 | UA                  | 1696                | N39463              | EWR                 | ORD                 | 150                 |  719                | 5                   | 58                  | 2013-01-01 05:00:00 |\n",
       "| 2013                | 1                   | 1                   | 555                 | 600                 | -5                  |  913                |  854                |  19                 | B6                  |  507                | N516JB              | EWR                 | FLL                 | 158                 | 1065                | 6                   |  0                  | 2013-01-01 06:00:00 |\n",
       "| 2013                | 1                   | 1                   | 557                 | 600                 | -3                  |  709                |  723                | -14                 | EV                  | 5708                | N829AS              | LGA                 | IAD                 |  53                 |  229                | 6                   |  0                  | 2013-01-01 06:00:00 |\n",
       "| 2013                | 1                   | 1                   | 557                 | 600                 | -3                  |  838                |  846                |  -8                 | B6                  |   79                | N593JB              | JFK                 | MCO                 | 140                 |  944                | 6                   |  0                  | 2013-01-01 06:00:00 |\n",
       "| 2013                | 1                   | 1                   | 558                 | 600                 | -2                  |  753                |  745                |   8                 | AA                  |  301                | N3ALAA              | LGA                 | ORD                 | 138                 |  733                | 6                   |  0                  | 2013-01-01 06:00:00 |\n",
       "\n"
      ],
      "text/plain": [
       "   year month day dep_time sched_dep_time dep_delay arr_time sched_arr_time\n",
       "1  2013 1     1   517      515             2         830      819          \n",
       "2  2013 1     1   533      529             4         850      830          \n",
       "3  2013 1     1   542      540             2         923      850          \n",
       "4  2013 1     1   544      545            -1        1004     1022          \n",
       "5  2013 1     1   554      600            -6         812      837          \n",
       "6  2013 1     1   554      558            -4         740      728          \n",
       "7  2013 1     1   555      600            -5         913      854          \n",
       "8  2013 1     1   557      600            -3         709      723          \n",
       "9  2013 1     1   557      600            -3         838      846          \n",
       "10 2013 1     1   558      600            -2         753      745          \n",
       "   arr_delay carrier flight tailnum origin dest air_time distance hour minute\n",
       "1   11       UA      1545   N14228  EWR    IAH  227      1400     5    15    \n",
       "2   20       UA      1714   N24211  LGA    IAH  227      1416     5    29    \n",
       "3   33       AA      1141   N619AA  JFK    MIA  160      1089     5    40    \n",
       "4  -18       B6       725   N804JB  JFK    BQN  183      1576     5    45    \n",
       "5  -25       DL       461   N668DN  LGA    ATL  116       762     6     0    \n",
       "6   12       UA      1696   N39463  EWR    ORD  150       719     5    58    \n",
       "7   19       B6       507   N516JB  EWR    FLL  158      1065     6     0    \n",
       "8  -14       EV      5708   N829AS  LGA    IAD   53       229     6     0    \n",
       "9   -8       B6        79   N593JB  JFK    MCO  140       944     6     0    \n",
       "10   8       AA       301   N3ALAA  LGA    ORD  138       733     6     0    \n",
       "   time_hour          \n",
       "1  2013-01-01 05:00:00\n",
       "2  2013-01-01 05:00:00\n",
       "3  2013-01-01 05:00:00\n",
       "4  2013-01-01 05:00:00\n",
       "5  2013-01-01 06:00:00\n",
       "6  2013-01-01 05:00:00\n",
       "7  2013-01-01 06:00:00\n",
       "8  2013-01-01 06:00:00\n",
       "9  2013-01-01 06:00:00\n",
       "10 2013-01-01 06:00:00"
      ]
     },
     "metadata": {},
     "output_type": "display_data"
    }
   ],
   "source": [
    "slice(flights,1:10)"
   ]
  },
  {
   "cell_type": "markdown",
   "id": "9e2b459b",
   "metadata": {},
   "source": [
    "## arrange()\n",
    "arrange() works similarly to filter() except that instead of filtering or selecting rows, it reorders them. It takes a data frame, and a set of column names (or more complicated expressions) to order by. If you provide more than one column name, each additional column will be used to break ties in the values of preceding columns:"
   ]
  },
  {
   "cell_type": "code",
   "execution_count": 12,
   "id": "fa38b822",
   "metadata": {},
   "outputs": [
    {
     "data": {
      "text/html": [
       "<table>\n",
       "<thead><tr><th scope=col>year</th><th scope=col>month</th><th scope=col>day</th><th scope=col>dep_time</th><th scope=col>sched_dep_time</th><th scope=col>dep_delay</th><th scope=col>arr_time</th><th scope=col>sched_arr_time</th><th scope=col>arr_delay</th><th scope=col>carrier</th><th scope=col>flight</th><th scope=col>tailnum</th><th scope=col>origin</th><th scope=col>dest</th><th scope=col>air_time</th><th scope=col>distance</th><th scope=col>hour</th><th scope=col>minute</th><th scope=col>time_hour</th></tr></thead>\n",
       "<tbody>\n",
       "\t<tr><td>2013               </td><td>1                  </td><td>1                  </td><td>2302               </td><td>2200               </td><td>62                 </td><td>2342               </td><td>2253               </td><td> 49                </td><td>EV                 </td><td>4276               </td><td>N13903             </td><td>EWR                </td><td>BDL                </td><td>24                 </td><td>116                </td><td>22                 </td><td> 0                 </td><td>2013-01-01 22:00:00</td></tr>\n",
       "\t<tr><td>2013               </td><td>1                  </td><td>1                  </td><td>1318               </td><td>1322               </td><td>-4                 </td><td>1358               </td><td>1416               </td><td>-18                </td><td>EV                 </td><td>4106               </td><td>N19554             </td><td>EWR                </td><td>BDL                </td><td>25                 </td><td>116                </td><td>13                 </td><td>22                 </td><td>2013-01-01 13:00:00</td></tr>\n",
       "\t<tr><td>2013               </td><td>1                  </td><td>1                  </td><td>2116               </td><td>2110               </td><td> 6                 </td><td>2202               </td><td>2212               </td><td>-10                </td><td>EV                 </td><td>4404               </td><td>N15912             </td><td>EWR                </td><td>PVD                </td><td>28                 </td><td>160                </td><td>21                 </td><td>10                 </td><td>2013-01-01 21:00:00</td></tr>\n",
       "\t<tr><td>2013               </td><td>1                  </td><td>1                  </td><td>2000               </td><td>2000               </td><td> 0                 </td><td>2054               </td><td>2110               </td><td>-16                </td><td>9E                 </td><td>3664               </td><td>N836AY             </td><td>JFK                </td><td>PHL                </td><td>30                 </td><td> 94                </td><td>20                 </td><td> 0                 </td><td>2013-01-01 20:00:00</td></tr>\n",
       "\t<tr><td>2013               </td><td>1                  </td><td>1                  </td><td>2056               </td><td>2004               </td><td>52                 </td><td>2156               </td><td>2112               </td><td> 44                </td><td>EV                 </td><td>4170               </td><td>N12540             </td><td>EWR                </td><td>ALB                </td><td>31                 </td><td>143                </td><td>20                 </td><td> 4                 </td><td>2013-01-01 20:00:00</td></tr>\n",
       "\t<tr><td>2013               </td><td>1                  </td><td>1                  </td><td> 908               </td><td> 915               </td><td>-7                 </td><td>1004               </td><td>1033               </td><td>-29                </td><td>US                 </td><td>1467               </td><td>N959UW             </td><td>LGA                </td><td>PHL                </td><td>32                 </td><td> 96                </td><td> 9                 </td><td>15                 </td><td>2013-01-01 09:00:00</td></tr>\n",
       "</tbody>\n",
       "</table>\n"
      ],
      "text/latex": [
       "\\begin{tabular}{r|lllllllllllllllllll}\n",
       " year & month & day & dep\\_time & sched\\_dep\\_time & dep\\_delay & arr\\_time & sched\\_arr\\_time & arr\\_delay & carrier & flight & tailnum & origin & dest & air\\_time & distance & hour & minute & time\\_hour\\\\\n",
       "\\hline\n",
       "\t 2013                & 1                   & 1                   & 2302                & 2200                & 62                  & 2342                & 2253                &  49                 & EV                  & 4276                & N13903              & EWR                 & BDL                 & 24                  & 116                 & 22                  &  0                  & 2013-01-01 22:00:00\\\\\n",
       "\t 2013                & 1                   & 1                   & 1318                & 1322                & -4                  & 1358                & 1416                & -18                 & EV                  & 4106                & N19554              & EWR                 & BDL                 & 25                  & 116                 & 13                  & 22                  & 2013-01-01 13:00:00\\\\\n",
       "\t 2013                & 1                   & 1                   & 2116                & 2110                &  6                  & 2202                & 2212                & -10                 & EV                  & 4404                & N15912              & EWR                 & PVD                 & 28                  & 160                 & 21                  & 10                  & 2013-01-01 21:00:00\\\\\n",
       "\t 2013                & 1                   & 1                   & 2000                & 2000                &  0                  & 2054                & 2110                & -16                 & 9E                  & 3664                & N836AY              & JFK                 & PHL                 & 30                  &  94                 & 20                  &  0                  & 2013-01-01 20:00:00\\\\\n",
       "\t 2013                & 1                   & 1                   & 2056                & 2004                & 52                  & 2156                & 2112                &  44                 & EV                  & 4170                & N12540              & EWR                 & ALB                 & 31                  & 143                 & 20                  &  4                  & 2013-01-01 20:00:00\\\\\n",
       "\t 2013                & 1                   & 1                   &  908                &  915                & -7                  & 1004                & 1033                & -29                 & US                  & 1467                & N959UW              & LGA                 & PHL                 & 32                  &  96                 &  9                  & 15                  & 2013-01-01 09:00:00\\\\\n",
       "\\end{tabular}\n"
      ],
      "text/markdown": [
       "\n",
       "| year | month | day | dep_time | sched_dep_time | dep_delay | arr_time | sched_arr_time | arr_delay | carrier | flight | tailnum | origin | dest | air_time | distance | hour | minute | time_hour |\n",
       "|---|---|---|---|---|---|---|---|---|---|---|---|---|---|---|---|---|---|---|\n",
       "| 2013                | 1                   | 1                   | 2302                | 2200                | 62                  | 2342                | 2253                |  49                 | EV                  | 4276                | N13903              | EWR                 | BDL                 | 24                  | 116                 | 22                  |  0                  | 2013-01-01 22:00:00 |\n",
       "| 2013                | 1                   | 1                   | 1318                | 1322                | -4                  | 1358                | 1416                | -18                 | EV                  | 4106                | N19554              | EWR                 | BDL                 | 25                  | 116                 | 13                  | 22                  | 2013-01-01 13:00:00 |\n",
       "| 2013                | 1                   | 1                   | 2116                | 2110                |  6                  | 2202                | 2212                | -10                 | EV                  | 4404                | N15912              | EWR                 | PVD                 | 28                  | 160                 | 21                  | 10                  | 2013-01-01 21:00:00 |\n",
       "| 2013                | 1                   | 1                   | 2000                | 2000                |  0                  | 2054                | 2110                | -16                 | 9E                  | 3664                | N836AY              | JFK                 | PHL                 | 30                  |  94                 | 20                  |  0                  | 2013-01-01 20:00:00 |\n",
       "| 2013                | 1                   | 1                   | 2056                | 2004                | 52                  | 2156                | 2112                |  44                 | EV                  | 4170                | N12540              | EWR                 | ALB                 | 31                  | 143                 | 20                  |  4                  | 2013-01-01 20:00:00 |\n",
       "| 2013                | 1                   | 1                   |  908                |  915                | -7                  | 1004                | 1033                | -29                 | US                  | 1467                | N959UW              | LGA                 | PHL                 | 32                  |  96                 |  9                  | 15                  | 2013-01-01 09:00:00 |\n",
       "\n"
      ],
      "text/plain": [
       "  year month day dep_time sched_dep_time dep_delay arr_time sched_arr_time\n",
       "1 2013 1     1   2302     2200           62        2342     2253          \n",
       "2 2013 1     1   1318     1322           -4        1358     1416          \n",
       "3 2013 1     1   2116     2110            6        2202     2212          \n",
       "4 2013 1     1   2000     2000            0        2054     2110          \n",
       "5 2013 1     1   2056     2004           52        2156     2112          \n",
       "6 2013 1     1    908      915           -7        1004     1033          \n",
       "  arr_delay carrier flight tailnum origin dest air_time distance hour minute\n",
       "1  49       EV      4276   N13903  EWR    BDL  24       116      22    0    \n",
       "2 -18       EV      4106   N19554  EWR    BDL  25       116      13   22    \n",
       "3 -10       EV      4404   N15912  EWR    PVD  28       160      21   10    \n",
       "4 -16       9E      3664   N836AY  JFK    PHL  30        94      20    0    \n",
       "5  44       EV      4170   N12540  EWR    ALB  31       143      20    4    \n",
       "6 -29       US      1467   N959UW  LGA    PHL  32        96       9   15    \n",
       "  time_hour          \n",
       "1 2013-01-01 22:00:00\n",
       "2 2013-01-01 13:00:00\n",
       "3 2013-01-01 21:00:00\n",
       "4 2013-01-01 20:00:00\n",
       "5 2013-01-01 20:00:00\n",
       "6 2013-01-01 09:00:00"
      ]
     },
     "metadata": {},
     "output_type": "display_data"
    }
   ],
   "source": [
    "head(arrange(flights,year,month,day,air_time))"
   ]
  },
  {
   "cell_type": "code",
   "execution_count": 13,
   "id": "4376e526",
   "metadata": {},
   "outputs": [
    {
     "data": {
      "text/html": [
       "<table>\n",
       "<thead><tr><th scope=col>year</th><th scope=col>month</th><th scope=col>day</th><th scope=col>dep_time</th><th scope=col>sched_dep_time</th><th scope=col>dep_delay</th><th scope=col>arr_time</th><th scope=col>sched_arr_time</th><th scope=col>arr_delay</th><th scope=col>carrier</th><th scope=col>flight</th><th scope=col>tailnum</th><th scope=col>origin</th><th scope=col>dest</th><th scope=col>air_time</th><th scope=col>distance</th><th scope=col>hour</th><th scope=col>minute</th><th scope=col>time_hour</th></tr></thead>\n",
       "<tbody>\n",
       "\t<tr><td>2013               </td><td>1                  </td><td> 9                 </td><td> 641               </td><td> 900               </td><td>1301               </td><td>1242               </td><td>1530               </td><td>1272               </td><td>HA                 </td><td>  51               </td><td>N384HA             </td><td>JFK                </td><td>HNL                </td><td>640                </td><td>4983               </td><td> 9                 </td><td> 0                 </td><td>2013-01-09 09:00:00</td></tr>\n",
       "\t<tr><td>2013               </td><td>6                  </td><td>15                 </td><td>1432               </td><td>1935               </td><td>1137               </td><td>1607               </td><td>2120               </td><td>1127               </td><td>MQ                 </td><td>3535               </td><td>N504MQ             </td><td>JFK                </td><td>CMH                </td><td> 74                </td><td> 483               </td><td>19                 </td><td>35                 </td><td>2013-06-15 19:00:00</td></tr>\n",
       "\t<tr><td>2013               </td><td>1                  </td><td>10                 </td><td>1121               </td><td>1635               </td><td>1126               </td><td>1239               </td><td>1810               </td><td>1109               </td><td>MQ                 </td><td>3695               </td><td>N517MQ             </td><td>EWR                </td><td>ORD                </td><td>111                </td><td> 719               </td><td>16                 </td><td>35                 </td><td>2013-01-10 16:00:00</td></tr>\n",
       "\t<tr><td>2013               </td><td>9                  </td><td>20                 </td><td>1139               </td><td>1845               </td><td>1014               </td><td>1457               </td><td>2210               </td><td>1007               </td><td>AA                 </td><td> 177               </td><td>N338AA             </td><td>JFK                </td><td>SFO                </td><td>354                </td><td>2586               </td><td>18                 </td><td>45                 </td><td>2013-09-20 18:00:00</td></tr>\n",
       "\t<tr><td>2013               </td><td>7                  </td><td>22                 </td><td> 845               </td><td>1600               </td><td>1005               </td><td>1044               </td><td>1815               </td><td> 989               </td><td>MQ                 </td><td>3075               </td><td>N665MQ             </td><td>JFK                </td><td>CVG                </td><td> 96                </td><td> 589               </td><td>16                 </td><td> 0                 </td><td>2013-07-22 16:00:00</td></tr>\n",
       "\t<tr><td>2013               </td><td>4                  </td><td>10                 </td><td>1100               </td><td>1900               </td><td> 960               </td><td>1342               </td><td>2211               </td><td> 931               </td><td>DL                 </td><td>2391               </td><td>N959DL             </td><td>JFK                </td><td>TPA                </td><td>139                </td><td>1005               </td><td>19                 </td><td> 0                 </td><td>2013-04-10 19:00:00</td></tr>\n",
       "</tbody>\n",
       "</table>\n"
      ],
      "text/latex": [
       "\\begin{tabular}{r|lllllllllllllllllll}\n",
       " year & month & day & dep\\_time & sched\\_dep\\_time & dep\\_delay & arr\\_time & sched\\_arr\\_time & arr\\_delay & carrier & flight & tailnum & origin & dest & air\\_time & distance & hour & minute & time\\_hour\\\\\n",
       "\\hline\n",
       "\t 2013                & 1                   &  9                  &  641                &  900                & 1301                & 1242                & 1530                & 1272                & HA                  &   51                & N384HA              & JFK                 & HNL                 & 640                 & 4983                &  9                  &  0                  & 2013-01-09 09:00:00\\\\\n",
       "\t 2013                & 6                   & 15                  & 1432                & 1935                & 1137                & 1607                & 2120                & 1127                & MQ                  & 3535                & N504MQ              & JFK                 & CMH                 &  74                 &  483                & 19                  & 35                  & 2013-06-15 19:00:00\\\\\n",
       "\t 2013                & 1                   & 10                  & 1121                & 1635                & 1126                & 1239                & 1810                & 1109                & MQ                  & 3695                & N517MQ              & EWR                 & ORD                 & 111                 &  719                & 16                  & 35                  & 2013-01-10 16:00:00\\\\\n",
       "\t 2013                & 9                   & 20                  & 1139                & 1845                & 1014                & 1457                & 2210                & 1007                & AA                  &  177                & N338AA              & JFK                 & SFO                 & 354                 & 2586                & 18                  & 45                  & 2013-09-20 18:00:00\\\\\n",
       "\t 2013                & 7                   & 22                  &  845                & 1600                & 1005                & 1044                & 1815                &  989                & MQ                  & 3075                & N665MQ              & JFK                 & CVG                 &  96                 &  589                & 16                  &  0                  & 2013-07-22 16:00:00\\\\\n",
       "\t 2013                & 4                   & 10                  & 1100                & 1900                &  960                & 1342                & 2211                &  931                & DL                  & 2391                & N959DL              & JFK                 & TPA                 & 139                 & 1005                & 19                  &  0                  & 2013-04-10 19:00:00\\\\\n",
       "\\end{tabular}\n"
      ],
      "text/markdown": [
       "\n",
       "| year | month | day | dep_time | sched_dep_time | dep_delay | arr_time | sched_arr_time | arr_delay | carrier | flight | tailnum | origin | dest | air_time | distance | hour | minute | time_hour |\n",
       "|---|---|---|---|---|---|---|---|---|---|---|---|---|---|---|---|---|---|---|\n",
       "| 2013                | 1                   |  9                  |  641                |  900                | 1301                | 1242                | 1530                | 1272                | HA                  |   51                | N384HA              | JFK                 | HNL                 | 640                 | 4983                |  9                  |  0                  | 2013-01-09 09:00:00 |\n",
       "| 2013                | 6                   | 15                  | 1432                | 1935                | 1137                | 1607                | 2120                | 1127                | MQ                  | 3535                | N504MQ              | JFK                 | CMH                 |  74                 |  483                | 19                  | 35                  | 2013-06-15 19:00:00 |\n",
       "| 2013                | 1                   | 10                  | 1121                | 1635                | 1126                | 1239                | 1810                | 1109                | MQ                  | 3695                | N517MQ              | EWR                 | ORD                 | 111                 |  719                | 16                  | 35                  | 2013-01-10 16:00:00 |\n",
       "| 2013                | 9                   | 20                  | 1139                | 1845                | 1014                | 1457                | 2210                | 1007                | AA                  |  177                | N338AA              | JFK                 | SFO                 | 354                 | 2586                | 18                  | 45                  | 2013-09-20 18:00:00 |\n",
       "| 2013                | 7                   | 22                  |  845                | 1600                | 1005                | 1044                | 1815                |  989                | MQ                  | 3075                | N665MQ              | JFK                 | CVG                 |  96                 |  589                | 16                  |  0                  | 2013-07-22 16:00:00 |\n",
       "| 2013                | 4                   | 10                  | 1100                | 1900                |  960                | 1342                | 2211                |  931                | DL                  | 2391                | N959DL              | JFK                 | TPA                 | 139                 | 1005                | 19                  |  0                  | 2013-04-10 19:00:00 |\n",
       "\n"
      ],
      "text/plain": [
       "  year month day dep_time sched_dep_time dep_delay arr_time sched_arr_time\n",
       "1 2013 1      9   641      900           1301      1242     1530          \n",
       "2 2013 6     15  1432     1935           1137      1607     2120          \n",
       "3 2013 1     10  1121     1635           1126      1239     1810          \n",
       "4 2013 9     20  1139     1845           1014      1457     2210          \n",
       "5 2013 7     22   845     1600           1005      1044     1815          \n",
       "6 2013 4     10  1100     1900            960      1342     2211          \n",
       "  arr_delay carrier flight tailnum origin dest air_time distance hour minute\n",
       "1 1272      HA        51   N384HA  JFK    HNL  640      4983      9    0    \n",
       "2 1127      MQ      3535   N504MQ  JFK    CMH   74       483     19   35    \n",
       "3 1109      MQ      3695   N517MQ  EWR    ORD  111       719     16   35    \n",
       "4 1007      AA       177   N338AA  JFK    SFO  354      2586     18   45    \n",
       "5  989      MQ      3075   N665MQ  JFK    CVG   96       589     16    0    \n",
       "6  931      DL      2391   N959DL  JFK    TPA  139      1005     19    0    \n",
       "  time_hour          \n",
       "1 2013-01-09 09:00:00\n",
       "2 2013-06-15 19:00:00\n",
       "3 2013-01-10 16:00:00\n",
       "4 2013-09-20 18:00:00\n",
       "5 2013-07-22 16:00:00\n",
       "6 2013-04-10 19:00:00"
      ]
     },
     "metadata": {},
     "output_type": "display_data"
    }
   ],
   "source": [
    "head(arrange(flights,desc(dep_delay)))"
   ]
  },
  {
   "cell_type": "markdown",
   "id": "7ea77e4c",
   "metadata": {},
   "source": [
    "## select()\n",
    "Often you work with large datasets with many columns but only a few are actually of interest to you. select() allows you to rapidly zoom in on a useful subset using operations that usually only work on numeric variable positions"
   ]
  },
  {
   "cell_type": "code",
   "execution_count": 15,
   "id": "ad8b7570",
   "metadata": {},
   "outputs": [
    {
     "data": {
      "text/html": [
       "<table>\n",
       "<thead><tr><th scope=col>carrier</th></tr></thead>\n",
       "<tbody>\n",
       "\t<tr><td>UA</td></tr>\n",
       "\t<tr><td>UA</td></tr>\n",
       "\t<tr><td>AA</td></tr>\n",
       "\t<tr><td>B6</td></tr>\n",
       "\t<tr><td>DL</td></tr>\n",
       "\t<tr><td>UA</td></tr>\n",
       "</tbody>\n",
       "</table>\n"
      ],
      "text/latex": [
       "\\begin{tabular}{r|l}\n",
       " carrier\\\\\n",
       "\\hline\n",
       "\t UA\\\\\n",
       "\t UA\\\\\n",
       "\t AA\\\\\n",
       "\t B6\\\\\n",
       "\t DL\\\\\n",
       "\t UA\\\\\n",
       "\\end{tabular}\n"
      ],
      "text/markdown": [
       "\n",
       "| carrier |\n",
       "|---|\n",
       "| UA |\n",
       "| UA |\n",
       "| AA |\n",
       "| B6 |\n",
       "| DL |\n",
       "| UA |\n",
       "\n"
      ],
      "text/plain": [
       "  carrier\n",
       "1 UA     \n",
       "2 UA     \n",
       "3 AA     \n",
       "4 B6     \n",
       "5 DL     \n",
       "6 UA     "
      ]
     },
     "metadata": {},
     "output_type": "display_data"
    }
   ],
   "source": [
    "head(select(flights,carrier))"
   ]
  },
  {
   "cell_type": "markdown",
   "id": "242e04cc",
   "metadata": {},
   "source": [
    "## rename()\n",
    "You can use rename() to rename columns, note this is not \"in-place\" you'll need to reassign the renamed data structures."
   ]
  },
  {
   "cell_type": "code",
   "execution_count": 16,
   "id": "5f8bfc99",
   "metadata": {},
   "outputs": [
    {
     "data": {
      "text/html": [
       "<table>\n",
       "<thead><tr><th scope=col>year</th><th scope=col>month</th><th scope=col>day</th><th scope=col>dep_time</th><th scope=col>sched_dep_time</th><th scope=col>dep_delay</th><th scope=col>arr_time</th><th scope=col>sched_arr_time</th><th scope=col>arr_delay</th><th scope=col>airline_car</th><th scope=col>flight</th><th scope=col>tailnum</th><th scope=col>origin</th><th scope=col>dest</th><th scope=col>air_time</th><th scope=col>distance</th><th scope=col>hour</th><th scope=col>minute</th><th scope=col>time_hour</th></tr></thead>\n",
       "<tbody>\n",
       "\t<tr><td>2013               </td><td>1                  </td><td>1                  </td><td>517                </td><td>515                </td><td> 2                 </td><td> 830               </td><td> 819               </td><td> 11                </td><td>UA                 </td><td>1545               </td><td>N14228             </td><td>EWR                </td><td>IAH                </td><td>227                </td><td>1400               </td><td>5                  </td><td>15                 </td><td>2013-01-01 05:00:00</td></tr>\n",
       "\t<tr><td>2013               </td><td>1                  </td><td>1                  </td><td>533                </td><td>529                </td><td> 4                 </td><td> 850               </td><td> 830               </td><td> 20                </td><td>UA                 </td><td>1714               </td><td>N24211             </td><td>LGA                </td><td>IAH                </td><td>227                </td><td>1416               </td><td>5                  </td><td>29                 </td><td>2013-01-01 05:00:00</td></tr>\n",
       "\t<tr><td>2013               </td><td>1                  </td><td>1                  </td><td>542                </td><td>540                </td><td> 2                 </td><td> 923               </td><td> 850               </td><td> 33                </td><td>AA                 </td><td>1141               </td><td>N619AA             </td><td>JFK                </td><td>MIA                </td><td>160                </td><td>1089               </td><td>5                  </td><td>40                 </td><td>2013-01-01 05:00:00</td></tr>\n",
       "\t<tr><td>2013               </td><td>1                  </td><td>1                  </td><td>544                </td><td>545                </td><td>-1                 </td><td>1004               </td><td>1022               </td><td>-18                </td><td>B6                 </td><td> 725               </td><td>N804JB             </td><td>JFK                </td><td>BQN                </td><td>183                </td><td>1576               </td><td>5                  </td><td>45                 </td><td>2013-01-01 05:00:00</td></tr>\n",
       "\t<tr><td>2013               </td><td>1                  </td><td>1                  </td><td>554                </td><td>600                </td><td>-6                 </td><td> 812               </td><td> 837               </td><td>-25                </td><td>DL                 </td><td> 461               </td><td>N668DN             </td><td>LGA                </td><td>ATL                </td><td>116                </td><td> 762               </td><td>6                  </td><td> 0                 </td><td>2013-01-01 06:00:00</td></tr>\n",
       "\t<tr><td>2013               </td><td>1                  </td><td>1                  </td><td>554                </td><td>558                </td><td>-4                 </td><td> 740               </td><td> 728               </td><td> 12                </td><td>UA                 </td><td>1696               </td><td>N39463             </td><td>EWR                </td><td>ORD                </td><td>150                </td><td> 719               </td><td>5                  </td><td>58                 </td><td>2013-01-01 05:00:00</td></tr>\n",
       "</tbody>\n",
       "</table>\n"
      ],
      "text/latex": [
       "\\begin{tabular}{r|lllllllllllllllllll}\n",
       " year & month & day & dep\\_time & sched\\_dep\\_time & dep\\_delay & arr\\_time & sched\\_arr\\_time & arr\\_delay & airline\\_car & flight & tailnum & origin & dest & air\\_time & distance & hour & minute & time\\_hour\\\\\n",
       "\\hline\n",
       "\t 2013                & 1                   & 1                   & 517                 & 515                 &  2                  &  830                &  819                &  11                 & UA                  & 1545                & N14228              & EWR                 & IAH                 & 227                 & 1400                & 5                   & 15                  & 2013-01-01 05:00:00\\\\\n",
       "\t 2013                & 1                   & 1                   & 533                 & 529                 &  4                  &  850                &  830                &  20                 & UA                  & 1714                & N24211              & LGA                 & IAH                 & 227                 & 1416                & 5                   & 29                  & 2013-01-01 05:00:00\\\\\n",
       "\t 2013                & 1                   & 1                   & 542                 & 540                 &  2                  &  923                &  850                &  33                 & AA                  & 1141                & N619AA              & JFK                 & MIA                 & 160                 & 1089                & 5                   & 40                  & 2013-01-01 05:00:00\\\\\n",
       "\t 2013                & 1                   & 1                   & 544                 & 545                 & -1                  & 1004                & 1022                & -18                 & B6                  &  725                & N804JB              & JFK                 & BQN                 & 183                 & 1576                & 5                   & 45                  & 2013-01-01 05:00:00\\\\\n",
       "\t 2013                & 1                   & 1                   & 554                 & 600                 & -6                  &  812                &  837                & -25                 & DL                  &  461                & N668DN              & LGA                 & ATL                 & 116                 &  762                & 6                   &  0                  & 2013-01-01 06:00:00\\\\\n",
       "\t 2013                & 1                   & 1                   & 554                 & 558                 & -4                  &  740                &  728                &  12                 & UA                  & 1696                & N39463              & EWR                 & ORD                 & 150                 &  719                & 5                   & 58                  & 2013-01-01 05:00:00\\\\\n",
       "\\end{tabular}\n"
      ],
      "text/markdown": [
       "\n",
       "| year | month | day | dep_time | sched_dep_time | dep_delay | arr_time | sched_arr_time | arr_delay | airline_car | flight | tailnum | origin | dest | air_time | distance | hour | minute | time_hour |\n",
       "|---|---|---|---|---|---|---|---|---|---|---|---|---|---|---|---|---|---|---|\n",
       "| 2013                | 1                   | 1                   | 517                 | 515                 |  2                  |  830                |  819                |  11                 | UA                  | 1545                | N14228              | EWR                 | IAH                 | 227                 | 1400                | 5                   | 15                  | 2013-01-01 05:00:00 |\n",
       "| 2013                | 1                   | 1                   | 533                 | 529                 |  4                  |  850                |  830                |  20                 | UA                  | 1714                | N24211              | LGA                 | IAH                 | 227                 | 1416                | 5                   | 29                  | 2013-01-01 05:00:00 |\n",
       "| 2013                | 1                   | 1                   | 542                 | 540                 |  2                  |  923                |  850                |  33                 | AA                  | 1141                | N619AA              | JFK                 | MIA                 | 160                 | 1089                | 5                   | 40                  | 2013-01-01 05:00:00 |\n",
       "| 2013                | 1                   | 1                   | 544                 | 545                 | -1                  | 1004                | 1022                | -18                 | B6                  |  725                | N804JB              | JFK                 | BQN                 | 183                 | 1576                | 5                   | 45                  | 2013-01-01 05:00:00 |\n",
       "| 2013                | 1                   | 1                   | 554                 | 600                 | -6                  |  812                |  837                | -25                 | DL                  |  461                | N668DN              | LGA                 | ATL                 | 116                 |  762                | 6                   |  0                  | 2013-01-01 06:00:00 |\n",
       "| 2013                | 1                   | 1                   | 554                 | 558                 | -4                  |  740                |  728                |  12                 | UA                  | 1696                | N39463              | EWR                 | ORD                 | 150                 |  719                | 5                   | 58                  | 2013-01-01 05:00:00 |\n",
       "\n"
      ],
      "text/plain": [
       "  year month day dep_time sched_dep_time dep_delay arr_time sched_arr_time\n",
       "1 2013 1     1   517      515             2         830      819          \n",
       "2 2013 1     1   533      529             4         850      830          \n",
       "3 2013 1     1   542      540             2         923      850          \n",
       "4 2013 1     1   544      545            -1        1004     1022          \n",
       "5 2013 1     1   554      600            -6         812      837          \n",
       "6 2013 1     1   554      558            -4         740      728          \n",
       "  arr_delay airline_car flight tailnum origin dest air_time distance hour\n",
       "1  11       UA          1545   N14228  EWR    IAH  227      1400     5   \n",
       "2  20       UA          1714   N24211  LGA    IAH  227      1416     5   \n",
       "3  33       AA          1141   N619AA  JFK    MIA  160      1089     5   \n",
       "4 -18       B6           725   N804JB  JFK    BQN  183      1576     5   \n",
       "5 -25       DL           461   N668DN  LGA    ATL  116       762     6   \n",
       "6  12       UA          1696   N39463  EWR    ORD  150       719     5   \n",
       "  minute time_hour          \n",
       "1 15     2013-01-01 05:00:00\n",
       "2 29     2013-01-01 05:00:00\n",
       "3 40     2013-01-01 05:00:00\n",
       "4 45     2013-01-01 05:00:00\n",
       "5  0     2013-01-01 06:00:00\n",
       "6 58     2013-01-01 05:00:00"
      ]
     },
     "metadata": {},
     "output_type": "display_data"
    }
   ],
   "source": [
    "head(rename(flights,airline_car = carrier))"
   ]
  },
  {
   "cell_type": "markdown",
   "id": "ca8909a5",
   "metadata": {},
   "source": [
    "## distinct()\n",
    "A common use of select() is to find the values of a set of variables. This is particularly useful in conjunction with the distinct() verb which only returns the unique values in a table."
   ]
  },
  {
   "cell_type": "code",
   "execution_count": 17,
   "id": "f00391cb",
   "metadata": {},
   "outputs": [
    {
     "data": {
      "text/html": [
       "<table>\n",
       "<thead><tr><th scope=col>carrier</th></tr></thead>\n",
       "<tbody>\n",
       "\t<tr><td>UA</td></tr>\n",
       "\t<tr><td>AA</td></tr>\n",
       "\t<tr><td>B6</td></tr>\n",
       "\t<tr><td>DL</td></tr>\n",
       "\t<tr><td>EV</td></tr>\n",
       "\t<tr><td>MQ</td></tr>\n",
       "\t<tr><td>US</td></tr>\n",
       "\t<tr><td>WN</td></tr>\n",
       "\t<tr><td>VX</td></tr>\n",
       "\t<tr><td>FL</td></tr>\n",
       "\t<tr><td>AS</td></tr>\n",
       "\t<tr><td>9E</td></tr>\n",
       "\t<tr><td>F9</td></tr>\n",
       "\t<tr><td>HA</td></tr>\n",
       "\t<tr><td>YV</td></tr>\n",
       "\t<tr><td>OO</td></tr>\n",
       "</tbody>\n",
       "</table>\n"
      ],
      "text/latex": [
       "\\begin{tabular}{r|l}\n",
       " carrier\\\\\n",
       "\\hline\n",
       "\t UA\\\\\n",
       "\t AA\\\\\n",
       "\t B6\\\\\n",
       "\t DL\\\\\n",
       "\t EV\\\\\n",
       "\t MQ\\\\\n",
       "\t US\\\\\n",
       "\t WN\\\\\n",
       "\t VX\\\\\n",
       "\t FL\\\\\n",
       "\t AS\\\\\n",
       "\t 9E\\\\\n",
       "\t F9\\\\\n",
       "\t HA\\\\\n",
       "\t YV\\\\\n",
       "\t OO\\\\\n",
       "\\end{tabular}\n"
      ],
      "text/markdown": [
       "\n",
       "| carrier |\n",
       "|---|\n",
       "| UA |\n",
       "| AA |\n",
       "| B6 |\n",
       "| DL |\n",
       "| EV |\n",
       "| MQ |\n",
       "| US |\n",
       "| WN |\n",
       "| VX |\n",
       "| FL |\n",
       "| AS |\n",
       "| 9E |\n",
       "| F9 |\n",
       "| HA |\n",
       "| YV |\n",
       "| OO |\n",
       "\n"
      ],
      "text/plain": [
       "   carrier\n",
       "1  UA     \n",
       "2  AA     \n",
       "3  B6     \n",
       "4  DL     \n",
       "5  EV     \n",
       "6  MQ     \n",
       "7  US     \n",
       "8  WN     \n",
       "9  VX     \n",
       "10 FL     \n",
       "11 AS     \n",
       "12 9E     \n",
       "13 F9     \n",
       "14 HA     \n",
       "15 YV     \n",
       "16 OO     "
      ]
     },
     "metadata": {},
     "output_type": "display_data"
    }
   ],
   "source": [
    "distinct(select(flights,carrier))"
   ]
  },
  {
   "cell_type": "markdown",
   "id": "0005973d",
   "metadata": {},
   "source": [
    "## mutate()\n",
    "Besides selecting sets of existing columns, it’s often useful to add new columns that are functions of existing columns. This is the job of mutate():"
   ]
  },
  {
   "cell_type": "code",
   "execution_count": 18,
   "id": "4d18e04d",
   "metadata": {},
   "outputs": [
    {
     "data": {
      "text/html": [
       "<table>\n",
       "<thead><tr><th scope=col>year</th><th scope=col>month</th><th scope=col>day</th><th scope=col>dep_time</th><th scope=col>sched_dep_time</th><th scope=col>dep_delay</th><th scope=col>arr_time</th><th scope=col>sched_arr_time</th><th scope=col>arr_delay</th><th scope=col>carrier</th><th scope=col>flight</th><th scope=col>tailnum</th><th scope=col>origin</th><th scope=col>dest</th><th scope=col>air_time</th><th scope=col>distance</th><th scope=col>hour</th><th scope=col>minute</th><th scope=col>time_hour</th><th scope=col>new_col</th></tr></thead>\n",
       "<tbody>\n",
       "\t<tr><td>2013               </td><td>1                  </td><td>1                  </td><td>517                </td><td>515                </td><td> 2                 </td><td> 830               </td><td> 819               </td><td> 11                </td><td>UA                 </td><td>1545               </td><td>N14228             </td><td>EWR                </td><td>IAH                </td><td>227                </td><td>1400               </td><td>5                  </td><td>15                 </td><td>2013-01-01 05:00:00</td><td>  9                </td></tr>\n",
       "\t<tr><td>2013               </td><td>1                  </td><td>1                  </td><td>533                </td><td>529                </td><td> 4                 </td><td> 850               </td><td> 830               </td><td> 20                </td><td>UA                 </td><td>1714               </td><td>N24211             </td><td>LGA                </td><td>IAH                </td><td>227                </td><td>1416               </td><td>5                  </td><td>29                 </td><td>2013-01-01 05:00:00</td><td> 16                </td></tr>\n",
       "\t<tr><td>2013               </td><td>1                  </td><td>1                  </td><td>542                </td><td>540                </td><td> 2                 </td><td> 923               </td><td> 850               </td><td> 33                </td><td>AA                 </td><td>1141               </td><td>N619AA             </td><td>JFK                </td><td>MIA                </td><td>160                </td><td>1089               </td><td>5                  </td><td>40                 </td><td>2013-01-01 05:00:00</td><td> 31                </td></tr>\n",
       "\t<tr><td>2013               </td><td>1                  </td><td>1                  </td><td>544                </td><td>545                </td><td>-1                 </td><td>1004               </td><td>1022               </td><td>-18                </td><td>B6                 </td><td> 725               </td><td>N804JB             </td><td>JFK                </td><td>BQN                </td><td>183                </td><td>1576               </td><td>5                  </td><td>45                 </td><td>2013-01-01 05:00:00</td><td>-17                </td></tr>\n",
       "\t<tr><td>2013               </td><td>1                  </td><td>1                  </td><td>554                </td><td>600                </td><td>-6                 </td><td> 812               </td><td> 837               </td><td>-25                </td><td>DL                 </td><td> 461               </td><td>N668DN             </td><td>LGA                </td><td>ATL                </td><td>116                </td><td> 762               </td><td>6                  </td><td> 0                 </td><td>2013-01-01 06:00:00</td><td>-19                </td></tr>\n",
       "\t<tr><td>2013               </td><td>1                  </td><td>1                  </td><td>554                </td><td>558                </td><td>-4                 </td><td> 740               </td><td> 728               </td><td> 12                </td><td>UA                 </td><td>1696               </td><td>N39463             </td><td>EWR                </td><td>ORD                </td><td>150                </td><td> 719               </td><td>5                  </td><td>58                 </td><td>2013-01-01 05:00:00</td><td> 16                </td></tr>\n",
       "</tbody>\n",
       "</table>\n"
      ],
      "text/latex": [
       "\\begin{tabular}{r|llllllllllllllllllll}\n",
       " year & month & day & dep\\_time & sched\\_dep\\_time & dep\\_delay & arr\\_time & sched\\_arr\\_time & arr\\_delay & carrier & flight & tailnum & origin & dest & air\\_time & distance & hour & minute & time\\_hour & new\\_col\\\\\n",
       "\\hline\n",
       "\t 2013                & 1                   & 1                   & 517                 & 515                 &  2                  &  830                &  819                &  11                 & UA                  & 1545                & N14228              & EWR                 & IAH                 & 227                 & 1400                & 5                   & 15                  & 2013-01-01 05:00:00 &   9                \\\\\n",
       "\t 2013                & 1                   & 1                   & 533                 & 529                 &  4                  &  850                &  830                &  20                 & UA                  & 1714                & N24211              & LGA                 & IAH                 & 227                 & 1416                & 5                   & 29                  & 2013-01-01 05:00:00 &  16                \\\\\n",
       "\t 2013                & 1                   & 1                   & 542                 & 540                 &  2                  &  923                &  850                &  33                 & AA                  & 1141                & N619AA              & JFK                 & MIA                 & 160                 & 1089                & 5                   & 40                  & 2013-01-01 05:00:00 &  31                \\\\\n",
       "\t 2013                & 1                   & 1                   & 544                 & 545                 & -1                  & 1004                & 1022                & -18                 & B6                  &  725                & N804JB              & JFK                 & BQN                 & 183                 & 1576                & 5                   & 45                  & 2013-01-01 05:00:00 & -17                \\\\\n",
       "\t 2013                & 1                   & 1                   & 554                 & 600                 & -6                  &  812                &  837                & -25                 & DL                  &  461                & N668DN              & LGA                 & ATL                 & 116                 &  762                & 6                   &  0                  & 2013-01-01 06:00:00 & -19                \\\\\n",
       "\t 2013                & 1                   & 1                   & 554                 & 558                 & -4                  &  740                &  728                &  12                 & UA                  & 1696                & N39463              & EWR                 & ORD                 & 150                 &  719                & 5                   & 58                  & 2013-01-01 05:00:00 &  16                \\\\\n",
       "\\end{tabular}\n"
      ],
      "text/markdown": [
       "\n",
       "| year | month | day | dep_time | sched_dep_time | dep_delay | arr_time | sched_arr_time | arr_delay | carrier | flight | tailnum | origin | dest | air_time | distance | hour | minute | time_hour | new_col |\n",
       "|---|---|---|---|---|---|---|---|---|---|---|---|---|---|---|---|---|---|---|---|\n",
       "| 2013                | 1                   | 1                   | 517                 | 515                 |  2                  |  830                |  819                |  11                 | UA                  | 1545                | N14228              | EWR                 | IAH                 | 227                 | 1400                | 5                   | 15                  | 2013-01-01 05:00:00 |   9                 |\n",
       "| 2013                | 1                   | 1                   | 533                 | 529                 |  4                  |  850                |  830                |  20                 | UA                  | 1714                | N24211              | LGA                 | IAH                 | 227                 | 1416                | 5                   | 29                  | 2013-01-01 05:00:00 |  16                 |\n",
       "| 2013                | 1                   | 1                   | 542                 | 540                 |  2                  |  923                |  850                |  33                 | AA                  | 1141                | N619AA              | JFK                 | MIA                 | 160                 | 1089                | 5                   | 40                  | 2013-01-01 05:00:00 |  31                 |\n",
       "| 2013                | 1                   | 1                   | 544                 | 545                 | -1                  | 1004                | 1022                | -18                 | B6                  |  725                | N804JB              | JFK                 | BQN                 | 183                 | 1576                | 5                   | 45                  | 2013-01-01 05:00:00 | -17                 |\n",
       "| 2013                | 1                   | 1                   | 554                 | 600                 | -6                  |  812                |  837                | -25                 | DL                  |  461                | N668DN              | LGA                 | ATL                 | 116                 |  762                | 6                   |  0                  | 2013-01-01 06:00:00 | -19                 |\n",
       "| 2013                | 1                   | 1                   | 554                 | 558                 | -4                  |  740                |  728                |  12                 | UA                  | 1696                | N39463              | EWR                 | ORD                 | 150                 |  719                | 5                   | 58                  | 2013-01-01 05:00:00 |  16                 |\n",
       "\n"
      ],
      "text/plain": [
       "  year month day dep_time sched_dep_time dep_delay arr_time sched_arr_time\n",
       "1 2013 1     1   517      515             2         830      819          \n",
       "2 2013 1     1   533      529             4         850      830          \n",
       "3 2013 1     1   542      540             2         923      850          \n",
       "4 2013 1     1   544      545            -1        1004     1022          \n",
       "5 2013 1     1   554      600            -6         812      837          \n",
       "6 2013 1     1   554      558            -4         740      728          \n",
       "  arr_delay carrier flight tailnum origin dest air_time distance hour minute\n",
       "1  11       UA      1545   N14228  EWR    IAH  227      1400     5    15    \n",
       "2  20       UA      1714   N24211  LGA    IAH  227      1416     5    29    \n",
       "3  33       AA      1141   N619AA  JFK    MIA  160      1089     5    40    \n",
       "4 -18       B6       725   N804JB  JFK    BQN  183      1576     5    45    \n",
       "5 -25       DL       461   N668DN  LGA    ATL  116       762     6     0    \n",
       "6  12       UA      1696   N39463  EWR    ORD  150       719     5    58    \n",
       "  time_hour           new_col\n",
       "1 2013-01-01 05:00:00   9    \n",
       "2 2013-01-01 05:00:00  16    \n",
       "3 2013-01-01 05:00:00  31    \n",
       "4 2013-01-01 05:00:00 -17    \n",
       "5 2013-01-01 06:00:00 -19    \n",
       "6 2013-01-01 05:00:00  16    "
      ]
     },
     "metadata": {},
     "output_type": "display_data"
    }
   ],
   "source": [
    "head(mutate(flights, new_col = arr_delay-dep_delay))"
   ]
  },
  {
   "cell_type": "code",
   "execution_count": 19,
   "id": "a3c21cc0",
   "metadata": {},
   "outputs": [
    {
     "data": {
      "text/html": [
       "<table>\n",
       "<thead><tr><th scope=col>new_col</th></tr></thead>\n",
       "<tbody>\n",
       "\t<tr><td>  9</td></tr>\n",
       "\t<tr><td> 16</td></tr>\n",
       "\t<tr><td> 31</td></tr>\n",
       "\t<tr><td>-17</td></tr>\n",
       "\t<tr><td>-19</td></tr>\n",
       "\t<tr><td> 16</td></tr>\n",
       "</tbody>\n",
       "</table>\n"
      ],
      "text/latex": [
       "\\begin{tabular}{r|l}\n",
       " new\\_col\\\\\n",
       "\\hline\n",
       "\t   9\\\\\n",
       "\t  16\\\\\n",
       "\t  31\\\\\n",
       "\t -17\\\\\n",
       "\t -19\\\\\n",
       "\t  16\\\\\n",
       "\\end{tabular}\n"
      ],
      "text/markdown": [
       "\n",
       "| new_col |\n",
       "|---|\n",
       "|   9 |\n",
       "|  16 |\n",
       "|  31 |\n",
       "| -17 |\n",
       "| -19 |\n",
       "|  16 |\n",
       "\n"
      ],
      "text/plain": [
       "  new_col\n",
       "1   9    \n",
       "2  16    \n",
       "3  31    \n",
       "4 -17    \n",
       "5 -19    \n",
       "6  16    "
      ]
     },
     "metadata": {},
     "output_type": "display_data"
    }
   ],
   "source": [
    "head(transmute(flights, new_col = arr_delay-dep_delay))"
   ]
  },
  {
   "cell_type": "code",
   "execution_count": 20,
   "id": "05a51010",
   "metadata": {},
   "outputs": [
    {
     "data": {
      "text/html": [
       "<table>\n",
       "<thead><tr><th scope=col>avg_air_time</th></tr></thead>\n",
       "<tbody>\n",
       "\t<tr><td>150.6865</td></tr>\n",
       "</tbody>\n",
       "</table>\n"
      ],
      "text/latex": [
       "\\begin{tabular}{r|l}\n",
       " avg\\_air\\_time\\\\\n",
       "\\hline\n",
       "\t 150.6865\\\\\n",
       "\\end{tabular}\n"
      ],
      "text/markdown": [
       "\n",
       "| avg_air_time |\n",
       "|---|\n",
       "| 150.6865 |\n",
       "\n"
      ],
      "text/plain": [
       "  avg_air_time\n",
       "1 150.6865    "
      ]
     },
     "metadata": {},
     "output_type": "display_data"
    }
   ],
   "source": [
    "summarise(flights,avg_air_time=mean(air_time,na.rm=TRUE))"
   ]
  },
  {
   "cell_type": "markdown",
   "id": "e55bdacf",
   "metadata": {},
   "source": [
    "## sample_n() and sample_frac()\n",
    "You can use sample_n() and sample_frac() to take a random sample of rows: use sample_n() for a fixed number and sample_frac() for a fixed fraction.\n",
    "\n"
   ]
  },
  {
   "cell_type": "code",
   "execution_count": 21,
   "id": "d0427bc8",
   "metadata": {},
   "outputs": [
    {
     "data": {
      "text/html": [
       "<table>\n",
       "<thead><tr><th scope=col>year</th><th scope=col>month</th><th scope=col>day</th><th scope=col>dep_time</th><th scope=col>sched_dep_time</th><th scope=col>dep_delay</th><th scope=col>arr_time</th><th scope=col>sched_arr_time</th><th scope=col>arr_delay</th><th scope=col>carrier</th><th scope=col>flight</th><th scope=col>tailnum</th><th scope=col>origin</th><th scope=col>dest</th><th scope=col>air_time</th><th scope=col>distance</th><th scope=col>hour</th><th scope=col>minute</th><th scope=col>time_hour</th></tr></thead>\n",
       "<tbody>\n",
       "\t<tr><td>2013               </td><td> 7                 </td><td>24                 </td><td>1322               </td><td>1325               </td><td>-3                 </td><td>1623               </td><td>1636               </td><td>-13                </td><td>UA                 </td><td>1593               </td><td>N37420             </td><td>EWR                </td><td>SFO                </td><td>338                </td><td>2565               </td><td>13                 </td><td>25                 </td><td>2013-07-24 13:00:00</td></tr>\n",
       "\t<tr><td>2013               </td><td> 4                 </td><td>26                 </td><td>1408               </td><td>1355               </td><td>13                 </td><td>1634               </td><td>1615               </td><td> 19                </td><td>WN                 </td><td>1638               </td><td>N555LV             </td><td>EWR                </td><td>PHX                </td><td>304                </td><td>2133               </td><td>13                 </td><td>55                 </td><td>2013-04-26 13:00:00</td></tr>\n",
       "\t<tr><td>2013               </td><td>11                 </td><td> 1                 </td><td>1722               </td><td>1725               </td><td>-3                 </td><td>2002               </td><td>2019               </td><td>-17                </td><td>UA                 </td><td>1109               </td><td>N12125             </td><td>EWR                </td><td>MCO                </td><td>141                </td><td> 937               </td><td>17                 </td><td>25                 </td><td>2013-11-01 17:00:00</td></tr>\n",
       "\t<tr><td>2013               </td><td> 1                 </td><td> 3                 </td><td>1157               </td><td>1140               </td><td>17                 </td><td>1531               </td><td>1450               </td><td> 41                </td><td>DL                 </td><td> 930               </td><td>N335NB             </td><td>LGA                </td><td>FLL                </td><td>175                </td><td>1076               </td><td>11                 </td><td>40                 </td><td>2013-01-03 11:00:00</td></tr>\n",
       "\t<tr><td>2013               </td><td> 3                 </td><td>16                 </td><td>1044               </td><td>1049               </td><td>-5                 </td><td>1350               </td><td>1340               </td><td> 10                </td><td>UA                 </td><td> 592               </td><td>N668UA             </td><td>EWR                </td><td>IAH                </td><td>199                </td><td>1400               </td><td>10                 </td><td>49                 </td><td>2013-03-16 10:00:00</td></tr>\n",
       "\t<tr><td>2013               </td><td> 8                 </td><td>31                 </td><td>1728               </td><td>1735               </td><td>-7                 </td><td>2022               </td><td>2029               </td><td> -7                </td><td>UA                 </td><td>1109               </td><td>N14102             </td><td>EWR                </td><td>MCO                </td><td>137                </td><td> 937               </td><td>17                 </td><td>35                 </td><td>2013-08-31 17:00:00</td></tr>\n",
       "\t<tr><td>2013               </td><td> 3                 </td><td>28                 </td><td> 809               </td><td> 747               </td><td>22                 </td><td> 925               </td><td> 857               </td><td> 28                </td><td>EV                 </td><td>4575               </td><td>N22909             </td><td>EWR                </td><td>MHT                </td><td> 42                </td><td> 209               </td><td> 7                 </td><td>47                 </td><td>2013-03-28 07:00:00</td></tr>\n",
       "\t<tr><td>2013               </td><td> 6                 </td><td>20                 </td><td>1619               </td><td>1620               </td><td>-1                 </td><td>1935               </td><td>1945               </td><td>-10                </td><td>AA                 </td><td>1467               </td><td>N3ETAA             </td><td>LGA                </td><td>MIA                </td><td>149                </td><td>1096               </td><td>16                 </td><td>20                 </td><td>2013-06-20 16:00:00</td></tr>\n",
       "\t<tr><td>2013               </td><td> 6                 </td><td>20                 </td><td>1924               </td><td>1930               </td><td>-6                 </td><td>2224               </td><td>2240               </td><td>-16                </td><td>DL                 </td><td>1435               </td><td>N912DE             </td><td>LGA                </td><td>TPA                </td><td>137                </td><td>1010               </td><td>19                 </td><td>30                 </td><td>2013-06-20 19:00:00</td></tr>\n",
       "\t<tr><td>2013               </td><td> 8                 </td><td>14                 </td><td>1800               </td><td>1800               </td><td> 0                 </td><td>2057               </td><td>2039               </td><td> 18                </td><td>DL                 </td><td>  61               </td><td>N67171             </td><td>LGA                </td><td>ATL                </td><td>125                </td><td> 762               </td><td>18                 </td><td> 0                 </td><td>2013-08-14 18:00:00</td></tr>\n",
       "</tbody>\n",
       "</table>\n"
      ],
      "text/latex": [
       "\\begin{tabular}{r|lllllllllllllllllll}\n",
       " year & month & day & dep\\_time & sched\\_dep\\_time & dep\\_delay & arr\\_time & sched\\_arr\\_time & arr\\_delay & carrier & flight & tailnum & origin & dest & air\\_time & distance & hour & minute & time\\_hour\\\\\n",
       "\\hline\n",
       "\t 2013                &  7                  & 24                  & 1322                & 1325                & -3                  & 1623                & 1636                & -13                 & UA                  & 1593                & N37420              & EWR                 & SFO                 & 338                 & 2565                & 13                  & 25                  & 2013-07-24 13:00:00\\\\\n",
       "\t 2013                &  4                  & 26                  & 1408                & 1355                & 13                  & 1634                & 1615                &  19                 & WN                  & 1638                & N555LV              & EWR                 & PHX                 & 304                 & 2133                & 13                  & 55                  & 2013-04-26 13:00:00\\\\\n",
       "\t 2013                & 11                  &  1                  & 1722                & 1725                & -3                  & 2002                & 2019                & -17                 & UA                  & 1109                & N12125              & EWR                 & MCO                 & 141                 &  937                & 17                  & 25                  & 2013-11-01 17:00:00\\\\\n",
       "\t 2013                &  1                  &  3                  & 1157                & 1140                & 17                  & 1531                & 1450                &  41                 & DL                  &  930                & N335NB              & LGA                 & FLL                 & 175                 & 1076                & 11                  & 40                  & 2013-01-03 11:00:00\\\\\n",
       "\t 2013                &  3                  & 16                  & 1044                & 1049                & -5                  & 1350                & 1340                &  10                 & UA                  &  592                & N668UA              & EWR                 & IAH                 & 199                 & 1400                & 10                  & 49                  & 2013-03-16 10:00:00\\\\\n",
       "\t 2013                &  8                  & 31                  & 1728                & 1735                & -7                  & 2022                & 2029                &  -7                 & UA                  & 1109                & N14102              & EWR                 & MCO                 & 137                 &  937                & 17                  & 35                  & 2013-08-31 17:00:00\\\\\n",
       "\t 2013                &  3                  & 28                  &  809                &  747                & 22                  &  925                &  857                &  28                 & EV                  & 4575                & N22909              & EWR                 & MHT                 &  42                 &  209                &  7                  & 47                  & 2013-03-28 07:00:00\\\\\n",
       "\t 2013                &  6                  & 20                  & 1619                & 1620                & -1                  & 1935                & 1945                & -10                 & AA                  & 1467                & N3ETAA              & LGA                 & MIA                 & 149                 & 1096                & 16                  & 20                  & 2013-06-20 16:00:00\\\\\n",
       "\t 2013                &  6                  & 20                  & 1924                & 1930                & -6                  & 2224                & 2240                & -16                 & DL                  & 1435                & N912DE              & LGA                 & TPA                 & 137                 & 1010                & 19                  & 30                  & 2013-06-20 19:00:00\\\\\n",
       "\t 2013                &  8                  & 14                  & 1800                & 1800                &  0                  & 2057                & 2039                &  18                 & DL                  &   61                & N67171              & LGA                 & ATL                 & 125                 &  762                & 18                  &  0                  & 2013-08-14 18:00:00\\\\\n",
       "\\end{tabular}\n"
      ],
      "text/markdown": [
       "\n",
       "| year | month | day | dep_time | sched_dep_time | dep_delay | arr_time | sched_arr_time | arr_delay | carrier | flight | tailnum | origin | dest | air_time | distance | hour | minute | time_hour |\n",
       "|---|---|---|---|---|---|---|---|---|---|---|---|---|---|---|---|---|---|---|\n",
       "| 2013                |  7                  | 24                  | 1322                | 1325                | -3                  | 1623                | 1636                | -13                 | UA                  | 1593                | N37420              | EWR                 | SFO                 | 338                 | 2565                | 13                  | 25                  | 2013-07-24 13:00:00 |\n",
       "| 2013                |  4                  | 26                  | 1408                | 1355                | 13                  | 1634                | 1615                |  19                 | WN                  | 1638                | N555LV              | EWR                 | PHX                 | 304                 | 2133                | 13                  | 55                  | 2013-04-26 13:00:00 |\n",
       "| 2013                | 11                  |  1                  | 1722                | 1725                | -3                  | 2002                | 2019                | -17                 | UA                  | 1109                | N12125              | EWR                 | MCO                 | 141                 |  937                | 17                  | 25                  | 2013-11-01 17:00:00 |\n",
       "| 2013                |  1                  |  3                  | 1157                | 1140                | 17                  | 1531                | 1450                |  41                 | DL                  |  930                | N335NB              | LGA                 | FLL                 | 175                 | 1076                | 11                  | 40                  | 2013-01-03 11:00:00 |\n",
       "| 2013                |  3                  | 16                  | 1044                | 1049                | -5                  | 1350                | 1340                |  10                 | UA                  |  592                | N668UA              | EWR                 | IAH                 | 199                 | 1400                | 10                  | 49                  | 2013-03-16 10:00:00 |\n",
       "| 2013                |  8                  | 31                  | 1728                | 1735                | -7                  | 2022                | 2029                |  -7                 | UA                  | 1109                | N14102              | EWR                 | MCO                 | 137                 |  937                | 17                  | 35                  | 2013-08-31 17:00:00 |\n",
       "| 2013                |  3                  | 28                  |  809                |  747                | 22                  |  925                |  857                |  28                 | EV                  | 4575                | N22909              | EWR                 | MHT                 |  42                 |  209                |  7                  | 47                  | 2013-03-28 07:00:00 |\n",
       "| 2013                |  6                  | 20                  | 1619                | 1620                | -1                  | 1935                | 1945                | -10                 | AA                  | 1467                | N3ETAA              | LGA                 | MIA                 | 149                 | 1096                | 16                  | 20                  | 2013-06-20 16:00:00 |\n",
       "| 2013                |  6                  | 20                  | 1924                | 1930                | -6                  | 2224                | 2240                | -16                 | DL                  | 1435                | N912DE              | LGA                 | TPA                 | 137                 | 1010                | 19                  | 30                  | 2013-06-20 19:00:00 |\n",
       "| 2013                |  8                  | 14                  | 1800                | 1800                |  0                  | 2057                | 2039                |  18                 | DL                  |   61                | N67171              | LGA                 | ATL                 | 125                 |  762                | 18                  |  0                  | 2013-08-14 18:00:00 |\n",
       "\n"
      ],
      "text/plain": [
       "   year month day dep_time sched_dep_time dep_delay arr_time sched_arr_time\n",
       "1  2013  7    24  1322     1325           -3        1623     1636          \n",
       "2  2013  4    26  1408     1355           13        1634     1615          \n",
       "3  2013 11     1  1722     1725           -3        2002     2019          \n",
       "4  2013  1     3  1157     1140           17        1531     1450          \n",
       "5  2013  3    16  1044     1049           -5        1350     1340          \n",
       "6  2013  8    31  1728     1735           -7        2022     2029          \n",
       "7  2013  3    28   809      747           22         925      857          \n",
       "8  2013  6    20  1619     1620           -1        1935     1945          \n",
       "9  2013  6    20  1924     1930           -6        2224     2240          \n",
       "10 2013  8    14  1800     1800            0        2057     2039          \n",
       "   arr_delay carrier flight tailnum origin dest air_time distance hour minute\n",
       "1  -13       UA      1593   N37420  EWR    SFO  338      2565     13   25    \n",
       "2   19       WN      1638   N555LV  EWR    PHX  304      2133     13   55    \n",
       "3  -17       UA      1109   N12125  EWR    MCO  141       937     17   25    \n",
       "4   41       DL       930   N335NB  LGA    FLL  175      1076     11   40    \n",
       "5   10       UA       592   N668UA  EWR    IAH  199      1400     10   49    \n",
       "6   -7       UA      1109   N14102  EWR    MCO  137       937     17   35    \n",
       "7   28       EV      4575   N22909  EWR    MHT   42       209      7   47    \n",
       "8  -10       AA      1467   N3ETAA  LGA    MIA  149      1096     16   20    \n",
       "9  -16       DL      1435   N912DE  LGA    TPA  137      1010     19   30    \n",
       "10  18       DL        61   N67171  LGA    ATL  125       762     18    0    \n",
       "   time_hour          \n",
       "1  2013-07-24 13:00:00\n",
       "2  2013-04-26 13:00:00\n",
       "3  2013-11-01 17:00:00\n",
       "4  2013-01-03 11:00:00\n",
       "5  2013-03-16 10:00:00\n",
       "6  2013-08-31 17:00:00\n",
       "7  2013-03-28 07:00:00\n",
       "8  2013-06-20 16:00:00\n",
       "9  2013-06-20 19:00:00\n",
       "10 2013-08-14 18:00:00"
      ]
     },
     "metadata": {},
     "output_type": "display_data"
    }
   ],
   "source": [
    "sample_n(flights,10)"
   ]
  },
  {
   "cell_type": "code",
   "execution_count": 22,
   "id": "2307c506",
   "metadata": {},
   "outputs": [
    {
     "data": {
      "text/html": [
       "<table>\n",
       "<thead><tr><th scope=col>year</th><th scope=col>month</th><th scope=col>day</th><th scope=col>dep_time</th><th scope=col>sched_dep_time</th><th scope=col>dep_delay</th><th scope=col>arr_time</th><th scope=col>sched_arr_time</th><th scope=col>arr_delay</th><th scope=col>carrier</th><th scope=col>flight</th><th scope=col>tailnum</th><th scope=col>origin</th><th scope=col>dest</th><th scope=col>air_time</th><th scope=col>distance</th><th scope=col>hour</th><th scope=col>minute</th><th scope=col>time_hour</th></tr></thead>\n",
       "<tbody>\n",
       "\t<tr><td>2013               </td><td>11                 </td><td>28                 </td><td>1425               </td><td>1429               </td><td> -4                </td><td>1650               </td><td>1703               </td><td>-13                </td><td>B6                 </td><td> 477               </td><td>N348JB             </td><td>JFK                </td><td>JAX                </td><td>125                </td><td> 828               </td><td>14                 </td><td>29                 </td><td>2013-11-28 14:00:00</td></tr>\n",
       "\t<tr><td>2013               </td><td>12                 </td><td> 8                 </td><td>1539               </td><td>1441               </td><td> 58                </td><td>1851               </td><td>1712               </td><td> 99                </td><td>UA                 </td><td>1554               </td><td>N39726             </td><td>EWR                </td><td>ATL                </td><td>138                </td><td> 746               </td><td>14                 </td><td>41                 </td><td>2013-12-08 14:00:00</td></tr>\n",
       "\t<tr><td>2013               </td><td> 1                 </td><td>21                 </td><td> 750               </td><td> 752               </td><td> -2                </td><td>1051               </td><td>1058               </td><td> -7                </td><td>UA                 </td><td> 451               </td><td>N509UA             </td><td>EWR                </td><td>IAH                </td><td>217                </td><td>1400               </td><td> 7                 </td><td>52                 </td><td>2013-01-21 07:00:00</td></tr>\n",
       "\t<tr><td>2013               </td><td>12                 </td><td>18                 </td><td>1852               </td><td>1855               </td><td> -3                </td><td>2044               </td><td>2059               </td><td>-15                </td><td>US                 </td><td>2039               </td><td>N185UW             </td><td>LGA                </td><td>CLT                </td><td> 86                </td><td> 544               </td><td>18                 </td><td>55                 </td><td>2013-12-18 18:00:00</td></tr>\n",
       "\t<tr><td>2013               </td><td> 2                 </td><td>28                 </td><td> 700               </td><td> 700               </td><td>  0                </td><td>1010               </td><td>1025               </td><td>-15                </td><td>WN                 </td><td>  20               </td><td>N249WN             </td><td>EWR                </td><td>HOU                </td><td>224                </td><td>1411               </td><td> 7                 </td><td> 0                 </td><td>2013-02-28 07:00:00</td></tr>\n",
       "\t<tr><td>2013               </td><td>11                 </td><td>28                 </td><td> 944               </td><td> 945               </td><td> -1                </td><td>1230               </td><td>1300               </td><td>-30                </td><td>AA                 </td><td>1223               </td><td>N4WPAA             </td><td>EWR                </td><td>DFW                </td><td>205                </td><td>1372               </td><td> 9                 </td><td>45                 </td><td>2013-11-28 09:00:00</td></tr>\n",
       "\t<tr><td>2013               </td><td> 3                 </td><td>24                 </td><td>1204               </td><td>1200               </td><td>  4                </td><td>1453               </td><td>1510               </td><td>-17                </td><td>AA                 </td><td>   3               </td><td>N329AA             </td><td>JFK                </td><td>LAX                </td><td>331                </td><td>2475               </td><td>12                 </td><td> 0                 </td><td>2013-03-24 12:00:00</td></tr>\n",
       "\t<tr><td>2013               </td><td>10                 </td><td> 8                 </td><td>1859               </td><td>1905               </td><td> -6                </td><td>2116               </td><td>2205               </td><td>-49                </td><td>AA                 </td><td>1691               </td><td>N578AA             </td><td>EWR                </td><td>DFW                </td><td>174                </td><td>1372               </td><td>19                 </td><td> 5                 </td><td>2013-10-08 19:00:00</td></tr>\n",
       "\t<tr><td>2013               </td><td> 3                 </td><td>14                 </td><td> 630               </td><td> 630               </td><td>  0                </td><td> 753               </td><td> 807               </td><td>-14                </td><td>B6                 </td><td> 905               </td><td>N306JB             </td><td>JFK                </td><td>ORD                </td><td>115                </td><td> 740               </td><td> 6                 </td><td>30                 </td><td>2013-03-14 06:00:00</td></tr>\n",
       "\t<tr><td>2013               </td><td> 7                 </td><td>13                 </td><td>1400               </td><td>1420               </td><td>-20                </td><td>1604               </td><td>1620               </td><td>-16                </td><td>MQ                 </td><td>3588               </td><td>N3AEMQ             </td><td>LGA                </td><td>MSP                </td><td>133                </td><td>1020               </td><td>14                 </td><td>20                 </td><td>2013-07-13 14:00:00</td></tr>\n",
       "\t<tr><td>2013               </td><td>11                 </td><td>17                 </td><td>1807               </td><td>1804               </td><td>  3                </td><td>2157               </td><td>2128               </td><td> 29                </td><td>UA                 </td><td> 321               </td><td>N850UA             </td><td>EWR                </td><td>LAX                </td><td>352                </td><td>2454               </td><td>18                 </td><td> 4                 </td><td>2013-11-17 18:00:00</td></tr>\n",
       "\t<tr><td>2013               </td><td> 6                 </td><td>10                 </td><td>1920               </td><td>1744               </td><td> 96                </td><td>2154               </td><td>2030               </td><td> 84                </td><td>B6                 </td><td> 527               </td><td>N612JB             </td><td>EWR                </td><td>MCO                </td><td>131                </td><td> 937               </td><td>17                 </td><td>44                 </td><td>2013-06-10 17:00:00</td></tr>\n",
       "\t<tr><td>2013               </td><td> 7                 </td><td>16                 </td><td>1155               </td><td>1200               </td><td> -5                </td><td>1423               </td><td>1450               </td><td>-27                </td><td>AA                 </td><td>   3               </td><td>N323AA             </td><td>JFK                </td><td>LAX                </td><td>297                </td><td>2475               </td><td>12                 </td><td> 0                 </td><td>2013-07-16 12:00:00</td></tr>\n",
       "\t<tr><td>2013               </td><td> 3                 </td><td> 9                 </td><td> 630               </td><td> 635               </td><td> -5                </td><td> 915               </td><td> 940               </td><td>-25                </td><td>AA                 </td><td> 711               </td><td>N3AFAA             </td><td>LGA                </td><td>DFW                </td><td>205                </td><td>1389               </td><td> 6                 </td><td>35                 </td><td>2013-03-09 06:00:00</td></tr>\n",
       "\t<tr><td>2013               </td><td>10                 </td><td>17                 </td><td>1413               </td><td>1415               </td><td> -2                </td><td>1634               </td><td>1636               </td><td> -2                </td><td>DL                 </td><td> 673               </td><td>N358NB             </td><td>EWR                </td><td>ATL                </td><td>114                </td><td> 746               </td><td>14                 </td><td>15                 </td><td>2013-10-17 14:00:00</td></tr>\n",
       "\t<tr><td>2013               </td><td>12                 </td><td>31                 </td><td>1350               </td><td>1355               </td><td> -5                </td><td>1528               </td><td>1525               </td><td>  3                </td><td>WN                 </td><td>   3               </td><td>N741SA             </td><td>LGA                </td><td>MDW                </td><td>139                </td><td> 725               </td><td>13                 </td><td>55                 </td><td>2013-12-31 13:00:00</td></tr>\n",
       "\t<tr><td>2013               </td><td> 1                 </td><td>21                 </td><td> 807               </td><td> 810               </td><td> -3                </td><td>1034               </td><td>1042               </td><td> -8                </td><td>DL                 </td><td> 269               </td><td>N364NB             </td><td>JFK                </td><td>ATL                </td><td>124                </td><td> 760               </td><td> 8                 </td><td>10                 </td><td>2013-01-21 08:00:00</td></tr>\n",
       "</tbody>\n",
       "</table>\n"
      ],
      "text/latex": [
       "\\begin{tabular}{r|lllllllllllllllllll}\n",
       " year & month & day & dep\\_time & sched\\_dep\\_time & dep\\_delay & arr\\_time & sched\\_arr\\_time & arr\\_delay & carrier & flight & tailnum & origin & dest & air\\_time & distance & hour & minute & time\\_hour\\\\\n",
       "\\hline\n",
       "\t 2013                & 11                  & 28                  & 1425                & 1429                &  -4                 & 1650                & 1703                & -13                 & B6                  &  477                & N348JB              & JFK                 & JAX                 & 125                 &  828                & 14                  & 29                  & 2013-11-28 14:00:00\\\\\n",
       "\t 2013                & 12                  &  8                  & 1539                & 1441                &  58                 & 1851                & 1712                &  99                 & UA                  & 1554                & N39726              & EWR                 & ATL                 & 138                 &  746                & 14                  & 41                  & 2013-12-08 14:00:00\\\\\n",
       "\t 2013                &  1                  & 21                  &  750                &  752                &  -2                 & 1051                & 1058                &  -7                 & UA                  &  451                & N509UA              & EWR                 & IAH                 & 217                 & 1400                &  7                  & 52                  & 2013-01-21 07:00:00\\\\\n",
       "\t 2013                & 12                  & 18                  & 1852                & 1855                &  -3                 & 2044                & 2059                & -15                 & US                  & 2039                & N185UW              & LGA                 & CLT                 &  86                 &  544                & 18                  & 55                  & 2013-12-18 18:00:00\\\\\n",
       "\t 2013                &  2                  & 28                  &  700                &  700                &   0                 & 1010                & 1025                & -15                 & WN                  &   20                & N249WN              & EWR                 & HOU                 & 224                 & 1411                &  7                  &  0                  & 2013-02-28 07:00:00\\\\\n",
       "\t 2013                & 11                  & 28                  &  944                &  945                &  -1                 & 1230                & 1300                & -30                 & AA                  & 1223                & N4WPAA              & EWR                 & DFW                 & 205                 & 1372                &  9                  & 45                  & 2013-11-28 09:00:00\\\\\n",
       "\t 2013                &  3                  & 24                  & 1204                & 1200                &   4                 & 1453                & 1510                & -17                 & AA                  &    3                & N329AA              & JFK                 & LAX                 & 331                 & 2475                & 12                  &  0                  & 2013-03-24 12:00:00\\\\\n",
       "\t 2013                & 10                  &  8                  & 1859                & 1905                &  -6                 & 2116                & 2205                & -49                 & AA                  & 1691                & N578AA              & EWR                 & DFW                 & 174                 & 1372                & 19                  &  5                  & 2013-10-08 19:00:00\\\\\n",
       "\t 2013                &  3                  & 14                  &  630                &  630                &   0                 &  753                &  807                & -14                 & B6                  &  905                & N306JB              & JFK                 & ORD                 & 115                 &  740                &  6                  & 30                  & 2013-03-14 06:00:00\\\\\n",
       "\t 2013                &  7                  & 13                  & 1400                & 1420                & -20                 & 1604                & 1620                & -16                 & MQ                  & 3588                & N3AEMQ              & LGA                 & MSP                 & 133                 & 1020                & 14                  & 20                  & 2013-07-13 14:00:00\\\\\n",
       "\t 2013                & 11                  & 17                  & 1807                & 1804                &   3                 & 2157                & 2128                &  29                 & UA                  &  321                & N850UA              & EWR                 & LAX                 & 352                 & 2454                & 18                  &  4                  & 2013-11-17 18:00:00\\\\\n",
       "\t 2013                &  6                  & 10                  & 1920                & 1744                &  96                 & 2154                & 2030                &  84                 & B6                  &  527                & N612JB              & EWR                 & MCO                 & 131                 &  937                & 17                  & 44                  & 2013-06-10 17:00:00\\\\\n",
       "\t 2013                &  7                  & 16                  & 1155                & 1200                &  -5                 & 1423                & 1450                & -27                 & AA                  &    3                & N323AA              & JFK                 & LAX                 & 297                 & 2475                & 12                  &  0                  & 2013-07-16 12:00:00\\\\\n",
       "\t 2013                &  3                  &  9                  &  630                &  635                &  -5                 &  915                &  940                & -25                 & AA                  &  711                & N3AFAA              & LGA                 & DFW                 & 205                 & 1389                &  6                  & 35                  & 2013-03-09 06:00:00\\\\\n",
       "\t 2013                & 10                  & 17                  & 1413                & 1415                &  -2                 & 1634                & 1636                &  -2                 & DL                  &  673                & N358NB              & EWR                 & ATL                 & 114                 &  746                & 14                  & 15                  & 2013-10-17 14:00:00\\\\\n",
       "\t 2013                & 12                  & 31                  & 1350                & 1355                &  -5                 & 1528                & 1525                &   3                 & WN                  &    3                & N741SA              & LGA                 & MDW                 & 139                 &  725                & 13                  & 55                  & 2013-12-31 13:00:00\\\\\n",
       "\t 2013                &  1                  & 21                  &  807                &  810                &  -3                 & 1034                & 1042                &  -8                 & DL                  &  269                & N364NB              & JFK                 & ATL                 & 124                 &  760                &  8                  & 10                  & 2013-01-21 08:00:00\\\\\n",
       "\\end{tabular}\n"
      ],
      "text/markdown": [
       "\n",
       "| year | month | day | dep_time | sched_dep_time | dep_delay | arr_time | sched_arr_time | arr_delay | carrier | flight | tailnum | origin | dest | air_time | distance | hour | minute | time_hour |\n",
       "|---|---|---|---|---|---|---|---|---|---|---|---|---|---|---|---|---|---|---|\n",
       "| 2013                | 11                  | 28                  | 1425                | 1429                |  -4                 | 1650                | 1703                | -13                 | B6                  |  477                | N348JB              | JFK                 | JAX                 | 125                 |  828                | 14                  | 29                  | 2013-11-28 14:00:00 |\n",
       "| 2013                | 12                  |  8                  | 1539                | 1441                |  58                 | 1851                | 1712                |  99                 | UA                  | 1554                | N39726              | EWR                 | ATL                 | 138                 |  746                | 14                  | 41                  | 2013-12-08 14:00:00 |\n",
       "| 2013                |  1                  | 21                  |  750                |  752                |  -2                 | 1051                | 1058                |  -7                 | UA                  |  451                | N509UA              | EWR                 | IAH                 | 217                 | 1400                |  7                  | 52                  | 2013-01-21 07:00:00 |\n",
       "| 2013                | 12                  | 18                  | 1852                | 1855                |  -3                 | 2044                | 2059                | -15                 | US                  | 2039                | N185UW              | LGA                 | CLT                 |  86                 |  544                | 18                  | 55                  | 2013-12-18 18:00:00 |\n",
       "| 2013                |  2                  | 28                  |  700                |  700                |   0                 | 1010                | 1025                | -15                 | WN                  |   20                | N249WN              | EWR                 | HOU                 | 224                 | 1411                |  7                  |  0                  | 2013-02-28 07:00:00 |\n",
       "| 2013                | 11                  | 28                  |  944                |  945                |  -1                 | 1230                | 1300                | -30                 | AA                  | 1223                | N4WPAA              | EWR                 | DFW                 | 205                 | 1372                |  9                  | 45                  | 2013-11-28 09:00:00 |\n",
       "| 2013                |  3                  | 24                  | 1204                | 1200                |   4                 | 1453                | 1510                | -17                 | AA                  |    3                | N329AA              | JFK                 | LAX                 | 331                 | 2475                | 12                  |  0                  | 2013-03-24 12:00:00 |\n",
       "| 2013                | 10                  |  8                  | 1859                | 1905                |  -6                 | 2116                | 2205                | -49                 | AA                  | 1691                | N578AA              | EWR                 | DFW                 | 174                 | 1372                | 19                  |  5                  | 2013-10-08 19:00:00 |\n",
       "| 2013                |  3                  | 14                  |  630                |  630                |   0                 |  753                |  807                | -14                 | B6                  |  905                | N306JB              | JFK                 | ORD                 | 115                 |  740                |  6                  | 30                  | 2013-03-14 06:00:00 |\n",
       "| 2013                |  7                  | 13                  | 1400                | 1420                | -20                 | 1604                | 1620                | -16                 | MQ                  | 3588                | N3AEMQ              | LGA                 | MSP                 | 133                 | 1020                | 14                  | 20                  | 2013-07-13 14:00:00 |\n",
       "| 2013                | 11                  | 17                  | 1807                | 1804                |   3                 | 2157                | 2128                |  29                 | UA                  |  321                | N850UA              | EWR                 | LAX                 | 352                 | 2454                | 18                  |  4                  | 2013-11-17 18:00:00 |\n",
       "| 2013                |  6                  | 10                  | 1920                | 1744                |  96                 | 2154                | 2030                |  84                 | B6                  |  527                | N612JB              | EWR                 | MCO                 | 131                 |  937                | 17                  | 44                  | 2013-06-10 17:00:00 |\n",
       "| 2013                |  7                  | 16                  | 1155                | 1200                |  -5                 | 1423                | 1450                | -27                 | AA                  |    3                | N323AA              | JFK                 | LAX                 | 297                 | 2475                | 12                  |  0                  | 2013-07-16 12:00:00 |\n",
       "| 2013                |  3                  |  9                  |  630                |  635                |  -5                 |  915                |  940                | -25                 | AA                  |  711                | N3AFAA              | LGA                 | DFW                 | 205                 | 1389                |  6                  | 35                  | 2013-03-09 06:00:00 |\n",
       "| 2013                | 10                  | 17                  | 1413                | 1415                |  -2                 | 1634                | 1636                |  -2                 | DL                  |  673                | N358NB              | EWR                 | ATL                 | 114                 |  746                | 14                  | 15                  | 2013-10-17 14:00:00 |\n",
       "| 2013                | 12                  | 31                  | 1350                | 1355                |  -5                 | 1528                | 1525                |   3                 | WN                  |    3                | N741SA              | LGA                 | MDW                 | 139                 |  725                | 13                  | 55                  | 2013-12-31 13:00:00 |\n",
       "| 2013                |  1                  | 21                  |  807                |  810                |  -3                 | 1034                | 1042                |  -8                 | DL                  |  269                | N364NB              | JFK                 | ATL                 | 124                 |  760                |  8                  | 10                  | 2013-01-21 08:00:00 |\n",
       "\n"
      ],
      "text/plain": [
       "   year month day dep_time sched_dep_time dep_delay arr_time sched_arr_time\n",
       "1  2013 11    28  1425     1429            -4       1650     1703          \n",
       "2  2013 12     8  1539     1441            58       1851     1712          \n",
       "3  2013  1    21   750      752            -2       1051     1058          \n",
       "4  2013 12    18  1852     1855            -3       2044     2059          \n",
       "5  2013  2    28   700      700             0       1010     1025          \n",
       "6  2013 11    28   944      945            -1       1230     1300          \n",
       "7  2013  3    24  1204     1200             4       1453     1510          \n",
       "8  2013 10     8  1859     1905            -6       2116     2205          \n",
       "9  2013  3    14   630      630             0        753      807          \n",
       "10 2013  7    13  1400     1420           -20       1604     1620          \n",
       "11 2013 11    17  1807     1804             3       2157     2128          \n",
       "12 2013  6    10  1920     1744            96       2154     2030          \n",
       "13 2013  7    16  1155     1200            -5       1423     1450          \n",
       "14 2013  3     9   630      635            -5        915      940          \n",
       "15 2013 10    17  1413     1415            -2       1634     1636          \n",
       "16 2013 12    31  1350     1355            -5       1528     1525          \n",
       "17 2013  1    21   807      810            -3       1034     1042          \n",
       "   arr_delay carrier flight tailnum origin dest air_time distance hour minute\n",
       "1  -13       B6       477   N348JB  JFK    JAX  125       828     14   29    \n",
       "2   99       UA      1554   N39726  EWR    ATL  138       746     14   41    \n",
       "3   -7       UA       451   N509UA  EWR    IAH  217      1400      7   52    \n",
       "4  -15       US      2039   N185UW  LGA    CLT   86       544     18   55    \n",
       "5  -15       WN        20   N249WN  EWR    HOU  224      1411      7    0    \n",
       "6  -30       AA      1223   N4WPAA  EWR    DFW  205      1372      9   45    \n",
       "7  -17       AA         3   N329AA  JFK    LAX  331      2475     12    0    \n",
       "8  -49       AA      1691   N578AA  EWR    DFW  174      1372     19    5    \n",
       "9  -14       B6       905   N306JB  JFK    ORD  115       740      6   30    \n",
       "10 -16       MQ      3588   N3AEMQ  LGA    MSP  133      1020     14   20    \n",
       "11  29       UA       321   N850UA  EWR    LAX  352      2454     18    4    \n",
       "12  84       B6       527   N612JB  EWR    MCO  131       937     17   44    \n",
       "13 -27       AA         3   N323AA  JFK    LAX  297      2475     12    0    \n",
       "14 -25       AA       711   N3AFAA  LGA    DFW  205      1389      6   35    \n",
       "15  -2       DL       673   N358NB  EWR    ATL  114       746     14   15    \n",
       "16   3       WN         3   N741SA  LGA    MDW  139       725     13   55    \n",
       "17  -8       DL       269   N364NB  JFK    ATL  124       760      8   10    \n",
       "   time_hour          \n",
       "1  2013-11-28 14:00:00\n",
       "2  2013-12-08 14:00:00\n",
       "3  2013-01-21 07:00:00\n",
       "4  2013-12-18 18:00:00\n",
       "5  2013-02-28 07:00:00\n",
       "6  2013-11-28 09:00:00\n",
       "7  2013-03-24 12:00:00\n",
       "8  2013-10-08 19:00:00\n",
       "9  2013-03-14 06:00:00\n",
       "10 2013-07-13 14:00:00\n",
       "11 2013-11-17 18:00:00\n",
       "12 2013-06-10 17:00:00\n",
       "13 2013-07-16 12:00:00\n",
       "14 2013-03-09 06:00:00\n",
       "15 2013-10-17 14:00:00\n",
       "16 2013-12-31 13:00:00\n",
       "17 2013-01-21 08:00:00"
      ]
     },
     "metadata": {},
     "output_type": "display_data"
    }
   ],
   "source": [
    "sample_frac(flights,0.00005) # USE replace=TRUE for bootstrap sampling"
   ]
  },
  {
   "cell_type": "code",
   "execution_count": null,
   "id": "8406323b",
   "metadata": {},
   "outputs": [],
   "source": []
  }
 ],
 "metadata": {
  "kernelspec": {
   "display_name": "R",
   "language": "R",
   "name": "ir"
  },
  "language_info": {
   "codemirror_mode": "r",
   "file_extension": ".r",
   "mimetype": "text/x-r-source",
   "name": "R",
   "pygments_lexer": "r",
   "version": "3.6.1"
  }
 },
 "nbformat": 4,
 "nbformat_minor": 5
}
