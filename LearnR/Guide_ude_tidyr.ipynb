{
 "cells": [
  {
   "cell_type": "markdown",
   "id": "14a389db",
   "metadata": {},
   "source": [
    "## Guide to using tidyr\n",
    "Tidy data is when we have a data set where every row is an observation and every column is a variable, this way the data is organized in such a way where every cell is a value for a specific variable of a specific observation. Having your data in this format will help build an understanding of your data and allow you to analyze or visualize it quickly and efficiently.\n",
    "\n"
   ]
  },
  {
   "cell_type": "code",
   "execution_count": 13,
   "id": "85010f7c",
   "metadata": {},
   "outputs": [
    {
     "name": "stderr",
     "output_type": "stream",
     "text": [
      "\n",
      "Attaching package: ‘rlang’\n",
      "\n",
      "The following object is masked from ‘package:data.table’:\n",
      "\n",
      "    :=\n",
      "\n"
     ]
    }
   ],
   "source": [
    "library(rlang)"
   ]
  },
  {
   "cell_type": "code",
   "execution_count": 9,
   "id": "01a7cde2",
   "metadata": {},
   "outputs": [
    {
     "name": "stderr",
     "output_type": "stream",
     "text": [
      "Warning message in install.packages(\"rlang\"):\n",
      "“installation of package ‘rlang’ had non-zero exit status”Updating HTML index of packages in '.Library'\n",
      "Making 'packages.html' ... done\n"
     ]
    }
   ],
   "source": [
    "install.packages('rlang')"
   ]
  },
  {
   "cell_type": "code",
   "execution_count": 12,
   "id": "26968761",
   "metadata": {},
   "outputs": [
    {
     "name": "stderr",
     "output_type": "stream",
     "text": [
      "also installing the dependencies ‘glue’, ‘rlang’, ‘pillar’, ‘ellipsis’, ‘dplyr’, ‘lifecycle’, ‘tibble’, ‘tidyselect’, ‘vctrs’\n",
      "\n",
      "Warning message in install.packages(\"tidyr\"):\n",
      "“installation of package ‘glue’ had non-zero exit status”Warning message in install.packages(\"tidyr\"):\n",
      "“installation of package ‘rlang’ had non-zero exit status”Warning message in install.packages(\"tidyr\"):\n",
      "“installation of package ‘ellipsis’ had non-zero exit status”Warning message in install.packages(\"tidyr\"):\n",
      "“installation of package ‘lifecycle’ had non-zero exit status”Warning message in install.packages(\"tidyr\"):\n",
      "“installation of package ‘vctrs’ had non-zero exit status”Warning message in install.packages(\"tidyr\"):\n",
      "“installation of package ‘pillar’ had non-zero exit status”Warning message in install.packages(\"tidyr\"):\n",
      "“installation of package ‘tidyselect’ had non-zero exit status”Warning message in install.packages(\"tidyr\"):\n",
      "“installation of package ‘tibble’ had non-zero exit status”Warning message in install.packages(\"tidyr\"):\n",
      "“installation of package ‘dplyr’ had non-zero exit status”Warning message in install.packages(\"tidyr\"):\n",
      "“installation of package ‘tidyr’ had non-zero exit status”Updating HTML index of packages in '.Library'\n",
      "Making 'packages.html' ... done\n"
     ]
    }
   ],
   "source": [
    "install.packages(\"tidyr\")"
   ]
  },
  {
   "cell_type": "code",
   "execution_count": 11,
   "id": "e2dd6b6b",
   "metadata": {},
   "outputs": [
    {
     "ename": "ERROR",
     "evalue": "Error in library(tidyr): there is no package called ‘tidyr’\n",
     "output_type": "error",
     "traceback": [
      "Error in library(tidyr): there is no package called ‘tidyr’\nTraceback:\n",
      "1. library(tidyr)"
     ]
    }
   ],
   "source": [
    "library(tidyr)"
   ]
  },
  {
   "cell_type": "code",
   "execution_count": 4,
   "id": "c8cb45a2",
   "metadata": {},
   "outputs": [],
   "source": [
    "library(data.table)"
   ]
  },
  {
   "cell_type": "code",
   "execution_count": null,
   "id": "b9577b44",
   "metadata": {},
   "outputs": [],
   "source": []
  }
 ],
 "metadata": {
  "kernelspec": {
   "display_name": "R",
   "language": "R",
   "name": "ir"
  },
  "language_info": {
   "codemirror_mode": "r",
   "file_extension": ".r",
   "mimetype": "text/x-r-source",
   "name": "R",
   "pygments_lexer": "r",
   "version": "3.6.1"
  }
 },
 "nbformat": 4,
 "nbformat_minor": 5
}
